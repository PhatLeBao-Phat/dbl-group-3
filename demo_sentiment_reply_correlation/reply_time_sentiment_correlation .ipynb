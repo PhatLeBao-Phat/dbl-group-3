{
 "cells": [
  {
   "cell_type": "code",
   "execution_count": 171,
   "id": "ddad4243",
   "metadata": {},
   "outputs": [],
   "source": [
    "# import all modules \n",
    "import pandas as pd \n",
    "import numpy as np \n",
    "import sqlite3 \n",
    "import sys\n",
    "from pathlib import Path\n",
    "sys.path.append(str(Path.cwd().parent))\n",
    "from Tools.conversation import start_end_customers_filter\n",
    "import seaborn as sns\n",
    "import matplotlib.pyplot as plt\n",
    "import seaborn as sns "
   ]
  },
  {
   "cell_type": "markdown",
   "id": "1f82d62f",
   "metadata": {},
   "source": [
    "#### 1. connect to the database "
   ]
  },
  {
   "cell_type": "code",
   "execution_count": 172,
   "id": "790601de",
   "metadata": {},
   "outputs": [],
   "source": [
    "con = sqlite3.connect('../../database/database(620).db')"
   ]
  },
  {
   "cell_type": "code",
   "execution_count": 287,
   "id": "39ea003f",
   "metadata": {},
   "outputs": [],
   "source": [
    "query1 = \"\"\"\n",
    "    SELECT c.id_1, c.id_2, c.id_3, c.id_4, c.id_5, c.id_6, c.id_7, \n",
    "    c.airline_id, c.airline_name, c.conversation_opener, g.timestamp_ms\n",
    "    FROM conversation as c, general_tweets as g\n",
    "    WHERE g.id == c.id_1\n",
    "\"\"\"\n",
    "df = pd.read_sql_query(query1, con)"
   ]
  },
  {
   "cell_type": "code",
   "execution_count": 288,
   "id": "cff0eca6",
   "metadata": {},
   "outputs": [],
   "source": [
    "# df = df[df.airline_name=='KLM']\n",
    "df = df.rename(columns={'timestamp_ms' : 'conversation_time'})"
   ]
  },
  {
   "cell_type": "code",
   "execution_count": 289,
   "id": "44d25f81",
   "metadata": {},
   "outputs": [],
   "source": [
    "query2 = \"\"\"SELECT id, sentiment_score FROM sentiment_table\"\"\"\n",
    "df_sentiment = pd.read_sql_query(query2, con)"
   ]
  },
  {
   "cell_type": "code",
   "execution_count": 290,
   "id": "03f320de",
   "metadata": {},
   "outputs": [],
   "source": [
    "query3 = \"\"\"SELECT id, timestamp_ms FROM general_tweets\"\"\"\n",
    "df_timestamp = pd.read_sql_query(query3, con)"
   ]
  },
  {
   "cell_type": "code",
   "execution_count": 291,
   "id": "5887f4fd",
   "metadata": {},
   "outputs": [],
   "source": [
    "df_timestamp['timestamp_ms'] = pd.to_datetime(df_timestamp.timestamp_ms)"
   ]
  },
  {
   "cell_type": "markdown",
   "id": "36dfe8da",
   "metadata": {},
   "source": [
    "#### 2. get mean reply time "
   ]
  },
  {
   "cell_type": "code",
   "execution_count": 292,
   "id": "69b8c65f",
   "metadata": {},
   "outputs": [],
   "source": [
    "# get timestamp for each tweet in each conversation\n",
    "lst = ['id_1', 'id_2', 'id_3', 'id_4', 'id_5', 'id_6', 'id_7']\n",
    "suffixes = ['_0', '_1', '_2', '_3', '_4', '_5', '_6' , '_7']\n",
    "for idx in range(len(lst)):\n",
    "    df = df.merge(right=df_timestamp, left_on=lst[idx], right_on='id', how='left', suffixes=(suffixes[idx], suffixes[idx + 1]))\n",
    "    df.drop(columns='id', inplace=True)"
   ]
  },
  {
   "cell_type": "code",
   "execution_count": 293,
   "id": "049b841f",
   "metadata": {},
   "outputs": [],
   "source": [
    "df.rename(columns={'timestamp_ms' : 'timestamp_ms_7'}, inplace=True)"
   ]
  },
  {
   "cell_type": "code",
   "execution_count": 294,
   "id": "57c03b55",
   "metadata": {},
   "outputs": [],
   "source": [
    "# get mean reply time for each row \n",
    "lst = []\n",
    "for idx, row in df.iterrows():\n",
    "    reply_time = []\n",
    "    if row.conversation_opener == 'airline':\n",
    "        reply_time.append((row.timestamp_ms_3 - row.timestamp_ms_2).seconds)\n",
    "        reply_time.append((row.timestamp_ms_5 - row.timestamp_ms_4).seconds)\n",
    "        reply_time.append((row.timestamp_ms_7 - row.timestamp_ms_6).seconds)\n",
    "        reply_time = pd.Series(reply_time).dropna()\n",
    "        mean_rep = sum(reply_time)/len(reply_time)\n",
    "        lst.append(mean_rep)\n",
    "    else:\n",
    "        reply_time.append((row.timestamp_ms_2 - row.timestamp_ms_1).seconds)\n",
    "        reply_time.append((row.timestamp_ms_4 - row.timestamp_ms_3).seconds)\n",
    "        reply_time.append((row.timestamp_ms_6 - row.timestamp_ms_5).seconds)\n",
    "        reply_time = pd.Series(reply_time).dropna()\n",
    "        mean_rep = sum(reply_time)/len(reply_time)\n",
    "        lst.append(mean_rep)"
   ]
  },
  {
   "cell_type": "code",
   "execution_count": 295,
   "id": "4972697e",
   "metadata": {},
   "outputs": [],
   "source": [
    "df['mean_reply_time'] = lst"
   ]
  },
  {
   "cell_type": "markdown",
   "id": "e61c1ad0",
   "metadata": {},
   "source": [
    "#### 3. get the sentiment change score "
   ]
  },
  {
   "cell_type": "code",
   "execution_count": 296,
   "id": "886dd0ac",
   "metadata": {
    "scrolled": true
   },
   "outputs": [],
   "source": [
    "df = pd.concat([start_end_customers_filter(df), \n",
    "                df[['conversation_opener', 'conversation_time', 'airline_id', 'airline_name', 'mean_reply_time']].reset_index(drop=True)], \n",
    "               axis=1)"
   ]
  },
  {
   "cell_type": "code",
   "execution_count": 297,
   "id": "5f991277",
   "metadata": {},
   "outputs": [],
   "source": [
    "# fix the datatype\n",
    "df['conversation_time'] = pd.to_datetime(df.conversation_time)\n",
    "df_sentiment = df_sentiment.astype({\n",
    "    'sentiment_score' : 'float64'\n",
    "})"
   ]
  },
  {
   "cell_type": "code",
   "execution_count": 298,
   "id": "b7acc251",
   "metadata": {},
   "outputs": [
    {
     "data": {
      "text/plain": [
       "(63707, 8)"
      ]
     },
     "execution_count": 298,
     "metadata": {},
     "output_type": "execute_result"
    }
   ],
   "source": [
    "# get the sentiment score for open\n",
    "df = df.merge(df_sentiment, left_on='open', right_on='id').drop(columns='id')\n",
    "df.shape"
   ]
  },
  {
   "cell_type": "code",
   "execution_count": 299,
   "id": "b9079302",
   "metadata": {},
   "outputs": [
    {
     "data": {
      "text/plain": [
       "(62015, 9)"
      ]
     },
     "execution_count": 299,
     "metadata": {},
     "output_type": "execute_result"
    }
   ],
   "source": [
    "# get the sentiment score for close \n",
    "df = df.merge(df_sentiment, left_on='close', right_on='id', suffixes=('_open', '_close')).drop(columns='id')\n",
    "df.shape"
   ]
  },
  {
   "cell_type": "code",
   "execution_count": 300,
   "id": "6fcbf2d9",
   "metadata": {},
   "outputs": [],
   "source": [
    "df['sentiment_change'] = df['sentiment_score_close'] - df['sentiment_score_open']"
   ]
  },
  {
   "cell_type": "code",
   "execution_count": 301,
   "id": "d83753ce",
   "metadata": {},
   "outputs": [],
   "source": [
    "df['positive'] = df['sentiment_change'] > 0"
   ]
  },
  {
   "cell_type": "markdown",
   "id": "713af624",
   "metadata": {},
   "source": [
    "#### 4. filter by timestamp (depend on the teacher)"
   ]
  },
  {
   "cell_type": "code",
   "execution_count": 281,
   "id": "535e9f23",
   "metadata": {},
   "outputs": [],
   "source": [
    "df_all = df.copy()"
   ]
  },
  {
   "cell_type": "code",
   "execution_count": 282,
   "id": "fcbe04d8",
   "metadata": {},
   "outputs": [],
   "source": [
    "# change string timestamp_ms back to Timestamp object and rename column\n",
    "df_all['conversation_time'] = pd.to_datetime(df_all.conversation_time)"
   ]
  },
  {
   "cell_type": "code",
   "execution_count": 283,
   "id": "ea5e789e",
   "metadata": {},
   "outputs": [],
   "source": [
    "# add attributes month and year \n",
    "month = []\n",
    "year = []\n",
    "for idx, row in df_all.iterrows():\n",
    "    month.append(row.conversation_time.month)\n",
    "    year.append(row.conversation_time.year)\n",
    "df_all['month'] = month\n",
    "df_all['year'] = year"
   ]
  },
  {
   "cell_type": "code",
   "execution_count": 284,
   "id": "b62a7f34",
   "metadata": {},
   "outputs": [
    {
     "data": {
      "text/plain": [
       "MultiIndex([(2019,  5),\n",
       "            (2019,  6),\n",
       "            (2019,  7),\n",
       "            (2019,  8),\n",
       "            (2019,  9),\n",
       "            (2019, 10),\n",
       "            (2019, 11),\n",
       "            (2019, 12),\n",
       "            (2020,  1),\n",
       "            (2020,  2),\n",
       "            (2020,  3)],\n",
       "           names=['year', 'month'])"
      ]
     },
     "execution_count": 284,
     "metadata": {},
     "output_type": "execute_result"
    }
   ],
   "source": [
    "df_all.groupby(['year', 'month']).count().index"
   ]
  },
  {
   "cell_type": "code",
   "execution_count": 285,
   "id": "e52ae40c",
   "metadata": {},
   "outputs": [
    {
     "ename": "NameError",
     "evalue": "name 'all_df' is not defined",
     "output_type": "error",
     "traceback": [
      "\u001b[1;31m---------------------------------------------------------------------------\u001b[0m",
      "\u001b[1;31mNameError\u001b[0m                                 Traceback (most recent call last)",
      "Input \u001b[1;32mIn [285]\u001b[0m, in \u001b[0;36m<cell line: 4>\u001b[1;34m()\u001b[0m\n\u001b[0;32m      2\u001b[0m n_month \u001b[38;5;241m=\u001b[39m \u001b[38;5;241m9\u001b[39m\n\u001b[0;32m      3\u001b[0m n_year \u001b[38;5;241m=\u001b[39m \u001b[38;5;241m2019\u001b[39m\n\u001b[1;32m----> 4\u001b[0m df \u001b[38;5;241m=\u001b[39m \u001b[43mall_df\u001b[49m[(all_df\u001b[38;5;241m.\u001b[39mmonth\u001b[38;5;241m==\u001b[39mn_month) \u001b[38;5;241m&\u001b[39m (all_df\u001b[38;5;241m.\u001b[39myear\u001b[38;5;241m==\u001b[39mn_year)]\u001b[38;5;241m.\u001b[39mcopy()\n\u001b[0;32m      5\u001b[0m df\u001b[38;5;241m.\u001b[39mshape\n",
      "\u001b[1;31mNameError\u001b[0m: name 'all_df' is not defined"
     ]
    }
   ],
   "source": [
    "# example teacher on January 2019\n",
    "n_month = 9\n",
    "n_year = 2019\n",
    "df = all_df[(all_df.month==n_month) & (all_df.year==n_year)].copy()\n",
    "df.shape"
   ]
  },
  {
   "cell_type": "markdown",
   "id": "c7de3a4b",
   "metadata": {},
   "source": [
    "#### 5. plotting"
   ]
  },
  {
   "cell_type": "code",
   "execution_count": null,
   "id": "237050a7",
   "metadata": {
    "scrolled": true
   },
   "outputs": [],
   "source": [
    "# standardize variables \n",
    "p = df[['mean_reply_time', 'sentiment_change']]\n",
    "df_new = (p - p.mean())/p.std()"
   ]
  },
  {
   "cell_type": "code",
   "execution_count": null,
   "id": "8f9262f1",
   "metadata": {},
   "outputs": [],
   "source": [
    "df_new = df_new[(df_new.sentiment_change < 3) & (df_new.sentiment_change > -3)]\n",
    "df_new = df_new[(df_new.mean_reply_time < 3) & (df_new.mean_reply_time > -3)]"
   ]
  },
  {
   "cell_type": "code",
   "execution_count": null,
   "id": "02d43ec5",
   "metadata": {},
   "outputs": [],
   "source": [
    "ax = sns.scatterplot(data=df_new.sample(1000), x='sentiment_change', y='mean_reply_time', alpha=0.5)"
   ]
  },
  {
   "cell_type": "code",
   "execution_count": null,
   "id": "ec015a29",
   "metadata": {
    "scrolled": true
   },
   "outputs": [],
   "source": [
    "ax = sns.scatterplot(data=df.sample(10000), x='sentiment_change', y='mean_reply_time', alpha=0.5)\n",
    "ax.set_ylim(0, 20000)"
   ]
  },
  {
   "cell_type": "code",
   "execution_count": 309,
   "id": "bde265f3",
   "metadata": {},
   "outputs": [
    {
     "data": {
      "text/plain": [
       "array([[ 1.        , -0.00132263],\n",
       "       [-0.00132263,  1.        ]])"
      ]
     },
     "execution_count": 309,
     "metadata": {},
     "output_type": "execute_result"
    }
   ],
   "source": [
    "# correlation coefficient \n",
    "np.corrcoef(df['sentiment_change'], df['mean_reply_time'])"
   ]
  },
  {
   "cell_type": "code",
   "execution_count": null,
   "id": "6dff6113",
   "metadata": {},
   "outputs": [],
   "source": [
    "# make histogram\n",
    "sns.histplot(data=df_new.sample(1000), x='sentiment_change', y='mean_reply_time')"
   ]
  },
  {
   "cell_type": "markdown",
   "id": "964ae72e",
   "metadata": {},
   "source": [
    "#### 6. new idea"
   ]
  },
  {
   "cell_type": "code",
   "execution_count": 302,
   "id": "9204662a",
   "metadata": {},
   "outputs": [],
   "source": [
    "lst = []\n",
    "for idx, row in df.iterrows():\n",
    "    if (0 < row.mean_reply_time <= 60):\n",
    "        lst.append('<1 minutes')\n",
    "    elif (60 < row.mean_reply_time <= 600):\n",
    "        lst.append('2-10 minutes')\n",
    "    elif (600 < row.mean_reply_time <= 3600):\n",
    "        lst.append('10-60 minutes')\n",
    "    elif (3600 < row.mean_reply_time <= 3600*3):\n",
    "        lst.append('1-3 hours')\n",
    "    elif (3600*3 < row.mean_reply_time <= 3600*10):\n",
    "        lst.append('3-10 hours')\n",
    "    elif (3600*10 < row.mean_reply_time <= 3600*24):\n",
    "        lst.append('10-24 hours')\n",
    "    else:\n",
    "        lst.append('more')"
   ]
  },
  {
   "cell_type": "code",
   "execution_count": 303,
   "id": "e8568131",
   "metadata": {},
   "outputs": [],
   "source": [
    "df['time_classification'] = lst"
   ]
  },
  {
   "cell_type": "code",
   "execution_count": 304,
   "id": "2b8f0baf",
   "metadata": {},
   "outputs": [
    {
     "data": {
      "text/plain": [
       "(18, 12)"
      ]
     },
     "execution_count": 304,
     "metadata": {},
     "output_type": "execute_result"
    }
   ],
   "source": [
    "df[df.time_classification=='more'].shape"
   ]
  },
  {
   "cell_type": "code",
   "execution_count": 312,
   "id": "f5149036",
   "metadata": {},
   "outputs": [
    {
     "data": {
      "text/plain": [
       "Text(0.5, 0, 'Sentiment score change')"
      ]
     },
     "execution_count": 312,
     "metadata": {},
     "output_type": "execute_result"
    },
    {
     "data": {
      "image/png": "[encoded data removed]",
      "text/plain": [
       "<Figure size 432x432 with 1 Axes>"
      ]
     },
     "metadata": {},
     "output_type": "display_data"
    }
   ],
   "source": [
    "# plotting barchart \n",
    "sns.set_theme(style='whitegrid')\n",
    "fig, ax = plt.subplots(figsize=(6, 6))\n",
    "sns.boxplot(data=df[['sentiment_change', 'time_classification']], y='time_classification', x='sentiment_change', orient='h', ax=ax)\n",
    "ax.set_title('Boxplot sentiment change per reply time categories', size=16)\n",
    "ax.set_ylabel('Reply time', size=14)\n",
    "ax.set_xlabel('Sentiment score change', size=10)"
   ]
  }
 ],
 "metadata": {
  "kernelspec": {
   "display_name": "Python 3 (ipykernel)",
   "language": "python",
   "name": "python3"
  },
  "language_info": {
   "codemirror_mode": {
    "name": "ipython",
    "version": 3
   },
   "file_extension": ".py",
   "mimetype": "text/x-python",
   "name": "python",
   "nbconvert_exporter": "python",
   "pygments_lexer": "ipython3",
   "version": "3.8.13"
  }
 },
 "nbformat": 4,
 "nbformat_minor": 5
}
