{
 "cells": [
  {
   "cell_type": "code",
   "execution_count": 1,
   "id": "aee50a2d",
   "metadata": {},
   "outputs": [],
   "source": [
    "import numpy as np\n",
    "import pandas as pd \n",
    "import sqlite3 \n",
    "import sys\n",
    "from pathlib import Path\n",
    "sys.path.append(str(Path.cwd().parent))\n",
    "from Tools.conversation import start_end_customers_filter"
   ]
  },
  {
   "cell_type": "markdown",
   "id": "58720c1e",
   "metadata": {},
   "source": [
    "#### 1. get the df from server "
   ]
  },
  {
   "cell_type": "code",
   "execution_count": 2,
   "id": "da4a09ab",
   "metadata": {},
   "outputs": [],
   "source": [
    "con = sqlite3.connect('../../database/database(620).db')"
   ]
  },
  {
   "cell_type": "code",
   "execution_count": 3,
   "id": "f8f513b9",
   "metadata": {},
   "outputs": [],
   "source": [
    "# get the conversation df\n",
    "query = \"\"\"\n",
    "    SELECT c.id_1, c.id_2, c.id_3, c.id_4, c.id_5, c.id_6, c.id_7, c.conversation_opener, c.airline_id, c.airline_name,\n",
    "    g.timestamp_ms\n",
    "    FROM conversation as c, general_tweets as g\n",
    "    WHERE c.id_1 == g.id\n",
    "\"\"\"\n",
    "df = pd.read_sql_query(query, con)"
   ]
  },
  {
   "cell_type": "code",
   "execution_count": 4,
   "id": "fcb637dd",
   "metadata": {},
   "outputs": [],
   "source": [
    "df = df.replace('', np.nan)\n",
    "df['timestamp_ms'] = pd.to_datetime(df.timestamp_ms)"
   ]
  },
  {
   "cell_type": "code",
   "execution_count": 5,
   "id": "478b1fef",
   "metadata": {},
   "outputs": [],
   "source": [
    "# get the text df\n",
    "query2 = \"SELECT id, text FROM general_tweets\"\n",
    "df_text = pd.read_sql_query(query2, con)"
   ]
  },
  {
   "cell_type": "code",
   "execution_count": 6,
   "id": "755a7662",
   "metadata": {},
   "outputs": [],
   "source": [
    "# get the sentiment score df \n",
    "query3 = \"SELECT id, sentiment_score FROM sentiment_table\"\n",
    "df_sentiment = pd.read_sql_query(query3, con)"
   ]
  },
  {
   "cell_type": "markdown",
   "id": "48e7e588",
   "metadata": {},
   "source": [
    "#### 2. Mapping text to tweets in conversation"
   ]
  },
  {
   "cell_type": "code",
   "execution_count": 7,
   "id": "53c33591",
   "metadata": {},
   "outputs": [],
   "source": [
    "lst = ['id_1', 'id_2', 'id_3', 'id_4', 'id_5', 'id_6', 'id_7']\n",
    "suffixes = ['_0', '_1', '_2', '_3', '_4', '_5', '_6' , '_7']\n",
    "for idx in range(len(lst)):\n",
    "    df = df.merge(right=df_text, left_on=lst[idx], right_on='id', how='left', suffixes=(suffixes[idx], suffixes[idx + 1]))\n",
    "    df.drop(columns='id', inplace=True)"
   ]
  },
  {
   "cell_type": "code",
   "execution_count": 8,
   "id": "ae080ec4",
   "metadata": {},
   "outputs": [
    {
     "data": {
      "text/plain": [
       "\"Thanks @British_Airways I really needed the extra 2 hour delay on the flight today with everyone sat on board... @sunriseblade That certainly is annoying. Hopefully, you're on your way now and we're sorry for any inconvenience caused. We hope you enjoy the rest of your day! Liz\""
      ]
     },
     "execution_count": 8,
     "metadata": {},
     "output_type": "execute_result"
    }
   ],
   "source": [
    "\" \".join(pd.Series([df.iloc[0].text_1, df.iloc[0].text_2]))"
   ]
  },
  {
   "cell_type": "code",
   "execution_count": 9,
   "id": "c2135b4a",
   "metadata": {},
   "outputs": [],
   "source": [
    "# loop through conversation (row) to get all text in conversation from customer\n",
    "lst_full_text = []\n",
    "for idx, row in df.iterrows():\n",
    "    if row.conversation_opener == 'customer':\n",
    "        text_lst = pd.Series([row.text_1, row.text_3, row.text_5, row.text]).dropna()\n",
    "        full_text = \" \".join(text_lst)\n",
    "    else:\n",
    "        text_lst = pd.Series([row.text_2, row.text_4, row.text_6]).dropna()\n",
    "        full_text = \" \".join(text_lst)\n",
    "    lst_full_text.append(full_text)"
   ]
  },
  {
   "cell_type": "code",
   "execution_count": 10,
   "id": "b85a672b",
   "metadata": {},
   "outputs": [],
   "source": [
    "df['all_text'] = lst_full_text"
   ]
  },
  {
   "cell_type": "markdown",
   "id": "698c00f3",
   "metadata": {},
   "source": [
    "#### 3. get sentiment score change "
   ]
  },
  {
   "cell_type": "code",
   "execution_count": 11,
   "id": "fecde81e",
   "metadata": {},
   "outputs": [],
   "source": [
    "df = pd.concat([start_end_customers_filter(df), \n",
    "                df[['conversation_opener', 'timestamp_ms', 'all_text', 'airline_name', 'airline_id']].reset_index(drop=True)], \n",
    "               axis=1)"
   ]
  },
  {
   "cell_type": "code",
   "execution_count": 12,
   "id": "401382e6",
   "metadata": {},
   "outputs": [],
   "source": [
    "# fix the datatype\n",
    "df['timestamp_ms'] = pd.to_datetime(df.timestamp_ms)\n",
    "df_sentiment = df_sentiment.astype({\n",
    "    'sentiment_score' : 'float64'\n",
    "})"
   ]
  },
  {
   "cell_type": "code",
   "execution_count": 13,
   "id": "774f73c1",
   "metadata": {},
   "outputs": [
    {
     "data": {
      "text/plain": [
       "(63707, 8)"
      ]
     },
     "execution_count": 13,
     "metadata": {},
     "output_type": "execute_result"
    }
   ],
   "source": [
    "# get the sentiment score for open\n",
    "df = df.merge(df_sentiment, left_on='open', right_on='id').drop(columns='id')\n",
    "df.shape"
   ]
  },
  {
   "cell_type": "code",
   "execution_count": 14,
   "id": "f86a9629",
   "metadata": {},
   "outputs": [
    {
     "data": {
      "text/plain": [
       "(62015, 9)"
      ]
     },
     "execution_count": 14,
     "metadata": {},
     "output_type": "execute_result"
    }
   ],
   "source": [
    "# get the sentiment score for close \n",
    "df = df.merge(df_sentiment, left_on='close', right_on='id').drop(columns='id')\n",
    "df.shape"
   ]
  },
  {
   "cell_type": "code",
   "execution_count": 15,
   "id": "190b575a",
   "metadata": {},
   "outputs": [],
   "source": [
    "df['sentiment_change'] = df['sentiment_score_y'] - df['sentiment_score_x']"
   ]
  },
  {
   "cell_type": "code",
   "execution_count": 16,
   "id": "b308dea2",
   "metadata": {},
   "outputs": [
    {
     "data": {
      "text/html": [
       "<div>\n",
       "<style scoped>\n",
       "    .dataframe tbody tr th:only-of-type {\n",
       "        vertical-align: middle;\n",
       "    }\n",
       "\n",
       "    .dataframe tbody tr th {\n",
       "        vertical-align: top;\n",
       "    }\n",
       "\n",
       "    .dataframe thead th {\n",
       "        text-align: right;\n",
       "    }\n",
       "</style>\n",
       "<table border=\"1\" class=\"dataframe\">\n",
       "  <thead>\n",
       "    <tr style=\"text-align: right;\">\n",
       "      <th></th>\n",
       "      <th>open</th>\n",
       "      <th>close</th>\n",
       "      <th>conversation_opener</th>\n",
       "      <th>timestamp_ms</th>\n",
       "      <th>all_text</th>\n",
       "      <th>airline_name</th>\n",
       "      <th>airline_id</th>\n",
       "      <th>sentiment_score_x</th>\n",
       "      <th>sentiment_score_y</th>\n",
       "      <th>sentiment_change</th>\n",
       "    </tr>\n",
       "  </thead>\n",
       "  <tbody>\n",
       "    <tr>\n",
       "      <th>0</th>\n",
       "      <td>1.1311767275755356e+18</td>\n",
       "      <td>1.1311937151442657e+18</td>\n",
       "      <td>customer</td>\n",
       "      <td>2019-05-22 12:35:22.758</td>\n",
       "      <td>@Qantas On The qantas website @Qantas How do I...</td>\n",
       "      <td>Qantas</td>\n",
       "      <td>218730857</td>\n",
       "      <td>-0.080096</td>\n",
       "      <td>-0.976197</td>\n",
       "      <td>-0.896101</td>\n",
       "    </tr>\n",
       "    <tr>\n",
       "      <th>1</th>\n",
       "      <td>1.131186501868372e+18</td>\n",
       "      <td>1.1311937151442657e+18</td>\n",
       "      <td>airline</td>\n",
       "      <td>2019-05-22 12:47:00.229</td>\n",
       "      <td>@Qantas How do I know I won't be ignored again...</td>\n",
       "      <td>Qantas</td>\n",
       "      <td>218730857</td>\n",
       "      <td>-0.617716</td>\n",
       "      <td>-0.976197</td>\n",
       "      <td>-0.358481</td>\n",
       "    </tr>\n",
       "    <tr>\n",
       "      <th>2</th>\n",
       "      <td>1.131186501868372e+18</td>\n",
       "      <td>1.1311937151442657e+18</td>\n",
       "      <td>customer</td>\n",
       "      <td>2019-05-22 13:14:13.131</td>\n",
       "      <td>@Qantas How do I know I won't be ignored again...</td>\n",
       "      <td>Qantas</td>\n",
       "      <td>218730857</td>\n",
       "      <td>-0.617716</td>\n",
       "      <td>-0.976197</td>\n",
       "      <td>-0.358481</td>\n",
       "    </tr>\n",
       "    <tr>\n",
       "      <th>3</th>\n",
       "      <td>1.1311879005765181e+18</td>\n",
       "      <td>1.1311937151442657e+18</td>\n",
       "      <td>airline</td>\n",
       "      <td>2019-05-22 13:17:17.506</td>\n",
       "      <td>@Qantas And last time I gave this info... noth...</td>\n",
       "      <td>Qantas</td>\n",
       "      <td>218730857</td>\n",
       "      <td>-0.890473</td>\n",
       "      <td>-0.976197</td>\n",
       "      <td>-0.085724</td>\n",
       "    </tr>\n",
       "    <tr>\n",
       "      <th>4</th>\n",
       "      <td>1.1311768612104315e+18</td>\n",
       "      <td>1.1311854191634473e+18</td>\n",
       "      <td>customer</td>\n",
       "      <td>2019-05-22 12:35:54.619</td>\n",
       "      <td>When you pay for bubble seats 11m in advance o...</td>\n",
       "      <td>VirginAtlantic</td>\n",
       "      <td>20626359</td>\n",
       "      <td>-0.454536</td>\n",
       "      <td>-0.382206</td>\n",
       "      <td>0.072330</td>\n",
       "    </tr>\n",
       "  </tbody>\n",
       "</table>\n",
       "</div>"
      ],
      "text/plain": [
       "                     open                   close conversation_opener  \\\n",
       "0  1.1311767275755356e+18  1.1311937151442657e+18            customer   \n",
       "1   1.131186501868372e+18  1.1311937151442657e+18             airline   \n",
       "2   1.131186501868372e+18  1.1311937151442657e+18            customer   \n",
       "3  1.1311879005765181e+18  1.1311937151442657e+18             airline   \n",
       "4  1.1311768612104315e+18  1.1311854191634473e+18            customer   \n",
       "\n",
       "             timestamp_ms                                           all_text  \\\n",
       "0 2019-05-22 12:35:22.758  @Qantas On The qantas website @Qantas How do I...   \n",
       "1 2019-05-22 12:47:00.229  @Qantas How do I know I won't be ignored again...   \n",
       "2 2019-05-22 13:14:13.131  @Qantas How do I know I won't be ignored again...   \n",
       "3 2019-05-22 13:17:17.506  @Qantas And last time I gave this info... noth...   \n",
       "4 2019-05-22 12:35:54.619  When you pay for bubble seats 11m in advance o...   \n",
       "\n",
       "     airline_name airline_id  sentiment_score_x  sentiment_score_y  \\\n",
       "0          Qantas  218730857          -0.080096          -0.976197   \n",
       "1          Qantas  218730857          -0.617716          -0.976197   \n",
       "2          Qantas  218730857          -0.617716          -0.976197   \n",
       "3          Qantas  218730857          -0.890473          -0.976197   \n",
       "4  VirginAtlantic   20626359          -0.454536          -0.382206   \n",
       "\n",
       "   sentiment_change  \n",
       "0         -0.896101  \n",
       "1         -0.358481  \n",
       "2         -0.358481  \n",
       "3         -0.085724  \n",
       "4          0.072330  "
      ]
     },
     "execution_count": 16,
     "metadata": {},
     "output_type": "execute_result"
    }
   ],
   "source": [
    "df.as"
   ]
  }
 ],
 "metadata": {
  "kernelspec": {
   "display_name": "Python 3 (ipykernel)",
   "language": "python",
   "name": "python3"
  },
  "language_info": {
   "codemirror_mode": {
    "name": "ipython",
    "version": 3
   },
   "file_extension": ".py",
   "mimetype": "text/x-python",
   "name": "python",
   "nbconvert_exporter": "python",
   "pygments_lexer": "ipython3",
   "version": "3.8.13"
  }
 },
 "nbformat": 4,
 "nbformat_minor": 5
}
