{
 "cells": [
  {
   "cell_type": "code",
   "execution_count": 13,
   "id": "b8173bb9",
   "metadata": {},
   "outputs": [],
   "source": [
    "import json \n",
    "import pandas as pd \n",
    "import numpy as np \n",
    "import sqlite3 \n",
    "from datetime import datetime"
   ]
  },
  {
   "cell_type": "code",
   "execution_count": 14,
   "id": "2cfd5900",
   "metadata": {},
   "outputs": [],
   "source": [
    "con = sqlite3.connect('database.db')"
   ]
  },
  {
   "cell_type": "code",
   "execution_count": 19,
   "id": "4a5a8946",
   "metadata": {},
   "outputs": [],
   "source": [
    "#pull down data from general_tweets and british_airway_tweets\n",
    "#the text attribute can be used for further analysis\n",
    "query = '''\n",
    "    SELECT gen.id as general_tweet_id, bri.id as British_reply_tweet_id, gen.text,\n",
    "    gen.timestamp_ms as gen_timestamp_ms, bri.timestamp_ms as British_timestamp_ms,\n",
    "    gen.user as gen_user, bri.user as British_user\n",
    "    \n",
    "    FROM general_tweets as gen, british_airways_tweets as bri\n",
    "    \n",
    "    WHERE gen.id = bri.in_reply_to_status_id\n",
    "'''"
   ]
  },
  {
   "cell_type": "code",
   "execution_count": 20,
   "id": "a88ca5bf",
   "metadata": {},
   "outputs": [
    {
     "data": {
      "text/html": [
       "<div>\n",
       "<style scoped>\n",
       "    .dataframe tbody tr th:only-of-type {\n",
       "        vertical-align: middle;\n",
       "    }\n",
       "\n",
       "    .dataframe tbody tr th {\n",
       "        vertical-align: top;\n",
       "    }\n",
       "\n",
       "    .dataframe thead th {\n",
       "        text-align: right;\n",
       "    }\n",
       "</style>\n",
       "<table border=\"1\" class=\"dataframe\">\n",
       "  <thead>\n",
       "    <tr style=\"text-align: right;\">\n",
       "      <th></th>\n",
       "      <th>general_tweet_id</th>\n",
       "      <th>British_reply_tweet_id</th>\n",
       "      <th>text</th>\n",
       "      <th>gen_timestamp_ms</th>\n",
       "      <th>British_timestamp_ms</th>\n",
       "      <th>gen_user</th>\n",
       "      <th>British_user</th>\n",
       "    </tr>\n",
       "  </thead>\n",
       "  <tbody>\n",
       "    <tr>\n",
       "      <th>0</th>\n",
       "      <td>1.1311730105080627e+18</td>\n",
       "      <td>1.1311759953215201e+18</td>\n",
       "      <td>Thanks @British_Airways I really needed the ex...</td>\n",
       "      <td>2019-05-22 12:20:36.540</td>\n",
       "      <td>2019-05-22 12:32:28.175</td>\n",
       "      <td>{'id': 1662186764, 'id_str': '1662186764', 'na...</td>\n",
       "      <td>{'id': 18332190, 'id_str': '18332190', 'name':...</td>\n",
       "    </tr>\n",
       "    <tr>\n",
       "      <th>1</th>\n",
       "      <td>1.1311730105080627e+18</td>\n",
       "      <td>1.1311759953215201e+18</td>\n",
       "      <td>Thanks @British_Airways I really needed the ex...</td>\n",
       "      <td>2019-05-22 12:20:36.540</td>\n",
       "      <td>2019-05-22 12:32:28.175</td>\n",
       "      <td>{'id': 1662186764, 'id_str': '1662186764', 'na...</td>\n",
       "      <td>{'id': 18332190, 'id_str': '18332190', 'name':...</td>\n",
       "    </tr>\n",
       "    <tr>\n",
       "      <th>2</th>\n",
       "      <td>1.1311733532917678e+18</td>\n",
       "      <td>1.1311907757007012e+18</td>\n",
       "      <td>@journoian We appreciate your feedback and we'...</td>\n",
       "      <td>2019-05-22 12:21:58.266</td>\n",
       "      <td>2019-05-22 13:31:12.092</td>\n",
       "      <td>{'id': 18332190, 'id_str': '18332190', 'name':...</td>\n",
       "      <td>{'id': 40830697, 'id_str': '40830697', 'name':...</td>\n",
       "    </tr>\n",
       "    <tr>\n",
       "      <th>3</th>\n",
       "      <td>1.1311733532917678e+18</td>\n",
       "      <td>1.1311907757007012e+18</td>\n",
       "      <td>@journoian We appreciate your feedback and we'...</td>\n",
       "      <td>2019-05-22 12:21:58.266</td>\n",
       "      <td>2019-05-22 13:31:12.092</td>\n",
       "      <td>{'id': 18332190, 'id_str': '18332190', 'name':...</td>\n",
       "      <td>{'id': 40830697, 'id_str': '40830697', 'name':...</td>\n",
       "    </tr>\n",
       "    <tr>\n",
       "      <th>4</th>\n",
       "      <td>1.1311736637456835e+18</td>\n",
       "      <td>1.1312975479837e+18</td>\n",
       "      <td>@wags9000 This is concerning to hear, Ally. Di...</td>\n",
       "      <td>2019-05-22 12:23:12.284</td>\n",
       "      <td>2019-05-22 20:35:28.588</td>\n",
       "      <td>{'id': 18332190, 'id_str': '18332190', 'name':...</td>\n",
       "      <td>{'id': 302493679, 'id_str': '302493679', 'name...</td>\n",
       "    </tr>\n",
       "  </tbody>\n",
       "</table>\n",
       "</div>"
      ],
      "text/plain": [
       "         general_tweet_id  British_reply_tweet_id  \\\n",
       "0  1.1311730105080627e+18  1.1311759953215201e+18   \n",
       "1  1.1311730105080627e+18  1.1311759953215201e+18   \n",
       "2  1.1311733532917678e+18  1.1311907757007012e+18   \n",
       "3  1.1311733532917678e+18  1.1311907757007012e+18   \n",
       "4  1.1311736637456835e+18     1.1312975479837e+18   \n",
       "\n",
       "                                                text         gen_timestamp_ms  \\\n",
       "0  Thanks @British_Airways I really needed the ex...  2019-05-22 12:20:36.540   \n",
       "1  Thanks @British_Airways I really needed the ex...  2019-05-22 12:20:36.540   \n",
       "2  @journoian We appreciate your feedback and we'...  2019-05-22 12:21:58.266   \n",
       "3  @journoian We appreciate your feedback and we'...  2019-05-22 12:21:58.266   \n",
       "4  @wags9000 This is concerning to hear, Ally. Di...  2019-05-22 12:23:12.284   \n",
       "\n",
       "      British_timestamp_ms                                           gen_user  \\\n",
       "0  2019-05-22 12:32:28.175  {'id': 1662186764, 'id_str': '1662186764', 'na...   \n",
       "1  2019-05-22 12:32:28.175  {'id': 1662186764, 'id_str': '1662186764', 'na...   \n",
       "2  2019-05-22 13:31:12.092  {'id': 18332190, 'id_str': '18332190', 'name':...   \n",
       "3  2019-05-22 13:31:12.092  {'id': 18332190, 'id_str': '18332190', 'name':...   \n",
       "4  2019-05-22 20:35:28.588  {'id': 18332190, 'id_str': '18332190', 'name':...   \n",
       "\n",
       "                                        British_user  \n",
       "0  {'id': 18332190, 'id_str': '18332190', 'name':...  \n",
       "1  {'id': 18332190, 'id_str': '18332190', 'name':...  \n",
       "2  {'id': 40830697, 'id_str': '40830697', 'name':...  \n",
       "3  {'id': 40830697, 'id_str': '40830697', 'name':...  \n",
       "4  {'id': 302493679, 'id_str': '302493679', 'name...  "
      ]
     },
     "execution_count": 20,
     "metadata": {},
     "output_type": "execute_result"
    }
   ],
   "source": [
    "df_data = pd.read_sql_query(query, con)\n",
    "df_data.head()"
   ]
  },
  {
   "cell_type": "code",
   "execution_count": 24,
   "id": "c46c127c",
   "metadata": {},
   "outputs": [],
   "source": [
    "#Extract the duration into seconds by attribute .seconds\n",
    "df_data['gen_timestamp_ms'] = pd.to_datetime(df_data['gen_timestamp_ms'])\n",
    "df_data['British_timestamp_ms'] = pd.to_datetime(df_data['British_timestamp_ms'])\n",
    "df_data['reply_time'] = df_data['British_timestamp_ms'] - df_data['British_timestamp_ms']\n",
    "df_data['reply_time_in_seconds'] = pd.Series([df_data['reply_time'].iloc[i].seconds for i in range(len(df_data))])\n",
    "\n",
    "\n",
    "df_data.to_csv('conversation.csv')"
   ]
  }
 ],
 "metadata": {
  "kernelspec": {
   "display_name": "Python 3",
   "language": "python",
   "name": "python3"
  },
  "language_info": {
   "codemirror_mode": {
    "name": "ipython",
    "version": 3
   },
   "file_extension": ".py",
   "mimetype": "text/x-python",
   "name": "python",
   "nbconvert_exporter": "python",
   "pygments_lexer": "ipython3",
   "version": "3.8.8"
  }
 },
 "nbformat": 4,
 "nbformat_minor": 5
}
