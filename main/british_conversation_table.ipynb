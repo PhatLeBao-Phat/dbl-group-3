{
 "cells": [
  {
   "cell_type": "code",
   "execution_count": 5,
   "id": "b8173bb9",
   "metadata": {},
   "outputs": [],
   "source": [
    "import json \n",
    "import pandas as pd \n",
    "import numpy as np \n",
    "import sqlite3 \n",
    "from datetime import datetime"
   ]
  },
  {
   "cell_type": "code",
   "execution_count": 6,
   "id": "2cfd5900",
   "metadata": {},
   "outputs": [],
   "source": [
    "con = sqlite3.connect('..\\database\\sqlite-tools-win32-x86-3380300\\database.db')"
   ]
  },
  {
   "cell_type": "code",
   "execution_count": 7,
   "id": "4a5a8946",
   "metadata": {},
   "outputs": [],
   "source": [
    "#pull down data from general_tweets and british_airway_tweets\n",
    "#the text attribute can be used for further analysis\n",
    "query = '''\n",
    "    SELECT gen.id as general_tweet_id, bri.id as British_reply_tweet_id, gen.text,\n",
    "    gen.timestamp_ms as gen_timestamp_ms, bri.timestamp_ms as British_timestamp_ms,\n",
    "    gen.user as gen_user, bri.user as British_user\n",
    "    \n",
    "    FROM general_tweets as gen, british_airways_tweets as bri\n",
    "    \n",
    "    WHERE gen.id = bri.in_reply_to_status_id AND bri.user_id = '18332190'\n",
    "'''"
   ]
  },
  {
   "cell_type": "code",
   "execution_count": 9,
   "id": "a88ca5bf",
   "metadata": {},
   "outputs": [],
   "source": [
    "df_data = pd.read_sql_query(query, con)"
   ]
  },
  {
   "cell_type": "code",
   "execution_count": 11,
   "id": "c46c127c",
   "metadata": {},
   "outputs": [],
   "source": [
    "#Extract the duration into seconds by attribute .seconds\n",
    "df_data['gen_timestamp_ms'] = pd.to_datetime(df_data['gen_timestamp_ms'])\n",
    "df_data['British_timestamp_ms'] = pd.to_datetime(df_data['British_timestamp_ms'])\n",
    "df_data['reply_time'] = df_data['British_timestamp_ms'] - df_data['gen_timestamp_ms']\n",
    "df_data['reply_time_in_seconds'] = pd.Series([df_data['reply_time'].iloc[i].seconds for i in range(len(df_data))])\n",
    "df_data.to_csv('../database/CSV file/british_airways_conversation.csv')"
   ]
  }
 ],
 "metadata": {
  "kernelspec": {
   "display_name": "Python 3",
   "language": "python",
   "name": "python3"
  },
  "language_info": {
   "codemirror_mode": {
    "name": "ipython",
    "version": 3
   },
   "file_extension": ".py",
   "mimetype": "text/x-python",
   "name": "python",
   "nbconvert_exporter": "python",
   "pygments_lexer": "ipython3",
   "version": "3.8.8"
  }
 },
 "nbformat": 4,
 "nbformat_minor": 5
}
