{
 "cells": [
  {
   "cell_type": "code",
   "execution_count": 1,
   "id": "2efbb55f",
   "metadata": {},
   "outputs": [],
   "source": [
    "import pandas as pd \n",
    "import numpy as np \n",
    "import json \n",
    "import sqlite3"
   ]
  },
  {
   "cell_type": "code",
   "execution_count": 3,
   "id": "063075a5",
   "metadata": {},
   "outputs": [],
   "source": [
    "# load the json file of one month onto dataframe \n",
    "df_data = pd.read_json('../data/airlines-1558527599826.json', lines=True)"
   ]
  },
  {
   "cell_type": "code",
   "execution_count": 4,
   "id": "b57d23d2",
   "metadata": {},
   "outputs": [],
   "source": [
    "con = sqlite3.connect('../data/test.db')\n",
    "cur = con.cursor()"
   ]
  },
  {
   "cell_type": "code",
   "execution_count": 6,
   "id": "73a5514c",
   "metadata": {},
   "outputs": [
    {
     "ename": "OperationalError",
     "evalue": "database is locked",
     "output_type": "error",
     "traceback": [
      "\u001b[1;31m---------------------------------------------------------------------------\u001b[0m",
      "\u001b[1;31mOperationalError\u001b[0m                          Traceback (most recent call last)",
      "\u001b[1;32m<ipython-input-6-d4d5eb2e3ae9>\u001b[0m in \u001b[0;36m<module>\u001b[1;34m\u001b[0m\n\u001b[0;32m     38\u001b[0m         \u001b[0mquoted_status_permalink\u001b[0m\u001b[1;33m,\u001b[0m\u001b[1;33m\u001b[0m\u001b[1;33m\u001b[0m\u001b[0m\n\u001b[0;32m     39\u001b[0m         dele)'''\n\u001b[1;32m---> 40\u001b[1;33m \u001b[0mcon\u001b[0m\u001b[1;33m.\u001b[0m\u001b[0mexecute\u001b[0m\u001b[1;33m(\u001b[0m\u001b[0mquery_data_schema_2\u001b[0m\u001b[1;33m)\u001b[0m\u001b[1;33m\u001b[0m\u001b[1;33m\u001b[0m\u001b[0m\n\u001b[0m",
      "\u001b[1;31mOperationalError\u001b[0m: database is locked"
     ]
    }
   ],
   "source": [
    "query_data_schema_2 = '''\n",
    "        CREATE TABLE ok (\n",
    "        created_at, \n",
    "        id, \n",
    "        id_str, \n",
    "        text, \n",
    "        display_text_range, \n",
    "        source, \n",
    "        truncated, \n",
    "        in_reply_to_status_id, \n",
    "        in_reply_to_status_id_str, \n",
    "        in_reply_to_user_id,\n",
    "        in_reply_to_user_id_str, \n",
    "        in_reply_to_screen_name,\n",
    "        user,\n",
    "        geo,\n",
    "        coordinates, \n",
    "        place,\n",
    "        contributors, \n",
    "        is_quote_status, \n",
    "        quote_count, \n",
    "        reply_count, \n",
    "        retweet_count, \n",
    "        favorite_count, \n",
    "        entities, \n",
    "        extended_entities, \n",
    "        favorited, \n",
    "        retweeted, \n",
    "        possibly_sensitive, \n",
    "        filter_level, \n",
    "        lang, \n",
    "        timestamp_ms, \n",
    "        retweeted_status, \n",
    "        extended_tweet, \n",
    "        quoted_status_id, \n",
    "        quoted_status_id_str, \n",
    "        quoted_status, \n",
    "        quoted_status_permalink,\n",
    "        dele)'''\n",
    "con.execute(query_data_schema_2)"
   ]
  }
 ],
 "metadata": {
  "kernelspec": {
   "display_name": "Python 3",
   "language": "python",
   "name": "python3"
  },
  "language_info": {
   "codemirror_mode": {
    "name": "ipython",
    "version": 3
   },
   "file_extension": ".py",
   "mimetype": "text/x-python",
   "name": "python",
   "nbconvert_exporter": "python",
   "pygments_lexer": "ipython3",
   "version": "3.8.8"
  }
 },
 "nbformat": 4,
 "nbformat_minor": 5
}
