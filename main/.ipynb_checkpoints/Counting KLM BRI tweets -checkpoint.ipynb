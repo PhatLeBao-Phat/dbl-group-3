{
 "cells": [
  {
   "cell_type": "code",
   "execution_count": 83,
   "id": "f152936d",
   "metadata": {},
   "outputs": [],
   "source": [
    "import json \n",
    "import pandas as pd \n",
    "import numpy as np \n"
   ]
  },
  {
   "cell_type": "code",
   "execution_count": 65,
   "id": "c7cd78e7",
   "metadata": {},
   "outputs": [
    {
     "data": {
      "text/html": [
       "<div>\n",
       "<style scoped>\n",
       "    .dataframe tbody tr th:only-of-type {\n",
       "        vertical-align: middle;\n",
       "    }\n",
       "\n",
       "    .dataframe tbody tr th {\n",
       "        vertical-align: top;\n",
       "    }\n",
       "\n",
       "    .dataframe thead th {\n",
       "        text-align: right;\n",
       "    }\n",
       "</style>\n",
       "<table border=\"1\" class=\"dataframe\">\n",
       "  <thead>\n",
       "    <tr style=\"text-align: right;\">\n",
       "      <th></th>\n",
       "      <th>created_at</th>\n",
       "      <th>id_str</th>\n",
       "      <th>user</th>\n",
       "      <th>entities</th>\n",
       "    </tr>\n",
       "  </thead>\n",
       "  <tbody>\n",
       "    <tr>\n",
       "      <th>0</th>\n",
       "      <td>2019-05-22 12:20:00+00:00</td>\n",
       "      <td>1.131173e+18</td>\n",
       "      <td>{'id': 393374091, 'id_str': '393374091', 'name...</td>\n",
       "      <td>{'hashtags': [], 'urls': [{'url': 'https://t.c...</td>\n",
       "    </tr>\n",
       "    <tr>\n",
       "      <th>1</th>\n",
       "      <td>2019-05-22 12:20:01+00:00</td>\n",
       "      <td>1.131173e+18</td>\n",
       "      <td>{'id': 3420691215, 'id_str': '3420691215', 'na...</td>\n",
       "      <td>{'hashtags': [], 'urls': [], 'user_mentions': ...</td>\n",
       "    </tr>\n",
       "    <tr>\n",
       "      <th>2</th>\n",
       "      <td>2019-05-22 12:20:02+00:00</td>\n",
       "      <td>1.131173e+18</td>\n",
       "      <td>{'id': 394376606, 'id_str': '394376606', 'name...</td>\n",
       "      <td>{'hashtags': [], 'urls': [], 'user_mentions': ...</td>\n",
       "    </tr>\n",
       "    <tr>\n",
       "      <th>3</th>\n",
       "      <td>2019-05-22 12:20:12+00:00</td>\n",
       "      <td>1.131173e+18</td>\n",
       "      <td>{'id': 36488556, 'id_str': '36488556', 'name':...</td>\n",
       "      <td>{'hashtags': [], 'urls': [], 'user_mentions': ...</td>\n",
       "    </tr>\n",
       "    <tr>\n",
       "      <th>4</th>\n",
       "      <td>2019-05-22 12:20:28+00:00</td>\n",
       "      <td>1.131173e+18</td>\n",
       "      <td>{'id': 14193348, 'id_str': '14193348', 'name':...</td>\n",
       "      <td>{'hashtags': [], 'urls': [], 'user_mentions': ...</td>\n",
       "    </tr>\n",
       "    <tr>\n",
       "      <th>...</th>\n",
       "      <td>...</td>\n",
       "      <td>...</td>\n",
       "      <td>...</td>\n",
       "      <td>...</td>\n",
       "    </tr>\n",
       "    <tr>\n",
       "      <th>14384</th>\n",
       "      <td>2019-05-23 11:42:26+00:00</td>\n",
       "      <td>1.131526e+18</td>\n",
       "      <td>{'id': 1499872951, 'id_str': '1499872951', 'na...</td>\n",
       "      <td>{'hashtags': [], 'urls': [], 'user_mentions': ...</td>\n",
       "    </tr>\n",
       "    <tr>\n",
       "      <th>14385</th>\n",
       "      <td>2019-05-23 11:42:27+00:00</td>\n",
       "      <td>1.131526e+18</td>\n",
       "      <td>{'id': 2182054841, 'id_str': '2182054841', 'na...</td>\n",
       "      <td>{'hashtags': [], 'urls': [], 'user_mentions': ...</td>\n",
       "    </tr>\n",
       "    <tr>\n",
       "      <th>14386</th>\n",
       "      <td>2019-05-23 11:42:27+00:00</td>\n",
       "      <td>1.131526e+18</td>\n",
       "      <td>{'id': 1000339516203421696, 'id_str': '1000339...</td>\n",
       "      <td>{'hashtags': [], 'urls': [], 'user_mentions': ...</td>\n",
       "    </tr>\n",
       "    <tr>\n",
       "      <th>14387</th>\n",
       "      <td>2019-05-23 11:42:35+00:00</td>\n",
       "      <td>1.131526e+18</td>\n",
       "      <td>{'id': 128174143, 'id_str': '128174143', 'name...</td>\n",
       "      <td>{'hashtags': [], 'urls': [], 'user_mentions': ...</td>\n",
       "    </tr>\n",
       "    <tr>\n",
       "      <th>14388</th>\n",
       "      <td>2019-05-23 11:42:44+00:00</td>\n",
       "      <td>1.131526e+18</td>\n",
       "      <td>{'id': 2285714020, 'id_str': '2285714020', 'na...</td>\n",
       "      <td>{'hashtags': [], 'urls': [{'url': 'https://t.c...</td>\n",
       "    </tr>\n",
       "  </tbody>\n",
       "</table>\n",
       "<p>14389 rows × 4 columns</p>\n",
       "</div>"
      ],
      "text/plain": [
       "                     created_at        id_str  \\\n",
       "0     2019-05-22 12:20:00+00:00  1.131173e+18   \n",
       "1     2019-05-22 12:20:01+00:00  1.131173e+18   \n",
       "2     2019-05-22 12:20:02+00:00  1.131173e+18   \n",
       "3     2019-05-22 12:20:12+00:00  1.131173e+18   \n",
       "4     2019-05-22 12:20:28+00:00  1.131173e+18   \n",
       "...                         ...           ...   \n",
       "14384 2019-05-23 11:42:26+00:00  1.131526e+18   \n",
       "14385 2019-05-23 11:42:27+00:00  1.131526e+18   \n",
       "14386 2019-05-23 11:42:27+00:00  1.131526e+18   \n",
       "14387 2019-05-23 11:42:35+00:00  1.131526e+18   \n",
       "14388 2019-05-23 11:42:44+00:00  1.131526e+18   \n",
       "\n",
       "                                                    user  \\\n",
       "0      {'id': 393374091, 'id_str': '393374091', 'name...   \n",
       "1      {'id': 3420691215, 'id_str': '3420691215', 'na...   \n",
       "2      {'id': 394376606, 'id_str': '394376606', 'name...   \n",
       "3      {'id': 36488556, 'id_str': '36488556', 'name':...   \n",
       "4      {'id': 14193348, 'id_str': '14193348', 'name':...   \n",
       "...                                                  ...   \n",
       "14384  {'id': 1499872951, 'id_str': '1499872951', 'na...   \n",
       "14385  {'id': 2182054841, 'id_str': '2182054841', 'na...   \n",
       "14386  {'id': 1000339516203421696, 'id_str': '1000339...   \n",
       "14387  {'id': 128174143, 'id_str': '128174143', 'name...   \n",
       "14388  {'id': 2285714020, 'id_str': '2285714020', 'na...   \n",
       "\n",
       "                                                entities  \n",
       "0      {'hashtags': [], 'urls': [{'url': 'https://t.c...  \n",
       "1      {'hashtags': [], 'urls': [], 'user_mentions': ...  \n",
       "2      {'hashtags': [], 'urls': [], 'user_mentions': ...  \n",
       "3      {'hashtags': [], 'urls': [], 'user_mentions': ...  \n",
       "4      {'hashtags': [], 'urls': [], 'user_mentions': ...  \n",
       "...                                                  ...  \n",
       "14384  {'hashtags': [], 'urls': [], 'user_mentions': ...  \n",
       "14385  {'hashtags': [], 'urls': [], 'user_mentions': ...  \n",
       "14386  {'hashtags': [], 'urls': [], 'user_mentions': ...  \n",
       "14387  {'hashtags': [], 'urls': [], 'user_mentions': ...  \n",
       "14388  {'hashtags': [], 'urls': [{'url': 'https://t.c...  \n",
       "\n",
       "[14389 rows x 4 columns]"
      ]
     },
     "execution_count": 65,
     "metadata": {},
     "output_type": "execute_result"
    }
   ],
   "source": [
    "df_database = pd.read_json('airlines-1558527599826.json', lines=True)\n",
    "df_datas = df_database.reindex(columns = ['created_at','id_str','user','entities'])\n",
    "\n",
    "df_datas"
   ]
  },
  {
   "cell_type": "code",
   "execution_count": 68,
   "id": "7ea8ae8e",
   "metadata": {},
   "outputs": [],
   "source": [
    "df_datas = df_datas.dropna()"
   ]
  },
  {
   "cell_type": "code",
   "execution_count": 75,
   "id": "fe6caa25",
   "metadata": {},
   "outputs": [
    {
     "name": "stdout",
     "output_type": "stream",
     "text": [
      "87 343\n"
     ]
    }
   ],
   "source": [
    "#Counting how many tweets made by KLM,Bri:\n",
    "count_made_klm = 0\n",
    "count_made_bri = 0\n",
    "for d in df_datas.user:\n",
    "    if d.get(\"id_str\") == \"56377143\":\n",
    "        count_made_klm +=1\n",
    "    if d.get(\"id_str\") == \"18332190\":\n",
    "        count_made_bri +=1\n",
    "        \n",
    "print(count_made_klm,count_made_bri)\n",
    "\n"
   ]
  },
  {
   "cell_type": "code",
   "execution_count": 82,
   "id": "f8e8c43d",
   "metadata": {},
   "outputs": [
    {
     "name": "stdout",
     "output_type": "stream",
     "text": [
      "334 1770\n"
     ]
    }
   ],
   "source": [
    "#Counting how many tweets mention KLM, Bri:\n",
    "count_ment_klm = 0\n",
    "count_ment_bri = 0\n",
    "for d in df_datas.entities:\n",
    "    for i in d.get(\"user_mentions\"):\n",
    "        if i.get(\"id_str\") == \"56377143\":\n",
    "            count_ment_klm +=1\n",
    "        if i.get(\"id_str\") == \"18332190\":\n",
    "            count_ment_bri +=1\n",
    "            \n",
    "print(count_ment_klm,count_ment_bri)"
   ]
  }
 ],
 "metadata": {
  "kernelspec": {
   "display_name": "Python 3",
   "language": "python",
   "name": "python3"
  },
  "language_info": {
   "codemirror_mode": {
    "name": "ipython",
    "version": 3
   },
   "file_extension": ".py",
   "mimetype": "text/x-python",
   "name": "python",
   "nbconvert_exporter": "python",
   "pygments_lexer": "ipython3",
   "version": "3.8.8"
  }
 },
 "nbformat": 4,
 "nbformat_minor": 5
}
