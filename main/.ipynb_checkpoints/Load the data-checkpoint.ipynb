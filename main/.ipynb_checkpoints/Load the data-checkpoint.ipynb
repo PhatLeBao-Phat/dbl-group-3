{
 "cells": [
  {
   "cell_type": "markdown",
   "id": "3047e492",
   "metadata": {},
   "source": [
    "#### 1. Import library"
   ]
  },
  {
   "cell_type": "code",
   "execution_count": 3,
   "id": "da94b262",
   "metadata": {},
   "outputs": [],
   "source": [
    "import json \n",
    "import pandas as pd \n",
    "import numpy as np \n",
    "from typing import Dict, List, Tuple \n",
    "import sqlite3\n",
    "import json"
   ]
  },
  {
   "cell_type": "markdown",
   "id": "9f1b1ec5",
   "metadata": {},
   "source": [
    "#### 2. Load the data onto DataFrame"
   ]
  },
  {
   "cell_type": "code",
   "execution_count": 4,
   "id": "eb8c07b2",
   "metadata": {},
   "outputs": [],
   "source": [
    "# load the json file of one month onto dataframe \n",
    "df_data = pd.read_json('../data/airlines-1558527599826.json', lines=True)"
   ]
  },
  {
   "cell_type": "markdown",
   "id": "468b440a",
   "metadata": {},
   "source": [
    "#### 3. Store the data on .db file "
   ]
  },
  {
   "cell_type": "code",
   "execution_count": 7,
   "id": "9f9193d7",
   "metadata": {},
   "outputs": [],
   "source": [
    "# create connection and cursor \n",
    "con = sqlite3.connect('../database/sqlite-tools-win32-x86-3380300/database.db')\n",
    "cur = con.cursor()"
   ]
  },
  {
   "cell_type": "markdown",
   "id": "5a7fab63",
   "metadata": {},
   "source": [
    "#### 4. KLM table "
   ]
  },
  {
   "cell_type": "code",
   "execution_count": 68,
   "id": "c8a4ba77",
   "metadata": {},
   "outputs": [],
   "source": [
    "df_datas = df_data.dropna(subset = [\"user\"])\n",
    "#Extract only tweets made by KLM (including posting +replying to other):\n",
    "test = df_datas.copy()\n",
    "\n",
    "ind = []\n",
    "for index, row in df_datas.iterrows():\n",
    "    if row['user']['id_str'] == '56377143':\n",
    "        ind.append(index)\n",
    "klm_tweet = df_datas.loc[ind]"
   ]
  },
  {
   "cell_type": "code",
   "execution_count": 69,
   "id": "26f122c0",
   "metadata": {},
   "outputs": [],
   "source": [
    "#Extract only tweets mention KLM (@KLM etc...):\n",
    "test2 = df_datas.copy()\n",
    "ind2 = []\n",
    "for index, row in df_datas.iterrows():\n",
    "    if \"@KLM\" in row['text']:\n",
    "        ind2.append(index)\n",
    "klm_tweet_men = df_datas.loc[ind2]"
   ]
  },
  {
   "cell_type": "code",
   "execution_count": 70,
   "id": "142d52b0",
   "metadata": {},
   "outputs": [],
   "source": [
    "#Concat 2 tables:\n",
    "klm_table = pd.concat([klm_tweet, klm_tweet_men])\n",
    "klm_table.drop_duplicates(subset=['id'], inplace=True)"
   ]
  },
  {
   "cell_type": "code",
   "execution_count": 71,
   "id": "107047c2",
   "metadata": {},
   "outputs": [],
   "source": [
    "#Export the table as CSV file to import to the database\n",
    "klm_table.to_csv('../database/CSV file/klm_table.csv')"
   ]
  },
  {
   "cell_type": "markdown",
   "id": "392618ef",
   "metadata": {},
   "source": [
    "#### 5. Bristish Airways table"
   ]
  },
  {
   "cell_type": "code",
   "execution_count": 62,
   "id": "ba468c64",
   "metadata": {},
   "outputs": [],
   "source": [
    "#Extract only tweets made by BA (including posting +replying to other):\n",
    "test = df_datas.copy()\n",
    "\n",
    "ind = []\n",
    "for index, row in df_datas.iterrows():\n",
    "    if row['user']['id_str'] == '18332190':\n",
    "        ind.append(index)\n",
    "british_tweet = df_datas.loc[ind]"
   ]
  },
  {
   "cell_type": "code",
   "execution_count": 72,
   "id": "38851e45",
   "metadata": {},
   "outputs": [],
   "source": [
    "#Extract only tweets mention BA (@British_Airways etc...):\n",
    "test2 = df_datas.copy()\n",
    "ind2 = []\n",
    "for index, row in df_datas.iterrows():\n",
    "    if \"@British_Airways\" in row['text']:\n",
    "        ind2.append(index)\n",
    "british_tweet_men = df_datas.loc[ind2]"
   ]
  },
  {
   "cell_type": "code",
   "execution_count": 76,
   "id": "6004b43a",
   "metadata": {},
   "outputs": [],
   "source": [
    "#Concat 2 tables:\n",
    "british_table = pd.concat([british_tweet, british_tweet_men])\n",
    "british_table.drop_duplicates(subset=['id'], inplace=True)"
   ]
  },
  {
   "cell_type": "code",
   "execution_count": 77,
   "id": "bfa07445",
   "metadata": {},
   "outputs": [],
   "source": [
    "#Export the table as CSV file to import to the database\n",
    "british_table.to_csv('../database/CSV file/british_table.csv')"
   ]
  },
  {
   "cell_type": "markdown",
   "id": "64d9831c",
   "metadata": {},
   "source": [
    "#### 6. Users table "
   ]
  },
  {
   "cell_type": "code",
   "execution_count": 99,
   "id": "d1b10dde",
   "metadata": {},
   "outputs": [
    {
     "data": {
      "text/plain": [
       "0        {'id': 393374091, 'id_str': '393374091', 'name...\n",
       "1        {'id': 3420691215, 'id_str': '3420691215', 'na...\n",
       "2        {'id': 394376606, 'id_str': '394376606', 'name...\n",
       "3        {'id': 36488556, 'id_str': '36488556', 'name':...\n",
       "4        {'id': 14193348, 'id_str': '14193348', 'name':...\n",
       "                               ...                        \n",
       "14384    {'id': 1499872951, 'id_str': '1499872951', 'na...\n",
       "14385    {'id': 2182054841, 'id_str': '2182054841', 'na...\n",
       "14386    {'id': 1000339516203421696, 'id_str': '1000339...\n",
       "14387    {'id': 128174143, 'id_str': '128174143', 'name...\n",
       "14388    {'id': 2285714020, 'id_str': '2285714020', 'na...\n",
       "Name: user, Length: 14387, dtype: object"
      ]
     },
     "execution_count": 99,
     "metadata": {},
     "output_type": "execute_result"
    }
   ],
   "source": [
    "df_datas.user"
   ]
  },
  {
   "cell_type": "code",
   "execution_count": 101,
   "id": "5e018a11",
   "metadata": {},
   "outputs": [],
   "source": [
    "#Get the user table\n",
    "#This is a temporary method as it's really bad and have bad running time @Phat\n",
    "user_table = pd.concat([pd.DataFrame(df_datas.user[i], index=[i]) for i in df_datas.user.index])"
   ]
  },
  {
   "cell_type": "code",
   "execution_count": 103,
   "id": "407591a8",
   "metadata": {},
   "outputs": [],
   "source": [
    "user_table.to_csv('../database/CSV file/user_table.csv')"
   ]
  }
 ],
 "metadata": {
  "kernelspec": {
   "display_name": "Python 3",
   "language": "python",
   "name": "python3"
  },
  "language_info": {
   "codemirror_mode": {
    "name": "ipython",
    "version": 3
   },
   "file_extension": ".py",
   "mimetype": "text/x-python",
   "name": "python",
   "nbconvert_exporter": "python",
   "pygments_lexer": "ipython3",
   "version": "3.8.8"
  }
 },
 "nbformat": 4,
 "nbformat_minor": 5
}
