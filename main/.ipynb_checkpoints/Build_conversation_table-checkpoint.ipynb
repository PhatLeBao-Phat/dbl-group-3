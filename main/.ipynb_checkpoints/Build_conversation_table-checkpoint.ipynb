{
 "cells": [
  {
   "cell_type": "code",
   "execution_count": 27,
   "id": "c08aa88b",
   "metadata": {},
   "outputs": [],
   "source": [
    "import json \n",
    "import pandas as pd \n",
    "import numpy as np \n",
    "import sqlite3 \n",
    "from datetime import datetime"
   ]
  },
  {
   "cell_type": "code",
   "execution_count": 31,
   "id": "19fc96b7",
   "metadata": {},
   "outputs": [],
   "source": [
    "#Establish connection to the database (database.db file)\n",
    "con = sqlite3.connect('..\\database\\sqlite-tools-win32-x86-3380300\\database.db')"
   ]
  },
  {
   "cell_type": "code",
   "execution_count": 38,
   "id": "dc9ea582",
   "metadata": {},
   "outputs": [],
   "source": [
    "#Write a query to pull down data, feel free to change this to build your own attributes @Phat\n",
    "query = '''\n",
    "    SELECT gen.id as general_tweet_id, klm.id as KLM_reply_tweet_id, \n",
    "    gen.timestamp_ms as gen_timestamp_ms, klm.timestamp_ms as klm_timestamp_ms,\n",
    "    gen.user as gen_user, klm.user as klm_user,\n",
    "    users.followers_count\n",
    "    FROM general_tweets as gen, KLM_tweets as klm, users\n",
    "    \n",
    "    WHERE gen.id = klm.in_reply_to_status_id AND gen.user_id = users.id AND klm.user_id == '56377143'\n",
    "'''"
   ]
  },
  {
   "cell_type": "code",
   "execution_count": 39,
   "id": "3368c0e9",
   "metadata": {},
   "outputs": [
    {
     "data": {
      "text/html": [
       "<div>\n",
       "<style scoped>\n",
       "    .dataframe tbody tr th:only-of-type {\n",
       "        vertical-align: middle;\n",
       "    }\n",
       "\n",
       "    .dataframe tbody tr th {\n",
       "        vertical-align: top;\n",
       "    }\n",
       "\n",
       "    .dataframe thead th {\n",
       "        text-align: right;\n",
       "    }\n",
       "</style>\n",
       "<table border=\"1\" class=\"dataframe\">\n",
       "  <thead>\n",
       "    <tr style=\"text-align: right;\">\n",
       "      <th></th>\n",
       "      <th>general_tweet_id</th>\n",
       "      <th>KLM_reply_tweet_id</th>\n",
       "      <th>gen_timestamp_ms</th>\n",
       "      <th>klm_timestamp_ms</th>\n",
       "      <th>gen_user</th>\n",
       "      <th>klm_user</th>\n",
       "      <th>followers_count</th>\n",
       "    </tr>\n",
       "  </thead>\n",
       "  <tbody>\n",
       "    <tr>\n",
       "      <th>0</th>\n",
       "      <td>1.1311830432412303e+18</td>\n",
       "      <td>1.1311852592892068e+18</td>\n",
       "      <td>2019-05-22 13:00:28.530</td>\n",
       "      <td>2019-05-22 13:09:16.877</td>\n",
       "      <td>{'id': 3110268790, 'id_str': '3110268790', 'na...</td>\n",
       "      <td>{'id': 56377143, 'id_str': '56377143', 'name':...</td>\n",
       "      <td>14</td>\n",
       "    </tr>\n",
       "    <tr>\n",
       "      <th>1</th>\n",
       "      <td>1.1311830432412303e+18</td>\n",
       "      <td>1.1311852592892068e+18</td>\n",
       "      <td>2019-05-22 13:00:28.530</td>\n",
       "      <td>2019-05-22 13:09:16.877</td>\n",
       "      <td>{'id': 3110268790, 'id_str': '3110268790', 'na...</td>\n",
       "      <td>{'id': 56377143, 'id_str': '56377143', 'name':...</td>\n",
       "      <td>14</td>\n",
       "    </tr>\n",
       "    <tr>\n",
       "      <th>2</th>\n",
       "      <td>1.1311824743804232e+18</td>\n",
       "      <td>1.1311879787710259e+18</td>\n",
       "      <td>2019-05-22 12:58:12.903</td>\n",
       "      <td>2019-05-22 13:20:05.252</td>\n",
       "      <td>{'id': 1604219274, 'id_str': '1604219274', 'na...</td>\n",
       "      <td>{'id': 56377143, 'id_str': '56377143', 'name':...</td>\n",
       "      <td>17</td>\n",
       "    </tr>\n",
       "    <tr>\n",
       "      <th>3</th>\n",
       "      <td>1.1311824743804232e+18</td>\n",
       "      <td>1.1311879787710259e+18</td>\n",
       "      <td>2019-05-22 12:58:12.903</td>\n",
       "      <td>2019-05-22 13:20:05.252</td>\n",
       "      <td>{'id': 1604219274, 'id_str': '1604219274', 'na...</td>\n",
       "      <td>{'id': 56377143, 'id_str': '56377143', 'name':...</td>\n",
       "      <td>17</td>\n",
       "    </tr>\n",
       "    <tr>\n",
       "      <th>4</th>\n",
       "      <td>1.1311830804741243e+18</td>\n",
       "      <td>1.1311880285281075e+18</td>\n",
       "      <td>2019-05-22 13:00:37.407</td>\n",
       "      <td>2019-05-22 13:20:17.115</td>\n",
       "      <td>{'id': 879493539012296704, 'id_str': '87949353...</td>\n",
       "      <td>{'id': 56377143, 'id_str': '56377143', 'name':...</td>\n",
       "      <td>3</td>\n",
       "    </tr>\n",
       "  </tbody>\n",
       "</table>\n",
       "</div>"
      ],
      "text/plain": [
       "         general_tweet_id      KLM_reply_tweet_id         gen_timestamp_ms  \\\n",
       "0  1.1311830432412303e+18  1.1311852592892068e+18  2019-05-22 13:00:28.530   \n",
       "1  1.1311830432412303e+18  1.1311852592892068e+18  2019-05-22 13:00:28.530   \n",
       "2  1.1311824743804232e+18  1.1311879787710259e+18  2019-05-22 12:58:12.903   \n",
       "3  1.1311824743804232e+18  1.1311879787710259e+18  2019-05-22 12:58:12.903   \n",
       "4  1.1311830804741243e+18  1.1311880285281075e+18  2019-05-22 13:00:37.407   \n",
       "\n",
       "          klm_timestamp_ms                                           gen_user  \\\n",
       "0  2019-05-22 13:09:16.877  {'id': 3110268790, 'id_str': '3110268790', 'na...   \n",
       "1  2019-05-22 13:09:16.877  {'id': 3110268790, 'id_str': '3110268790', 'na...   \n",
       "2  2019-05-22 13:20:05.252  {'id': 1604219274, 'id_str': '1604219274', 'na...   \n",
       "3  2019-05-22 13:20:05.252  {'id': 1604219274, 'id_str': '1604219274', 'na...   \n",
       "4  2019-05-22 13:20:17.115  {'id': 879493539012296704, 'id_str': '87949353...   \n",
       "\n",
       "                                            klm_user followers_count  \n",
       "0  {'id': 56377143, 'id_str': '56377143', 'name':...              14  \n",
       "1  {'id': 56377143, 'id_str': '56377143', 'name':...              14  \n",
       "2  {'id': 56377143, 'id_str': '56377143', 'name':...              17  \n",
       "3  {'id': 56377143, 'id_str': '56377143', 'name':...              17  \n",
       "4  {'id': 56377143, 'id_str': '56377143', 'name':...               3  "
      ]
     },
     "execution_count": 39,
     "metadata": {},
     "output_type": "execute_result"
    }
   ],
   "source": [
    "#Pull data from database into dataframe\n",
    "df_data = pd.read_sql_query(query, con)\n",
    "df_data.head()"
   ]
  },
  {
   "cell_type": "code",
   "execution_count": null,
   "id": "2a2267db",
   "metadata": {},
   "outputs": [],
   "source": [
    "#@Marfa: you can probably do the same this as I did there with followers_count to extract other attributes"
   ]
  },
  {
   "cell_type": "code",
   "execution_count": 63,
   "id": "68a27ac1",
   "metadata": {},
   "outputs": [],
   "source": [
    "#Turn back the string of Timestamp data back to Timestamp object. If u don't understand, go ask @Phat\n",
    "#Feel free to extract other attributes out of this Timestamp object, For example: timezone, day, year,...\n",
    "df_data['gen_timestamp_ms'] = pd.to_datetime(df_data['gen_timestamp_ms'])\n",
    "df_data['klm_timestamp_ms'] = pd.to_datetime(df_data['klm_timestamp_ms'])"
   ]
  },
  {
   "cell_type": "code",
   "execution_count": 64,
   "id": "66b8e136",
   "metadata": {},
   "outputs": [],
   "source": [
    "#Get the reply time/duration between 2 tweets - return Timedelta object\n",
    "df_data['reply_time'] = df_data['klm_timestamp_ms'] - df_data['gen_timestamp_ms']"
   ]
  },
  {
   "cell_type": "code",
   "execution_count": 68,
   "id": "80c31228",
   "metadata": {},
   "outputs": [],
   "source": [
    "#Extract the duration into seconds by attribute .seconds\n",
    "#Feel free to extract other attibute from this \n",
    "df_data['reply_time_in_seconds'] = pd.Series([df_data['reply_time'].iloc[i].seconds for i in range(len(df_data))])"
   ]
  },
  {
   "cell_type": "code",
   "execution_count": 67,
   "id": "5f93b34e",
   "metadata": {},
   "outputs": [],
   "source": [
    "df_data.to_csv('../database/CSV file/conversation.csv')"
   ]
  }
 ],
 "metadata": {
  "kernelspec": {
   "display_name": "Python 3",
   "language": "python",
   "name": "python3"
  },
  "language_info": {
   "codemirror_mode": {
    "name": "ipython",
    "version": 3
   },
   "file_extension": ".py",
   "mimetype": "text/x-python",
   "name": "python",
   "nbconvert_exporter": "python",
   "pygments_lexer": "ipython3",
   "version": "3.8.8"
  }
 },
 "nbformat": 4,
 "nbformat_minor": 5
}
