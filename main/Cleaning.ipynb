{
 "cells": [
  {
   "cell_type": "code",
   "execution_count": 1,
   "id": "80da6030",
   "metadata": {},
   "outputs": [],
   "source": [
    "import pandas as pd\n",
    "import json \n",
    "import numpy as np \n",
    "import sqlite3"
   ]
  },
  {
   "cell_type": "code",
   "execution_count": 2,
   "id": "8c39e599",
   "metadata": {},
   "outputs": [],
   "source": [
    "#Connect to the database\n",
    "con = sqlite3.connect('..\\database\\sqlite-tools-win32-x86-3380300\\database.db')"
   ]
  },
  {
   "cell_type": "code",
   "execution_count": 3,
   "id": "139f36a1",
   "metadata": {},
   "outputs": [],
   "source": [
    "#Query to pull thing down \n",
    "query_gen = '''\n",
    "    SELECT *\n",
    "    FROM general_tweets \n",
    "'''\n",
    "df_data_gen = pd.read_sql_query(query_gen, con)\n",
    "\n",
    "query_klm = '''\n",
    "    SELECT *\n",
    "    FROM KLM_tweets \n",
    "'''\n",
    "df_data_klm = pd.read_sql_query(query_klm, con)\n",
    "\n",
    "query_bri = '''\n",
    "    SELECT *\n",
    "    FROM british_airways_tweets \n",
    "'''\n",
    "df_data_bri = pd.read_sql_query(query_bri, con)"
   ]
  },
  {
   "cell_type": "code",
   "execution_count": 38,
   "id": "46589e32",
   "metadata": {},
   "outputs": [],
   "source": [
    "#This database thing is fuking stupid. We need another solution\n",
    "df_data_bri.set_index('', inplace=True)\n",
    "df_data_gen.set_index('', inplace=True)\n",
    "df_data_klm.set_index('', inplace=True);"
   ]
  },
  {
   "cell_type": "code",
   "execution_count": 39,
   "id": "20b0ca6b",
   "metadata": {},
   "outputs": [
    {
     "data": {
      "text/plain": [
       "(255017, 255017)"
      ]
     },
     "execution_count": 39,
     "metadata": {},
     "output_type": "execute_result"
    }
   ],
   "source": [
    "#Drop some NA, I do remember I already did this before upload to database, but double check\n",
    "df_data_drop_na = df_data_gen.dropna(subset=['user'])\n",
    "len(df_data_gen), len(df_data_drop_na)"
   ]
  },
  {
   "cell_type": "code",
   "execution_count": 40,
   "id": "fb5c69bf",
   "metadata": {},
   "outputs": [],
   "source": [
    "#This code I got from Xiaoya with some editing \n",
    "def remove_duplicated_text(df_data: pd.DataFrame) -> pd.DataFrame:\n",
    "    \"\"\"\n",
    "    Function to remove duplicated datapoints that send by users but not airlines.\n",
    "    Tweets are considered to be a duplicate if they are sent by the same user to the same tweet. \n",
    "    This function resets index.\n",
    "    \n",
    "    parameter: df_data: DataFrame\n",
    "    return: DataFrame\n",
    "    \"\"\"\n",
    "    #remove duplicated tweets sent by users not KLM or Bri\n",
    "    df_tweets = df_data.reset_index(drop=True)\n",
    "    df_tweets = df_tweets.dropna(subset=['user'])\n",
    "    du = df_tweets.duplicated(subset=['text', 'user_id', 'in_reply_to_status_id'])\n",
    "    #get a list index of duplicated text (datapoint)\n",
    "    lst = [index for index, values in du.items() if values == True]\n",
    "    #define airline dictionary\n",
    "    airline = {\n",
    "        'KLM' : 56377143, \n",
    "        'AirFrance' : 106062176, \n",
    "        'British_Airways' : 18332190, \n",
    "        'AmericanAir' : 22536055, \n",
    "        'Lufthansa' : 124476322, \n",
    "        'AirBerlin' : 26223583, \n",
    "        'AirBerlin assist' : 2182373406, \n",
    "        'easyJet' : 38676903, \n",
    "        'RyanAir' : 1542862735, \n",
    "        'SingaporeAir' : 253340062, \n",
    "        'Qantas' : 218730857, \n",
    "        'EtihadAirways' : 45621423, \n",
    "        'VirginAtlantic' : 20626359 \n",
    "    }\n",
    "    #drop the duplicated texts that not from any airlines\n",
    "    drop_lst = []\n",
    "    for i in lst:\n",
    "        if df_tweets.loc[i, 'user_id'] not in airline.values():\n",
    "            drop_lst.append(i)\n",
    "    df_tweets.drop(index=drop_lst, inplace=True)\n",
    "    return df_tweets"
   ]
  },
  {
   "cell_type": "code",
   "execution_count": 41,
   "id": "46b287ce",
   "metadata": {},
   "outputs": [],
   "source": [
    "#Use the function to remove duplicated\n",
    "df_clean_klm = remove_duplicated_text(df_data_klm)\n",
    "df_clean_bri = remove_duplicated_text(df_data_bri)\n",
    "df_clean_gen = remove_duplicated_text(df_data_gen)"
   ]
  },
  {
   "cell_type": "code",
   "execution_count": 43,
   "id": "2b19bb88",
   "metadata": {},
   "outputs": [
    {
     "data": {
      "text/plain": [
       "(134166, 255017)"
      ]
     },
     "execution_count": 43,
     "metadata": {},
     "output_type": "execute_result"
    }
   ],
   "source": [
    "len(df_clean_gen), len(df_data_gen)"
   ]
  },
  {
   "cell_type": "code",
   "execution_count": 44,
   "id": "d3bfc330",
   "metadata": {},
   "outputs": [],
   "source": [
    "#Turn to csv file to upload on database\n",
    "df_clean_klm.to_csv('../database/CSV file/clean_klm_table.csv')\n",
    "df_clean_bri.to_csv('../database/CSV file/clean_british_airways_table.csv')\n",
    "df_clean_gen.to_csv('../database/CSV file/clean_general_table.csv')"
   ]
  }
 ],
 "metadata": {
  "kernelspec": {
   "display_name": "Python 3",
   "language": "python",
   "name": "python3"
  },
  "language_info": {
   "codemirror_mode": {
    "name": "ipython",
    "version": 3
   },
   "file_extension": ".py",
   "mimetype": "text/x-python",
   "name": "python",
   "nbconvert_exporter": "python",
   "pygments_lexer": "ipython3",
   "version": "3.8.8"
  }
 },
 "nbformat": 4,
 "nbformat_minor": 5
}
