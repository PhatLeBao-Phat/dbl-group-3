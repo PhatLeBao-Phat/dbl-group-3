{
 "cells": [
  {
   "cell_type": "code",
   "execution_count": 29,
   "id": "c08aa88b",
   "metadata": {},
   "outputs": [],
   "source": [
    "import json \n",
    "import pandas as pd \n",
    "import numpy as np \n",
    "import sqlite3 \n",
    "from datetime import datetime"
   ]
  },
  {
   "cell_type": "code",
   "execution_count": 3,
   "id": "19fc96b7",
   "metadata": {},
   "outputs": [],
   "source": [
    "#Establish connection to the database (database.db file)\n",
    "con = sqlite3.connect('..\\database\\sqlite-tools-win32-x86-3380300\\database.db')"
   ]
  },
  {
   "cell_type": "code",
   "execution_count": 17,
   "id": "dc9ea582",
   "metadata": {},
   "outputs": [],
   "source": [
    "#Write a query to pull down data, feel free to change this to build your own attributes @Phat\n",
    "query = '''\n",
    "    SELECT gen.id as general_tweet_id, klm.id as KLM_reply_tweet_id, \n",
    "    gen.timestamp_ms as gen_timestamp_ms, klm.timestamp_ms as klm_timestamp_ms,\n",
    "    gen.user as gen_user, klm.user as klm_user\n",
    "    \n",
    "    FROM general_tweets as gen, KLM_tweets as klm\n",
    "    \n",
    "    WHERE gen.id = klm.in_reply_to_status_id\n",
    "'''"
   ]
  },
  {
   "cell_type": "code",
   "execution_count": 19,
   "id": "3368c0e9",
   "metadata": {},
   "outputs": [
    {
     "data": {
      "text/html": [
       "<div>\n",
       "<style scoped>\n",
       "    .dataframe tbody tr th:only-of-type {\n",
       "        vertical-align: middle;\n",
       "    }\n",
       "\n",
       "    .dataframe tbody tr th {\n",
       "        vertical-align: top;\n",
       "    }\n",
       "\n",
       "    .dataframe thead th {\n",
       "        text-align: right;\n",
       "    }\n",
       "</style>\n",
       "<table border=\"1\" class=\"dataframe\">\n",
       "  <thead>\n",
       "    <tr style=\"text-align: right;\">\n",
       "      <th></th>\n",
       "      <th>general_tweet_id</th>\n",
       "      <th>KLM_reply_tweet_id</th>\n",
       "      <th>gen_timestamp_ms</th>\n",
       "      <th>klm_timestamp_ms</th>\n",
       "      <th>gen_user</th>\n",
       "      <th>klm_user</th>\n",
       "    </tr>\n",
       "  </thead>\n",
       "  <tbody>\n",
       "    <tr>\n",
       "      <th>0</th>\n",
       "      <td>1.1311736252588155e+18</td>\n",
       "      <td>1.1311830432412303e+18</td>\n",
       "      <td>2019-05-22 12:23:03.108</td>\n",
       "      <td>2019-05-22 13:00:28.530</td>\n",
       "      <td>{'id': 56377143, 'id_str': '56377143', 'name':...</td>\n",
       "      <td>{'id': 3110268790, 'id_str': '3110268790', 'na...</td>\n",
       "    </tr>\n",
       "    <tr>\n",
       "      <th>1</th>\n",
       "      <td>1.1311736252588155e+18</td>\n",
       "      <td>1.1311830432412303e+18</td>\n",
       "      <td>2019-05-22 12:23:03.108</td>\n",
       "      <td>2019-05-22 13:00:28.530</td>\n",
       "      <td>{'id': 56377143, 'id_str': '56377143', 'name':...</td>\n",
       "      <td>{'id': 3110268790, 'id_str': '3110268790', 'na...</td>\n",
       "    </tr>\n",
       "    <tr>\n",
       "      <th>2</th>\n",
       "      <td>1.1311736252588155e+18</td>\n",
       "      <td>1.1311830432412303e+18</td>\n",
       "      <td>2019-05-22 12:23:03.108</td>\n",
       "      <td>2019-05-22 13:00:28.530</td>\n",
       "      <td>{'id': 56377143, 'id_str': '56377143', 'name':...</td>\n",
       "      <td>{'id': 3110268790, 'id_str': '3110268790', 'na...</td>\n",
       "    </tr>\n",
       "    <tr>\n",
       "      <th>3</th>\n",
       "      <td>1.1311787112718418e+18</td>\n",
       "      <td>1.13117951016926e+18</td>\n",
       "      <td>2019-05-22 12:43:15.708</td>\n",
       "      <td>2019-05-22 12:46:26.180</td>\n",
       "      <td>{'id': 5404442, 'id_str': '5404442', 'name': '...</td>\n",
       "      <td>{'id': 94425945, 'id_str': '94425945', 'name':...</td>\n",
       "    </tr>\n",
       "    <tr>\n",
       "      <th>4</th>\n",
       "      <td>1.1311787112718418e+18</td>\n",
       "      <td>1.13117951016926e+18</td>\n",
       "      <td>2019-05-22 12:43:15.708</td>\n",
       "      <td>2019-05-22 12:46:26.180</td>\n",
       "      <td>{'id': 5404442, 'id_str': '5404442', 'name': '...</td>\n",
       "      <td>{'id': 94425945, 'id_str': '94425945', 'name':...</td>\n",
       "    </tr>\n",
       "  </tbody>\n",
       "</table>\n",
       "</div>"
      ],
      "text/plain": [
       "         general_tweet_id      KLM_reply_tweet_id         gen_timestamp_ms  \\\n",
       "0  1.1311736252588155e+18  1.1311830432412303e+18  2019-05-22 12:23:03.108   \n",
       "1  1.1311736252588155e+18  1.1311830432412303e+18  2019-05-22 12:23:03.108   \n",
       "2  1.1311736252588155e+18  1.1311830432412303e+18  2019-05-22 12:23:03.108   \n",
       "3  1.1311787112718418e+18    1.13117951016926e+18  2019-05-22 12:43:15.708   \n",
       "4  1.1311787112718418e+18    1.13117951016926e+18  2019-05-22 12:43:15.708   \n",
       "\n",
       "          klm_timestamp_ms                                           gen_user  \\\n",
       "0  2019-05-22 13:00:28.530  {'id': 56377143, 'id_str': '56377143', 'name':...   \n",
       "1  2019-05-22 13:00:28.530  {'id': 56377143, 'id_str': '56377143', 'name':...   \n",
       "2  2019-05-22 13:00:28.530  {'id': 56377143, 'id_str': '56377143', 'name':...   \n",
       "3  2019-05-22 12:46:26.180  {'id': 5404442, 'id_str': '5404442', 'name': '...   \n",
       "4  2019-05-22 12:46:26.180  {'id': 5404442, 'id_str': '5404442', 'name': '...   \n",
       "\n",
       "                                            klm_user  \n",
       "0  {'id': 3110268790, 'id_str': '3110268790', 'na...  \n",
       "1  {'id': 3110268790, 'id_str': '3110268790', 'na...  \n",
       "2  {'id': 3110268790, 'id_str': '3110268790', 'na...  \n",
       "3  {'id': 94425945, 'id_str': '94425945', 'name':...  \n",
       "4  {'id': 94425945, 'id_str': '94425945', 'name':...  "
      ]
     },
     "execution_count": 19,
     "metadata": {},
     "output_type": "execute_result"
    }
   ],
   "source": [
    "#Pull data from database into dataframe\n",
    "df_data = pd.read_sql_query(query, con)\n",
    "df_data.head()"
   ]
  },
  {
   "cell_type": "code",
   "execution_count": 63,
   "id": "68a27ac1",
   "metadata": {},
   "outputs": [],
   "source": [
    "#Turn back the string of Timestamp data back to Timestamp object. If u don't understand, go ask @Phat\n",
    "#Feel free to extract other attributes out of this Timestamp object, For example: timezone, day, year,...\n",
    "df_data['gen_timestamp_ms'] = pd.to_datetime(df_data['gen_timestamp_ms'])\n",
    "df_data['klm_timestamp_ms'] = pd.to_datetime(df_data['klm_timestamp_ms'])"
   ]
  },
  {
   "cell_type": "code",
   "execution_count": 64,
   "id": "66b8e136",
   "metadata": {},
   "outputs": [],
   "source": [
    "#Get the reply time/duration between 2 tweets - return Timedelta object\n",
    "df_data['reply_time'] = df_data['klm_timestamp_ms'] - df_data['gen_timestamp_ms']"
   ]
  },
  {
   "cell_type": "code",
   "execution_count": 68,
   "id": "80c31228",
   "metadata": {},
   "outputs": [],
   "source": [
    "#Extract the duration into seconds by attribute .seconds\n",
    "#Feel free to extract other attibute from this \n",
    "df_data['reply_time_in_seconds'] = pd.Series([df_data['reply_time'].iloc[i].seconds for i in range(len(df_data))])"
   ]
  },
  {
   "cell_type": "code",
   "execution_count": null,
   "id": "194b6cd9",
   "metadata": {},
   "outputs": [],
   "source": [
    "#@Marfa: u can probably build those attributes analyzing \"popular accounts\" from those user dictionary "
   ]
  },
  {
   "cell_type": "code",
   "execution_count": 67,
   "id": "5f93b34e",
   "metadata": {},
   "outputs": [],
   "source": [
    "df_data.to_csv('../database/CSV file/conversation.csv')"
   ]
  }
 ],
 "metadata": {
  "kernelspec": {
   "display_name": "Python 3",
   "language": "python",
   "name": "python3"
  },
  "language_info": {
   "codemirror_mode": {
    "name": "ipython",
    "version": 3
   },
   "file_extension": ".py",
   "mimetype": "text/x-python",
   "name": "python",
   "nbconvert_exporter": "python",
   "pygments_lexer": "ipython3",
   "version": "3.8.8"
  }
 },
 "nbformat": 4,
 "nbformat_minor": 5
}
