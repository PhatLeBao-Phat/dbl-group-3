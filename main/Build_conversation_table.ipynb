{
 "cells": [
  {
   "cell_type": "code",
   "execution_count": 109,
   "id": "c08aa88b",
   "metadata": {},
   "outputs": [],
   "source": [
    "import json \n",
    "import pandas as pd \n",
    "import numpy as np \n",
    "import sqlite3 \n",
    "from datetime import datetime\n",
    "import matplotlib as mpl\n",
    "import matplotlib.pyplot as plt\n",
    "import seaborn as sns "
   ]
  },
  {
   "cell_type": "code",
   "execution_count": 2,
   "id": "19fc96b7",
   "metadata": {},
   "outputs": [],
   "source": [
    "#Establish connection to the database (database.db file)\n",
    "con = sqlite3.connect('..\\database\\sqlite-tools-win32-x86-3380300\\database.db')"
   ]
  },
  {
   "cell_type": "code",
   "execution_count": 3,
   "id": "dc9ea582",
   "metadata": {},
   "outputs": [],
   "source": [
    "#Write a query to pull down data, feel free to change this to build your own attributes @Phat\n",
    "query = '''\n",
    "    SELECT gen.id as general_tweet_id, klm.id as KLM_reply_tweet_id, \n",
    "    gen.timestamp_ms as gen_timestamp_ms, klm.timestamp_ms as klm_timestamp_ms,\n",
    "    gen.user as gen_user, klm.user as klm_user,\n",
    "    users.followers_count\n",
    "    FROM general_tweets as gen, KLM_tweets as klm, users\n",
    "    \n",
    "    WHERE gen.id = klm.in_reply_to_status_id AND gen.user_id = users.id AND klm.user_id == '56377143' AND gen.user_id <> '56377143'\n",
    "'''"
   ]
  },
  {
   "cell_type": "code",
   "execution_count": 4,
   "id": "3368c0e9",
   "metadata": {},
   "outputs": [
    {
     "data": {
      "text/html": [
       "<div>\n",
       "<style scoped>\n",
       "    .dataframe tbody tr th:only-of-type {\n",
       "        vertical-align: middle;\n",
       "    }\n",
       "\n",
       "    .dataframe tbody tr th {\n",
       "        vertical-align: top;\n",
       "    }\n",
       "\n",
       "    .dataframe thead th {\n",
       "        text-align: right;\n",
       "    }\n",
       "</style>\n",
       "<table border=\"1\" class=\"dataframe\">\n",
       "  <thead>\n",
       "    <tr style=\"text-align: right;\">\n",
       "      <th></th>\n",
       "      <th>general_tweet_id</th>\n",
       "      <th>KLM_reply_tweet_id</th>\n",
       "      <th>gen_timestamp_ms</th>\n",
       "      <th>klm_timestamp_ms</th>\n",
       "      <th>gen_user</th>\n",
       "      <th>klm_user</th>\n",
       "      <th>followers_count</th>\n",
       "    </tr>\n",
       "  </thead>\n",
       "  <tbody>\n",
       "    <tr>\n",
       "      <th>0</th>\n",
       "      <td>1.1311830432412303e+18</td>\n",
       "      <td>1.1311852592892068e+18</td>\n",
       "      <td>2019-05-22 13:00:28.530</td>\n",
       "      <td>2019-05-22 13:09:16.877</td>\n",
       "      <td>{'id': 3110268790, 'id_str': '3110268790', 'na...</td>\n",
       "      <td>{'id': 56377143, 'id_str': '56377143', 'name':...</td>\n",
       "      <td>14</td>\n",
       "    </tr>\n",
       "    <tr>\n",
       "      <th>1</th>\n",
       "      <td>1.1311830432412303e+18</td>\n",
       "      <td>1.1311852592892068e+18</td>\n",
       "      <td>2019-05-22 13:00:28.530</td>\n",
       "      <td>2019-05-22 13:09:16.877</td>\n",
       "      <td>{'id': 3110268790, 'id_str': '3110268790', 'na...</td>\n",
       "      <td>{'id': 56377143, 'id_str': '56377143', 'name':...</td>\n",
       "      <td>14</td>\n",
       "    </tr>\n",
       "    <tr>\n",
       "      <th>2</th>\n",
       "      <td>1.1311824743804232e+18</td>\n",
       "      <td>1.1311879787710259e+18</td>\n",
       "      <td>2019-05-22 12:58:12.903</td>\n",
       "      <td>2019-05-22 13:20:05.252</td>\n",
       "      <td>{'id': 1604219274, 'id_str': '1604219274', 'na...</td>\n",
       "      <td>{'id': 56377143, 'id_str': '56377143', 'name':...</td>\n",
       "      <td>17</td>\n",
       "    </tr>\n",
       "    <tr>\n",
       "      <th>3</th>\n",
       "      <td>1.1311824743804232e+18</td>\n",
       "      <td>1.1311879787710259e+18</td>\n",
       "      <td>2019-05-22 12:58:12.903</td>\n",
       "      <td>2019-05-22 13:20:05.252</td>\n",
       "      <td>{'id': 1604219274, 'id_str': '1604219274', 'na...</td>\n",
       "      <td>{'id': 56377143, 'id_str': '56377143', 'name':...</td>\n",
       "      <td>17</td>\n",
       "    </tr>\n",
       "    <tr>\n",
       "      <th>4</th>\n",
       "      <td>1.1311830804741243e+18</td>\n",
       "      <td>1.1311880285281075e+18</td>\n",
       "      <td>2019-05-22 13:00:37.407</td>\n",
       "      <td>2019-05-22 13:20:17.115</td>\n",
       "      <td>{'id': 879493539012296704, 'id_str': '87949353...</td>\n",
       "      <td>{'id': 56377143, 'id_str': '56377143', 'name':...</td>\n",
       "      <td>3</td>\n",
       "    </tr>\n",
       "    <tr>\n",
       "      <th>...</th>\n",
       "      <td>...</td>\n",
       "      <td>...</td>\n",
       "      <td>...</td>\n",
       "      <td>...</td>\n",
       "      <td>...</td>\n",
       "      <td>...</td>\n",
       "      <td>...</td>\n",
       "    </tr>\n",
       "    <tr>\n",
       "      <th>1247</th>\n",
       "      <td>1.1350952359425393e+18</td>\n",
       "      <td>1.135096594200748e+18</td>\n",
       "      <td>2019-06-02 08:06:07.955</td>\n",
       "      <td>2019-06-02 08:11:31.789</td>\n",
       "      <td>{'id': 538129774, 'id_str': '538129774', 'name...</td>\n",
       "      <td>{'id': 56377143, 'id_str': '56377143', 'name':...</td>\n",
       "      <td>832</td>\n",
       "    </tr>\n",
       "    <tr>\n",
       "      <th>1248</th>\n",
       "      <td>1.1350945810479063e+18</td>\n",
       "      <td>1.1350968290230723e+18</td>\n",
       "      <td>2019-06-02 08:03:31.816</td>\n",
       "      <td>2019-06-02 08:12:27.775</td>\n",
       "      <td>{'id': 3337513277, 'id_str': '3337513277', 'na...</td>\n",
       "      <td>{'id': 56377143, 'id_str': '56377143', 'name':...</td>\n",
       "      <td>215</td>\n",
       "    </tr>\n",
       "    <tr>\n",
       "      <th>1249</th>\n",
       "      <td>1.135095485369389e+18</td>\n",
       "      <td>1.1350974558534124e+18</td>\n",
       "      <td>2019-06-02 08:07:07.423</td>\n",
       "      <td>2019-06-02 08:14:57.223</td>\n",
       "      <td>{'id': 1918871, 'id_str': '1918871', 'name': '...</td>\n",
       "      <td>{'id': 56377143, 'id_str': '56377143', 'name':...</td>\n",
       "      <td>1662</td>\n",
       "    </tr>\n",
       "    <tr>\n",
       "      <th>1250</th>\n",
       "      <td>1.1350975407460639e+18</td>\n",
       "      <td>1.1350996175515075e+18</td>\n",
       "      <td>2019-06-02 08:15:17.463</td>\n",
       "      <td>2019-06-02 08:23:32.612</td>\n",
       "      <td>{'id': 538129774, 'id_str': '538129774', 'name...</td>\n",
       "      <td>{'id': 56377143, 'id_str': '56377143', 'name':...</td>\n",
       "      <td>832</td>\n",
       "    </tr>\n",
       "    <tr>\n",
       "      <th>1251</th>\n",
       "      <td>1.1350981298319114e+18</td>\n",
       "      <td>1.1351007461339095e+18</td>\n",
       "      <td>2019-06-02 08:17:37.912</td>\n",
       "      <td>2019-06-02 08:28:01.687</td>\n",
       "      <td>{'id': 1918871, 'id_str': '1918871', 'name': '...</td>\n",
       "      <td>{'id': 56377143, 'id_str': '56377143', 'name':...</td>\n",
       "      <td>1662</td>\n",
       "    </tr>\n",
       "  </tbody>\n",
       "</table>\n",
       "<p>1252 rows × 7 columns</p>\n",
       "</div>"
      ],
      "text/plain": [
       "            general_tweet_id      KLM_reply_tweet_id         gen_timestamp_ms  \\\n",
       "0     1.1311830432412303e+18  1.1311852592892068e+18  2019-05-22 13:00:28.530   \n",
       "1     1.1311830432412303e+18  1.1311852592892068e+18  2019-05-22 13:00:28.530   \n",
       "2     1.1311824743804232e+18  1.1311879787710259e+18  2019-05-22 12:58:12.903   \n",
       "3     1.1311824743804232e+18  1.1311879787710259e+18  2019-05-22 12:58:12.903   \n",
       "4     1.1311830804741243e+18  1.1311880285281075e+18  2019-05-22 13:00:37.407   \n",
       "...                      ...                     ...                      ...   \n",
       "1247  1.1350952359425393e+18   1.135096594200748e+18  2019-06-02 08:06:07.955   \n",
       "1248  1.1350945810479063e+18  1.1350968290230723e+18  2019-06-02 08:03:31.816   \n",
       "1249   1.135095485369389e+18  1.1350974558534124e+18  2019-06-02 08:07:07.423   \n",
       "1250  1.1350975407460639e+18  1.1350996175515075e+18  2019-06-02 08:15:17.463   \n",
       "1251  1.1350981298319114e+18  1.1351007461339095e+18  2019-06-02 08:17:37.912   \n",
       "\n",
       "             klm_timestamp_ms  \\\n",
       "0     2019-05-22 13:09:16.877   \n",
       "1     2019-05-22 13:09:16.877   \n",
       "2     2019-05-22 13:20:05.252   \n",
       "3     2019-05-22 13:20:05.252   \n",
       "4     2019-05-22 13:20:17.115   \n",
       "...                       ...   \n",
       "1247  2019-06-02 08:11:31.789   \n",
       "1248  2019-06-02 08:12:27.775   \n",
       "1249  2019-06-02 08:14:57.223   \n",
       "1250  2019-06-02 08:23:32.612   \n",
       "1251  2019-06-02 08:28:01.687   \n",
       "\n",
       "                                               gen_user  \\\n",
       "0     {'id': 3110268790, 'id_str': '3110268790', 'na...   \n",
       "1     {'id': 3110268790, 'id_str': '3110268790', 'na...   \n",
       "2     {'id': 1604219274, 'id_str': '1604219274', 'na...   \n",
       "3     {'id': 1604219274, 'id_str': '1604219274', 'na...   \n",
       "4     {'id': 879493539012296704, 'id_str': '87949353...   \n",
       "...                                                 ...   \n",
       "1247  {'id': 538129774, 'id_str': '538129774', 'name...   \n",
       "1248  {'id': 3337513277, 'id_str': '3337513277', 'na...   \n",
       "1249  {'id': 1918871, 'id_str': '1918871', 'name': '...   \n",
       "1250  {'id': 538129774, 'id_str': '538129774', 'name...   \n",
       "1251  {'id': 1918871, 'id_str': '1918871', 'name': '...   \n",
       "\n",
       "                                               klm_user followers_count  \n",
       "0     {'id': 56377143, 'id_str': '56377143', 'name':...              14  \n",
       "1     {'id': 56377143, 'id_str': '56377143', 'name':...              14  \n",
       "2     {'id': 56377143, 'id_str': '56377143', 'name':...              17  \n",
       "3     {'id': 56377143, 'id_str': '56377143', 'name':...              17  \n",
       "4     {'id': 56377143, 'id_str': '56377143', 'name':...               3  \n",
       "...                                                 ...             ...  \n",
       "1247  {'id': 56377143, 'id_str': '56377143', 'name':...             832  \n",
       "1248  {'id': 56377143, 'id_str': '56377143', 'name':...             215  \n",
       "1249  {'id': 56377143, 'id_str': '56377143', 'name':...            1662  \n",
       "1250  {'id': 56377143, 'id_str': '56377143', 'name':...             832  \n",
       "1251  {'id': 56377143, 'id_str': '56377143', 'name':...            1662  \n",
       "\n",
       "[1252 rows x 7 columns]"
      ]
     },
     "execution_count": 4,
     "metadata": {},
     "output_type": "execute_result"
    }
   ],
   "source": [
    "#Pull data from database into dataframe\n",
    "df_data = pd.read_sql_query(query, con)\n",
    "df_data"
   ]
  },
  {
   "cell_type": "code",
   "execution_count": null,
   "id": "2a2267db",
   "metadata": {},
   "outputs": [],
   "source": [
    "#@Marfa: you can probably do the same this as I did there with followers_count to extract other attributes"
   ]
  },
  {
   "cell_type": "code",
   "execution_count": 277,
   "id": "68a27ac1",
   "metadata": {},
   "outputs": [],
   "source": [
    "#Turn back the string of Timestamp data back to Timestamp object. If u don't understand, go ask @Phat\n",
    "#Feel free to extract other attributes out of this Timestamp object, For example: timezone, day, year,...\n",
    "df_data['gen_timestamp_ms'] = pd.to_datetime(df_data['gen_timestamp_ms'])"
   ]
  },
  {
   "cell_type": "code",
   "execution_count": 6,
   "id": "66b8e136",
   "metadata": {},
   "outputs": [],
   "source": [
    "#Get the reply time/duration between 2 tweets - return Timedelta object\n",
    "df_data['reply_time'] = df_data['klm_timestamp_ms'] - df_data['gen_timestamp_ms']"
   ]
  },
  {
   "cell_type": "code",
   "execution_count": 261,
   "id": "80c31228",
   "metadata": {},
   "outputs": [],
   "source": [
    "#Extract the duration into seconds by attribute .seconds\n",
    "#Feel free to extract other attibute from this \n",
    "df_data['reply_time_in_seconds'] = pd.Series([df_data['reply_time'].iloc[i].seconds for i in range(len(df_data))])\n",
    "df_data['reply_time_in_minutes'] = pd.Series([df_data['reply_time'].iloc[i].min for i in range(len(df_data))])"
   ]
  },
  {
   "cell_type": "code",
   "execution_count": 14,
   "id": "a8cd5bb6",
   "metadata": {},
   "outputs": [],
   "source": [
    "#Drop duplicate datapoints\n",
    "df_data.drop_duplicates(inplace=True)"
   ]
  },
  {
   "cell_type": "code",
   "execution_count": 49,
   "id": "5f93b34e",
   "metadata": {},
   "outputs": [],
   "source": [
    "df_data.to_csv('../database/CSV file/conversation.csv')"
   ]
  },
  {
   "cell_type": "markdown",
   "id": "83a799a0",
   "metadata": {},
   "source": [
    "#### 2. Extract insight from the data"
   ]
  },
  {
   "cell_type": "markdown",
   "id": "e7ac627c",
   "metadata": {},
   "source": [
    "##### 2.1 Time-series analysis"
   ]
  },
  {
   "cell_type": "code",
   "execution_count": 25,
   "id": "2539674e",
   "metadata": {},
   "outputs": [],
   "source": [
    "query_KLM = '''\n",
    "    SELECT *\n",
    "    FROM KLM_tweets\n",
    "'''\n",
    "df_klm = pd.read_sql_query(query_KLM, con)"
   ]
  },
  {
   "cell_type": "code",
   "execution_count": 26,
   "id": "4e63dbbc",
   "metadata": {},
   "outputs": [],
   "source": [
    "df_klm.set_index('', inplace=True)"
   ]
  },
  {
   "cell_type": "code",
   "execution_count": 27,
   "id": "39074654",
   "metadata": {},
   "outputs": [],
   "source": [
    "df_klm['timestamp_ms'] = pd.to_datetime(df_klm['timestamp_ms'])"
   ]
  },
  {
   "cell_type": "code",
   "execution_count": 121,
   "id": "2e863e94",
   "metadata": {},
   "outputs": [],
   "source": [
    "df_klm_reply = df_klm[df_klm.user_id == '56377143']\n",
    "df_klm_mention = df_klm[df_klm.user_id != '56377143']"
   ]
  },
  {
   "cell_type": "code",
   "execution_count": 206,
   "id": "41d707eb",
   "metadata": {},
   "outputs": [],
   "source": [
    "def oc(df_klm : pd.DataFrame) -> pd.DataFrame:\n",
    "    df_klm.reset_index(drop=True, inplace=True)\n",
    "    days = [df_klm.timestamp_ms.iloc[i].day for i in range(len(df_klm))]\n",
    "    df_klm['days'] = pd.Series(days)\n",
    "    df_day = df_klm[['id', 'days']].groupby('days').count()\n",
    "    df_day['count'] = df_day['id']\n",
    "    df_day = df_day[['count']]\n",
    "    a = df_day.iloc[[0, 1]]\n",
    "    df_day = df_day.append(a)\n",
    "    df_day.reset_index(inplace=True)\n",
    "    df_day = df_day.drop(index=[0,1])\n",
    "    return df_day\n",
    "\n",
    "def oc2(df_klm : pd.DataFrame) -> pd.DataFrame:\n",
    "    df_klm.reset_index(drop=True, inplace=True)\n",
    "    hours = [df_klm.timestamp_ms.iloc[i].hour for i in range(len(df_klm))]\n",
    "    df_klm['hours'] = pd.Series(hours)\n",
    "    df_day = df_klm[['id', 'hours']].groupby('hours').mean()\n",
    "    df_day['count'] = df_day['id']\n",
    "    df_day = df_day[['count']]\n",
    "    df_day.reset_index(inplace=True)\n",
    "    return df_day\n",
    "\n",
    "def oc3(df_klm : pd.DataFrame) -> pd.DataFrame:\n",
    "    df_klm.reset_index(drop=True, inplace=True)\n",
    "    days = [df_klm.timestamp_ms.iloc[i].day for i in range(len(df_klm))]\n",
    "    df_klm['days'] = pd.Series(days)\n",
    "    df_klm.reset_index(drop=True, inplace=True)\n",
    "    hours = [df_klm.timestamp_ms.iloc[i].hour for i in range(len(df_klm))]\n",
    "    df_klm['hours'] = pd.Series(hours)\n",
    "    df_klm = df_klm[['id', 'days', 'hours']].groupby(['days', 'hours']).count()\n",
    "    df_klm = df_klm.groupby(['hours']).mean()\n",
    "    df_klm['count'] = df_klm['id']\n",
    "    df_klm.reset_index(inplace=True)\n",
    "    return df_klm"
   ]
  },
  {
   "cell_type": "code",
   "execution_count": 125,
   "id": "040b2233",
   "metadata": {},
   "outputs": [
    {
     "name": "stderr",
     "output_type": "stream",
     "text": [
      "<ipython-input-122-64a1cbc5d6a5>:4: SettingWithCopyWarning: \n",
      "A value is trying to be set on a copy of a slice from a DataFrame.\n",
      "Try using .loc[row_indexer,col_indexer] = value instead\n",
      "\n",
      "See the caveats in the documentation: https://pandas.pydata.org/pandas-docs/stable/user_guide/indexing.html#returning-a-view-versus-a-copy\n",
      "  df_klm['days'] = pd.Series(days)\n"
     ]
    }
   ],
   "source": [
    "df_rep = oc(df_klm_reply)\n",
    "df_men = oc(df_klm_mention)"
   ]
  },
  {
   "cell_type": "code",
   "execution_count": 174,
   "id": "906b84d9",
   "metadata": {},
   "outputs": [
    {
     "data": {
      "text/plain": [
       "Text(0, 0.5, 'Tweets count')"
      ]
     },
     "execution_count": 174,
     "metadata": {},
     "output_type": "execute_result"
    },
    {
     "data": {
      "image/png": "[encoded data removed]",
      "text/plain": [
       "<Figure size 720x432 with 1 Axes>"
      ]
     },
     "metadata": {
      "needs_background": "light"
     },
     "output_type": "display_data"
    }
   ],
   "source": [
    "fig, ax = plt.subplots(figsize=(10, 6))\n",
    "df_men.plot(kind='bar', x='days', y='count', ax=ax)\n",
    "df_rep.plot(kind='bar', x='days', y='count', color='orange', ax=ax)\n",
    "ax.legend(['tweets mention KLM', 'tweets KLM reply'])\n",
    "ax.set_title('Number of tweets mention KLM and get reply by KLM in 10 days', size=12, weight='bold')\n",
    "ax.set_xticklabels([22, 23, 24, 25, 26, 27, 28, 29, 30, 31, 1, 2], rotation='horizontal')\n",
    "ax.set_xlabel('Days', size=10)\n",
    "ax.set_ylabel('Tweets count', size=10)"
   ]
  },
  {
   "cell_type": "code",
   "execution_count": 222,
   "id": "c733da89",
   "metadata": {},
   "outputs": [
    {
     "name": "stderr",
     "output_type": "stream",
     "text": [
      "<ipython-input-206-5b7891133fd3>:27: SettingWithCopyWarning: \n",
      "A value is trying to be set on a copy of a slice from a DataFrame.\n",
      "Try using .loc[row_indexer,col_indexer] = value instead\n",
      "\n",
      "See the caveats in the documentation: https://pandas.pydata.org/pandas-docs/stable/user_guide/indexing.html#returning-a-view-versus-a-copy\n",
      "  df_klm['days'] = pd.Series(days)\n",
      "<ipython-input-206-5b7891133fd3>:30: SettingWithCopyWarning: \n",
      "A value is trying to be set on a copy of a slice from a DataFrame.\n",
      "Try using .loc[row_indexer,col_indexer] = value instead\n",
      "\n",
      "See the caveats in the documentation: https://pandas.pydata.org/pandas-docs/stable/user_guide/indexing.html#returning-a-view-versus-a-copy\n",
      "  df_klm['hours'] = pd.Series(hours)\n"
     ]
    }
   ],
   "source": [
    "df_hour_men = oc3(df_klm_mention)"
   ]
  },
  {
   "cell_type": "code",
   "execution_count": 220,
   "id": "6cd06a7a",
   "metadata": {},
   "outputs": [
    {
     "data": {
      "image/png": "[encoded data removed]",
      "text/plain": [
       "<Figure size 720x432 with 1 Axes>"
      ]
     },
     "metadata": {
      "needs_background": "light"
     },
     "output_type": "display_data"
    }
   ],
   "source": [
    "ax = df_hour_men.plot(kind='bar', x='hours', y='count', figsize=(10, 6))\n",
    "ax.set_xticklabels(df_hour_men['hours'], rotation='horizontal')\n",
    "ax.set_title('Average number of tweets mention KLM per hour in a day', size=12, weight='bold')\n",
    "ax.legend(['tweets count'])\n",
    "ax.set_xlabel('Hours', size=10)\n",
    "ax.set_ylabel('Number of tweets', size=10);"
   ]
  },
  {
   "cell_type": "markdown",
   "id": "f036ca9d",
   "metadata": {},
   "source": [
    "#### 2. tweets troublesome account analysis"
   ]
  },
  {
   "cell_type": "code",
   "execution_count": 278,
   "id": "74db42da",
   "metadata": {},
   "outputs": [],
   "source": [
    "df_data['followers_count'] = df_data.followers_count.astype(int)"
   ]
  },
  {
   "cell_type": "code",
   "execution_count": 279,
   "id": "6e4eda16",
   "metadata": {},
   "outputs": [],
   "source": [
    "df_data['reply_time_in_minutes'] = df_data['reply_time_in_seconds']/60"
   ]
  },
  {
   "cell_type": "code",
   "execution_count": 289,
   "id": "2c47c6bd",
   "metadata": {},
   "outputs": [
    {
     "data": {
      "text/plain": [
       "Text(0, 0.5, 'Reply time by KLM in minute')"
      ]
     },
     "execution_count": 289,
     "metadata": {},
     "output_type": "execute_result"
    },
    {
     "data": {
      "image/png": "[encoded data removed]",
      "text/plain": [
       "<Figure size 720x432 with 1 Axes>"
      ]
     },
     "metadata": {
      "needs_background": "light"
     },
     "output_type": "display_data"
    }
   ],
   "source": [
    "df_data = df_data.drop_duplicates()\n",
    "ax = df_data.plot(kind='scatter', x='followers_count', y='reply_time_in_minutes', figsize=(10, 6));\n",
    "ax.set_xlim(1000, 5000)\n",
    "ax.set_ylim(0, 100)\n",
    "ax.set_title('Scatterplot of reply time in minutes by KLM against \\n followers count of accounts posting tweets', size=12, weight='bold')\n",
    "ax.set_xlabel('Account followers count', size=10)\n",
    "ax.set_ylabel('Reply time by KLM in minute')"
   ]
  },
  {
   "cell_type": "markdown",
   "id": "7daa3cfc",
   "metadata": {},
   "source": [
    "#### 3. Statistics testing between KLM and British airways "
   ]
  },
  {
   "cell_type": "code",
   "execution_count": 309,
   "id": "9550ea6d",
   "metadata": {},
   "outputs": [],
   "source": [
    "query ='''\n",
    "    SELECT *\n",
    "    FROM british_airways_conversation\n",
    "'''\n",
    "df_bri_con = pd.read_sql_query(query, con).drop_duplicates()\n",
    "df_bri_con['reply_time_in_seconds'] = df_bri_con['reply_time_in_seconds'].astype(int)\n",
    "bri = df_bri_con['reply_time_in_seconds']\n",
    "len_bri = len(bri)"
   ]
  },
  {
   "cell_type": "code",
   "execution_count": 306,
   "id": "c95f0854",
   "metadata": {},
   "outputs": [
    {
     "data": {
      "text/plain": [
       "(3143, 900)"
      ]
     },
     "execution_count": 306,
     "metadata": {},
     "output_type": "execute_result"
    }
   ],
   "source": [
    "import statsmodels.api as sm\n",
    "len_klm = len(df_data)\n",
    "len_bri, len_klm"
   ]
  },
  {
   "cell_type": "code",
   "execution_count": 324,
   "id": "29457de1",
   "metadata": {},
   "outputs": [],
   "source": [
    "klm = df_data['reply_time_in_seconds']"
   ]
  },
  {
   "cell_type": "code",
   "execution_count": 334,
   "id": "ae1f1280",
   "metadata": {},
   "outputs": [
    {
     "data": {
      "text/plain": [
       "(3143, 3143)"
      ]
     },
     "execution_count": 334,
     "metadata": {},
     "output_type": "execute_result"
    }
   ],
   "source": [
    "len(bri.notna()), len(bri)"
   ]
  },
  {
   "cell_type": "code",
   "execution_count": 335,
   "id": "e15e46eb",
   "metadata": {},
   "outputs": [
    {
     "data": {
      "text/plain": [
       "(900, 900)"
      ]
     },
     "execution_count": 335,
     "metadata": {},
     "output_type": "execute_result"
    }
   ],
   "source": [
    "len(klm.notna()), len(klm)"
   ]
  },
  {
   "cell_type": "code",
   "execution_count": 338,
   "id": "cc231621",
   "metadata": {},
   "outputs": [],
   "source": [
    "klm = klm.dropna()"
   ]
  },
  {
   "cell_type": "code",
   "execution_count": 345,
   "id": "da62acb1",
   "metadata": {},
   "outputs": [
    {
     "data": {
      "text/plain": [
       "(13.93559756074443, 2.316847487495448e-43, 3700.0)"
      ]
     },
     "execution_count": 345,
     "metadata": {},
     "output_type": "execute_result"
    }
   ],
   "source": [
    "d_bri = sm.stats.DescrStatsW(bri)\n",
    "d_klm = sm.stats.DescrStatsW(klm)\n",
    "cm = sm.stats.CompareMeans(d_bri, d_klm)\n",
    "cm.ttest_ind(alternative='larger')\n",
    "#Alternative hypothesis is bri > klm"
   ]
  },
  {
   "cell_type": "code",
   "execution_count": 349,
   "id": "577cfa64",
   "metadata": {},
   "outputs": [
    {
     "data": {
      "text/plain": [
       "(96.21668638677455, 127.72283624076798)"
      ]
     },
     "execution_count": 349,
     "metadata": {},
     "output_type": "execute_result"
    }
   ],
   "source": [
    "a = cm.tconfint_diff(alpha=0.05, alternative='two-sided')\n",
    "a[0]/60, a[1]/60"
   ]
  }
 ],
 "metadata": {
  "kernelspec": {
   "display_name": "Python 3",
   "language": "python",
   "name": "python3"
  },
  "language_info": {
   "codemirror_mode": {
    "name": "ipython",
    "version": 3
   },
   "file_extension": ".py",
   "mimetype": "text/x-python",
   "name": "python",
   "nbconvert_exporter": "python",
   "pygments_lexer": "ipython3",
   "version": "3.8.8"
  }
 },
 "nbformat": 4,
 "nbformat_minor": 5
}
