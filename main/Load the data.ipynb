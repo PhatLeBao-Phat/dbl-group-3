{
 "cells": [
  {
   "cell_type": "markdown",
   "id": "3047e492",
   "metadata": {},
   "source": [
    "#### 1. Import library"
   ]
  },
  {
   "cell_type": "code",
   "execution_count": 1,
   "id": "da94b262",
   "metadata": {},
   "outputs": [],
   "source": [
    "import os\n",
    "import pandas as pd \n",
    "import numpy as np \n",
    "from typing import Dict, List, Tuple \n",
    "import sqlite3\n",
    "import json\n",
    "import glob"
   ]
  },
  {
   "cell_type": "markdown",
   "id": "9f1b1ec5",
   "metadata": {},
   "source": [
    "#### 2. Load the data onto DataFrame"
   ]
  },
  {
   "cell_type": "code",
   "execution_count": 2,
   "id": "ee220ba8",
   "metadata": {},
   "outputs": [],
   "source": [
    "df_data = pd.DataFrame()\n",
    "file_list = ['../data/' + i for i in os.listdir('../data/')]\n",
    "dfs = [] # an empty list to store the data frames\n",
    "file_list;"
   ]
  },
  {
   "cell_type": "code",
   "execution_count": 3,
   "id": "254cb570",
   "metadata": {},
   "outputs": [
    {
     "name": "stdout",
     "output_type": "stream",
     "text": [
      "../data/airlines-1558527599826.json\n",
      "../data/airlines-1558546003827.json\n",
      "../data/airlines-1558678330070.json\n",
      "../data/airlines-1558697205154.json\n",
      "../data/airlines-1558744391657.json\n",
      "../data/airlines-1558779687636.json\n",
      "../data/airlines-1558863520888.json\n",
      "../data/airlines-1558888297881.json\n",
      "../data/airlines-1558974571041.json\n",
      "../data/airlines-1558998029487.json\n",
      "../data/airlines-1559069822287.json\n",
      "../data/airlines-1559097885748.json\n",
      "../data/airlines-1559142170524.json\n",
      "../data/airlines-1559156713030.json\n",
      "../data/airlines-1559231904332.json\n",
      "../data/airlines-1559256655329.json\n",
      "../data/airlines-1559323725358.json\n",
      "../data/airlines-1559352498975.json\n"
     ]
    }
   ],
   "source": [
    "# load the json file of one month onto dataframe \n",
    "# df_data = pd.read_json('../data/airlines-1558527599826.json', lines=True)\n",
    "for file in file_list:\n",
    "    try:\n",
    "        data = pd.read_json(file, lines=True) # read data frame from json file \n",
    "        print(file)\n",
    "        dfs.append(data) # append the data frame to the list\n",
    "    except:\n",
    "        pass\n",
    "df_data = pd.concat(dfs, ignore_index=True) # concatenate all the data frames in the list."
   ]
  },
  {
   "cell_type": "code",
   "execution_count": 48,
   "id": "3eea1e2c",
   "metadata": {},
   "outputs": [],
   "source": [
    "df_datas = df_data.dropna(subset = [\"user\"]).reset_index(drop=True)"
   ]
  },
  {
   "cell_type": "code",
   "execution_count": 49,
   "id": "37ccf459",
   "metadata": {},
   "outputs": [],
   "source": [
    "#Add the user_id attribute\n",
    "df_user = [df_datas.user.iloc[i].get('id') for i in range(len(df_datas))]\n",
    "df_datas['user_id'] = pd.Series(df_user)"
   ]
  },
  {
   "cell_type": "code",
   "execution_count": 51,
   "id": "753787a2",
   "metadata": {},
   "outputs": [],
   "source": [
    "df_datas.to_csv('../database/CSV file/general_tweets.csv')"
   ]
  },
  {
   "cell_type": "markdown",
   "id": "468b440a",
   "metadata": {},
   "source": [
    "#### 3. Store the data on .db file "
   ]
  },
  {
   "cell_type": "code",
   "execution_count": 7,
   "id": "9f9193d7",
   "metadata": {},
   "outputs": [],
   "source": [
    "# create connection and cursor \n",
    "con = sqlite3.connect('../database/sqlite-tools-win32-x86-3380300/database.db')\n",
    "cur = con.cursor()"
   ]
  },
  {
   "cell_type": "markdown",
   "id": "5a7fab63",
   "metadata": {},
   "source": [
    "#### 4. KLM table "
   ]
  },
  {
   "cell_type": "code",
   "execution_count": 40,
   "id": "c8a4ba77",
   "metadata": {},
   "outputs": [],
   "source": [
    "#Extract only tweets made by KLM (including posting +replying to other):\n",
    "test = df_datas.copy()\n",
    "\n",
    "ind = []\n",
    "for index, row in df_datas.iterrows():\n",
    "    if row['user']['id_str'] == '56377143':\n",
    "        ind.append(index)\n",
    "klm_tweet = df_datas.loc[ind]"
   ]
  },
  {
   "cell_type": "code",
   "execution_count": 41,
   "id": "26f122c0",
   "metadata": {},
   "outputs": [],
   "source": [
    "#Extract only tweets mention KLM (@KLM etc...):\n",
    "test2 = df_datas.copy()\n",
    "ind2 = []\n",
    "for index, row in df_datas.iterrows():\n",
    "    if \"@KLM\" in row['text']:\n",
    "        ind2.append(index)\n",
    "klm_tweet_men = df_datas.loc[ind2]"
   ]
  },
  {
   "cell_type": "code",
   "execution_count": 43,
   "id": "142d52b0",
   "metadata": {},
   "outputs": [],
   "source": [
    "#Concat 2 tables:\n",
    "klm_table = pd.concat([klm_tweet, klm_tweet_men])\n",
    "klm_table.drop_duplicates(subset=['id'], inplace=True)\n",
    "klm_table.reset_index(inplace=True, drop=True)"
   ]
  },
  {
   "cell_type": "code",
   "execution_count": 44,
   "id": "713930e1",
   "metadata": {},
   "outputs": [],
   "source": [
    "#Add the user_id attribute\n",
    "klm_user = [klm_table.user.iloc[i].get('id') for i in range(len(klm_table))]\n",
    "klm_table['user_id'] = pd.Series(klm_user)"
   ]
  },
  {
   "cell_type": "code",
   "execution_count": 45,
   "id": "107047c2",
   "metadata": {},
   "outputs": [],
   "source": [
    "#Export the table as CSV file to import to the database\n",
    "klm_table.to_csv('../database/CSV file/klm_table_diff.csv')"
   ]
  },
  {
   "cell_type": "markdown",
   "id": "392618ef",
   "metadata": {},
   "source": [
    "#### 5. Bristish Airways table"
   ]
  },
  {
   "cell_type": "code",
   "execution_count": 25,
   "id": "ba468c64",
   "metadata": {},
   "outputs": [],
   "source": [
    "#Extract only tweets made by BA (including posting +replying to other):\n",
    "test = df_datas.copy()\n",
    "\n",
    "ind = []\n",
    "for index, row in df_datas.iterrows():\n",
    "    if row['user']['id_str'] == '18332190':\n",
    "        ind.append(index)\n",
    "british_tweet = df_datas.loc[ind]"
   ]
  },
  {
   "cell_type": "code",
   "execution_count": 26,
   "id": "38851e45",
   "metadata": {},
   "outputs": [],
   "source": [
    "#Extract only tweets mention BA (@British_Airways etc...):\n",
    "test2 = df_datas.copy()\n",
    "ind2 = []\n",
    "for index, row in df_datas.iterrows():\n",
    "    if \"@British_Airways\" in row['text']:\n",
    "        ind2.append(index)\n",
    "british_tweet_men = df_datas.loc[ind2]"
   ]
  },
  {
   "cell_type": "code",
   "execution_count": 28,
   "id": "6004b43a",
   "metadata": {},
   "outputs": [],
   "source": [
    "#Concat 2 tables:\n",
    "british_table = pd.concat([british_tweet, british_tweet_men])\n",
    "british_table.drop_duplicates(subset=['id'], inplace=True)\n",
    "british_table.reset_index(drop=True, inplace=True)"
   ]
  },
  {
   "cell_type": "code",
   "execution_count": 29,
   "id": "dc3b67a9",
   "metadata": {},
   "outputs": [],
   "source": [
    "#Add the user_id attribute\n",
    "british_user = [british_table.user.iloc[i].get('id') for i in range(len(british_table))]\n",
    "british_table['user_id'] = pd.Series(british_user)"
   ]
  },
  {
   "cell_type": "code",
   "execution_count": 46,
   "id": "bfa07445",
   "metadata": {},
   "outputs": [],
   "source": [
    "#Export the table as CSV file to import to the database\n",
    "british_table.to_csv('../database/CSV file/british_table.csv')"
   ]
  },
  {
   "cell_type": "markdown",
   "id": "64d9831c",
   "metadata": {},
   "source": [
    "#### 6. Users table "
   ]
  },
  {
   "cell_type": "code",
   "execution_count": 18,
   "id": "d1b10dde",
   "metadata": {},
   "outputs": [
    {
     "data": {
      "text/plain": [
       "0         {'id': 393374091, 'id_str': '393374091', 'name...\n",
       "1         {'id': 3420691215, 'id_str': '3420691215', 'na...\n",
       "2         {'id': 394376606, 'id_str': '394376606', 'name...\n",
       "3         {'id': 36488556, 'id_str': '36488556', 'name':...\n",
       "4         {'id': 14193348, 'id_str': '14193348', 'name':...\n",
       "                                ...                        \n",
       "255012    {'id': 371347123, 'id_str': '371347123', 'name...\n",
       "255013    {'id': 50015771, 'id_str': '50015771', 'name':...\n",
       "255014    {'id': 253340062, 'id_str': '253340062', 'name...\n",
       "255015    {'id': 22536055, 'id_str': '22536055', 'name':...\n",
       "255016    {'id': 1101932956879335425, 'id_str': '1101932...\n",
       "Name: user, Length: 255017, dtype: object"
      ]
     },
     "execution_count": 18,
     "metadata": {},
     "output_type": "execute_result"
    }
   ],
   "source": [
    "df_datas.user"
   ]
  },
  {
   "cell_type": "code",
   "execution_count": 27,
   "id": "3d8fd5b4",
   "metadata": {},
   "outputs": [
    {
     "ename": "KeyboardInterrupt",
     "evalue": "",
     "output_type": "error",
     "traceback": [
      "\u001b[1;31m---------------------------------------------------------------------------\u001b[0m",
      "\u001b[1;31mKeyboardInterrupt\u001b[0m                         Traceback (most recent call last)",
      "\u001b[1;32m<ipython-input-27-35af65844d06>\u001b[0m in \u001b[0;36m<module>\u001b[1;34m\u001b[0m\n\u001b[1;32m----> 1\u001b[1;33m \u001b[0mdf_data_user\u001b[0m \u001b[1;33m=\u001b[0m \u001b[1;33m[\u001b[0m\u001b[0mdf_datas\u001b[0m\u001b[1;33m.\u001b[0m\u001b[0muser\u001b[0m\u001b[1;33m.\u001b[0m\u001b[0miloc\u001b[0m\u001b[1;33m[\u001b[0m\u001b[0mi\u001b[0m\u001b[1;33m]\u001b[0m \u001b[1;32mfor\u001b[0m \u001b[0mi\u001b[0m \u001b[1;32min\u001b[0m \u001b[0mrange\u001b[0m\u001b[1;33m(\u001b[0m\u001b[0mlen\u001b[0m\u001b[1;33m(\u001b[0m\u001b[0mdf_datas\u001b[0m\u001b[1;33m)\u001b[0m\u001b[1;33m)\u001b[0m\u001b[1;33m]\u001b[0m\u001b[1;33m\u001b[0m\u001b[1;33m\u001b[0m\u001b[0m\n\u001b[0m",
      "\u001b[1;32m<ipython-input-27-35af65844d06>\u001b[0m in \u001b[0;36m<listcomp>\u001b[1;34m(.0)\u001b[0m\n\u001b[1;32m----> 1\u001b[1;33m \u001b[0mdf_data_user\u001b[0m \u001b[1;33m=\u001b[0m \u001b[1;33m[\u001b[0m\u001b[0mdf_datas\u001b[0m\u001b[1;33m.\u001b[0m\u001b[0muser\u001b[0m\u001b[1;33m.\u001b[0m\u001b[0miloc\u001b[0m\u001b[1;33m[\u001b[0m\u001b[0mi\u001b[0m\u001b[1;33m]\u001b[0m \u001b[1;32mfor\u001b[0m \u001b[0mi\u001b[0m \u001b[1;32min\u001b[0m \u001b[0mrange\u001b[0m\u001b[1;33m(\u001b[0m\u001b[0mlen\u001b[0m\u001b[1;33m(\u001b[0m\u001b[0mdf_datas\u001b[0m\u001b[1;33m)\u001b[0m\u001b[1;33m)\u001b[0m\u001b[1;33m]\u001b[0m\u001b[1;33m\u001b[0m\u001b[1;33m\u001b[0m\u001b[0m\n\u001b[0m",
      "\u001b[1;32m~\\anaconda3\\lib\\site-packages\\pandas\\core\\indexing.py\u001b[0m in \u001b[0;36m__getitem__\u001b[1;34m(self, key)\u001b[0m\n\u001b[0;32m    893\u001b[0m \u001b[1;33m\u001b[0m\u001b[0m\n\u001b[0;32m    894\u001b[0m             \u001b[0mmaybe_callable\u001b[0m \u001b[1;33m=\u001b[0m \u001b[0mcom\u001b[0m\u001b[1;33m.\u001b[0m\u001b[0mapply_if_callable\u001b[0m\u001b[1;33m(\u001b[0m\u001b[0mkey\u001b[0m\u001b[1;33m,\u001b[0m \u001b[0mself\u001b[0m\u001b[1;33m.\u001b[0m\u001b[0mobj\u001b[0m\u001b[1;33m)\u001b[0m\u001b[1;33m\u001b[0m\u001b[1;33m\u001b[0m\u001b[0m\n\u001b[1;32m--> 895\u001b[1;33m             \u001b[1;32mreturn\u001b[0m \u001b[0mself\u001b[0m\u001b[1;33m.\u001b[0m\u001b[0m_getitem_axis\u001b[0m\u001b[1;33m(\u001b[0m\u001b[0mmaybe_callable\u001b[0m\u001b[1;33m,\u001b[0m \u001b[0maxis\u001b[0m\u001b[1;33m=\u001b[0m\u001b[0maxis\u001b[0m\u001b[1;33m)\u001b[0m\u001b[1;33m\u001b[0m\u001b[1;33m\u001b[0m\u001b[0m\n\u001b[0m\u001b[0;32m    896\u001b[0m \u001b[1;33m\u001b[0m\u001b[0m\n\u001b[0;32m    897\u001b[0m     \u001b[1;32mdef\u001b[0m \u001b[0m_is_scalar_access\u001b[0m\u001b[1;33m(\u001b[0m\u001b[0mself\u001b[0m\u001b[1;33m,\u001b[0m \u001b[0mkey\u001b[0m\u001b[1;33m:\u001b[0m \u001b[0mTuple\u001b[0m\u001b[1;33m)\u001b[0m\u001b[1;33m:\u001b[0m\u001b[1;33m\u001b[0m\u001b[1;33m\u001b[0m\u001b[0m\n",
      "\u001b[1;32m~\\anaconda3\\lib\\site-packages\\pandas\\core\\indexing.py\u001b[0m in \u001b[0;36m_getitem_axis\u001b[1;34m(self, key, axis)\u001b[0m\n\u001b[0;32m   1489\u001b[0m \u001b[1;33m\u001b[0m\u001b[0m\n\u001b[0;32m   1490\u001b[0m         \u001b[1;31m# a list of integers\u001b[0m\u001b[1;33m\u001b[0m\u001b[1;33m\u001b[0m\u001b[1;33m\u001b[0m\u001b[0m\n\u001b[1;32m-> 1491\u001b[1;33m         \u001b[1;32melif\u001b[0m \u001b[0mis_list_like_indexer\u001b[0m\u001b[1;33m(\u001b[0m\u001b[0mkey\u001b[0m\u001b[1;33m)\u001b[0m\u001b[1;33m:\u001b[0m\u001b[1;33m\u001b[0m\u001b[1;33m\u001b[0m\u001b[0m\n\u001b[0m\u001b[0;32m   1492\u001b[0m             \u001b[1;32mreturn\u001b[0m \u001b[0mself\u001b[0m\u001b[1;33m.\u001b[0m\u001b[0m_get_list_axis\u001b[0m\u001b[1;33m(\u001b[0m\u001b[0mkey\u001b[0m\u001b[1;33m,\u001b[0m \u001b[0maxis\u001b[0m\u001b[1;33m=\u001b[0m\u001b[0maxis\u001b[0m\u001b[1;33m)\u001b[0m\u001b[1;33m\u001b[0m\u001b[1;33m\u001b[0m\u001b[0m\n\u001b[0;32m   1493\u001b[0m \u001b[1;33m\u001b[0m\u001b[0m\n",
      "\u001b[1;32m~\\anaconda3\\lib\\site-packages\\pandas\\core\\indexers.py\u001b[0m in \u001b[0;36mis_list_like_indexer\u001b[1;34m(key)\u001b[0m\n\u001b[0;32m     50\u001b[0m \u001b[1;33m\u001b[0m\u001b[0m\n\u001b[0;32m     51\u001b[0m \u001b[1;33m\u001b[0m\u001b[0m\n\u001b[1;32m---> 52\u001b[1;33m \u001b[1;32mdef\u001b[0m \u001b[0mis_list_like_indexer\u001b[0m\u001b[1;33m(\u001b[0m\u001b[0mkey\u001b[0m\u001b[1;33m)\u001b[0m \u001b[1;33m->\u001b[0m \u001b[0mbool\u001b[0m\u001b[1;33m:\u001b[0m\u001b[1;33m\u001b[0m\u001b[1;33m\u001b[0m\u001b[0m\n\u001b[0m\u001b[0;32m     53\u001b[0m     \"\"\"\n\u001b[0;32m     54\u001b[0m     \u001b[0mCheck\u001b[0m \u001b[1;32mif\u001b[0m \u001b[0mwe\u001b[0m \u001b[0mhave\u001b[0m \u001b[0ma\u001b[0m \u001b[0mlist\u001b[0m\u001b[1;33m-\u001b[0m\u001b[0mlike\u001b[0m \u001b[0mindexer\u001b[0m \u001b[0mthat\u001b[0m \u001b[1;32mis\u001b[0m \u001b[1;33m*\u001b[0m\u001b[1;32mnot\u001b[0m\u001b[1;33m*\u001b[0m \u001b[0ma\u001b[0m \u001b[0mNamedTuple\u001b[0m\u001b[1;33m.\u001b[0m\u001b[1;33m\u001b[0m\u001b[1;33m\u001b[0m\u001b[0m\n",
      "\u001b[1;31mKeyboardInterrupt\u001b[0m: "
     ]
    }
   ],
   "source": [
    "#Get a list of dictionary of user information and turn them to dataframe\n",
    "df_data_user = [df_datas.user.iloc[i] for i in range(len(df_datas))]"
   ]
  },
  {
   "cell_type": "code",
   "execution_count": 32,
   "id": "fc64193b",
   "metadata": {},
   "outputs": [],
   "source": [
    "#Turn them to DataFrame and drop the duplicate\n",
    "user_table = pd.DataFrame(df_data_user).drop_duplicates(subset='id')"
   ]
  },
  {
   "cell_type": "code",
   "execution_count": 33,
   "id": "407591a8",
   "metadata": {},
   "outputs": [],
   "source": [
    "user_table.to_csv('../database/CSV file/user_table.csv')"
   ]
  }
 ],
 "metadata": {
  "kernelspec": {
   "display_name": "Python 3",
   "language": "python",
   "name": "python3"
  },
  "language_info": {
   "codemirror_mode": {
    "name": "ipython",
    "version": 3
   },
   "file_extension": ".py",
   "mimetype": "text/x-python",
   "name": "python",
   "nbconvert_exporter": "python",
   "pygments_lexer": "ipython3",
   "version": "3.8.8"
  }
 },
 "nbformat": 4,
 "nbformat_minor": 5
}
