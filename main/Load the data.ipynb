{
 "cells": [
  {
   "cell_type": "markdown",
   "id": "3047e492",
   "metadata": {},
   "source": [
    "#### 1. Import library"
   ]
  },
  {
   "cell_type": "code",
   "execution_count": 2,
   "id": "da94b262",
   "metadata": {},
   "outputs": [],
   "source": [
    "import os\n",
    "import pandas as pd \n",
    "import numpy as np \n",
    "from typing import Dict, List, Tuple \n",
    "import sqlite3\n",
    "import json\n",
    "import glob"
   ]
  },
  {
   "cell_type": "markdown",
   "id": "9f1b1ec5",
   "metadata": {},
   "source": [
    "#### 2. Load the data onto DataFrame"
   ]
  },
  {
   "cell_type": "code",
   "execution_count": 6,
   "id": "ee220ba8",
   "metadata": {},
   "outputs": [],
   "source": [
    "df_data = pd.DataFrame()\n",
    "file_list = ['../data/' + i for i in os.listdir('../data/')]\n",
    "dfs = [] # an empty list to store the data frames\n",
    "file_list;"
   ]
  },
  {
   "cell_type": "code",
   "execution_count": 7,
   "id": "254cb570",
   "metadata": {},
   "outputs": [
    {
     "name": "stdout",
     "output_type": "stream",
     "text": [
      "../data/airlines-1558527599826.json\n",
      "../data/airlines-1558546003827.json\n",
      "../data/airlines-1558678330070.json\n",
      "../data/airlines-1558697205154.json\n",
      "../data/airlines-1558744391657.json\n",
      "../data/airlines-1558779687636.json\n",
      "../data/airlines-1558863520888.json\n",
      "../data/airlines-1558888297881.json\n",
      "../data/airlines-1558974571041.json\n",
      "../data/airlines-1558998029487.json\n",
      "../data/airlines-1559069822287.json\n",
      "../data/airlines-1559097885748.json\n",
      "../data/airlines-1559142170524.json\n",
      "../data/airlines-1559156713030.json\n",
      "../data/airlines-1559231904332.json\n",
      "../data/airlines-1559256655329.json\n",
      "../data/airlines-1559323725358.json\n",
      "../data/airlines-1559352498975.json\n"
     ]
    }
   ],
   "source": [
    "# load the json file of one month onto dataframe \n",
    "# df_data = pd.read_json('../data/airlines-1558527599826.json', lines=True)\n",
    "for file in file_list:\n",
    "    try:\n",
    "        data = pd.read_json(file, lines=True) # read data frame from json file \n",
    "        print(file)\n",
    "        dfs.append(data) # append the data frame to the list\n",
    "    except:\n",
    "        pass\n",
    "df_data = pd.concat(dfs, ignore_index=True) # concatenate all the data frames in the list."
   ]
  },
  {
   "cell_type": "code",
   "execution_count": 75,
   "id": "3eea1e2c",
   "metadata": {},
   "outputs": [],
   "source": [
    "df_datas = df_data.dropna(subset = [\"user\"]).reset_index()"
   ]
  },
  {
   "cell_type": "code",
   "execution_count": 79,
   "id": "37ccf459",
   "metadata": {},
   "outputs": [],
   "source": [
    "#Add the user_id attribute\n",
    "df_user = [df_datas.user.iloc[i].get('id') for i in range(len(df_datas))]\n",
    "df_datas['user_id'] = pd.Series(df_user)"
   ]
  },
  {
   "cell_type": "code",
   "execution_count": 80,
   "id": "753787a2",
   "metadata": {},
   "outputs": [],
   "source": [
    "df_datas.to_csv('../database/CSV file/general_tweets.csv')"
   ]
  },
  {
   "cell_type": "markdown",
   "id": "468b440a",
   "metadata": {},
   "source": [
    "#### 3. Store the data on .db file "
   ]
  },
  {
   "cell_type": "code",
   "execution_count": 9,
   "id": "9f9193d7",
   "metadata": {},
   "outputs": [],
   "source": [
    "# create connection and cursor \n",
    "con = sqlite3.connect('../database/sqlite-tools-win32-x86-3380300/database.db')\n",
    "cur = con.cursor()"
   ]
  },
  {
   "cell_type": "markdown",
   "id": "5a7fab63",
   "metadata": {},
   "source": [
    "#### 4. KLM table "
   ]
  },
  {
   "cell_type": "code",
   "execution_count": 10,
   "id": "c8a4ba77",
   "metadata": {},
   "outputs": [],
   "source": [
    "#Extract only tweets made by KLM (including posting +replying to other):\n",
    "test = df_datas.copy()\n",
    "\n",
    "ind = []\n",
    "for index, row in df_datas.iterrows():\n",
    "    if row['user']['id_str'] == '56377143':\n",
    "        ind.append(index)\n",
    "klm_tweet = df_datas.loc[ind]"
   ]
  },
  {
   "cell_type": "code",
   "execution_count": 11,
   "id": "26f122c0",
   "metadata": {},
   "outputs": [],
   "source": [
    "#Extract only tweets mention KLM (@KLM etc...):\n",
    "test2 = df_datas.copy()\n",
    "ind2 = []\n",
    "for index, row in df_datas.iterrows():\n",
    "    if \"@KLM\" in row['text']:\n",
    "        ind2.append(index)\n",
    "klm_tweet_men = df_datas.loc[ind2]"
   ]
  },
  {
   "cell_type": "code",
   "execution_count": 13,
   "id": "f0fbe144",
   "metadata": {},
   "outputs": [
    {
     "data": {
      "text/html": [
       "<div>\n",
       "<style scoped>\n",
       "    .dataframe tbody tr th:only-of-type {\n",
       "        vertical-align: middle;\n",
       "    }\n",
       "\n",
       "    .dataframe tbody tr th {\n",
       "        vertical-align: top;\n",
       "    }\n",
       "\n",
       "    .dataframe thead th {\n",
       "        text-align: right;\n",
       "    }\n",
       "</style>\n",
       "<table border=\"1\" class=\"dataframe\">\n",
       "  <thead>\n",
       "    <tr style=\"text-align: right;\">\n",
       "      <th></th>\n",
       "      <th>index</th>\n",
       "      <th>created_at</th>\n",
       "      <th>id</th>\n",
       "      <th>id_str</th>\n",
       "      <th>text</th>\n",
       "      <th>display_text_range</th>\n",
       "      <th>source</th>\n",
       "      <th>truncated</th>\n",
       "      <th>in_reply_to_status_id</th>\n",
       "      <th>in_reply_to_status_id_str</th>\n",
       "      <th>...</th>\n",
       "      <th>filter_level</th>\n",
       "      <th>lang</th>\n",
       "      <th>timestamp_ms</th>\n",
       "      <th>retweeted_status</th>\n",
       "      <th>extended_tweet</th>\n",
       "      <th>quoted_status_id</th>\n",
       "      <th>quoted_status_id_str</th>\n",
       "      <th>quoted_status</th>\n",
       "      <th>quoted_status_permalink</th>\n",
       "      <th>delete</th>\n",
       "    </tr>\n",
       "  </thead>\n",
       "  <tbody>\n",
       "    <tr>\n",
       "      <th>54</th>\n",
       "      <td>54</td>\n",
       "      <td>2019-05-22 12:24:26+00:00</td>\n",
       "      <td>1.131174e+18</td>\n",
       "      <td>1.131174e+18</td>\n",
       "      <td>RT @McWhirterAlex: .@KLM will fly Amsterdam-Ba...</td>\n",
       "      <td>NaN</td>\n",
       "      <td>&lt;a href=\"http://twitter.com/download/iphone\" r...</td>\n",
       "      <td>0.0</td>\n",
       "      <td>NaN</td>\n",
       "      <td>NaN</td>\n",
       "      <td>...</td>\n",
       "      <td>low</td>\n",
       "      <td>en</td>\n",
       "      <td>2019-05-22 12:24:26.336</td>\n",
       "      <td>{'created_at': 'Wed May 22 11:49:14 +0000 2019...</td>\n",
       "      <td>NaN</td>\n",
       "      <td>NaN</td>\n",
       "      <td>NaN</td>\n",
       "      <td>NaN</td>\n",
       "      <td>NaN</td>\n",
       "      <td>NaN</td>\n",
       "    </tr>\n",
       "    <tr>\n",
       "      <th>55</th>\n",
       "      <td>55</td>\n",
       "      <td>2019-05-22 12:24:31+00:00</td>\n",
       "      <td>1.131174e+18</td>\n",
       "      <td>1.131174e+18</td>\n",
       "      <td>RT @Vinamralongani: @KLM to launch thrice week...</td>\n",
       "      <td>NaN</td>\n",
       "      <td>&lt;a href=\"http://twitter.com/download/iphone\" r...</td>\n",
       "      <td>0.0</td>\n",
       "      <td>NaN</td>\n",
       "      <td>NaN</td>\n",
       "      <td>...</td>\n",
       "      <td>low</td>\n",
       "      <td>en</td>\n",
       "      <td>2019-05-22 12:24:31.580</td>\n",
       "      <td>{'created_at': 'Wed May 22 11:52:42 +0000 2019...</td>\n",
       "      <td>NaN</td>\n",
       "      <td>NaN</td>\n",
       "      <td>NaN</td>\n",
       "      <td>NaN</td>\n",
       "      <td>NaN</td>\n",
       "      <td>NaN</td>\n",
       "    </tr>\n",
       "    <tr>\n",
       "      <th>92</th>\n",
       "      <td>92</td>\n",
       "      <td>2019-05-22 12:27:15+00:00</td>\n",
       "      <td>1.131175e+18</td>\n",
       "      <td>1.131175e+18</td>\n",
       "      <td>@wolfmandanny @KLM Thanks Dan</td>\n",
       "      <td>[19, 29]</td>\n",
       "      <td>&lt;a href=\"http://twitter.com/download/iphone\" r...</td>\n",
       "      <td>0.0</td>\n",
       "      <td>1.131164e+18</td>\n",
       "      <td>1.131164e+18</td>\n",
       "      <td>...</td>\n",
       "      <td>low</td>\n",
       "      <td>en</td>\n",
       "      <td>2019-05-22 12:27:15.180</td>\n",
       "      <td>NaN</td>\n",
       "      <td>NaN</td>\n",
       "      <td>NaN</td>\n",
       "      <td>NaN</td>\n",
       "      <td>NaN</td>\n",
       "      <td>NaN</td>\n",
       "      <td>NaN</td>\n",
       "    </tr>\n",
       "    <tr>\n",
       "      <th>173</th>\n",
       "      <td>173</td>\n",
       "      <td>2019-05-22 12:35:00+00:00</td>\n",
       "      <td>1.131177e+18</td>\n",
       "      <td>1.131177e+18</td>\n",
       "      <td>Waar @KLM de slots vandaan haalt is (nog) niet...</td>\n",
       "      <td>NaN</td>\n",
       "      <td>&lt;a href=\"http://twitter.com/#!/download/ipad\" ...</td>\n",
       "      <td>0.0</td>\n",
       "      <td>NaN</td>\n",
       "      <td>NaN</td>\n",
       "      <td>...</td>\n",
       "      <td>low</td>\n",
       "      <td>nl</td>\n",
       "      <td>2019-05-22 12:35:00.067</td>\n",
       "      <td>NaN</td>\n",
       "      <td>NaN</td>\n",
       "      <td>1.131160e+18</td>\n",
       "      <td>1.131160e+18</td>\n",
       "      <td>{'created_at': 'Wed May 22 11:28:04 +0000 2019...</td>\n",
       "      <td>{'url': 'https://t.co/GwwWYOYj61', 'expanded':...</td>\n",
       "      <td>NaN</td>\n",
       "    </tr>\n",
       "    <tr>\n",
       "      <th>204</th>\n",
       "      <td>204</td>\n",
       "      <td>2019-05-22 12:37:29+00:00</td>\n",
       "      <td>1.131177e+18</td>\n",
       "      <td>1.131177e+18</td>\n",
       "      <td>@KLM Aviation releases about 3% of human carbo...</td>\n",
       "      <td>[5, 124]</td>\n",
       "      <td>&lt;a href=\"https://mobile.twitter.com\" rel=\"nofo...</td>\n",
       "      <td>0.0</td>\n",
       "      <td>1.111660e+18</td>\n",
       "      <td>1.111660e+18</td>\n",
       "      <td>...</td>\n",
       "      <td>low</td>\n",
       "      <td>en</td>\n",
       "      <td>2019-05-22 12:37:29.913</td>\n",
       "      <td>NaN</td>\n",
       "      <td>NaN</td>\n",
       "      <td>NaN</td>\n",
       "      <td>NaN</td>\n",
       "      <td>NaN</td>\n",
       "      <td>NaN</td>\n",
       "      <td>NaN</td>\n",
       "    </tr>\n",
       "  </tbody>\n",
       "</table>\n",
       "<p>5 rows × 38 columns</p>\n",
       "</div>"
      ],
      "text/plain": [
       "     index                created_at            id        id_str  \\\n",
       "54      54 2019-05-22 12:24:26+00:00  1.131174e+18  1.131174e+18   \n",
       "55      55 2019-05-22 12:24:31+00:00  1.131174e+18  1.131174e+18   \n",
       "92      92 2019-05-22 12:27:15+00:00  1.131175e+18  1.131175e+18   \n",
       "173    173 2019-05-22 12:35:00+00:00  1.131177e+18  1.131177e+18   \n",
       "204    204 2019-05-22 12:37:29+00:00  1.131177e+18  1.131177e+18   \n",
       "\n",
       "                                                  text display_text_range  \\\n",
       "54   RT @McWhirterAlex: .@KLM will fly Amsterdam-Ba...                NaN   \n",
       "55   RT @Vinamralongani: @KLM to launch thrice week...                NaN   \n",
       "92                       @wolfmandanny @KLM Thanks Dan           [19, 29]   \n",
       "173  Waar @KLM de slots vandaan haalt is (nog) niet...                NaN   \n",
       "204  @KLM Aviation releases about 3% of human carbo...           [5, 124]   \n",
       "\n",
       "                                                source  truncated  \\\n",
       "54   <a href=\"http://twitter.com/download/iphone\" r...        0.0   \n",
       "55   <a href=\"http://twitter.com/download/iphone\" r...        0.0   \n",
       "92   <a href=\"http://twitter.com/download/iphone\" r...        0.0   \n",
       "173  <a href=\"http://twitter.com/#!/download/ipad\" ...        0.0   \n",
       "204  <a href=\"https://mobile.twitter.com\" rel=\"nofo...        0.0   \n",
       "\n",
       "     in_reply_to_status_id  in_reply_to_status_id_str  ...  filter_level  \\\n",
       "54                     NaN                        NaN  ...           low   \n",
       "55                     NaN                        NaN  ...           low   \n",
       "92            1.131164e+18               1.131164e+18  ...           low   \n",
       "173                    NaN                        NaN  ...           low   \n",
       "204           1.111660e+18               1.111660e+18  ...           low   \n",
       "\n",
       "     lang            timestamp_ms  \\\n",
       "54     en 2019-05-22 12:24:26.336   \n",
       "55     en 2019-05-22 12:24:31.580   \n",
       "92     en 2019-05-22 12:27:15.180   \n",
       "173    nl 2019-05-22 12:35:00.067   \n",
       "204    en 2019-05-22 12:37:29.913   \n",
       "\n",
       "                                      retweeted_status extended_tweet  \\\n",
       "54   {'created_at': 'Wed May 22 11:49:14 +0000 2019...            NaN   \n",
       "55   {'created_at': 'Wed May 22 11:52:42 +0000 2019...            NaN   \n",
       "92                                                 NaN            NaN   \n",
       "173                                                NaN            NaN   \n",
       "204                                                NaN            NaN   \n",
       "\n",
       "    quoted_status_id quoted_status_id_str  \\\n",
       "54               NaN                  NaN   \n",
       "55               NaN                  NaN   \n",
       "92               NaN                  NaN   \n",
       "173     1.131160e+18         1.131160e+18   \n",
       "204              NaN                  NaN   \n",
       "\n",
       "                                         quoted_status  \\\n",
       "54                                                 NaN   \n",
       "55                                                 NaN   \n",
       "92                                                 NaN   \n",
       "173  {'created_at': 'Wed May 22 11:28:04 +0000 2019...   \n",
       "204                                                NaN   \n",
       "\n",
       "                               quoted_status_permalink  delete  \n",
       "54                                                 NaN     NaN  \n",
       "55                                                 NaN     NaN  \n",
       "92                                                 NaN     NaN  \n",
       "173  {'url': 'https://t.co/GwwWYOYj61', 'expanded':...     NaN  \n",
       "204                                                NaN     NaN  \n",
       "\n",
       "[5 rows x 38 columns]"
      ]
     },
     "execution_count": 13,
     "metadata": {},
     "output_type": "execute_result"
    }
   ],
   "source": [
    "klm_tweet_men.head()"
   ]
  },
  {
   "cell_type": "code",
   "execution_count": 61,
   "id": "142d52b0",
   "metadata": {},
   "outputs": [],
   "source": [
    "#Concat 2 tables:\n",
    "klm_table = pd.concat([klm_tweet, klm_tweet_men])\n",
    "klm_table.drop_duplicates(subset=['id'], inplace=True)\n",
    "klm_table.reset_index(inplace=True)"
   ]
  },
  {
   "cell_type": "code",
   "execution_count": 62,
   "id": "713930e1",
   "metadata": {},
   "outputs": [],
   "source": [
    "#Add the user_id attribute\n",
    "klm_user = [klm_table.user.iloc[i].get('id') for i in range(len(klm_table))]\n",
    "klm_table['user_id'] = pd.Series(klm_user)"
   ]
  },
  {
   "cell_type": "code",
   "execution_count": 66,
   "id": "107047c2",
   "metadata": {},
   "outputs": [],
   "source": [
    "#Export the table as CSV file to import to the database\n",
    "klm_table.to_csv('../database/CSV file/klm_table_diff.csv')"
   ]
  },
  {
   "cell_type": "markdown",
   "id": "392618ef",
   "metadata": {},
   "source": [
    "#### 5. Bristish Airways table"
   ]
  },
  {
   "cell_type": "code",
   "execution_count": 35,
   "id": "ba468c64",
   "metadata": {},
   "outputs": [],
   "source": [
    "#Extract only tweets made by BA (including posting +replying to other):\n",
    "test = df_datas.copy()\n",
    "\n",
    "ind = []\n",
    "for index, row in df_datas.iterrows():\n",
    "    if row['user']['id_str'] == '18332190':\n",
    "        ind.append(index)\n",
    "british_tweet = df_datas.loc[ind]"
   ]
  },
  {
   "cell_type": "code",
   "execution_count": 36,
   "id": "38851e45",
   "metadata": {},
   "outputs": [],
   "source": [
    "#Extract only tweets mention BA (@British_Airways etc...):\n",
    "test2 = df_datas.copy()\n",
    "ind2 = []\n",
    "for index, row in df_datas.iterrows():\n",
    "    if \"@British_Airways\" in row['text']:\n",
    "        ind2.append(index)\n",
    "british_tweet_men = df_datas.loc[ind2]"
   ]
  },
  {
   "cell_type": "code",
   "execution_count": 58,
   "id": "6004b43a",
   "metadata": {},
   "outputs": [],
   "source": [
    "#Concat 2 tables:\n",
    "british_table = pd.concat([british_tweet, british_tweet_men])\n",
    "british_table.drop_duplicates(subset=['id'], inplace=True)\n",
    "british_table.reset_index(inplace=True)"
   ]
  },
  {
   "cell_type": "code",
   "execution_count": 59,
   "id": "dc3b67a9",
   "metadata": {},
   "outputs": [],
   "source": [
    "#Add the user_id attribute\n",
    "british_user = [british_table.user.iloc[i].get('id') for i in range(len(british_table))]\n",
    "british_table['user_id'] = pd.Series(british_user)"
   ]
  },
  {
   "cell_type": "code",
   "execution_count": 60,
   "id": "bfa07445",
   "metadata": {},
   "outputs": [],
   "source": [
    "#Export the table as CSV file to import to the database\n",
    "british_table.to_csv('../database/CSV file/british_table.csv')"
   ]
  },
  {
   "cell_type": "markdown",
   "id": "64d9831c",
   "metadata": {},
   "source": [
    "#### 6. Users table "
   ]
  },
  {
   "cell_type": "code",
   "execution_count": 18,
   "id": "d1b10dde",
   "metadata": {},
   "outputs": [
    {
     "data": {
      "text/plain": [
       "0         {'id': 393374091, 'id_str': '393374091', 'name...\n",
       "1         {'id': 3420691215, 'id_str': '3420691215', 'na...\n",
       "2         {'id': 394376606, 'id_str': '394376606', 'name...\n",
       "3         {'id': 36488556, 'id_str': '36488556', 'name':...\n",
       "4         {'id': 14193348, 'id_str': '14193348', 'name':...\n",
       "                                ...                        \n",
       "255012    {'id': 371347123, 'id_str': '371347123', 'name...\n",
       "255013    {'id': 50015771, 'id_str': '50015771', 'name':...\n",
       "255014    {'id': 253340062, 'id_str': '253340062', 'name...\n",
       "255015    {'id': 22536055, 'id_str': '22536055', 'name':...\n",
       "255016    {'id': 1101932956879335425, 'id_str': '1101932...\n",
       "Name: user, Length: 255017, dtype: object"
      ]
     },
     "execution_count": 18,
     "metadata": {},
     "output_type": "execute_result"
    }
   ],
   "source": [
    "df_datas.user"
   ]
  },
  {
   "cell_type": "code",
   "execution_count": 27,
   "id": "3d8fd5b4",
   "metadata": {},
   "outputs": [
    {
     "ename": "KeyboardInterrupt",
     "evalue": "",
     "output_type": "error",
     "traceback": [
      "\u001b[1;31m---------------------------------------------------------------------------\u001b[0m",
      "\u001b[1;31mKeyboardInterrupt\u001b[0m                         Traceback (most recent call last)",
      "\u001b[1;32m<ipython-input-27-35af65844d06>\u001b[0m in \u001b[0;36m<module>\u001b[1;34m\u001b[0m\n\u001b[1;32m----> 1\u001b[1;33m \u001b[0mdf_data_user\u001b[0m \u001b[1;33m=\u001b[0m \u001b[1;33m[\u001b[0m\u001b[0mdf_datas\u001b[0m\u001b[1;33m.\u001b[0m\u001b[0muser\u001b[0m\u001b[1;33m.\u001b[0m\u001b[0miloc\u001b[0m\u001b[1;33m[\u001b[0m\u001b[0mi\u001b[0m\u001b[1;33m]\u001b[0m \u001b[1;32mfor\u001b[0m \u001b[0mi\u001b[0m \u001b[1;32min\u001b[0m \u001b[0mrange\u001b[0m\u001b[1;33m(\u001b[0m\u001b[0mlen\u001b[0m\u001b[1;33m(\u001b[0m\u001b[0mdf_datas\u001b[0m\u001b[1;33m)\u001b[0m\u001b[1;33m)\u001b[0m\u001b[1;33m]\u001b[0m\u001b[1;33m\u001b[0m\u001b[1;33m\u001b[0m\u001b[0m\n\u001b[0m",
      "\u001b[1;32m<ipython-input-27-35af65844d06>\u001b[0m in \u001b[0;36m<listcomp>\u001b[1;34m(.0)\u001b[0m\n\u001b[1;32m----> 1\u001b[1;33m \u001b[0mdf_data_user\u001b[0m \u001b[1;33m=\u001b[0m \u001b[1;33m[\u001b[0m\u001b[0mdf_datas\u001b[0m\u001b[1;33m.\u001b[0m\u001b[0muser\u001b[0m\u001b[1;33m.\u001b[0m\u001b[0miloc\u001b[0m\u001b[1;33m[\u001b[0m\u001b[0mi\u001b[0m\u001b[1;33m]\u001b[0m \u001b[1;32mfor\u001b[0m \u001b[0mi\u001b[0m \u001b[1;32min\u001b[0m \u001b[0mrange\u001b[0m\u001b[1;33m(\u001b[0m\u001b[0mlen\u001b[0m\u001b[1;33m(\u001b[0m\u001b[0mdf_datas\u001b[0m\u001b[1;33m)\u001b[0m\u001b[1;33m)\u001b[0m\u001b[1;33m]\u001b[0m\u001b[1;33m\u001b[0m\u001b[1;33m\u001b[0m\u001b[0m\n\u001b[0m",
      "\u001b[1;32m~\\anaconda3\\lib\\site-packages\\pandas\\core\\indexing.py\u001b[0m in \u001b[0;36m__getitem__\u001b[1;34m(self, key)\u001b[0m\n\u001b[0;32m    893\u001b[0m \u001b[1;33m\u001b[0m\u001b[0m\n\u001b[0;32m    894\u001b[0m             \u001b[0mmaybe_callable\u001b[0m \u001b[1;33m=\u001b[0m \u001b[0mcom\u001b[0m\u001b[1;33m.\u001b[0m\u001b[0mapply_if_callable\u001b[0m\u001b[1;33m(\u001b[0m\u001b[0mkey\u001b[0m\u001b[1;33m,\u001b[0m \u001b[0mself\u001b[0m\u001b[1;33m.\u001b[0m\u001b[0mobj\u001b[0m\u001b[1;33m)\u001b[0m\u001b[1;33m\u001b[0m\u001b[1;33m\u001b[0m\u001b[0m\n\u001b[1;32m--> 895\u001b[1;33m             \u001b[1;32mreturn\u001b[0m \u001b[0mself\u001b[0m\u001b[1;33m.\u001b[0m\u001b[0m_getitem_axis\u001b[0m\u001b[1;33m(\u001b[0m\u001b[0mmaybe_callable\u001b[0m\u001b[1;33m,\u001b[0m \u001b[0maxis\u001b[0m\u001b[1;33m=\u001b[0m\u001b[0maxis\u001b[0m\u001b[1;33m)\u001b[0m\u001b[1;33m\u001b[0m\u001b[1;33m\u001b[0m\u001b[0m\n\u001b[0m\u001b[0;32m    896\u001b[0m \u001b[1;33m\u001b[0m\u001b[0m\n\u001b[0;32m    897\u001b[0m     \u001b[1;32mdef\u001b[0m \u001b[0m_is_scalar_access\u001b[0m\u001b[1;33m(\u001b[0m\u001b[0mself\u001b[0m\u001b[1;33m,\u001b[0m \u001b[0mkey\u001b[0m\u001b[1;33m:\u001b[0m \u001b[0mTuple\u001b[0m\u001b[1;33m)\u001b[0m\u001b[1;33m:\u001b[0m\u001b[1;33m\u001b[0m\u001b[1;33m\u001b[0m\u001b[0m\n",
      "\u001b[1;32m~\\anaconda3\\lib\\site-packages\\pandas\\core\\indexing.py\u001b[0m in \u001b[0;36m_getitem_axis\u001b[1;34m(self, key, axis)\u001b[0m\n\u001b[0;32m   1489\u001b[0m \u001b[1;33m\u001b[0m\u001b[0m\n\u001b[0;32m   1490\u001b[0m         \u001b[1;31m# a list of integers\u001b[0m\u001b[1;33m\u001b[0m\u001b[1;33m\u001b[0m\u001b[1;33m\u001b[0m\u001b[0m\n\u001b[1;32m-> 1491\u001b[1;33m         \u001b[1;32melif\u001b[0m \u001b[0mis_list_like_indexer\u001b[0m\u001b[1;33m(\u001b[0m\u001b[0mkey\u001b[0m\u001b[1;33m)\u001b[0m\u001b[1;33m:\u001b[0m\u001b[1;33m\u001b[0m\u001b[1;33m\u001b[0m\u001b[0m\n\u001b[0m\u001b[0;32m   1492\u001b[0m             \u001b[1;32mreturn\u001b[0m \u001b[0mself\u001b[0m\u001b[1;33m.\u001b[0m\u001b[0m_get_list_axis\u001b[0m\u001b[1;33m(\u001b[0m\u001b[0mkey\u001b[0m\u001b[1;33m,\u001b[0m \u001b[0maxis\u001b[0m\u001b[1;33m=\u001b[0m\u001b[0maxis\u001b[0m\u001b[1;33m)\u001b[0m\u001b[1;33m\u001b[0m\u001b[1;33m\u001b[0m\u001b[0m\n\u001b[0;32m   1493\u001b[0m \u001b[1;33m\u001b[0m\u001b[0m\n",
      "\u001b[1;32m~\\anaconda3\\lib\\site-packages\\pandas\\core\\indexers.py\u001b[0m in \u001b[0;36mis_list_like_indexer\u001b[1;34m(key)\u001b[0m\n\u001b[0;32m     50\u001b[0m \u001b[1;33m\u001b[0m\u001b[0m\n\u001b[0;32m     51\u001b[0m \u001b[1;33m\u001b[0m\u001b[0m\n\u001b[1;32m---> 52\u001b[1;33m \u001b[1;32mdef\u001b[0m \u001b[0mis_list_like_indexer\u001b[0m\u001b[1;33m(\u001b[0m\u001b[0mkey\u001b[0m\u001b[1;33m)\u001b[0m \u001b[1;33m->\u001b[0m \u001b[0mbool\u001b[0m\u001b[1;33m:\u001b[0m\u001b[1;33m\u001b[0m\u001b[1;33m\u001b[0m\u001b[0m\n\u001b[0m\u001b[0;32m     53\u001b[0m     \"\"\"\n\u001b[0;32m     54\u001b[0m     \u001b[0mCheck\u001b[0m \u001b[1;32mif\u001b[0m \u001b[0mwe\u001b[0m \u001b[0mhave\u001b[0m \u001b[0ma\u001b[0m \u001b[0mlist\u001b[0m\u001b[1;33m-\u001b[0m\u001b[0mlike\u001b[0m \u001b[0mindexer\u001b[0m \u001b[0mthat\u001b[0m \u001b[1;32mis\u001b[0m \u001b[1;33m*\u001b[0m\u001b[1;32mnot\u001b[0m\u001b[1;33m*\u001b[0m \u001b[0ma\u001b[0m \u001b[0mNamedTuple\u001b[0m\u001b[1;33m.\u001b[0m\u001b[1;33m\u001b[0m\u001b[1;33m\u001b[0m\u001b[0m\n",
      "\u001b[1;31mKeyboardInterrupt\u001b[0m: "
     ]
    }
   ],
   "source": [
    "#Get a list of dictionary of user information and turn them to dataframe\n",
    "df_data_user = [df_datas.user.iloc[i] for i in range(len(df_datas))]"
   ]
  },
  {
   "cell_type": "code",
   "execution_count": 32,
   "id": "fc64193b",
   "metadata": {},
   "outputs": [],
   "source": [
    "#Turn them to DataFrame and drop the duplicate\n",
    "user_table = pd.DataFrame(df_data_user).drop_duplicates(subset='id')"
   ]
  },
  {
   "cell_type": "code",
   "execution_count": 33,
   "id": "407591a8",
   "metadata": {},
   "outputs": [],
   "source": [
    "user_table.to_csv('../database/CSV file/user_table.csv')"
   ]
  }
 ],
 "metadata": {
  "kernelspec": {
   "display_name": "Python 3",
   "language": "python",
   "name": "python3"
  },
  "language_info": {
   "codemirror_mode": {
    "name": "ipython",
    "version": 3
   },
   "file_extension": ".py",
   "mimetype": "text/x-python",
   "name": "python",
   "nbconvert_exporter": "python",
   "pygments_lexer": "ipython3",
   "version": "3.8.8"
  }
 },
 "nbformat": 4,
 "nbformat_minor": 5
}
