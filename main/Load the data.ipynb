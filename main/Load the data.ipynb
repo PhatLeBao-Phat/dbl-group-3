{
 "cells": [
  {
   "cell_type": "markdown",
   "id": "3047e492",
   "metadata": {},
   "source": [
    "#### 1. Import library"
   ]
  },
  {
   "cell_type": "code",
   "execution_count": 185,
   "id": "da94b262",
   "metadata": {},
   "outputs": [],
   "source": [
    "import json \n",
    "import pandas as pd \n",
    "import numpy as np \n",
    "from typing import Dict, List, Tuple \n",
    "import sqlite3\n",
    "import json"
   ]
  },
  {
   "cell_type": "markdown",
   "id": "9f1b1ec5",
   "metadata": {},
   "source": [
    "#### 2. Load the data onto DataFrame"
   ]
  },
  {
   "cell_type": "code",
   "execution_count": 186,
   "id": "eb8c07b2",
   "metadata": {},
   "outputs": [],
   "source": [
    "# load the json file of one month onto dataframe \n",
    "df_data = pd.read_json('../data/airlines-1558527599826.json', lines=True)"
   ]
  },
  {
   "cell_type": "code",
   "execution_count": 187,
   "id": "870f1fb5",
   "metadata": {},
   "outputs": [],
   "source": [
    "#Load one twitter \n",
    "df_data.iloc[[0]].T;"
   ]
  },
  {
   "cell_type": "code",
   "execution_count": 188,
   "id": "4229981b",
   "metadata": {},
   "outputs": [],
   "source": [
    "# load one user data from one twitter\n",
    "df_user = pd.DataFrame(pd.Series(df_data['user'][0]))\n",
    "df_user;"
   ]
  },
  {
   "cell_type": "markdown",
   "id": "468b440a",
   "metadata": {},
   "source": [
    "#### 3. Store the data on .db file "
   ]
  },
  {
   "cell_type": "code",
   "execution_count": 190,
   "id": "9f9193d7",
   "metadata": {},
   "outputs": [],
   "source": [
    "# create connection and cursor \n",
    "con = sqlite3.connect('../data/test.db')\n",
    "cur = con.cursor()"
   ]
  },
  {
   "cell_type": "code",
   "execution_count": 2,
   "id": "4ec1ebda",
   "metadata": {},
   "outputs": [
    {
     "ename": "NameError",
     "evalue": "name 'cur' is not defined",
     "output_type": "error",
     "traceback": [
      "\u001b[1;31m---------------------------------------------------------------------------\u001b[0m",
      "\u001b[1;31mNameError\u001b[0m                                 Traceback (most recent call last)",
      "\u001b[1;32m<ipython-input-2-95b8e5b61eed>\u001b[0m in \u001b[0;36m<module>\u001b[1;34m\u001b[0m\n\u001b[0;32m     38\u001b[0m         \u001b[0mquoted_status_permalink\u001b[0m\u001b[1;33m,\u001b[0m\u001b[1;33m\u001b[0m\u001b[1;33m\u001b[0m\u001b[0m\n\u001b[0;32m     39\u001b[0m         dele)'''\n\u001b[1;32m---> 40\u001b[1;33m \u001b[0mcur\u001b[0m\u001b[1;33m.\u001b[0m\u001b[0mexecute\u001b[0m\u001b[1;33m(\u001b[0m\u001b[0mquery_data_schema\u001b[0m\u001b[1;33m)\u001b[0m\u001b[1;33m\u001b[0m\u001b[1;33m\u001b[0m\u001b[0m\n\u001b[0m",
      "\u001b[1;31mNameError\u001b[0m: name 'cur' is not defined"
     ]
    }
   ],
   "source": [
    "# query to create table schema\n",
    "query_data_schema = '''\n",
    "        CREATE TABLE fu (\n",
    "        created_at, \n",
    "        id, \n",
    "        id_str, \n",
    "        text, \n",
    "        display_text_range, \n",
    "        source, \n",
    "        truncated, \n",
    "        in_reply_to_status_id, \n",
    "        in_reply_to_status_id_str, \n",
    "        in_reply_to_user_id,\n",
    "        in_reply_to_user_id_str, \n",
    "        in_reply_to_screen_name,\n",
    "        user,\n",
    "        geo,\n",
    "        coordinates, \n",
    "        place,\n",
    "        contributors, \n",
    "        is_quote_status, \n",
    "        quote_count, \n",
    "        reply_count, \n",
    "        retweet_count, \n",
    "        favorite_count, \n",
    "        entities, \n",
    "        extended_entities, \n",
    "        favorited, \n",
    "        retweeted, \n",
    "        possibly_sensitive, \n",
    "        filter_level, \n",
    "        lang, \n",
    "        timestamp_ms, \n",
    "        retweeted_status, \n",
    "        extended_tweet, \n",
    "        quoted_status_id, \n",
    "        quoted_status_id_str, \n",
    "        quoted_status, \n",
    "        quoted_status_permalink,\n",
    "        dele)'''\n",
    "cur.execute(query_data_schema)"
   ]
  },
  {
   "cell_type": "code",
   "execution_count": 5,
   "id": "efab1116",
   "metadata": {},
   "outputs": [
    {
     "ename": "NameError",
     "evalue": "name 'count' is not defined",
     "output_type": "error",
     "traceback": [
      "\u001b[1;31m---------------------------------------------------------------------------\u001b[0m",
      "\u001b[1;31mNameError\u001b[0m                                 Traceback (most recent call last)",
      "\u001b[1;32m<ipython-input-5-1a6f53d79c49>\u001b[0m in \u001b[0;36m<module>\u001b[1;34m\u001b[0m\n\u001b[0;32m      2\u001b[0m \u001b[1;33m\u001b[0m\u001b[0m\n\u001b[0;32m      3\u001b[0m sql = ''' INSERT INTO {}\n\u001b[1;32m----> 4\u001b[1;33m               VALUES({}?) '''.format('fu', (count-1)*'?,')\n\u001b[0m\u001b[0;32m      5\u001b[0m \u001b[0mcur\u001b[0m\u001b[1;33m.\u001b[0m\u001b[0mexecute\u001b[0m\u001b[1;33m(\u001b[0m\u001b[0msql\u001b[0m\u001b[1;33m,\u001b[0m \u001b[0mtuple\u001b[0m\u001b[1;33m(\u001b[0m\u001b[0mdf_data\u001b[0m\u001b[1;33m.\u001b[0m\u001b[0mloc\u001b[0m\u001b[1;33m[\u001b[0m\u001b[1;36m0\u001b[0m\u001b[1;33m]\u001b[0m\u001b[1;33m)\u001b[0m\u001b[1;33m)\u001b[0m\u001b[1;33m\u001b[0m\u001b[1;33m\u001b[0m\u001b[0m\n",
      "\u001b[1;31mNameError\u001b[0m: name 'count' is not defined"
     ]
    }
   ],
   "source": [
    "count = len(df_data.columns) # count number of attributes\n",
    "sql = ''' INSERT INTO {} VALUES({}?) '''.format('fu', (count-1)*'?,') # create a query to insert value\n",
    "cur.execute(sql, tuple(df_data.loc[0])) # get the first row and insert on the table"
   ]
  },
  {
   "cell_type": "code",
   "execution_count": 197,
   "id": "3823a82c",
   "metadata": {},
   "outputs": [],
   "source": [
    "# function to create a table \n",
    "def create_table(table, df):\n",
    "    \"\"\"\n",
    "    Create a new table with the df\n",
    "    :param table:\n",
    "    :param df:\n",
    "    :return:\n",
    "    \"\"\"\n",
    "    cur = con.cursor()\n",
    "    count = len(df_data.columns)\n",
    "    sql = ''' INSERT INTO {}\n",
    "              VALUES({}?) '''.format(table, (count-1)*'?,')\n",
    "    for row in df.iterrows():\n",
    "        cur.execute(sql, tuple(row[1]))\n",
    "    conn.commit()\n"
   ]
  },
  {
   "cell_type": "code",
   "execution_count": 203,
   "id": "406a8f88",
   "metadata": {},
   "outputs": [
    {
     "ename": "OperationalError",
     "evalue": "database is locked",
     "output_type": "error",
     "traceback": [
      "\u001b[1;31m---------------------------------------------------------------------------\u001b[0m",
      "\u001b[1;31mOperationalError\u001b[0m                          Traceback (most recent call last)",
      "\u001b[1;32m<ipython-input-203-e104c3432842>\u001b[0m in \u001b[0;36m<module>\u001b[1;34m\u001b[0m\n\u001b[0;32m      2\u001b[0m \u001b[1;32mimport\u001b[0m \u001b[0msqlite3\u001b[0m\u001b[1;33m\u001b[0m\u001b[1;33m\u001b[0m\u001b[0m\n\u001b[0;32m      3\u001b[0m \u001b[1;33m\u001b[0m\u001b[0m\n\u001b[1;32m----> 4\u001b[1;33m \u001b[0mcur\u001b[0m\u001b[1;33m.\u001b[0m\u001b[0mexecute\u001b[0m\u001b[1;33m(\u001b[0m\u001b[0mquery_data_schema_2\u001b[0m\u001b[1;33m)\u001b[0m\u001b[1;33m\u001b[0m\u001b[1;33m\u001b[0m\u001b[0m\n\u001b[0m\u001b[0;32m      5\u001b[0m \u001b[0mairline\u001b[0m \u001b[1;33m=\u001b[0m \u001b[0mjson\u001b[0m\u001b[1;33m.\u001b[0m\u001b[0mload\u001b[0m\u001b[1;33m(\u001b[0m\u001b[0mopen\u001b[0m\u001b[1;33m(\u001b[0m\u001b[1;34m'../data/airlines-1558527599826.json'\u001b[0m\u001b[1;33m)\u001b[0m\u001b[1;33m)\u001b[0m\u001b[1;33m\u001b[0m\u001b[1;33m\u001b[0m\u001b[0m\n\u001b[0;32m      6\u001b[0m \u001b[0mcolumns\u001b[0m \u001b[1;33m=\u001b[0m \u001b[0mlist\u001b[0m\u001b[1;33m(\u001b[0m\u001b[0mdf_data\u001b[0m\u001b[1;33m.\u001b[0m\u001b[0mcolumns\u001b[0m\u001b[1;33m)\u001b[0m\u001b[1;33m\u001b[0m\u001b[1;33m\u001b[0m\u001b[0m\n",
      "\u001b[1;31mOperationalError\u001b[0m: database is locked"
     ]
    }
   ],
   "source": [
    "# json method \n",
    "# still working on @Phat\n",
    "import json\n",
    "import sqlite3\n",
    "\n",
    "cur.execute(query_data_schema_2)\n",
    "airline = json.load(open('../data/airlines-1558527599826.json'))\n",
    "columns = list(df_data.columns)"
   ]
  },
  {
   "cell_type": "markdown",
   "id": "5a7fab63",
   "metadata": {},
   "source": [
    "#### 4. Cleaning the data"
   ]
  },
  {
   "cell_type": "code",
   "execution_count": 1,
   "id": "1018b9b5",
   "metadata": {},
   "outputs": [
    {
     "ename": "NameError",
     "evalue": "name 'df_data' is not defined",
     "output_type": "error",
     "traceback": [
      "\u001b[1;31m---------------------------------------------------------------------------\u001b[0m",
      "\u001b[1;31mNameError\u001b[0m                                 Traceback (most recent call last)",
      "\u001b[1;32m<ipython-input-1-c8ad50851b2c>\u001b[0m in \u001b[0;36m<module>\u001b[1;34m\u001b[0m\n\u001b[1;32m----> 1\u001b[1;33m \u001b[0mdf_data\u001b[0m\u001b[1;33m.\u001b[0m\u001b[0mhead\u001b[0m\u001b[1;33m(\u001b[0m\u001b[1;36m5\u001b[0m\u001b[1;33m)\u001b[0m\u001b[1;33m\u001b[0m\u001b[1;33m\u001b[0m\u001b[0m\n\u001b[0m",
      "\u001b[1;31mNameError\u001b[0m: name 'df_data' is not defined"
     ]
    }
   ],
   "source": [
    "df_data.head(5)"
   ]
  },
  {
   "cell_type": "code",
   "execution_count": 29,
   "id": "371f2eff",
   "metadata": {},
   "outputs": [],
   "source": [
    "# airline id dictionary\n",
    "airline_id: Dict[str, int] = {\n",
    "'KLM' : 56377143, \n",
    "'AirFrance' : 106062176, \n",
    "'British_Airways' : 18332190, \n",
    "'AmericanAir' : 22536055, \n",
    "'Lufthansa' : 124476322, \n",
    "'AirBerlin' : 26223583, \n",
    "'AirBerlin assist' : 2182373406, \n",
    "'easyJet' : 38676903, \n",
    "'RyanAir' : 1542862735, \n",
    "'SingaporeAir' : 253340062, \n",
    "'Qantas' : 218730857, \n",
    "'EtihadAirways' : 45621423, \n",
    "'VirginAtlantic' : 20626359\n",
    "    }\n",
    " "
   ]
  },
  {
   "cell_type": "code",
   "execution_count": 41,
   "id": "c195a9ec",
   "metadata": {},
   "outputs": [],
   "source": [
    "lst_of_id: List[int] = [i for i in airline_id.values()]"
   ]
  },
  {
   "cell_type": "code",
   "execution_count": 42,
   "id": "f6493f30",
   "metadata": {},
   "outputs": [
    {
     "data": {
      "text/plain": [
       "False"
      ]
     },
     "execution_count": 42,
     "metadata": {},
     "output_type": "execute_result"
    }
   ],
   "source": [
    "df_user.loc['id'][0] in lst_of_id"
   ]
  }
 ],
 "metadata": {
  "kernelspec": {
   "display_name": "Python 3",
   "language": "python",
   "name": "python3"
  },
  "language_info": {
   "codemirror_mode": {
    "name": "ipython",
    "version": 3
   },
   "file_extension": ".py",
   "mimetype": "text/x-python",
   "name": "python",
   "nbconvert_exporter": "python",
   "pygments_lexer": "ipython3",
   "version": "3.8.8"
  }
 },
 "nbformat": 4,
 "nbformat_minor": 5
}
