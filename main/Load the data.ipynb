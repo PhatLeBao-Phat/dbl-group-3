{
 "cells": [
  {
   "cell_type": "markdown",
   "id": "3047e492",
   "metadata": {},
   "source": [
    "#### 1. Import library"
   ]
  },
  {
   "cell_type": "code",
   "execution_count": 2,
   "id": "da94b262",
   "metadata": {},
   "outputs": [],
   "source": [
    "import os\n",
    "import pandas as pd \n",
    "import numpy as np \n",
    "from typing import Dict, List, Tuple \n",
    "import sqlite3\n",
    "import json\n",
    "import glob"
   ]
  },
  {
   "cell_type": "markdown",
   "id": "9f1b1ec5",
   "metadata": {},
   "source": [
    "#### 2. Load the data onto DataFrame"
   ]
  },
  {
   "cell_type": "code",
   "execution_count": 3,
   "id": "ee220ba8",
   "metadata": {},
   "outputs": [
    {
     "data": {
      "text/plain": [
       "['../data/airlines-1558527599826.json',\n",
       " '../data/airlines-1558546003827.json',\n",
       " '../data/airlines-1558611772040.json',\n",
       " '../data/airlines-1558623303180.json',\n",
       " '../data/airlines-1558678330070.json',\n",
       " '../data/airlines-1558697205154.json',\n",
       " '../data/airlines-1558744391657.json',\n",
       " '../data/airlines-1558779687636.json',\n",
       " '../data/airlines-1558863520888.json',\n",
       " '../data/airlines-1558888297881.json',\n",
       " '../data/airlines-1558974571041.json',\n",
       " '../data/airlines-1558998029487.json',\n",
       " '../data/airlines-1559069822287.json',\n",
       " '../data/airlines-1559097885748.json',\n",
       " '../data/airlines-1559142170524.json',\n",
       " '../data/airlines-1559156713030.json',\n",
       " '../data/airlines-1559231904332.json',\n",
       " '../data/airlines-1559256655329.json',\n",
       " '../data/airlines-1559323725358.json',\n",
       " '../data/airlines-1559352498975.json']"
      ]
     },
     "execution_count": 3,
     "metadata": {},
     "output_type": "execute_result"
    }
   ],
   "source": [
    "df_data = pd.DataFrame()\n",
    "file_list = ['../data/' + i for i in os.listdir('../data/')]\n",
    "dfs = [] # an empty list to store the data frames\n",
    "file_list"
   ]
  },
  {
   "cell_type": "code",
   "execution_count": 5,
   "id": "254cb570",
   "metadata": {},
   "outputs": [
    {
     "name": "stdout",
     "output_type": "stream",
     "text": [
      "../data/airlines-1558527599826.json\n",
      "../data/airlines-1558546003827.json\n",
      "../data/airlines-1558678330070.json\n",
      "../data/airlines-1558697205154.json\n",
      "../data/airlines-1558744391657.json\n",
      "../data/airlines-1558779687636.json\n",
      "../data/airlines-1558863520888.json\n",
      "../data/airlines-1558888297881.json\n",
      "../data/airlines-1558974571041.json\n",
      "../data/airlines-1558998029487.json\n",
      "../data/airlines-1559069822287.json\n",
      "../data/airlines-1559097885748.json\n",
      "../data/airlines-1559142170524.json\n",
      "../data/airlines-1559156713030.json\n",
      "../data/airlines-1559231904332.json\n",
      "../data/airlines-1559256655329.json\n",
      "../data/airlines-1559323725358.json\n",
      "../data/airlines-1559352498975.json\n"
     ]
    }
   ],
   "source": [
    "# load the json file of one month onto dataframe \n",
    "# df_data = pd.read_json('../data/airlines-1558527599826.json', lines=True)\n",
    "for file in file_list:\n",
    "    try:\n",
    "        data = pd.read_json(file, lines=True) # read data frame from json file \n",
    "        print(file)\n",
    "        dfs.append(data) # append the data frame to the list\n",
    "    except:\n",
    "        pass\n",
    "df_data = pd.concat(dfs, ignore_index=True) # concatenate all the data frames in the list."
   ]
  },
  {
   "cell_type": "code",
   "execution_count": 6,
   "id": "753787a2",
   "metadata": {},
   "outputs": [],
   "source": [
    "df_data.to_csv('../database/CSV file/general_tweets.csv')"
   ]
  },
  {
   "cell_type": "markdown",
   "id": "468b440a",
   "metadata": {},
   "source": [
    "#### 3. Store the data on .db file "
   ]
  },
  {
   "cell_type": "code",
   "execution_count": 1,
   "id": "9f9193d7",
   "metadata": {},
   "outputs": [
    {
     "ename": "NameError",
     "evalue": "name 'sqlite3' is not defined",
     "output_type": "error",
     "traceback": [
      "\u001b[1;31m---------------------------------------------------------------------------\u001b[0m",
      "\u001b[1;31mNameError\u001b[0m                                 Traceback (most recent call last)",
      "\u001b[1;32m<ipython-input-1-a50dc646aa06>\u001b[0m in \u001b[0;36m<module>\u001b[1;34m\u001b[0m\n\u001b[0;32m      1\u001b[0m \u001b[1;31m# create connection and cursor\u001b[0m\u001b[1;33m\u001b[0m\u001b[1;33m\u001b[0m\u001b[1;33m\u001b[0m\u001b[0m\n\u001b[1;32m----> 2\u001b[1;33m \u001b[0mcon\u001b[0m \u001b[1;33m=\u001b[0m \u001b[0msqlite3\u001b[0m\u001b[1;33m.\u001b[0m\u001b[0mconnect\u001b[0m\u001b[1;33m(\u001b[0m\u001b[1;34m'../database/sqlite-tools-win32-x86-3380300/database.db'\u001b[0m\u001b[1;33m)\u001b[0m\u001b[1;33m\u001b[0m\u001b[1;33m\u001b[0m\u001b[0m\n\u001b[0m\u001b[0;32m      3\u001b[0m \u001b[0mcur\u001b[0m \u001b[1;33m=\u001b[0m \u001b[0mcon\u001b[0m\u001b[1;33m.\u001b[0m\u001b[0mcursor\u001b[0m\u001b[1;33m(\u001b[0m\u001b[1;33m)\u001b[0m\u001b[1;33m\u001b[0m\u001b[1;33m\u001b[0m\u001b[0m\n",
      "\u001b[1;31mNameError\u001b[0m: name 'sqlite3' is not defined"
     ]
    }
   ],
   "source": [
    "# create connection and cursor \n",
    "con = sqlite3.connect('../database/sqlite-tools-win32-x86-3380300/database.db')\n",
    "cur = con.cursor()"
   ]
  },
  {
   "cell_type": "markdown",
   "id": "5a7fab63",
   "metadata": {},
   "source": [
    "#### 4. KLM table "
   ]
  },
  {
   "cell_type": "code",
   "execution_count": 12,
   "id": "c8a4ba77",
   "metadata": {},
   "outputs": [],
   "source": [
    "df_datas = df_data.dropna(subset = [\"user\"])\n",
    "#Extract only tweets made by KLM (including posting +replying to other):\n",
    "test = df_datas.copy()\n",
    "\n",
    "ind = []\n",
    "for index, row in df_datas.iterrows():\n",
    "    if row['user']['id_str'] == '56377143':\n",
    "        ind.append(index)\n",
    "klm_tweet = df_datas.loc[ind]"
   ]
  },
  {
   "cell_type": "code",
   "execution_count": 13,
   "id": "26f122c0",
   "metadata": {},
   "outputs": [],
   "source": [
    "#Extract only tweets mention KLM (@KLM etc...):\n",
    "test2 = df_datas.copy()\n",
    "ind2 = []\n",
    "for index, row in df_datas.iterrows():\n",
    "    if \"@KLM\" in row['text']:\n",
    "        ind2.append(index)\n",
    "klm_tweet_men = df_datas.loc[ind2]"
   ]
  },
  {
   "cell_type": "code",
   "execution_count": 14,
   "id": "142d52b0",
   "metadata": {},
   "outputs": [],
   "source": [
    "#Concat 2 tables:\n",
    "klm_table = pd.concat([klm_tweet, klm_tweet_men])\n",
    "klm_table.drop_duplicates(subset=['id'], inplace=True)"
   ]
  },
  {
   "cell_type": "code",
   "execution_count": 15,
   "id": "107047c2",
   "metadata": {},
   "outputs": [],
   "source": [
    "#Export the table as CSV file to import to the database\n",
    "klm_table.to_csv('../database/CSV file/klm_table.csv')"
   ]
  },
  {
   "cell_type": "markdown",
   "id": "392618ef",
   "metadata": {},
   "source": [
    "#### 5. Bristish Airways table"
   ]
  },
  {
   "cell_type": "code",
   "execution_count": 16,
   "id": "ba468c64",
   "metadata": {},
   "outputs": [],
   "source": [
    "#Extract only tweets made by BA (including posting +replying to other):\n",
    "test = df_datas.copy()\n",
    "\n",
    "ind = []\n",
    "for index, row in df_datas.iterrows():\n",
    "    if row['user']['id_str'] == '18332190':\n",
    "        ind.append(index)\n",
    "british_tweet = df_datas.loc[ind]"
   ]
  },
  {
   "cell_type": "code",
   "execution_count": 17,
   "id": "38851e45",
   "metadata": {},
   "outputs": [],
   "source": [
    "#Extract only tweets mention BA (@British_Airways etc...):\n",
    "test2 = df_datas.copy()\n",
    "ind2 = []\n",
    "for index, row in df_datas.iterrows():\n",
    "    if \"@British_Airways\" in row['text']:\n",
    "        ind2.append(index)\n",
    "british_tweet_men = df_datas.loc[ind2]"
   ]
  },
  {
   "cell_type": "code",
   "execution_count": 18,
   "id": "6004b43a",
   "metadata": {},
   "outputs": [],
   "source": [
    "#Concat 2 tables:\n",
    "british_table = pd.concat([british_tweet, british_tweet_men])\n",
    "british_table.drop_duplicates(subset=['id'], inplace=True)"
   ]
  },
  {
   "cell_type": "code",
   "execution_count": 19,
   "id": "bfa07445",
   "metadata": {},
   "outputs": [],
   "source": [
    "#Export the table as CSV file to import to the database\n",
    "british_table.to_csv('../database/CSV file/british_table.csv')"
   ]
  },
  {
   "cell_type": "markdown",
   "id": "64d9831c",
   "metadata": {},
   "source": [
    "#### 6. Users table "
   ]
  },
  {
   "cell_type": "code",
   "execution_count": null,
   "id": "d1b10dde",
   "metadata": {},
   "outputs": [],
   "source": [
    "df_datas.user"
   ]
  },
  {
   "cell_type": "code",
   "execution_count": null,
   "id": "5e018a11",
   "metadata": {},
   "outputs": [],
   "source": [
    "#Get the user table\n",
    "#This is a temporary method as it's really bad and have bad running time @Phat\n",
    "user_table = pd.concat([pd.DataFrame(df_datas.user[i], index=[i]) for i in df_datas.user.index])"
   ]
  },
  {
   "cell_type": "code",
   "execution_count": null,
   "id": "407591a8",
   "metadata": {},
   "outputs": [],
   "source": [
    "user_table.to_csv('../database/CSV file/user_table.csv')"
   ]
  }
 ],
 "metadata": {
  "kernelspec": {
   "display_name": "Python 3",
   "language": "python",
   "name": "python3"
  },
  "language_info": {
   "codemirror_mode": {
    "name": "ipython",
    "version": 3
   },
   "file_extension": ".py",
   "mimetype": "text/x-python",
   "name": "python",
   "nbconvert_exporter": "python",
   "pygments_lexer": "ipython3",
   "version": "3.8.8"
  }
 },
 "nbformat": 4,
 "nbformat_minor": 5
}
