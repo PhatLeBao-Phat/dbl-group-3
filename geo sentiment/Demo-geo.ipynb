{
 "cells": [
  {
   "cell_type": "code",
   "execution_count": 135,
   "id": "721003ed",
   "metadata": {},
   "outputs": [],
   "source": [
    "import numpy as np \n",
    "import pandas as pd \n",
    "import sqlite3\n",
    "import os \n",
    "import ast\n",
    "import sys\n",
    "from pathlib import Path\n",
    "sys.path.append(str(Path.cwd().parent))\n",
    "from Tools.conversation import start_end_customers_filter"
   ]
  },
  {
   "cell_type": "code",
   "execution_count": 136,
   "id": "34e7d643",
   "metadata": {},
   "outputs": [],
   "source": [
    "con = sqlite3.connect('../../database/database(620).db')"
   ]
  },
  {
   "cell_type": "markdown",
   "id": "fea1511d",
   "metadata": {},
   "source": [
    "#### 1. Get geo, time, sentiment score table "
   ]
  },
  {
   "cell_type": "code",
   "execution_count": 137,
   "id": "65388772",
   "metadata": {},
   "outputs": [],
   "source": [
    "query1 = \"SELECT id, place, timestamp_ms FROM general_tweets\"\n",
    "df1 = pd.read_sql_query(query1, con)"
   ]
  },
  {
   "cell_type": "code",
   "execution_count": 139,
   "id": "fb1c926d",
   "metadata": {},
   "outputs": [],
   "source": [
    "# get df\n",
    "df_geo = df1[['id', 'place']].copy().replace('', np.nan)\n",
    "df_time = df1[['id', 'timestamp_ms']].copy().replace('', np.nan)\n",
    "df1 = []"
   ]
  },
  {
   "cell_type": "code",
   "execution_count": 140,
   "id": "205c0ea8",
   "metadata": {},
   "outputs": [],
   "source": [
    "query2 = \"SELECT id, sentiment_score FROM sentiment_table\"\n",
    "df_sentiment = pd.read_sql_query(query2, con)"
   ]
  },
  {
   "cell_type": "markdown",
   "id": "ad8cd09d",
   "metadata": {},
   "source": [
    "#### 2. Get conversation table "
   ]
  },
  {
   "cell_type": "code",
   "execution_count": 141,
   "id": "03ef321e",
   "metadata": {},
   "outputs": [],
   "source": [
    "query3 = \"\"\"\n",
    "    SELECT c.id_1, c.id_2, c.id_3, c.id_4, c.id_5, c.id_6, c.id_7, \n",
    "    c.airline_id, c.airline_name, c.conversation_opener, g.timestamp_ms\n",
    "    FROM conversation as c, general_tweets as g\n",
    "    WHERE g.id == c.id_1\n",
    "\"\"\"\n",
    "df3 = pd.read_sql_query(query3, con)"
   ]
  },
  {
   "cell_type": "code",
   "execution_count": 143,
   "id": "3d60e793",
   "metadata": {},
   "outputs": [],
   "source": [
    "df_KLM = df3[df3.airline_name == 'KLM'].copy().replace('', np.nan)"
   ]
  },
  {
   "cell_type": "code",
   "execution_count": 144,
   "id": "196686a3",
   "metadata": {},
   "outputs": [],
   "source": [
    "lst = ['id_1', 'id_2', 'id_3', 'id_4', 'id_5', 'id_6', 'id_7']\n",
    "suffixes = ['_0', '_1', '_2', '_3', '_4', '_5', '_6' , '_7']\n",
    "for idx in range(len(lst)):\n",
    "    df_KLM = df_KLM.merge(right=df_geo, left_on=lst[idx], right_on='id', how='left', suffixes=(suffixes[idx], suffixes[idx + 1]))\n",
    "    df_KLM.drop(columns='id', inplace=True)"
   ]
  },
  {
   "cell_type": "markdown",
   "id": "8db2320f",
   "metadata": {},
   "source": [
    "#### 3. Extract general geo for a conversation "
   ]
  },
  {
   "cell_type": "code",
   "execution_count": 145,
   "id": "53f34121",
   "metadata": {},
   "outputs": [
    {
     "data": {
      "text/plain": [
       "(True, True)"
      ]
     },
     "execution_count": 145,
     "metadata": {},
     "output_type": "execute_result"
    }
   ],
   "source": [
    "# tweets by KLM always don't have geo information\n",
    "(df_KLM[df_KLM.conversation_opener=='airline'].place_1.isna().all(), \n",
    "df_KLM[df_KLM.conversation_opener=='airline'].place_3.isna().all())"
   ]
  },
  {
   "cell_type": "code",
   "execution_count": 146,
   "id": "a6a9cb67",
   "metadata": {},
   "outputs": [],
   "source": [
    "# loop through each row\n",
    "lst_geo = []\n",
    "for index, row in df_KLM.iterrows():\n",
    "    geo_s = pd.Series([\n",
    "        row.place_1,\n",
    "        row.place_2,\n",
    "        row.place_3,\n",
    "        row.place_4,\n",
    "        row.place_5,\n",
    "        row.place_6,\n",
    "        row.place\n",
    "    ])\n",
    "    if geo_s.isna().all():\n",
    "        geo = np.nan\n",
    "    else:\n",
    "        geo = ast.literal_eval(geo_s.dropna().iloc[0])\n",
    "    lst_geo.append(geo)"
   ]
  },
  {
   "cell_type": "code",
   "execution_count": 147,
   "id": "abc6f48e",
   "metadata": {},
   "outputs": [],
   "source": [
    "# drop an necessary columns and add geo attribute\n",
    "df_KLM.drop(columns=df_KLM.columns[11:], inplace=True)\n",
    "df_KLM['place'] = lst_geo "
   ]
  },
  {
   "cell_type": "code",
   "execution_count": 148,
   "id": "aaeb314e",
   "metadata": {},
   "outputs": [
    {
     "data": {
      "text/plain": [
       "(460, 12)"
      ]
     },
     "execution_count": 148,
     "metadata": {},
     "output_type": "execute_result"
    }
   ],
   "source": [
    "df_KLM = df_KLM.dropna(subset='place')\n",
    "df_KLM.shape # god damn we only have 460 datapoints"
   ]
  },
  {
   "cell_type": "markdown",
   "id": "17d75f02",
   "metadata": {},
   "source": [
    "#### 4. Get sentiment score change "
   ]
  },
  {
   "cell_type": "code",
   "execution_count": 175,
   "id": "886dd0ac",
   "metadata": {
    "scrolled": true
   },
   "outputs": [],
   "source": [
    "df = pd.concat([start_end_customers_filter(df_KLM), \n",
    "                df_KLM[['conversation_opener', 'timestamp_ms', 'place']].reset_index(drop=True)], \n",
    "               axis=1)"
   ]
  },
  {
   "cell_type": "code",
   "execution_count": 176,
   "id": "5f991277",
   "metadata": {},
   "outputs": [],
   "source": [
    "# fix the datatype\n",
    "df['timestamp_ms'] = pd.to_datetime(df.timestamp_ms)\n",
    "df_sentiment = df_sentiment.astype({\n",
    "    'sentiment_score' : 'float64'\n",
    "})"
   ]
  },
  {
   "cell_type": "code",
   "execution_count": 177,
   "id": "b7acc251",
   "metadata": {},
   "outputs": [
    {
     "data": {
      "text/plain": [
       "(312, 6)"
      ]
     },
     "execution_count": 177,
     "metadata": {},
     "output_type": "execute_result"
    }
   ],
   "source": [
    "# get the sentiment score for open\n",
    "df = df.merge(df_sentiment, left_on='open', right_on='id').drop(columns='id')\n",
    "df.shape"
   ]
  },
  {
   "cell_type": "code",
   "execution_count": 178,
   "id": "b9079302",
   "metadata": {},
   "outputs": [
    {
     "data": {
      "text/plain": [
       "(294, 7)"
      ]
     },
     "execution_count": 178,
     "metadata": {},
     "output_type": "execute_result"
    }
   ],
   "source": [
    "# get the sentiment score for close \n",
    "df = df.merge(df_sentiment, left_on='close', right_on='id').drop(columns='id')\n",
    "df.shape"
   ]
  },
  {
   "cell_type": "code",
   "execution_count": 179,
   "id": "debab91b",
   "metadata": {},
   "outputs": [],
   "source": [
    "df['sentiment_change'] = df['sentiment_score_y'] - df['sentiment_score_x']"
   ]
  },
  {
   "cell_type": "code",
   "execution_count": 181,
   "id": "22c3c7ca",
   "metadata": {},
   "outputs": [
    {
     "data": {
      "text/html": [
       "<div>\n",
       "<style scoped>\n",
       "    .dataframe tbody tr th:only-of-type {\n",
       "        vertical-align: middle;\n",
       "    }\n",
       "\n",
       "    .dataframe tbody tr th {\n",
       "        vertical-align: top;\n",
       "    }\n",
       "\n",
       "    .dataframe thead th {\n",
       "        text-align: right;\n",
       "    }\n",
       "</style>\n",
       "<table border=\"1\" class=\"dataframe\">\n",
       "  <thead>\n",
       "    <tr style=\"text-align: right;\">\n",
       "      <th></th>\n",
       "      <th>timestamp_ms</th>\n",
       "      <th>place</th>\n",
       "      <th>sentiment_change</th>\n",
       "    </tr>\n",
       "  </thead>\n",
       "  <tbody>\n",
       "    <tr>\n",
       "      <th>0</th>\n",
       "      <td>2019-05-27 09:47:13.179</td>\n",
       "      <td>{'id': '9f659d51e5c5deae', 'url': 'https://api...</td>\n",
       "      <td>-0.830383</td>\n",
       "    </tr>\n",
       "    <tr>\n",
       "      <th>1</th>\n",
       "      <td>2019-05-27 09:57:58.071</td>\n",
       "      <td>{'id': '9f659d51e5c5deae', 'url': 'https://api...</td>\n",
       "      <td>-0.303868</td>\n",
       "    </tr>\n",
       "    <tr>\n",
       "      <th>2</th>\n",
       "      <td>2019-05-27 10:04:50.567</td>\n",
       "      <td>{'id': '9f659d51e5c5deae', 'url': 'https://api...</td>\n",
       "      <td>-0.303868</td>\n",
       "    </tr>\n",
       "    <tr>\n",
       "      <th>3</th>\n",
       "      <td>2019-05-30 07:34:03.209</td>\n",
       "      <td>{'id': 'cd003ebe3a96fcc6', 'url': 'https://api...</td>\n",
       "      <td>1.060274</td>\n",
       "    </tr>\n",
       "    <tr>\n",
       "      <th>4</th>\n",
       "      <td>2019-05-30 13:01:59.978</td>\n",
       "      <td>{'id': '178a87b8e2eaa375', 'url': 'https://api...</td>\n",
       "      <td>-0.238914</td>\n",
       "    </tr>\n",
       "    <tr>\n",
       "      <th>...</th>\n",
       "      <td>...</td>\n",
       "      <td>...</td>\n",
       "      <td>...</td>\n",
       "    </tr>\n",
       "    <tr>\n",
       "      <th>289</th>\n",
       "      <td>2020-03-03 07:30:42.909</td>\n",
       "      <td>{'id': 'cd003ebe3a96fcc6', 'url': 'https://api...</td>\n",
       "      <td>0.584146</td>\n",
       "    </tr>\n",
       "    <tr>\n",
       "      <th>290</th>\n",
       "      <td>2020-03-05 07:26:29.002</td>\n",
       "      <td>{'id': 'cd003ebe3a96fcc6', 'url': 'https://api...</td>\n",
       "      <td>0.584146</td>\n",
       "    </tr>\n",
       "    <tr>\n",
       "      <th>291</th>\n",
       "      <td>2020-03-05 10:46:08.073</td>\n",
       "      <td>{'id': '97bcdfca1a2dca59', 'url': 'https://api...</td>\n",
       "      <td>1.788668</td>\n",
       "    </tr>\n",
       "    <tr>\n",
       "      <th>292</th>\n",
       "      <td>2020-03-10 14:59:16.494</td>\n",
       "      <td>{'id': '521b6f591c4b3ce8', 'url': 'https://api...</td>\n",
       "      <td>-0.405916</td>\n",
       "    </tr>\n",
       "    <tr>\n",
       "      <th>293</th>\n",
       "      <td>2020-03-11 10:58:20.008</td>\n",
       "      <td>{'id': '071a52d3a927a1b8', 'url': 'https://api...</td>\n",
       "      <td>-0.150718</td>\n",
       "    </tr>\n",
       "  </tbody>\n",
       "</table>\n",
       "<p>294 rows × 3 columns</p>\n",
       "</div>"
      ],
      "text/plain": [
       "               timestamp_ms  \\\n",
       "0   2019-05-27 09:47:13.179   \n",
       "1   2019-05-27 09:57:58.071   \n",
       "2   2019-05-27 10:04:50.567   \n",
       "3   2019-05-30 07:34:03.209   \n",
       "4   2019-05-30 13:01:59.978   \n",
       "..                      ...   \n",
       "289 2020-03-03 07:30:42.909   \n",
       "290 2020-03-05 07:26:29.002   \n",
       "291 2020-03-05 10:46:08.073   \n",
       "292 2020-03-10 14:59:16.494   \n",
       "293 2020-03-11 10:58:20.008   \n",
       "\n",
       "                                                 place  sentiment_change  \n",
       "0    {'id': '9f659d51e5c5deae', 'url': 'https://api...         -0.830383  \n",
       "1    {'id': '9f659d51e5c5deae', 'url': 'https://api...         -0.303868  \n",
       "2    {'id': '9f659d51e5c5deae', 'url': 'https://api...         -0.303868  \n",
       "3    {'id': 'cd003ebe3a96fcc6', 'url': 'https://api...          1.060274  \n",
       "4    {'id': '178a87b8e2eaa375', 'url': 'https://api...         -0.238914  \n",
       "..                                                 ...               ...  \n",
       "289  {'id': 'cd003ebe3a96fcc6', 'url': 'https://api...          0.584146  \n",
       "290  {'id': 'cd003ebe3a96fcc6', 'url': 'https://api...          0.584146  \n",
       "291  {'id': '97bcdfca1a2dca59', 'url': 'https://api...          1.788668  \n",
       "292  {'id': '521b6f591c4b3ce8', 'url': 'https://api...         -0.405916  \n",
       "293  {'id': '071a52d3a927a1b8', 'url': 'https://api...         -0.150718  \n",
       "\n",
       "[294 rows x 3 columns]"
      ]
     },
     "execution_count": 181,
     "metadata": {},
     "output_type": "execute_result"
    }
   ],
   "source": [
    "df[['timestamp_ms', 'place', 'sentiment_change']]"
   ]
  }
 ],
 "metadata": {
  "kernelspec": {
   "display_name": "Python 3 (ipykernel)",
   "language": "python",
   "name": "python3"
  },
  "language_info": {
   "codemirror_mode": {
    "name": "ipython",
    "version": 3
   },
   "file_extension": ".py",
   "mimetype": "text/x-python",
   "name": "python",
   "nbconvert_exporter": "python",
   "pygments_lexer": "ipython3",
   "version": "3.8.13"
  }
 },
 "nbformat": 4,
 "nbformat_minor": 5
}
