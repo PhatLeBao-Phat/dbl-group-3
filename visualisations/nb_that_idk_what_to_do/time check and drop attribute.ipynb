{
 "cells": [
  {
   "cell_type": "code",
   "execution_count": 1,
   "id": "b87e0b0f",
   "metadata": {},
   "outputs": [],
   "source": [
    "import json\n",
    "from datetime import datetime\n",
    "from dateutil.parser import parse"
   ]
  },
  {
   "cell_type": "markdown",
   "id": "1d5168fc",
   "metadata": {},
   "source": [
    "#### check whether time and date is vaild."
   ]
  },
  {
   "cell_type": "code",
   "execution_count": 2,
   "id": "548fef90",
   "metadata": {},
   "outputs": [
    {
     "ename": "FileNotFoundError",
     "evalue": "[Errno 2] No such file or directory: 'airlines-1558527599826.json'",
     "output_type": "error",
     "traceback": [
      "\u001b[1;31m---------------------------------------------------------------------------\u001b[0m",
      "\u001b[1;31mFileNotFoundError\u001b[0m                         Traceback (most recent call last)",
      "\u001b[1;32m<ipython-input-2-e482f17475dd>\u001b[0m in \u001b[0;36m<module>\u001b[1;34m\u001b[0m\n\u001b[1;32m----> 1\u001b[1;33m \u001b[0mdata\u001b[0m \u001b[1;33m=\u001b[0m \u001b[1;33m[\u001b[0m\u001b[0mjson\u001b[0m\u001b[1;33m.\u001b[0m\u001b[0mloads\u001b[0m\u001b[1;33m(\u001b[0m\u001b[0mline\u001b[0m\u001b[1;33m)\u001b[0m \u001b[1;32mfor\u001b[0m \u001b[0mline\u001b[0m \u001b[1;32min\u001b[0m \u001b[0mopen\u001b[0m\u001b[1;33m(\u001b[0m\u001b[1;34m'airlines-1558527599826.json'\u001b[0m\u001b[1;33m,\u001b[0m \u001b[1;34m'r'\u001b[0m\u001b[1;33m)\u001b[0m\u001b[1;33m]\u001b[0m\u001b[1;33m\u001b[0m\u001b[1;33m\u001b[0m\u001b[0m\n\u001b[0m\u001b[0;32m      2\u001b[0m \u001b[0mtimelst\u001b[0m \u001b[1;33m=\u001b[0m \u001b[1;33m[\u001b[0m\u001b[1;33m]\u001b[0m\u001b[1;33m\u001b[0m\u001b[1;33m\u001b[0m\u001b[0m\n\u001b[0;32m      3\u001b[0m \u001b[0mlegittimelst\u001b[0m \u001b[1;33m=\u001b[0m\u001b[1;33m[\u001b[0m\u001b[1;33m]\u001b[0m\u001b[1;33m\u001b[0m\u001b[1;33m\u001b[0m\u001b[0m\n\u001b[0;32m      4\u001b[0m \u001b[0msuccessful_counting\u001b[0m \u001b[1;33m=\u001b[0m \u001b[1;36m0\u001b[0m\u001b[1;33m\u001b[0m\u001b[1;33m\u001b[0m\u001b[0m\n\u001b[0;32m      5\u001b[0m \u001b[0munsuccessful_counting\u001b[0m \u001b[1;33m=\u001b[0m \u001b[1;36m0\u001b[0m\u001b[1;33m\u001b[0m\u001b[1;33m\u001b[0m\u001b[0m\n",
      "\u001b[1;31mFileNotFoundError\u001b[0m: [Errno 2] No such file or directory: 'airlines-1558527599826.json'"
     ]
    }
   ],
   "source": [
    "data = [json.loads(line) for line in open('airlines-1558527599826.json', 'r')]\n",
    "timelst = []\n",
    "legittimelst =[]\n",
    "successful_counting = 0\n",
    "unsuccessful_counting = 0\n",
    "\n",
    "for i in data:\n",
    "    try:\n",
    "        time = (i[\"created_at\"])\n",
    "        timelst.append(time)\n",
    "    except KeyError:\n",
    "        pass\n",
    "# for the above code, we try to loop over the time in the json file, and avoid the KeyError(tweet been deleted)\n",
    "\n",
    "for a in timelst:\n",
    "    try:\n",
    "        dt = parse(a)\n",
    "        legittimelst.append(dt)\n",
    "        successful_counting +=1\n",
    "    except ValueError:\n",
    "        unsuccessful_counting +=1\n",
    "        pass\n",
    "# for the above code, we try to transfer the json Twitter non-sense date format style to normal date format\n",
    "# At the same time, we use parse to check whether the date is vaild, bacause the parse will report error if there is a error related to date\n",
    "# two counting will count the number of succsessful case, as well as unsuccessful case\n",
    "\n",
    "# for i in legittimelst:\n",
    "#     print(i)\n",
    "\n",
    "# want to check the date&time? uncomment the above code.\n",
    "\n",
    "print(f'the number of successful case are: {successful_counting}, the number of unsuccessful case are: {unsuccessful_counting}')"
   ]
  },
  {
   "cell_type": "markdown",
   "id": "84a4a674",
   "metadata": {},
   "source": [
    "### DROP ATTRIBUTE EXAMPLE"
   ]
  },
  {
   "cell_type": "code",
   "execution_count": null,
   "id": "02adca33",
   "metadata": {},
   "outputs": [],
   "source": [
    "data = [json.loads(line) for line in open('airlines-1558527599826.json', 'r')]\n",
    "\n",
    "try:\n",
    "    for element in data: \n",
    "        if 'url' in element[\"user\"]:\n",
    "            print(\"found url\")\n",
    "        del element['user']['url']\n",
    "        print(element)\n",
    "except KeyError:\n",
    "    print(element)\n",
    "    pass"
   ]
  },
  {
   "cell_type": "code",
   "execution_count": null,
   "id": "024291aa",
   "metadata": {},
   "outputs": [],
   "source": [
    "if 'url' in element[\"user\"]:\n",
    "    print(\"url\")\n",
    "    del element['user']['url']\n",
    "    print(element)"
   ]
  },
  {
   "cell_type": "markdown",
   "id": "10e01c56",
   "metadata": {},
   "source": []
  }
 ],
 "metadata": {
  "interpreter": {
   "hash": "1532c1f9feae8e936310d7ad3aa6446f58964462502d5ab5bfbf61cdf236323e"
  },
  "kernelspec": {
   "display_name": "Python 3",
   "language": "python",
   "name": "python3"
  },
  "language_info": {
   "codemirror_mode": {
    "name": "ipython",
    "version": 3
   },
   "file_extension": ".py",
   "mimetype": "text/x-python",
   "name": "python",
   "nbconvert_exporter": "python",
   "pygments_lexer": "ipython3",
   "version": "3.8.8"
  }
 },
 "nbformat": 4,
 "nbformat_minor": 5
}
