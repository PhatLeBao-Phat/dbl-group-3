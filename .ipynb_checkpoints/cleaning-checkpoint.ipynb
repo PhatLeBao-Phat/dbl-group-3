{
 "cells": [
  {
   "cell_type": "code",
   "execution_count": 1,
   "id": "80da6030",
   "metadata": {},
   "outputs": [],
   "source": [
    "import pandas as pd\n",
    "import json \n",
    "import numpy as np \n",
    "import sqlite3\n",
    "from tools.cleaning import remove_duplicated_text"
   ]
  },
  {
   "cell_type": "code",
   "execution_count": 2,
   "id": "8c39e599",
   "metadata": {},
   "outputs": [
    {
     "ename": "OperationalError",
     "evalue": "unable to open database file",
     "output_type": "error",
     "traceback": [
      "\u001b[1;31m---------------------------------------------------------------------------\u001b[0m",
      "\u001b[1;31mOperationalError\u001b[0m                          Traceback (most recent call last)",
      "\u001b[1;32m<ipython-input-2-d7d5a648fd2b>\u001b[0m in \u001b[0;36m<module>\u001b[1;34m\u001b[0m\n\u001b[0;32m      1\u001b[0m \u001b[1;31m#Connect to the database\u001b[0m\u001b[1;33m\u001b[0m\u001b[1;33m\u001b[0m\u001b[1;33m\u001b[0m\u001b[0m\n\u001b[1;32m----> 2\u001b[1;33m \u001b[0mcon\u001b[0m \u001b[1;33m=\u001b[0m \u001b[0msqlite3\u001b[0m\u001b[1;33m.\u001b[0m\u001b[0mconnect\u001b[0m\u001b[1;33m(\u001b[0m\u001b[1;34m'..\\database\\sqlite-tools-win32-x86-3380300\\database.db'\u001b[0m\u001b[1;33m)\u001b[0m\u001b[1;33m\u001b[0m\u001b[1;33m\u001b[0m\u001b[0m\n\u001b[0m",
      "\u001b[1;31mOperationalError\u001b[0m: unable to open database file"
     ]
    }
   ],
   "source": [
    "#Connect to the database\n",
    "con = sqlite3.connect('..\\database\\sqlite-tools-win32-x86-3380300\\database.db')"
   ]
  },
  {
   "cell_type": "code",
   "execution_count": 3,
   "id": "139f36a1",
   "metadata": {},
   "outputs": [],
   "source": [
    "#Query to pull thing down \n",
    "query_gen = '''\n",
    "    SELECT *\n",
    "    FROM general_tweets \n",
    "'''\n",
    "df_data_gen = pd.read_sql_query(query_gen, con)\n",
    "\n",
    "query_klm = '''\n",
    "    SELECT *\n",
    "    FROM KLM_tweets \n",
    "'''\n",
    "df_data_klm = pd.read_sql_query(query_klm, con)\n",
    "\n",
    "query_bri = '''\n",
    "    SELECT *\n",
    "    FROM british_airways_tweets \n",
    "'''\n",
    "df_data_bri = pd.read_sql_query(query_bri, con)"
   ]
  },
  {
   "cell_type": "code",
   "execution_count": 4,
   "id": "46589e32",
   "metadata": {},
   "outputs": [],
   "source": [
    "#This database thing is fuking stupid. We need another solution\n",
    "df_data_bri.set_index('', inplace=True)\n",
    "df_data_gen.set_index('', inplace=True)\n",
    "df_data_klm.set_index('', inplace=True);"
   ]
  },
  {
   "cell_type": "code",
   "execution_count": 5,
   "id": "20b0ca6b",
   "metadata": {},
   "outputs": [
    {
     "data": {
      "text/plain": [
       "(134166, 134166)"
      ]
     },
     "execution_count": 5,
     "metadata": {},
     "output_type": "execute_result"
    }
   ],
   "source": [
    "#Drop some NA, I do remember I already did this before upload to database, but double check\n",
    "df_data_drop_na = df_data_gen.dropna(subset=['user'])\n",
    "len(df_data_gen), len(df_data_drop_na)"
   ]
  },
  {
   "cell_type": "code",
   "execution_count": 12,
   "id": "46b287ce",
   "metadata": {},
   "outputs": [],
   "source": [
    "#Use the function to remove duplicated\n",
    "df_clean_klm = remove_duplicated_text(df_data_klm)\n",
    "df_clean_bri = remove_duplicated_text(df_data_bri)\n",
    "df_clean_gen = remove_duplicated_text(df_data_gen)"
   ]
  },
  {
   "cell_type": "code",
   "execution_count": 18,
   "id": "2b19bb88",
   "metadata": {},
   "outputs": [
    {
     "data": {
      "text/plain": [
       "(134166, 134166)"
      ]
     },
     "execution_count": 18,
     "metadata": {},
     "output_type": "execute_result"
    }
   ],
   "source": [
    "len(df_clean_gen), len(df_data_gen)"
   ]
  },
  {
   "cell_type": "code",
   "execution_count": 44,
   "id": "d3bfc330",
   "metadata": {},
   "outputs": [],
   "source": [
    "#Turn to csv file to upload on database\n",
    "df_clean_klm.to_csv('../database/CSV file/clean_klm_table.csv')\n",
    "df_clean_bri.to_csv('../database/CSV file/clean_british_airways_table.csv')\n",
    "df_clean_gen.to_csv('../database/CSV file/clean_general_table.csv')"
   ]
  }
 ],
 "metadata": {
  "kernelspec": {
   "display_name": "Python 3",
   "language": "python",
   "name": "python3"
  },
  "language_info": {
   "codemirror_mode": {
    "name": "ipython",
    "version": 3
   },
   "file_extension": ".py",
   "mimetype": "text/x-python",
   "name": "python",
   "nbconvert_exporter": "python",
   "pygments_lexer": "ipython3",
   "version": "3.8.8"
  }
 },
 "nbformat": 4,
 "nbformat_minor": 5
}
