{
 "cells": [
  {
   "cell_type": "code",
   "execution_count": 15,
   "metadata": {
    "pycharm": {
     "name": "#%%\n"
    }
   },
   "outputs": [],
   "source": [
    "# I was thinking to do something fancy, get a new table or something. but I failed :(\n",
    "# and I come up with this stupid method"
   ]
  },
  {
   "cell_type": "code",
   "execution_count": 16,
   "metadata": {
    "pycharm": {
     "name": "#%%\n"
    }
   },
   "outputs": [],
   "source": [
    "import sqlite3\n",
    "import matplotlib.pyplot as plt # Pie chart"
   ]
  },
  {
   "cell_type": "code",
   "execution_count": 17,
   "metadata": {
    "pycharm": {
     "name": "#%%\n"
    }
   },
   "outputs": [
    {
     "name": "stdout",
     "output_type": "stream",
     "text": [
      "Database created and Successfully Connected to SQLite\n",
      "Error while connecting to sqlite no such table: Conversation\n",
      "The SQlite connection is closed\n"
     ]
    }
   ],
   "source": [
    "# empty list to store the tweet_id\n",
    "lst = []\n",
    "\n",
    "# a function to read limited rows of database (avoid crash in the future)\n",
    "def readLimitedRows(rowSize):\n",
    "    try:\n",
    "        # connection\n",
    "        sqliteConnection = sqlite3.connect(\"database.db\")\n",
    "        cursor = sqliteConnection.cursor()\n",
    "        print(\"Database created and Successfully Connected to SQLite\")\n",
    "\n",
    "        # read from Conversation table, and append all the tweet_id in to a lst\n",
    "        sqlite_select_Query = \"\"\"SELECT * from Conversation\"\"\"\n",
    "        cursor.execute(sqlite_select_Query)\n",
    "        print(\"Reading \", rowSize, \" rows\")\n",
    "        records = cursor.fetchmany(rowSize)\n",
    "        print(\"Printing each row \\n\")\n",
    "        for row in records:\n",
    "            print(\"tweet_id\", row[2])\n",
    "            something = row[2]\n",
    "            lst.append(something)\n",
    "            print(\"\\n\")\n",
    "\n",
    "        cursor.close()\n",
    "\n",
    "\n",
    "    except sqlite3.Error as error:\n",
    "        print(\"Error while connecting to sqlite\", error)\n",
    "    finally:\n",
    "        if sqliteConnection:\n",
    "            sqliteConnection.close()\n",
    "            print(\"The SQlite connection is closed\")\n",
    "\n",
    "# read all the rows from conversation table\n",
    "readLimitedRows(2402)"
   ]
  },
  {
   "cell_type": "code",
   "execution_count": 18,
   "metadata": {
    "pycharm": {
     "name": "#%%\n"
    }
   },
   "outputs": [
    {
     "name": "stdout",
     "output_type": "stream",
     "text": [
      "0\n"
     ]
    }
   ],
   "source": [
    "# transfer a lst to set to remove duplicate, and counting unique tweet_id\n",
    "a = list(set(lst))\n",
    "print(len(a))"
   ]
  },
  {
   "cell_type": "code",
   "execution_count": 19,
   "metadata": {
    "pycharm": {
     "name": "#%%\n"
    }
   },
   "outputs": [
    {
     "data": {
      "text/plain": [
       "0.1746880570409982"
      ]
     },
     "execution_count": 19,
     "metadata": {},
     "output_type": "execute_result"
    }
   ],
   "source": [
    "# some primary school calculation\n",
    "# all unique tweet id/ all tweet related KLM\n",
    "\n",
    "882/5049"
   ]
  },
  {
   "cell_type": "code",
   "execution_count": 20,
   "metadata": {
    "pycharm": {
     "name": "#%%\n"
    }
   },
   "outputs": [
    {
     "ename": "NameError",
     "evalue": "name 'texts' is not defined",
     "output_type": "error",
     "traceback": [
      "\u001b[1;31m---------------------------------------------------------------------------\u001b[0m",
      "\u001b[1;31mNameError\u001b[0m                                 Traceback (most recent call last)",
      "\u001b[1;32m<ipython-input-20-1efaa307a24f>\u001b[0m in \u001b[0;36m<module>\u001b[1;34m\u001b[0m\n\u001b[0;32m     15\u001b[0m \u001b[0mfig\u001b[0m\u001b[1;33m.\u001b[0m\u001b[0mgca\u001b[0m\u001b[1;33m(\u001b[0m\u001b[1;33m)\u001b[0m\u001b[1;33m.\u001b[0m\u001b[0madd_artist\u001b[0m\u001b[1;33m(\u001b[0m\u001b[0mcentre_circle\u001b[0m\u001b[1;33m)\u001b[0m\u001b[1;33m\u001b[0m\u001b[1;33m\u001b[0m\u001b[0m\n\u001b[0;32m     16\u001b[0m \u001b[1;33m\u001b[0m\u001b[0m\n\u001b[1;32m---> 17\u001b[1;33m \u001b[1;32mfor\u001b[0m \u001b[0mtext\u001b[0m \u001b[1;32min\u001b[0m \u001b[0mtexts\u001b[0m\u001b[1;33m:\u001b[0m\u001b[1;33m\u001b[0m\u001b[1;33m\u001b[0m\u001b[0m\n\u001b[0m\u001b[0;32m     18\u001b[0m     \u001b[0mtext\u001b[0m\u001b[1;33m.\u001b[0m\u001b[0mset_color\u001b[0m\u001b[1;33m(\u001b[0m\u001b[1;34m'grey'\u001b[0m\u001b[1;33m)\u001b[0m\u001b[1;33m\u001b[0m\u001b[1;33m\u001b[0m\u001b[0m\n\u001b[0;32m     19\u001b[0m \u001b[1;33m\u001b[0m\u001b[0m\n",
      "\u001b[1;31mNameError\u001b[0m: name 'texts' is not defined"
     ]
    },
    {
     "data": {
      "image/png": "[encoded data removed]",
      "text/plain": [
       "<Figure size 432x288 with 1 Axes>"
      ]
     },
     "metadata": {},
     "output_type": "display_data"
    }
   ],
   "source": [
    "\n",
    "labels = ['Number of tweet replied by KLM', 'Number of tweet related to KLM']\n",
    "sizes = [0.17468,1-0.17468]#colors\n",
    "colors = ['#ff9999','#66b3ff']\n",
    "\n",
    "explode = (0.05,0.05)\n",
    "\n",
    "fig1, ax1 = plt.subplots()\n",
    "ax1.set_title('KLM twitter team response performance')\n",
    "\n",
    "plt.pie(sizes, colors = colors, labels=labels, autopct='%1.1f%%', startangle=90, pctdistance=0.85, explode = explode)\n",
    "\n",
    "#draw circle\n",
    "centre_circle = plt.Circle((0,0),0.70,fc='white')\n",
    "fig = plt.gcf()\n",
    "fig.gca().add_artist(centre_circle)\n",
    "\n",
    "for text in texts:\n",
    "    text.set_color('grey')\n",
    "\n",
    "for autotext in autotexts:\n",
    "    autotext.set_color('grey')# Equal aspect ratio ensures that pie is drawn as a circle\n",
    "ax1.axis('equal')\n",
    "plt.tight_layout()\n",
    "plt.show()\n",
    "\n",
    "# the response rate can be analysis KLM twitter team performance"
   ]
  }
 ],
 "metadata": {
  "kernelspec": {
   "display_name": "Python 3",
   "language": "python",
   "name": "python3"
  },
  "language_info": {
   "codemirror_mode": {
    "name": "ipython",
    "version": 3
   },
   "file_extension": ".py",
   "mimetype": "text/x-python",
   "name": "python",
   "nbconvert_exporter": "python",
   "pygments_lexer": "ipython3",
   "version": "3.8.8"
  }
 },
 "nbformat": 4,
 "nbformat_minor": 1
}
