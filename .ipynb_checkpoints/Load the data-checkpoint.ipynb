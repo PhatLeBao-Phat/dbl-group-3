{
 "cells": [
  {
   "cell_type": "markdown",
   "id": "3047e492",
   "metadata": {},
   "source": [
    "#### 1. Import library"
   ]
  },
  {
   "cell_type": "code",
   "execution_count": 1,
   "id": "da94b262",
   "metadata": {},
   "outputs": [],
   "source": [
    "import os\n",
    "import pandas as pd \n",
    "import numpy as np \n",
    "from typing import Dict, List, Tuple \n",
    "import sqlite3\n",
    "import json\n",
    "from tools.cleaning import remove_duplicated_text, drop_invalid_reply\n",
    "import pickle\n",
    "import time "
   ]
  },
  {
   "cell_type": "markdown",
   "id": "9f1b1ec5",
   "metadata": {},
   "source": [
    "#### 2. Load the data onto DataFrame"
   ]
  },
  {
   "cell_type": "code",
   "execution_count": 2,
   "id": "ee220ba8",
   "metadata": {},
   "outputs": [],
   "source": [
    "def get_lst_json(path) -> List[str]:\n",
    "    \"\"\"\n",
    "    get list of path to each json file in the folder\n",
    "    \n",
    "    :parameter path: path the the folder \n",
    "    \"\"\"\n",
    "    import os\n",
    "    file_list = [f'{path}/' + i for i in os.listdir(f'{path}/')]\n",
    "    return file_list\n",
    "\n",
    "lst = get_lst_json('../data')"
   ]
  },
  {
   "cell_type": "code",
   "execution_count": null,
   "id": "254cb570",
   "metadata": {},
   "outputs": [
    {
     "name": "stdout",
     "output_type": "stream",
     "text": [
      "../data/airlines-1558527599826.json\n",
      "../data/airlines-1558546003827.json\n",
      "error\n",
      "error\n",
      "../data/airlines-1558678330070.json\n",
      "../data/airlines-1558697205154.json\n",
      "../data/airlines-1558744391657.json\n",
      "../data/airlines-1558779687636.json\n",
      "../data/airlines-1558863520888.json\n",
      "../data/airlines-1558888297881.json\n",
      "../data/airlines-1558974571041.json\n",
      "../data/airlines-1558998029487.json\n",
      "../data/airlines-1559069822287.json\n"
     ]
    }
   ],
   "source": [
    "# load the json file of one month onto dataframe \n",
    "start = time.time\n",
    "def load_json(lst_json: List[str]) -> pd.DataFrame:\n",
    "    \"\"\"load and concat all dataframe from json files\n",
    "    \"\"\"\n",
    "    dfs = [] # an empty list to store the data frames\n",
    "    for file in lst_json:\n",
    "        try:\n",
    "            data = pd.read_json(file, lines=True) # read data frame from json file \n",
    "            print(file) \n",
    "            dfs.append(data) # append the data frame to the list\n",
    "        except:\n",
    "            print('error')\n",
    "            pass\n",
    "    df_data = pd.concat(dfs, ignore_index=True) # concatenate all the data frames in the list.\n",
    "    return df_data\n",
    "\n",
    "df_data = load_json(lst)\n",
    "end = time.time\n",
    "print(end - start)"
   ]
  },
  {
   "cell_type": "code",
   "execution_count": null,
   "id": "3eea1e2c",
   "metadata": {},
   "outputs": [],
   "source": [
    "#drop invalid datapoints and reset index\n",
    "df_data = df_data.dropna(subset = [\"user\"]).reset_index(drop=True)"
   ]
  },
  {
   "cell_type": "code",
   "execution_count": null,
   "id": "47b027be",
   "metadata": {},
   "outputs": [],
   "source": [
    "#drop duplicated tweets\n",
    "df_data = df_data.drop_duplicates(subset='id') #subset for duplication check is tweet id"
   ]
  },
  {
   "cell_type": "code",
   "execution_count": null,
   "id": "8935a691",
   "metadata": {},
   "outputs": [],
   "source": [
    "#drop invalid tweets\n",
    "df_data = drop_invalid_reply(df_data)"
   ]
  },
  {
   "cell_type": "code",
   "execution_count": 17,
   "id": "37ccf459",
   "metadata": {},
   "outputs": [],
   "source": [
    "#Add the user_id attribute\n",
    "\n",
    "def build_attribute(df : pd.DataFrame, attr=['user_id']) -> pd.DataFrame:\n",
    "    \"\"\"\n",
    "    build attribute for dataframe. build user_id column\n",
    "    \n",
    "    :parameter\n",
    "    \"\"\"\n",
    "    if 'user_id' in attr:\n",
    "        df_user = [df_data.user.iloc[i].get('id') for i in range(len(df_data))]\n",
    "        df_data['user_id'] = pd.Series(df_user)\n",
    "    \n",
    "    return df_data\n",
    "\n",
    "df_data = build_attribute(df_data)"
   ]
  },
  {
   "cell_type": "code",
   "execution_count": 51,
   "id": "25c82875",
   "metadata": {},
   "outputs": [],
   "source": [
    "#create pickle files\n",
    "#@Tian please make use of pickle files so next time u don't have to load everything again - @Phat\n",
    "df_data.to_pickle('../pickle_files/everything_tweets.p')"
   ]
  },
  {
   "cell_type": "code",
   "execution_count": 9,
   "id": "dcd6ffe3",
   "metadata": {},
   "outputs": [
    {
     "name": "stdout",
     "output_type": "stream",
     "text": [
      "Time elapsed: 18.289546966552734\n"
     ]
    }
   ],
   "source": [
    "#load the pickle files back \n",
    "#@Tian don't run this one when u load data for the first time\n",
    "start = time.time()\n",
    "df_data = pd.read_pickle('../pickle_files/everything_tweets.p')\n",
    "end = time.time()\n",
    "print (\"Time elapsed:\", end - start)"
   ]
  },
  {
   "cell_type": "code",
   "execution_count": 10,
   "id": "2ea672c5",
   "metadata": {},
   "outputs": [],
   "source": [
    "#drop duplicated tweets with identical text from same users to the same original tweet\n",
    "df_data = remove_duplicated_text(df_data)"
   ]
  },
  {
   "cell_type": "code",
   "execution_count": 73,
   "id": "3c2eb3c6",
   "metadata": {},
   "outputs": [],
   "source": [
    "#drop all the tweets that are retweet\n",
    "df_data = df_data[df_data.retweeted_status.isna()]"
   ]
  },
  {
   "cell_type": "markdown",
   "id": "468b440a",
   "metadata": {},
   "source": [
    "#### 3. Store the data on .db file "
   ]
  },
  {
   "cell_type": "code",
   "execution_count": 7,
   "id": "9f9193d7",
   "metadata": {},
   "outputs": [],
   "source": [
    "# create connection and cursor \n",
    "con = sqlite3.connect('../database/sqlite-tools-win32-x86-3380300/database.db') #path to the database.db\n",
    "cur = con.cursor()"
   ]
  },
  {
   "cell_type": "markdown",
   "id": "5a7fab63",
   "metadata": {},
   "source": [
    "#### 4. KLM table "
   ]
  },
  {
   "cell_type": "code",
   "execution_count": 57,
   "id": "c8a4ba77",
   "metadata": {},
   "outputs": [],
   "source": [
    "#Extract only tweets made by KLM (including posting +replying to other):\n",
    "def extract_tweet_by_airlines(id : int, df_data : pd.DataFrame) -> pd.DataFrame:\n",
    "    \"\"\"\n",
    "    extract tweets that made by an airline\n",
    "    :parameter id: the user_id of the airline\n",
    "    :return DataFrame with one tweets made by that airline\n",
    "    \"\"\"\n",
    "    \n",
    "    ind = []\n",
    "    for index, row in df_data.iterrows():\n",
    "        if row['user']['id'] == id:\n",
    "            ind.append(index)\n",
    "    airline_tweet = df_data.loc[ind]\n",
    "    return airline_tweet\n",
    "\n",
    "klm_tweet = extract_tweet_by_airlines(56377143, df_data)"
   ]
  },
  {
   "cell_type": "code",
   "execution_count": 61,
   "id": "26f122c0",
   "metadata": {},
   "outputs": [],
   "source": [
    "#Extract only tweets mention KLM (@KLM etc...):\n",
    "def extract_tweet_mention_airlines(airline_name : str, df_data : pd.DataFrame) -> pd.DataFrame:\n",
    "    \"\"\"\n",
    "    extract tweets that made by an airline\n",
    "    :parameter airline_name: the string name of the airline\n",
    "    :return DataFrame with one tweets mention that airline\n",
    "    \"\"\"\n",
    "\n",
    "    ind2 = []\n",
    "    for index, row in df_data.iterrows():\n",
    "        if airline_name in row['text']:\n",
    "            ind2.append(index)\n",
    "    airline_tweet_men = df_data.loc[ind2]\n",
    "    return airline_tweet_men\n",
    "\n",
    "\n",
    "klm_tweet_men = extract_tweet_mention_airlines(\"@KLM\", df_data)"
   ]
  },
  {
   "cell_type": "code",
   "execution_count": 37,
   "id": "142d52b0",
   "metadata": {},
   "outputs": [],
   "source": [
    "#Concat 2 tables:\n",
    "klm_table = pd.concat([klm_tweet, klm_tweet_men])\n",
    "klm_table.drop_duplicates(subset=['id'], inplace=True)\n",
    "klm_table.reset_index(inplace=True, drop=True)"
   ]
  },
  {
   "cell_type": "code",
   "execution_count": 39,
   "id": "713930e1",
   "metadata": {},
   "outputs": [],
   "source": [
    "#Add the user_id attribute\n",
    "klm_table = build_attribute(klm_table, attr=['user_id'])"
   ]
  },
  {
   "cell_type": "markdown",
   "id": "392618ef",
   "metadata": {},
   "source": [
    "#### 5. Bristish Airways table"
   ]
  },
  {
   "cell_type": "code",
   "execution_count": 74,
   "id": "ba468c64",
   "metadata": {},
   "outputs": [],
   "source": [
    "#Extract only tweets made by BA (including posting +replying to other):\n",
    "british_tweet = extract_tweet_by_airlines(18332190, df_data)"
   ]
  },
  {
   "cell_type": "code",
   "execution_count": 76,
   "id": "38851e45",
   "metadata": {},
   "outputs": [],
   "source": [
    "#Extract only tweets mention BA (@British_Airways etc...):\n",
    "british_tweet_men = extract_tweet_mention_airlines(\"@British_Airways\", df_data)"
   ]
  },
  {
   "cell_type": "code",
   "execution_count": 45,
   "id": "6004b43a",
   "metadata": {},
   "outputs": [],
   "source": [
    "#Concat 2 tables:\n",
    "british_table = pd.concat([british_tweet, british_tweet_men])\n",
    "british_table.drop_duplicates(subset=['id'], inplace=True)\n",
    "british_table.reset_index(drop=True, inplace=True)"
   ]
  },
  {
   "cell_type": "code",
   "execution_count": 46,
   "id": "dc3b67a9",
   "metadata": {},
   "outputs": [],
   "source": [
    "#Add the user_id attribute\n",
    "british_table['user_id'] = pd.Series(british_user)"
   ]
  },
  {
   "cell_type": "markdown",
   "id": "64d9831c",
   "metadata": {},
   "source": [
    "#### 6. Users table "
   ]
  },
  {
   "cell_type": "code",
   "execution_count": 49,
   "id": "3d8fd5b4",
   "metadata": {
    "scrolled": false
   },
   "outputs": [],
   "source": [
    "#Get a list of dictionary of user information and turn them to dataframe\n",
    "user_table = [df_data.user.iloc[i] for i in range(len(df_data))]"
   ]
  },
  {
   "cell_type": "code",
   "execution_count": 50,
   "id": "fc64193b",
   "metadata": {},
   "outputs": [],
   "source": [
    "#Turn them to DataFrame and drop the duplicate\n",
    "user_table = pd.DataFrame(user_table).drop_duplicates(subset='id')"
   ]
  },
  {
   "cell_type": "code",
   "execution_count": 51,
   "id": "9b7fb964",
   "metadata": {},
   "outputs": [],
   "source": [
    "#create pickle files\n",
    "#@Tian please make use of pickle files so next time u don't have to load everything again - @Phat\n",
    "user_table.to_pickle('../pickle_files/users.p')"
   ]
  },
  {
   "cell_type": "markdown",
   "id": "4cd89b6e",
   "metadata": {},
   "source": [
    "#### 7. Drop attributes "
   ]
  },
  {
   "cell_type": "code",
   "execution_count": 93,
   "id": "289b584c",
   "metadata": {},
   "outputs": [],
   "source": [
    "attr_to_dropped = ['user']\n",
    "df_data.drop(columns=attr_to_dropped, inplace=True)"
   ]
  },
  {
   "cell_type": "markdown",
   "id": "c4f8d800",
   "metadata": {},
   "source": [
    "#### 8. Export to csv files"
   ]
  },
  {
   "cell_type": "code",
   "execution_count": null,
   "id": "54a3a978",
   "metadata": {},
   "outputs": [],
   "source": [
    "user_table.to_csv('database/CSV files/user_table.csv')"
   ]
  },
  {
   "cell_type": "code",
   "execution_count": 90,
   "id": "e2cfba8c",
   "metadata": {},
   "outputs": [],
   "source": [
    "df_data.to_csv('database/CSV files/general_tweets.csv')"
   ]
  },
  {
   "cell_type": "code",
   "execution_count": null,
   "id": "5ed2a290",
   "metadata": {},
   "outputs": [],
   "source": [
    "#Export the table as CSV file to import to the database\n",
    "klm_table.to_csv('database/CSV files/klm_table_diff.csv')"
   ]
  },
  {
   "cell_type": "code",
   "execution_count": null,
   "id": "9cd0f1fe",
   "metadata": {},
   "outputs": [],
   "source": [
    "#Export the table as CSV file to import to the database\n",
    "british_table.to_csv('database/CSV files/british_table.csv')"
   ]
  },
  {
   "cell_type": "markdown",
   "id": "dff3762a",
   "metadata": {},
   "source": [
    "#### 9 Export to pickle files "
   ]
  },
  {
   "cell_type": "code",
   "execution_count": null,
   "id": "8d2c8acd",
   "metadata": {},
   "outputs": [],
   "source": [
    "#create pickle files\n",
    "#@Tian please make use of pickle files so next time u don't have to load everything again - @Phat\n",
    "user_table.to_pickle('../pickle_files/users.p')\n",
    "df_data.to_pickle('../pickle_files/cleaned_everything_tweets.p')"
   ]
  }
 ],
 "metadata": {
  "kernelspec": {
   "display_name": "Python 3",
   "language": "python",
   "name": "python3"
  },
  "language_info": {
   "codemirror_mode": {
    "name": "ipython",
    "version": 3
   },
   "file_extension": ".py",
   "mimetype": "text/x-python",
   "name": "python",
   "nbconvert_exporter": "python",
   "pygments_lexer": "ipython3",
   "version": "3.8.8"
  }
 },
 "nbformat": 4,
 "nbformat_minor": 5
}
