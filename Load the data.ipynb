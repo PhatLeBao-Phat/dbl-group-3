{
 "cells": [
  {
   "cell_type": "markdown",
   "id": "3047e492",
   "metadata": {},
   "source": [
    "#### 1. Import library"
   ]
  },
  {
   "cell_type": "code",
   "execution_count": 1,
   "id": "da94b262",
   "metadata": {},
   "outputs": [],
   "source": [
    "import os\n",
    "import pandas as pd \n",
    "import numpy as np \n",
    "from typing import Dict, List, Tuple \n",
    "import sqlite3\n",
    "import json\n",
    "from Tools.Cleaning import remove_duplicated_text, drop_invalid_reply\n",
    "import pickle\n",
    "import time \n",
    "from Tools.sentiment_analysis import extract_sentiment_score"
   ]
  },
  {
   "cell_type": "markdown",
   "id": "9f1b1ec5",
   "metadata": {},
   "source": [
    "#### 2. Load the data onto DataFrame"
   ]
  },
  {
   "cell_type": "code",
   "execution_count": 4,
   "id": "ee220ba8",
   "metadata": {},
   "outputs": [],
   "source": [
    "def get_lst_json(path) -> List[str]:\n",
    "    \"\"\"\n",
    "    get list of path to each json file in the folder\n",
    "    \n",
    "    :parameter path: path the the folder \n",
    "    \"\"\"\n",
    "    import os\n",
    "    file_list = [f'{path}/' + i for i in os.listdir(f'{path}/')]\n",
    "    return file_list\n",
    "\n",
    "lst = get_lst_json('../data')"
   ]
  },
  {
   "cell_type": "code",
   "execution_count": 6,
   "id": "254cb570",
   "metadata": {},
   "outputs": [
    {
     "name": "stdout",
     "output_type": "stream",
     "text": [
      "../data/airlines-1558527599826.json\n",
      "../data/airlines-1558546003827.json\n",
      "error\n",
      "error\n",
      "../data/airlines-1558678330070.json\n",
      "../data/airlines-1558697205154.json\n",
      "../data/airlines-1558744391657.json\n",
      "../data/airlines-1558779687636.json\n",
      "../data/airlines-1558863520888.json\n",
      "../data/airlines-1558888297881.json\n",
      "../data/airlines-1558974571041.json\n",
      "../data/airlines-1558998029487.json\n",
      "../data/airlines-1559069822287.json\n",
      "../data/airlines-1559097885748.json\n",
      "../data/airlines-1559142170524.json\n",
      "../data/airlines-1559156713030.json\n",
      "../data/airlines-1559231904332.json\n",
      "../data/airlines-1559256655329.json\n",
      "../data/airlines-1559323725358.json\n",
      "../data/airlines-1559352498975.json\n"
     ]
    },
    {
     "ename": "TypeError",
     "evalue": "unsupported operand type(s) for -: 'builtin_function_or_method' and 'builtin_function_or_method'",
     "output_type": "error",
     "traceback": [
      "\u001b[1;31m---------------------------------------------------------------------------\u001b[0m",
      "\u001b[1;31mTypeError\u001b[0m                                 Traceback (most recent call last)",
      "\u001b[1;32m<ipython-input-6-6200d22c3bd8>\u001b[0m in \u001b[0;36m<module>\u001b[1;34m\u001b[0m\n\u001b[0;32m     18\u001b[0m \u001b[0mdf_data\u001b[0m \u001b[1;33m=\u001b[0m \u001b[0mload_json\u001b[0m\u001b[1;33m(\u001b[0m\u001b[0mlst\u001b[0m\u001b[1;33m)\u001b[0m\u001b[1;33m\u001b[0m\u001b[1;33m\u001b[0m\u001b[0m\n\u001b[0;32m     19\u001b[0m \u001b[0mend\u001b[0m \u001b[1;33m=\u001b[0m \u001b[0mtime\u001b[0m\u001b[1;33m.\u001b[0m\u001b[0mtime\u001b[0m\u001b[1;33m\u001b[0m\u001b[1;33m\u001b[0m\u001b[0m\n\u001b[1;32m---> 20\u001b[1;33m \u001b[0mprint\u001b[0m\u001b[1;33m(\u001b[0m\u001b[0mend\u001b[0m \u001b[1;33m-\u001b[0m \u001b[0mstart\u001b[0m\u001b[1;33m)\u001b[0m\u001b[1;33m\u001b[0m\u001b[1;33m\u001b[0m\u001b[0m\n\u001b[0m",
      "\u001b[1;31mTypeError\u001b[0m: unsupported operand type(s) for -: 'builtin_function_or_method' and 'builtin_function_or_method'"
     ]
    }
   ],
   "source": [
    "# load the json file of one month onto dataframe \n",
    "start = time.time()\n",
    "def load_json(lst_json: List[str]) -> pd.DataFrame:\n",
    "    \"\"\"load and concat all dataframe from json files\n",
    "    \"\"\"\n",
    "    dfs = [] # an empty list to store the data frames\n",
    "    for file in lst_json:\n",
    "        try:\n",
    "            data = pd.read_json(file, lines=True) # read data frame from json file \n",
    "            print(file) \n",
    "            dfs.append(data) # append the data frame to the list\n",
    "        except:\n",
    "            print('error')\n",
    "            pass\n",
    "    df_data = pd.concat(dfs, ignore_index=True) # concatenate all the data frames in the list.\n",
    "    return df_data\n",
    "\n",
    "df_data = load_json(lst)\n",
    "end = time.time()\n",
    "print(end - start)"
   ]
  },
  {
   "cell_type": "code",
   "execution_count": 30,
   "id": "3eea1e2c",
   "metadata": {},
   "outputs": [],
   "source": [
    "#drop invalid datapoints and reset index\n",
    "df_data = df_data.dropna(subset = [\"user\"]).reset_index(drop=True)"
   ]
  },
  {
   "cell_type": "code",
   "execution_count": 31,
   "id": "47b027be",
   "metadata": {},
   "outputs": [],
   "source": [
    "#drop duplicated tweets\n",
    "df_data = df_data.drop_duplicates(subset='id') #subset for duplication check is tweet id"
   ]
  },
  {
   "cell_type": "code",
   "execution_count": 32,
   "id": "8935a691",
   "metadata": {},
   "outputs": [
    {
     "data": {
      "text/plain": [
       "(81614, 38)"
      ]
     },
     "execution_count": 32,
     "metadata": {},
     "output_type": "execute_result"
    }
   ],
   "source": [
    "#drop invalid tweets\n",
    "df_data = drop_invalid_reply(df_data)\n",
    "df_data.shape"
   ]
  },
  {
   "cell_type": "code",
   "execution_count": 22,
   "id": "37ccf459",
   "metadata": {},
   "outputs": [],
   "source": [
    "#Add the user_id attribute\n",
    "\n",
    "def build_attribute(df : pd.DataFrame, attr=['user_id']) -> pd.DataFrame:\n",
    "    \"\"\"\n",
    "    build attribute for dataframe. build user_id column\n",
    "    \n",
    "    :parameter\n",
    "    \"\"\"\n",
    "    if 'user_id' in attr:\n",
    "        df_user = [df.user.iloc[i].get('id') for i in range(len(df))]\n",
    "        df['user_id'] = pd.Series(df_user)\n",
    "    \n",
    "    return df\n",
    "\n",
    "df_data = build_attribute(df_data)"
   ]
  },
  {
   "cell_type": "code",
   "execution_count": 51,
   "id": "25c82875",
   "metadata": {},
   "outputs": [],
   "source": [
    "#create pickle files\n",
    "#@Tian please make use of pickle files so next time u don't have to load everything again - @Phat\n",
    "df_data.to_pickle('../pickle_files/everything_tweets.p')"
   ]
  },
  {
   "cell_type": "code",
   "execution_count": 7,
   "id": "dcd6ffe3",
   "metadata": {},
   "outputs": [
    {
     "name": "stdout",
     "output_type": "stream",
     "text": [
      "Time elapsed: 18.52385115623474\n"
     ]
    }
   ],
   "source": [
    "#load the pickle files back \n",
    "#@Tian don't run this one when u load data for the first time\n",
    "start = time.time()\n",
    "df_data = pd.read_pickle('../pickle_files/everything_tweets.p')\n",
    "end = time.time()\n",
    "print (\"Time elapsed:\", end - start)"
   ]
  },
  {
   "cell_type": "code",
   "execution_count": 33,
   "id": "2ea672c5",
   "metadata": {},
   "outputs": [
    {
     "data": {
      "text/plain": [
       "(81614, 38)"
      ]
     },
     "execution_count": 33,
     "metadata": {},
     "output_type": "execute_result"
    }
   ],
   "source": [
    "#drop duplicated tweets with identical text from same users to the same original tweet\n",
    "df_data = remove_duplicated_text(df_data)\n",
    "df_data.shape"
   ]
  },
  {
   "cell_type": "code",
   "execution_count": 34,
   "id": "3c2eb3c6",
   "metadata": {},
   "outputs": [
    {
     "data": {
      "text/plain": [
       "(81614, 38)"
      ]
     },
     "execution_count": 34,
     "metadata": {},
     "output_type": "execute_result"
    }
   ],
   "source": [
    "#drop all the tweets that are retweet\n",
    "df_data = df_data[df_data.retweeted_status.isna()]\n",
    "df_data.shape"
   ]
  },
  {
   "cell_type": "code",
   "execution_count": 8,
   "id": "08e30719",
   "metadata": {},
   "outputs": [
    {
     "data": {
      "text/html": [
       "<div>\n",
       "<style scoped>\n",
       "    .dataframe tbody tr th:only-of-type {\n",
       "        vertical-align: middle;\n",
       "    }\n",
       "\n",
       "    .dataframe tbody tr th {\n",
       "        vertical-align: top;\n",
       "    }\n",
       "\n",
       "    .dataframe thead th {\n",
       "        text-align: right;\n",
       "    }\n",
       "</style>\n",
       "<table border=\"1\" class=\"dataframe\">\n",
       "  <thead>\n",
       "    <tr style=\"text-align: right;\">\n",
       "      <th></th>\n",
       "      <th>created_at</th>\n",
       "      <th>id</th>\n",
       "      <th>id_str</th>\n",
       "      <th>text</th>\n",
       "      <th>display_text_range</th>\n",
       "      <th>source</th>\n",
       "      <th>truncated</th>\n",
       "      <th>in_reply_to_status_id</th>\n",
       "      <th>in_reply_to_status_id_str</th>\n",
       "      <th>in_reply_to_user_id</th>\n",
       "      <th>...</th>\n",
       "      <th>lang</th>\n",
       "      <th>timestamp_ms</th>\n",
       "      <th>retweeted_status</th>\n",
       "      <th>extended_tweet</th>\n",
       "      <th>quoted_status_id</th>\n",
       "      <th>quoted_status_id_str</th>\n",
       "      <th>quoted_status</th>\n",
       "      <th>quoted_status_permalink</th>\n",
       "      <th>delete</th>\n",
       "      <th>user_id</th>\n",
       "    </tr>\n",
       "  </thead>\n",
       "  <tbody>\n",
       "    <tr>\n",
       "      <th>0</th>\n",
       "      <td>2019-05-22 12:20:00+00:00</td>\n",
       "      <td>1.131173e+18</td>\n",
       "      <td>1.131173e+18</td>\n",
       "      <td>La ruta de easyJet entre Londres y Menorca tra...</td>\n",
       "      <td>[0, 113]</td>\n",
       "      <td>&lt;a href=\"https://about.twitter.com/products/tw...</td>\n",
       "      <td>0.0</td>\n",
       "      <td>NaN</td>\n",
       "      <td>NaN</td>\n",
       "      <td>NaN</td>\n",
       "      <td>...</td>\n",
       "      <td>es</td>\n",
       "      <td>2019-05-22 12:20:00.406</td>\n",
       "      <td>NaN</td>\n",
       "      <td>NaN</td>\n",
       "      <td>NaN</td>\n",
       "      <td>NaN</td>\n",
       "      <td>NaN</td>\n",
       "      <td>NaN</td>\n",
       "      <td>NaN</td>\n",
       "      <td>393374091</td>\n",
       "    </tr>\n",
       "    <tr>\n",
       "      <th>1</th>\n",
       "      <td>2019-05-22 12:20:01+00:00</td>\n",
       "      <td>1.131173e+18</td>\n",
       "      <td>1.131173e+18</td>\n",
       "      <td>RT @bttr_as1: @goody_tracy Here’s a list of so...</td>\n",
       "      <td>NaN</td>\n",
       "      <td>&lt;a href=\"http://twitter.com/download/iphone\" r...</td>\n",
       "      <td>0.0</td>\n",
       "      <td>NaN</td>\n",
       "      <td>NaN</td>\n",
       "      <td>NaN</td>\n",
       "      <td>...</td>\n",
       "      <td>en</td>\n",
       "      <td>2019-05-22 12:20:01.645</td>\n",
       "      <td>{'created_at': 'Tue May 21 19:43:11 +0000 2019...</td>\n",
       "      <td>NaN</td>\n",
       "      <td>NaN</td>\n",
       "      <td>NaN</td>\n",
       "      <td>NaN</td>\n",
       "      <td>NaN</td>\n",
       "      <td>NaN</td>\n",
       "      <td>3420691215</td>\n",
       "    </tr>\n",
       "    <tr>\n",
       "      <th>2</th>\n",
       "      <td>2019-05-22 12:20:02+00:00</td>\n",
       "      <td>1.131173e+18</td>\n",
       "      <td>1.131173e+18</td>\n",
       "      <td>@British_Airways</td>\n",
       "      <td>NaN</td>\n",
       "      <td>&lt;a href=\"http://twitter.com/download/android\" ...</td>\n",
       "      <td>0.0</td>\n",
       "      <td>1.131033e+18</td>\n",
       "      <td>1.131033e+18</td>\n",
       "      <td>394376606.0</td>\n",
       "      <td>...</td>\n",
       "      <td>und</td>\n",
       "      <td>2019-05-22 12:20:02.560</td>\n",
       "      <td>NaN</td>\n",
       "      <td>NaN</td>\n",
       "      <td>NaN</td>\n",
       "      <td>NaN</td>\n",
       "      <td>NaN</td>\n",
       "      <td>NaN</td>\n",
       "      <td>NaN</td>\n",
       "      <td>394376606</td>\n",
       "    </tr>\n",
       "    <tr>\n",
       "      <th>3</th>\n",
       "      <td>2019-05-22 12:20:12+00:00</td>\n",
       "      <td>1.131173e+18</td>\n",
       "      <td>1.131173e+18</td>\n",
       "      <td>RT @TheRaceRadio: Nice change by @AmericanAir....</td>\n",
       "      <td>NaN</td>\n",
       "      <td>&lt;a href=\"http://twitter.com/download/android\" ...</td>\n",
       "      <td>0.0</td>\n",
       "      <td>NaN</td>\n",
       "      <td>NaN</td>\n",
       "      <td>NaN</td>\n",
       "      <td>...</td>\n",
       "      <td>en</td>\n",
       "      <td>2019-05-22 12:20:12.449</td>\n",
       "      <td>{'created_at': 'Wed May 22 02:53:26 +0000 2019...</td>\n",
       "      <td>NaN</td>\n",
       "      <td>NaN</td>\n",
       "      <td>NaN</td>\n",
       "      <td>NaN</td>\n",
       "      <td>NaN</td>\n",
       "      <td>NaN</td>\n",
       "      <td>36488556</td>\n",
       "    </tr>\n",
       "    <tr>\n",
       "      <th>4</th>\n",
       "      <td>2019-05-22 12:20:28+00:00</td>\n",
       "      <td>1.131173e+18</td>\n",
       "      <td>1.131173e+18</td>\n",
       "      <td>RT @sandeeprrao1991: BREAKING:-\\nKLM to fly 3x...</td>\n",
       "      <td>NaN</td>\n",
       "      <td>&lt;a href=\"https://mobile.twitter.com\" rel=\"nofo...</td>\n",
       "      <td>0.0</td>\n",
       "      <td>NaN</td>\n",
       "      <td>NaN</td>\n",
       "      <td>NaN</td>\n",
       "      <td>...</td>\n",
       "      <td>en</td>\n",
       "      <td>2019-05-22 12:20:28.237</td>\n",
       "      <td>{'created_at': 'Wed May 22 12:10:24 +0000 2019...</td>\n",
       "      <td>NaN</td>\n",
       "      <td>NaN</td>\n",
       "      <td>NaN</td>\n",
       "      <td>NaN</td>\n",
       "      <td>NaN</td>\n",
       "      <td>NaN</td>\n",
       "      <td>14193348</td>\n",
       "    </tr>\n",
       "  </tbody>\n",
       "</table>\n",
       "<p>5 rows × 38 columns</p>\n",
       "</div>"
      ],
      "text/plain": [
       "                 created_at            id        id_str  \\\n",
       "0 2019-05-22 12:20:00+00:00  1.131173e+18  1.131173e+18   \n",
       "1 2019-05-22 12:20:01+00:00  1.131173e+18  1.131173e+18   \n",
       "2 2019-05-22 12:20:02+00:00  1.131173e+18  1.131173e+18   \n",
       "3 2019-05-22 12:20:12+00:00  1.131173e+18  1.131173e+18   \n",
       "4 2019-05-22 12:20:28+00:00  1.131173e+18  1.131173e+18   \n",
       "\n",
       "                                                text display_text_range  \\\n",
       "0  La ruta de easyJet entre Londres y Menorca tra...           [0, 113]   \n",
       "1  RT @bttr_as1: @goody_tracy Here’s a list of so...                NaN   \n",
       "2                                   @British_Airways                NaN   \n",
       "3  RT @TheRaceRadio: Nice change by @AmericanAir....                NaN   \n",
       "4  RT @sandeeprrao1991: BREAKING:-\\nKLM to fly 3x...                NaN   \n",
       "\n",
       "                                              source  truncated  \\\n",
       "0  <a href=\"https://about.twitter.com/products/tw...        0.0   \n",
       "1  <a href=\"http://twitter.com/download/iphone\" r...        0.0   \n",
       "2  <a href=\"http://twitter.com/download/android\" ...        0.0   \n",
       "3  <a href=\"http://twitter.com/download/android\" ...        0.0   \n",
       "4  <a href=\"https://mobile.twitter.com\" rel=\"nofo...        0.0   \n",
       "\n",
       "   in_reply_to_status_id  in_reply_to_status_id_str  in_reply_to_user_id  ...  \\\n",
       "0                    NaN                        NaN                  NaN  ...   \n",
       "1                    NaN                        NaN                  NaN  ...   \n",
       "2           1.131033e+18               1.131033e+18          394376606.0  ...   \n",
       "3                    NaN                        NaN                  NaN  ...   \n",
       "4                    NaN                        NaN                  NaN  ...   \n",
       "\n",
       "   lang            timestamp_ms  \\\n",
       "0    es 2019-05-22 12:20:00.406   \n",
       "1    en 2019-05-22 12:20:01.645   \n",
       "2   und 2019-05-22 12:20:02.560   \n",
       "3    en 2019-05-22 12:20:12.449   \n",
       "4    en 2019-05-22 12:20:28.237   \n",
       "\n",
       "                                    retweeted_status extended_tweet  \\\n",
       "0                                                NaN            NaN   \n",
       "1  {'created_at': 'Tue May 21 19:43:11 +0000 2019...            NaN   \n",
       "2                                                NaN            NaN   \n",
       "3  {'created_at': 'Wed May 22 02:53:26 +0000 2019...            NaN   \n",
       "4  {'created_at': 'Wed May 22 12:10:24 +0000 2019...            NaN   \n",
       "\n",
       "  quoted_status_id quoted_status_id_str  quoted_status  \\\n",
       "0              NaN                  NaN            NaN   \n",
       "1              NaN                  NaN            NaN   \n",
       "2              NaN                  NaN            NaN   \n",
       "3              NaN                  NaN            NaN   \n",
       "4              NaN                  NaN            NaN   \n",
       "\n",
       "   quoted_status_permalink  delete     user_id  \n",
       "0                      NaN     NaN   393374091  \n",
       "1                      NaN     NaN  3420691215  \n",
       "2                      NaN     NaN   394376606  \n",
       "3                      NaN     NaN    36488556  \n",
       "4                      NaN     NaN    14193348  \n",
       "\n",
       "[5 rows x 38 columns]"
      ]
     },
     "execution_count": 8,
     "metadata": {},
     "output_type": "execute_result"
    }
   ],
   "source": [
    "df_data.head()"
   ]
  },
  {
   "cell_type": "markdown",
   "id": "468b440a",
   "metadata": {},
   "source": [
    "#### 3. Store the data on .db file "
   ]
  },
  {
   "cell_type": "code",
   "execution_count": 7,
   "id": "9f9193d7",
   "metadata": {},
   "outputs": [],
   "source": [
    "# create connection and cursor \n",
    "con = sqlite3.connect('../database/sqlite-tools-win32-x86-3380300/database.db') #path to the database.db\n",
    "cur = con.cursor()"
   ]
  },
  {
   "cell_type": "markdown",
   "id": "5a7fab63",
   "metadata": {},
   "source": [
    "#### 4. KLM table "
   ]
  },
  {
   "cell_type": "code",
   "execution_count": 35,
   "id": "c8a4ba77",
   "metadata": {},
   "outputs": [],
   "source": [
    "#Extract only tweets made by KLM (including posting +replying to other):\n",
    "def extract_tweet_by_airlines(id : int, df_data : pd.DataFrame) -> pd.DataFrame:\n",
    "    \"\"\"\n",
    "    extract tweets that made by an airline\n",
    "    :parameter id: the user_id of the airline\n",
    "    :return DataFrame with one tweets made by that airline\n",
    "    \"\"\"\n",
    "    \n",
    "    ind = []\n",
    "    for index, row in df_data.iterrows():\n",
    "        if row['user']['id'] == id:\n",
    "            ind.append(index)\n",
    "    airline_tweet = df_data.loc[ind]\n",
    "    return airline_tweet\n",
    "\n",
    "klm_tweet = extract_tweet_by_airlines(56377143, df_data)"
   ]
  },
  {
   "cell_type": "code",
   "execution_count": 36,
   "id": "26f122c0",
   "metadata": {},
   "outputs": [],
   "source": [
    "#Extract only tweets mention KLM (@KLM etc...):\n",
    "def extract_tweet_mention_airlines(airline_name : str, df_data : pd.DataFrame) -> pd.DataFrame:\n",
    "    \"\"\"\n",
    "    extract tweets that made by an airline\n",
    "    :parameter airline_name: the string name of the airline\n",
    "    :return DataFrame with one tweets mention that airline\n",
    "    \"\"\"\n",
    "\n",
    "    ind2 = []\n",
    "    for index, row in df_data.iterrows():\n",
    "        if airline_name in row['text']:\n",
    "            ind2.append(index)\n",
    "    airline_tweet_men = df_data.loc[ind2]\n",
    "    return airline_tweet_men\n",
    "\n",
    "\n",
    "klm_tweet_men = extract_tweet_mention_airlines(\"@KLM\", df_data)"
   ]
  },
  {
   "cell_type": "code",
   "execution_count": 37,
   "id": "142d52b0",
   "metadata": {},
   "outputs": [],
   "source": [
    "#Concat 2 tables:\n",
    "klm_table = pd.concat([klm_tweet, klm_tweet_men])\n",
    "klm_table.drop_duplicates(subset=['id'], inplace=True)\n",
    "klm_table.reset_index(inplace=True, drop=True)"
   ]
  },
  {
   "cell_type": "code",
   "execution_count": 38,
   "id": "713930e1",
   "metadata": {},
   "outputs": [],
   "source": [
    "#Add the user_id attribute\n",
    "klm_table = build_attribute(klm_table, attr=['user_id'])"
   ]
  },
  {
   "cell_type": "code",
   "execution_count": 39,
   "id": "ef499c78",
   "metadata": {},
   "outputs": [
    {
     "data": {
      "text/plain": [
       "(3274, 38)"
      ]
     },
     "execution_count": 39,
     "metadata": {},
     "output_type": "execute_result"
    }
   ],
   "source": [
    "klm_table.shape"
   ]
  },
  {
   "cell_type": "markdown",
   "id": "392618ef",
   "metadata": {},
   "source": [
    "#### 5. Bristish Airways table"
   ]
  },
  {
   "cell_type": "code",
   "execution_count": 42,
   "id": "ba468c64",
   "metadata": {},
   "outputs": [],
   "source": [
    "#Extract only tweets made by BA (including posting +replying to other):\n",
    "british_tweet = extract_tweet_by_airlines(18332190, df_data)"
   ]
  },
  {
   "cell_type": "code",
   "execution_count": 43,
   "id": "38851e45",
   "metadata": {},
   "outputs": [],
   "source": [
    "#Extract only tweets mention BA (@British_Airways etc...):\n",
    "british_tweet_men = extract_tweet_mention_airlines(\"@British_Airways\", df_data)"
   ]
  },
  {
   "cell_type": "code",
   "execution_count": 44,
   "id": "6004b43a",
   "metadata": {},
   "outputs": [],
   "source": [
    "#Concat 2 tables:\n",
    "british_table = pd.concat([british_tweet, british_tweet_men])\n",
    "british_table.drop_duplicates(subset=['id'], inplace=True)\n",
    "british_table.reset_index(drop=True, inplace=True)"
   ]
  },
  {
   "cell_type": "code",
   "execution_count": 45,
   "id": "dc3b67a9",
   "metadata": {},
   "outputs": [
    {
     "ename": "NameError",
     "evalue": "name 'british_user' is not defined",
     "output_type": "error",
     "traceback": [
      "\u001b[1;31m---------------------------------------------------------------------------\u001b[0m",
      "\u001b[1;31mNameError\u001b[0m                                 Traceback (most recent call last)",
      "\u001b[1;32m<ipython-input-45-081a1b966faf>\u001b[0m in \u001b[0;36m<module>\u001b[1;34m\u001b[0m\n\u001b[0;32m      1\u001b[0m \u001b[1;31m#Add the user_id attribute\u001b[0m\u001b[1;33m\u001b[0m\u001b[1;33m\u001b[0m\u001b[1;33m\u001b[0m\u001b[0m\n\u001b[1;32m----> 2\u001b[1;33m \u001b[0mbritish_table\u001b[0m\u001b[1;33m[\u001b[0m\u001b[1;34m'user_id'\u001b[0m\u001b[1;33m]\u001b[0m \u001b[1;33m=\u001b[0m \u001b[0mpd\u001b[0m\u001b[1;33m.\u001b[0m\u001b[0mSeries\u001b[0m\u001b[1;33m(\u001b[0m\u001b[0mbritish_user\u001b[0m\u001b[1;33m)\u001b[0m\u001b[1;33m\u001b[0m\u001b[1;33m\u001b[0m\u001b[0m\n\u001b[0m\u001b[0;32m      3\u001b[0m \u001b[0mbritish_table\u001b[0m\u001b[1;33m.\u001b[0m\u001b[0mshape\u001b[0m\u001b[1;33m\u001b[0m\u001b[1;33m\u001b[0m\u001b[0m\n",
      "\u001b[1;31mNameError\u001b[0m: name 'british_user' is not defined"
     ]
    }
   ],
   "source": [
    "#Add the user_id attribute\n",
    "british_table['user_id'] = pd.Series(british_user)\n",
    "british_table.shape"
   ]
  },
  {
   "cell_type": "markdown",
   "id": "64d9831c",
   "metadata": {},
   "source": [
    "#### 6. Users table "
   ]
  },
  {
   "cell_type": "code",
   "execution_count": null,
   "id": "3d8fd5b4",
   "metadata": {
    "scrolled": false
   },
   "outputs": [],
   "source": [
    "#Get a list of dictionary of user information and turn them to dataframe\n",
    "user_table = [df_data.user.iloc[i] for i in range(len(df_data))]"
   ]
  },
  {
   "cell_type": "code",
   "execution_count": null,
   "id": "fc64193b",
   "metadata": {},
   "outputs": [],
   "source": [
    "#Turn them to DataFrame and drop the duplicate\n",
    "user_table = pd.DataFrame(user_table).drop_duplicates(subset='id')"
   ]
  },
  {
   "cell_type": "code",
   "execution_count": null,
   "id": "9b7fb964",
   "metadata": {},
   "outputs": [],
   "source": [
    "#create pickle files\n",
    "#@Tian please make use of pickle files so next time u don't have to load everything again - @Phat\n",
    "user_table.to_pickle('../pickle_files/users.p')"
   ]
  },
  {
   "cell_type": "markdown",
   "id": "4cd89b6e",
   "metadata": {},
   "source": [
    "#### 7. Drop attributes "
   ]
  },
  {
   "cell_type": "code",
   "execution_count": 46,
   "id": "289b584c",
   "metadata": {},
   "outputs": [],
   "source": [
    "attr_to_dropped = ['user']\n",
    "df_data.drop(columns=attr_to_dropped, inplace=True)"
   ]
  },
  {
   "cell_type": "markdown",
   "id": "c4f8d800",
   "metadata": {},
   "source": [
    "#### 8. Export to csv files"
   ]
  },
  {
   "cell_type": "code",
   "execution_count": null,
   "id": "54a3a978",
   "metadata": {},
   "outputs": [],
   "source": [
    "user_table.to_csv('database/CSV files/user_table.csv')"
   ]
  },
  {
   "cell_type": "code",
   "execution_count": 6,
   "id": "e2cfba8c",
   "metadata": {},
   "outputs": [],
   "source": [
    "df_data.to_csv('database/CSV files/new_general_tweets.csv')"
   ]
  },
  {
   "cell_type": "code",
   "execution_count": null,
   "id": "5ed2a290",
   "metadata": {},
   "outputs": [],
   "source": [
    "#Export the table as CSV file to import to the database\n",
    "klm_table.to_csv('database/CSV files/klm_table_diff.csv')"
   ]
  },
  {
   "cell_type": "code",
   "execution_count": null,
   "id": "9cd0f1fe",
   "metadata": {},
   "outputs": [],
   "source": [
    "#Export the table as CSV file to import to the database\n",
    "british_table.to_csv('database/CSV files/british_table.csv')"
   ]
  },
  {
   "cell_type": "markdown",
   "id": "dff3762a",
   "metadata": {},
   "source": [
    "#### 9 Export to pickle files "
   ]
  },
  {
   "cell_type": "code",
   "execution_count": null,
   "id": "8d2c8acd",
   "metadata": {},
   "outputs": [],
   "source": [
    "#create pickle files\n",
    "#@Tian please make use of pickle files so next time u don't have to load everything again - @Phat\n",
    "user_table.to_pickle('../pickle_files/users.p')\n",
    "df_data.to_pickle('../pickle_files/cleaned_everything_tweets.p')"
   ]
  },
  {
   "cell_type": "markdown",
   "id": "2e62190f",
   "metadata": {},
   "source": [
    "#### 10. Get table for sentiment score "
   ]
  },
  {
   "cell_type": "code",
   "execution_count": 3,
   "id": "75ab68c4",
   "metadata": {},
   "outputs": [],
   "source": [
    "con = sqlite3.connect('../database/database(618).db')"
   ]
  },
  {
   "cell_type": "code",
   "execution_count": 9,
   "id": "9add2ebf",
   "metadata": {},
   "outputs": [],
   "source": [
    "query = \"\"\"\n",
    "    SELECT id, text, lang\n",
    "    FROM general_tweets\n",
    "    WHERE lang = 'en'\n",
    "\"\"\""
   ]
  },
  {
   "cell_type": "code",
   "execution_count": 10,
   "id": "76275fd8",
   "metadata": {},
   "outputs": [],
   "source": [
    "df = pd.read_sql_query(query, con)"
   ]
  },
  {
   "cell_type": "code",
   "execution_count": 12,
   "id": "8cc4ffb2",
   "metadata": {},
   "outputs": [
    {
     "data": {
      "text/html": [
       "<div>\n",
       "<style scoped>\n",
       "    .dataframe tbody tr th:only-of-type {\n",
       "        vertical-align: middle;\n",
       "    }\n",
       "\n",
       "    .dataframe tbody tr th {\n",
       "        vertical-align: top;\n",
       "    }\n",
       "\n",
       "    .dataframe thead th {\n",
       "        text-align: right;\n",
       "    }\n",
       "</style>\n",
       "<table border=\"1\" class=\"dataframe\">\n",
       "  <thead>\n",
       "    <tr style=\"text-align: right;\">\n",
       "      <th></th>\n",
       "      <th>id</th>\n",
       "      <th>text</th>\n",
       "      <th>lang</th>\n",
       "    </tr>\n",
       "  </thead>\n",
       "  <tbody>\n",
       "    <tr>\n",
       "      <th>0</th>\n",
       "      <td>1.1311730102353756e+18</td>\n",
       "      <td>EasyJet was on a slippery slope when it charge...</td>\n",
       "      <td>en</td>\n",
       "    </tr>\n",
       "    <tr>\n",
       "      <th>1</th>\n",
       "      <td>1.1311730105080627e+18</td>\n",
       "      <td>Thanks @British_Airways I really needed the ex...</td>\n",
       "      <td>en</td>\n",
       "    </tr>\n",
       "    <tr>\n",
       "      <th>2</th>\n",
       "      <td>1.1311730381946061e+18</td>\n",
       "      <td>@easyJet It is impossible to get in contact wi...</td>\n",
       "      <td>en</td>\n",
       "    </tr>\n",
       "    <tr>\n",
       "      <th>3</th>\n",
       "      <td>1.1311730651220787e+18</td>\n",
       "      <td>So @AmericanAir @EWRairport lied to an old lad...</td>\n",
       "      <td>en</td>\n",
       "    </tr>\n",
       "    <tr>\n",
       "      <th>4</th>\n",
       "      <td>1.1311731424147128e+18</td>\n",
       "      <td>And had to pay extra Ã‚Â£50 because bag wouldn...</td>\n",
       "      <td>en</td>\n",
       "    </tr>\n",
       "  </tbody>\n",
       "</table>\n",
       "</div>"
      ],
      "text/plain": [
       "                       id                                               text  \\\n",
       "0  1.1311730102353756e+18  EasyJet was on a slippery slope when it charge...   \n",
       "1  1.1311730105080627e+18  Thanks @British_Airways I really needed the ex...   \n",
       "2  1.1311730381946061e+18  @easyJet It is impossible to get in contact wi...   \n",
       "3  1.1311730651220787e+18  So @AmericanAir @EWRairport lied to an old lad...   \n",
       "4  1.1311731424147128e+18  And had to pay extra Ã‚Â£50 because bag wouldn...   \n",
       "\n",
       "  lang  \n",
       "0   en  \n",
       "1   en  \n",
       "2   en  \n",
       "3   en  \n",
       "4   en  "
      ]
     },
     "execution_count": 12,
     "metadata": {},
     "output_type": "execute_result"
    }
   ],
   "source": [
    "df.head()"
   ]
  },
  {
   "cell_type": "markdown",
   "id": "cf1a098b",
   "metadata": {},
   "source": [
    "#### 10 Sentiment analysis table "
   ]
  },
  {
   "cell_type": "code",
   "execution_count": 2,
   "id": "59d966c6",
   "metadata": {},
   "outputs": [],
   "source": [
    "con = sqlite3.connect('../database/database(618).db')"
   ]
  },
  {
   "cell_type": "code",
   "execution_count": 13,
   "id": "69c9d1d8",
   "metadata": {},
   "outputs": [],
   "source": [
    "# get all English tweets from database\n",
    "query = \"\"\"\n",
    "    SELECT id, text, lang\n",
    "    FROM general_tweets\n",
    "    WHERE lang = 'en'\n",
    "\"\"\"\n",
    "df = pd.read_sql_query(query, con)"
   ]
  },
  {
   "cell_type": "code",
   "execution_count": 14,
   "id": "23068985",
   "metadata": {
    "scrolled": true
   },
   "outputs": [
    {
     "name": "stdout",
     "output_type": "stream",
     "text": [
      "10000\n",
      "20000\n",
      "30000\n",
      "40000\n",
      "50000\n",
      "60000\n",
      "70000\n",
      "80000\n",
      "90000\n",
      "100000\n",
      "110000\n",
      "120000\n",
      "130000\n",
      "140000\n",
      "150000\n",
      "160000\n",
      "170000\n",
      "180000\n",
      "190000\n",
      "200000\n",
      "210000\n",
      "220000\n",
      "230000\n",
      "240000\n",
      "250000\n",
      "260000\n",
      "270000\n",
      "280000\n",
      "290000\n",
      "300000\n",
      "310000\n",
      "320000\n",
      "330000\n",
      "340000\n",
      "350000\n",
      "360000\n",
      "370000\n",
      "380000\n",
      "390000\n",
      "400000\n",
      "410000\n",
      "420000\n",
      "430000\n",
      "440000\n",
      "450000\n",
      "460000\n",
      "470000\n",
      "480000\n",
      "490000\n",
      "500000\n",
      "510000\n",
      "520000\n",
      "530000\n",
      "540000\n",
      "550000\n",
      "560000\n",
      "570000\n",
      "580000\n",
      "590000\n",
      "600000\n",
      "610000\n",
      "620000\n",
      "630000\n",
      "640000\n",
      "650000\n",
      "660000\n",
      "670000\n",
      "680000\n",
      "690000\n",
      "700000\n",
      "710000\n",
      "720000\n",
      "730000\n",
      "740000\n",
      "750000\n",
      "760000\n",
      "770000\n",
      "780000\n",
      "790000\n",
      "800000\n",
      "810000\n",
      "820000\n",
      "830000\n",
      "840000\n",
      "850000\n",
      "860000\n",
      "870000\n",
      "880000\n",
      "890000\n",
      "900000\n",
      "910000\n",
      "920000\n",
      "930000\n",
      "940000\n",
      "950000\n",
      "960000\n",
      "970000\n",
      "980000\n",
      "990000\n",
      "1000000\n",
      "1010000\n",
      "1020000\n",
      "1030000\n",
      "1040000\n",
      "1050000\n",
      "1060000\n",
      "1070000\n",
      "1080000\n",
      "1090000\n",
      "1100000\n",
      "1110000\n",
      "1120000\n",
      "1130000\n",
      "1140000\n",
      "1150000\n",
      "1160000\n",
      "1170000\n",
      "1180000\n",
      "1190000\n",
      "1200000\n",
      "1210000\n",
      "1220000\n",
      "1230000\n",
      "1240000\n",
      "1250000\n",
      "1260000\n",
      "1270000\n",
      "1280000\n",
      "1290000\n",
      "1300000\n",
      "1310000\n",
      "1320000\n",
      "1330000\n",
      "1340000\n",
      "1350000\n",
      "1360000\n",
      "1370000\n",
      "1380000\n",
      "1390000\n",
      "1400000\n",
      "1410000\n",
      "1420000\n",
      "1430000\n",
      "1440000\n",
      "1450000\n",
      "1460000\n",
      "1470000\n",
      "1480000\n",
      "1490000\n",
      "1500000\n",
      "1510000\n",
      "1520000\n",
      "1530000\n",
      "1540000\n",
      "1550000\n",
      "1560000\n",
      "1570000\n",
      "1580000\n",
      "1590000\n",
      "1600000\n",
      "1610000\n",
      "1620000\n",
      "1630000\n",
      "1640000\n",
      "1650000\n",
      "1660000\n",
      "1670000\n",
      "1680000\n",
      "1690000\n",
      "1700000\n",
      "1710000\n",
      "1720000\n",
      "1730000\n",
      "1740000\n",
      "1750000\n",
      "1760000\n",
      "1770000\n",
      "1780000\n",
      "1790000\n",
      "1800000\n",
      "1810000\n",
      "1820000\n",
      "1830000\n",
      "1840000\n",
      "1850000\n",
      "1860000\n",
      "1870000\n",
      "1880000\n",
      "1890000\n",
      "1900000\n",
      "1910000\n",
      "1920000\n",
      "1930000\n",
      "1940000\n",
      "1950000\n",
      "1960000\n",
      "1970000\n",
      "1980000\n",
      "1990000\n",
      "2000000\n",
      "2010000\n",
      "2020000\n",
      "2030000\n",
      "2040000\n",
      "2050000\n",
      "2060000\n",
      "2070000\n",
      "2080000\n",
      "2090000\n",
      "2100000\n",
      "2110000\n",
      "2120000\n",
      "2130000\n",
      "2140000\n",
      "2150000\n",
      "2160000\n",
      "2170000\n"
     ]
    },
    {
     "data": {
      "text/plain": [
       "89653.67207574844"
      ]
     },
     "execution_count": 14,
     "metadata": {},
     "output_type": "execute_result"
    }
   ],
   "source": [
    "# extract sentiment score and label\n",
    "lst_label = []\n",
    "lst_score = []\n",
    "start = time.time()\n",
    "count = 0\n",
    "for text in df['text']:\n",
    "    count += 1\n",
    "    if count%10000 == 0:\n",
    "        print(count)\n",
    "    tup = extract_sentiment_score(text)\n",
    "    lst_label.append(tup[0])\n",
    "    lst_score.append(tup[1])\n",
    "\n",
    "# attach to df \n",
    "df.loc[:, 'label'] = lst_label\n",
    "df.loc[:, 'sentiment_score'] = lst_score\n",
    "end = time.time()\n",
    "end - start"
   ]
  },
  {
   "cell_type": "code",
   "execution_count": 19,
   "id": "3881371a",
   "metadata": {},
   "outputs": [],
   "source": [
    "# drop unecessary cols and change datatype\n",
    "df = df.drop(columns=['text', 'lang'])\n",
    "df = df.astype({\n",
    "    'id' : 'float64'\n",
    "})"
   ]
  },
  {
   "cell_type": "code",
   "execution_count": 22,
   "id": "d8d6fd83",
   "metadata": {},
   "outputs": [],
   "source": [
    "# save as pickle file \n",
    "df.to_pickle('../pickle_files/sentiment_table.p')"
   ]
  },
  {
   "cell_type": "code",
   "execution_count": 24,
   "id": "c129efc1",
   "metadata": {},
   "outputs": [],
   "source": [
    "# save as csv\n",
    "df.to_csv('../csv_files/sentiment_table.csv')"
   ]
  },
  {
   "cell_type": "code",
   "execution_count": 25,
   "id": "e2d8a701",
   "metadata": {},
   "outputs": [],
   "source": [
    "test = pd.read_pickle('../pickle_files/sentiment_table.p')"
   ]
  }
 ],
 "metadata": {
  "kernelspec": {
   "display_name": "Python 3 (ipykernel)",
   "language": "python",
   "name": "python3"
  },
  "language_info": {
   "codemirror_mode": {
    "name": "ipython",
    "version": 3
   },
   "file_extension": ".py",
   "mimetype": "text/x-python",
   "name": "python",
   "nbconvert_exporter": "python",
   "pygments_lexer": "ipython3",
   "version": "3.8.13"
  }
 },
 "nbformat": 4,
 "nbformat_minor": 5
}
