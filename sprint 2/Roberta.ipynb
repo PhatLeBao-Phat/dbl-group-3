{
 "cells": [
  {
   "cell_type": "code",
<<<<<<< HEAD
   "execution_count": 10,
=======
   "execution_count": 3,
>>>>>>> fd356af472ab1adc8a68efd63a0de6ddfc496eb6
   "id": "096da5b9",
   "metadata": {},
   "outputs": [],
   "source": [
    "from transformers import AutoTokenizer, AutoModelForSequenceClassification\n",
    "from scipy.special import softmax\n",
    "import numpy as np\n",
    "import pandas as pd\n",
    "import sqlite3\n",
    "import os \n",
    "import re\n",
    "from preprocessing import preprocessing_text\n",
    "from typing import Tuple, Dict, List\n",
    "import time\n",
    "import matplotlib as mpl\n",
    "import matplotlib.pyplot as plt\n",
    "import seaborn as sns \n"
   ]
  },
  {
   "cell_type": "markdown",
   "id": "b1014296",
   "metadata": {},
   "source": [
    "#### 1. import the Roberta Model"
   ]
  },
  {
   "cell_type": "code",
<<<<<<< HEAD
   "execution_count": 11,
=======
   "execution_count": 4,
>>>>>>> fd356af472ab1adc8a68efd63a0de6ddfc496eb6
   "id": "44884f9c",
   "metadata": {},
   "outputs": [],
   "source": [
    "roberta = 'cardiffnlp/twitter-roberta-base-sentiment'"
   ]
  },
  {
   "cell_type": "code",
<<<<<<< HEAD
   "execution_count": 12,
=======
   "execution_count": 5,
>>>>>>> fd356af472ab1adc8a68efd63a0de6ddfc496eb6
   "id": "417c4de8",
   "metadata": {},
   "outputs": [],
   "source": [
    "model = AutoModelForSequenceClassification.from_pretrained(roberta)"
   ]
  },
  {
   "cell_type": "code",
<<<<<<< HEAD
   "execution_count": 13,
=======
   "execution_count": 6,
>>>>>>> fd356af472ab1adc8a68efd63a0de6ddfc496eb6
   "id": "0753ac24",
   "metadata": {},
   "outputs": [],
   "source": [
    "tokenizer = AutoTokenizer.from_pretrained(roberta)"
   ]
  },
  {
   "cell_type": "markdown",
   "id": "7672571f",
   "metadata": {},
   "source": [
    "#### 2. Preprocessing text"
   ]
  },
  {
   "cell_type": "code",
<<<<<<< HEAD
   "execution_count": 14,
=======
   "execution_count": 7,
>>>>>>> fd356af472ab1adc8a68efd63a0de6ddfc496eb6
   "id": "cb047957",
   "metadata": {},
   "outputs": [],
   "source": [
    "from preprocessing import preprocessing_text"
   ]
  },
  {
   "cell_type": "markdown",
   "id": "2db7d393",
   "metadata": {},
   "source": [
    "#### 3. Functions to extract sentiment scores "
   ]
  },
  {
   "cell_type": "code",
<<<<<<< HEAD
   "execution_count": 15,
=======
   "execution_count": 8,
>>>>>>> fd356af472ab1adc8a68efd63a0de6ddfc496eb6
   "id": "19e14f7a",
   "metadata": {},
   "outputs": [],
   "source": [
    "def extract_sentiment_score(text: str) -> Tuple:\n",
    "    \"\"\"\n",
    "    extract the sentiment score for a input text\n",
    "    ----------\n",
    "    param: text\n",
    "    return: return tuple (labels, polarity)\n",
    "        labels: can be ['Negative', 'Neutral', 'Positive']\n",
    "        polarity: can be between 0 and 1\n",
    "    \"\"\"\n",
    "    # preprocessing\n",
    "    text = preprocessing_text(text)\n",
    "    #extract score\n",
    "    labels = ['Negative', 'Neutral', 'Positive']\n",
    "    encoded_input = tokenizer(text, return_tensors='pt')\n",
    "    output = model(**encoded_input)\n",
    "    scores = softmax(output[0][0].detach().numpy())\n",
    "    ranking = np.argsort(scores)[-1]\n",
    "    l = labels[ranking]\n",
    "    a = np.array([-1, 0, 1])\n",
    "    polarity = sum([i*j for i, j in zip(scores, a)])\n",
    "    return (l, polarity)"
   ]
  },
  {
   "cell_type": "markdown",
   "id": "81651005",
   "metadata": {},
   "source": [
    "#### 4. Connect to the database"
   ]
  },
  {
   "cell_type": "code",
<<<<<<< HEAD
   "execution_count": 16,
=======
   "execution_count": 9,
>>>>>>> fd356af472ab1adc8a68efd63a0de6ddfc496eb6
   "id": "eb36e603",
   "metadata": {},
   "outputs": [],
   "source": [
    "con = sqlite3.connect('../../database/database.db')"
   ]
  },
  {
   "cell_type": "code",
   "execution_count": 10,
   "id": "435e30ad",
   "metadata": {},
   "outputs": [],
   "source": [
    "# get KLM tables\n",
    "df = pd.read_sql_query('''\n",
    "    SELECT id, text, user_id, lang\n",
    "    FROM KLM_tweets\n",
    "''', con)"
   ]
  },
  {
   "cell_type": "code",
   "execution_count": 11,
   "id": "40adc0f5",
   "metadata": {},
   "outputs": [],
   "source": [
    "# change datatype\n",
    "df = df.astype({\n",
    "    'id' : 'float64',\n",
    "    'user_id' : 'float64'\n",
    "})\n",
    "df = df.astype({\n",
    "    'user_id' : 'Int64'\n",
    "})"
   ]
  },
  {
   "cell_type": "code",
   "execution_count": 10,
   "id": "acc39f1f",
   "metadata": {},
   "outputs": [
    {
     "data": {
      "text/plain": [
       "(65659, 4)"
      ]
     },
     "execution_count": 10,
     "metadata": {},
     "output_type": "execute_result"
    }
   ],
   "source": [
    "# extract only tweets made by customers\n",
    "df = df[df.user_id != 56377143]\n",
    "df = df[df.lang == 'en']\n",
    "df.shape"
   ]
  },
  {
   "cell_type": "code",
   "execution_count": 12,
   "id": "b0d23485",
   "metadata": {},
   "outputs": [],
   "source": [
    "df_light = df[:1000]"
   ]
  },
  {
   "cell_type": "code",
   "execution_count": 13,
   "id": "585c290c",
   "metadata": {},
   "outputs": [
    {
     "data": {
      "text/html": [
       "<div>\n",
       "<style scoped>\n",
       "    .dataframe tbody tr th:only-of-type {\n",
       "        vertical-align: middle;\n",
       "    }\n",
       "\n",
       "    .dataframe tbody tr th {\n",
       "        vertical-align: top;\n",
       "    }\n",
       "\n",
       "    .dataframe thead th {\n",
       "        text-align: right;\n",
       "    }\n",
       "</style>\n",
       "<table border=\"1\" class=\"dataframe\">\n",
       "  <thead>\n",
       "    <tr style=\"text-align: right;\">\n",
       "      <th></th>\n",
       "      <th>id</th>\n",
       "      <th>text</th>\n",
       "      <th>user_id</th>\n",
       "      <th>lang</th>\n",
       "    </tr>\n",
       "  </thead>\n",
       "  <tbody>\n",
       "    <tr>\n",
       "      <th>0</th>\n",
       "      <td>1.131174e+18</td>\n",
       "      <td>@Pelusitaaaa1 Hoi!  Enkel KLM/Air France-vluch...</td>\n",
       "      <td>56377143</td>\n",
       "      <td>nl</td>\n",
       "    </tr>\n",
       "    <tr>\n",
       "      <th>1</th>\n",
       "      <td>1.131185e+18</td>\n",
       "      <td>@Pelusitaaaa1 We helpen je graag. Kan je ons e...</td>\n",
       "      <td>56377143</td>\n",
       "      <td>nl</td>\n",
       "    </tr>\n",
       "    <tr>\n",
       "      <th>2</th>\n",
       "      <td>1.131188e+18</td>\n",
       "      <td>@addblackman We understand that you would pref...</td>\n",
       "      <td>56377143</td>\n",
       "      <td>en</td>\n",
       "    </tr>\n",
       "    <tr>\n",
       "      <th>3</th>\n",
       "      <td>1.131188e+18</td>\n",
       "      <td>@CarlosMosig Con el fin de evitar errores noso...</td>\n",
       "      <td>56377143</td>\n",
       "      <td>es</td>\n",
       "    </tr>\n",
       "    <tr>\n",
       "      <th>4</th>\n",
       "      <td>1.131188e+18</td>\n",
       "      <td>@addblackman We do understand that some passen...</td>\n",
       "      <td>56377143</td>\n",
       "      <td>en</td>\n",
       "    </tr>\n",
       "  </tbody>\n",
       "</table>\n",
       "</div>"
      ],
      "text/plain": [
       "             id                                               text   user_id  \\\n",
       "0  1.131174e+18  @Pelusitaaaa1 Hoi!  Enkel KLM/Air France-vluch...  56377143   \n",
       "1  1.131185e+18  @Pelusitaaaa1 We helpen je graag. Kan je ons e...  56377143   \n",
       "2  1.131188e+18  @addblackman We understand that you would pref...  56377143   \n",
       "3  1.131188e+18  @CarlosMosig Con el fin de evitar errores noso...  56377143   \n",
       "4  1.131188e+18  @addblackman We do understand that some passen...  56377143   \n",
       "\n",
       "  lang  \n",
       "0   nl  \n",
       "1   nl  \n",
       "2   en  \n",
       "3   es  \n",
       "4   en  "
      ]
     },
     "execution_count": 13,
     "metadata": {},
     "output_type": "execute_result"
    }
   ],
   "source": [
    "df_light.head()"
   ]
  },
  {
   "cell_type": "code",
   "execution_count": 14,
   "id": "fd304adb",
   "metadata": {},
   "outputs": [
    {
     "name": "stdout",
     "output_type": "stream",
     "text": [
      "100\n",
      "500\n",
      "1000\n"
     ]
    },
    {
     "data": {
      "text/plain": [
       "137.79255628585815"
      ]
     },
     "execution_count": 14,
     "metadata": {},
     "output_type": "execute_result"
    }
   ],
   "source": [
    "lst_label = []\n",
    "lst_score = []\n",
    "start = time.time()\n",
    "count = 0\n",
    "for text in df_light['text']:\n",
    "    count += 1\n",
    "    if count == 100 or count == 500 or count == 1000 or count == 2000:\n",
    "        print(count)\n",
    "    tup = extract_sentiment_score(text)\n",
    "    lst_label.append(tup[0])\n",
    "    lst_score.append(tup[1])\n",
    "end = time.time()\n",
    "end - start"
   ]
  },
  {
   "cell_type": "code",
   "execution_count": 17,
   "id": "03fdd919",
   "metadata": {},
   "outputs": [
    {
     "name": "stderr",
     "output_type": "stream",
     "text": [
      "C:\\Users\\PC\\anaconda3\\lib\\site-packages\\pandas\\core\\indexing.py:1597: SettingWithCopyWarning: \n",
      "A value is trying to be set on a copy of a slice from a DataFrame.\n",
      "Try using .loc[row_indexer,col_indexer] = value instead\n",
      "\n",
      "See the caveats in the documentation: https://pandas.pydata.org/pandas-docs/stable/user_guide/indexing.html#returning-a-view-versus-a-copy\n",
      "  self.obj[key] = value\n",
      "C:\\Users\\PC\\anaconda3\\lib\\site-packages\\pandas\\core\\indexing.py:1676: SettingWithCopyWarning: \n",
      "A value is trying to be set on a copy of a slice from a DataFrame.\n",
      "Try using .loc[row_indexer,col_indexer] = value instead\n",
      "\n",
      "See the caveats in the documentation: https://pandas.pydata.org/pandas-docs/stable/user_guide/indexing.html#returning-a-view-versus-a-copy\n",
      "  self._setitem_single_column(ilocs[0], value, pi)\n"
     ]
    }
   ],
   "source": [
    "df_light.loc[:, 'label'] = lst_label\n",
    "df_light.loc[:, 'sentiment_score'] = lst_score"
   ]
  },
  {
   "cell_type": "code",
   "execution_count": 14,
   "id": "ebeb306c",
   "metadata": {},
   "outputs": [
    {
     "name": "stdout",
     "output_type": "stream",
     "text": [
      "100\n",
      "500\n",
      "1000\n"
     ]
    },
    {
     "name": "stderr",
     "output_type": "stream",
     "text": [
      "C:\\Users\\PC\\anaconda3\\lib\\site-packages\\pandas\\core\\indexing.py:1597: SettingWithCopyWarning: \n",
      "A value is trying to be set on a copy of a slice from a DataFrame.\n",
      "Try using .loc[row_indexer,col_indexer] = value instead\n",
      "\n",
      "See the caveats in the documentation: https://pandas.pydata.org/pandas-docs/stable/user_guide/indexing.html#returning-a-view-versus-a-copy\n",
      "  self.obj[key] = value\n",
      "C:\\Users\\PC\\anaconda3\\lib\\site-packages\\pandas\\core\\indexing.py:1676: SettingWithCopyWarning: \n",
      "A value is trying to be set on a copy of a slice from a DataFrame.\n",
      "Try using .loc[row_indexer,col_indexer] = value instead\n",
      "\n",
      "See the caveats in the documentation: https://pandas.pydata.org/pandas-docs/stable/user_guide/indexing.html#returning-a-view-versus-a-copy\n",
      "  self._setitem_single_column(ilocs[0], value, pi)\n"
     ]
    }
   ],
   "source": [
    "# Do the samething but for British Airways \n",
    "df_bri = pd.read_sql_query('''\n",
    "    SELECT id, text, user_id, lang\n",
    "    FROM british_airways_tweets\n",
    "''', con)\n",
    "df_bri = df_bri.astype({\n",
    "    'id' : 'float64',\n",
    "    'user_id' : 'float64'\n",
    "})\n",
    "df_bri = df_bri.astype({\n",
    "    'user_id' : 'Int64'\n",
    "})\n",
    "df_bri = df_bri[df_bri.user_id != 18332190]\n",
    "df_bri = df_bri[df_bri.lang == 'en']\n",
    "df_light_bri = df_bri[:1000]\n",
    "lst_label = []\n",
    "lst_score = []\n",
    "count = 0\n",
    "for text in df_light_bri['text']:\n",
    "    count += 1\n",
    "    if count == 100 or count == 500 or count == 1000 or count == 2000:\n",
    "        print(count)\n",
    "    tup = extract_sentiment_score(text)\n",
    "    lst_label.append(tup[0])\n",
    "    lst_score.append(tup[1])\n",
    "df_light_bri.loc[:, 'label'] = lst_label\n",
    "df_light_bri.loc[:, 'sentiment_score'] = lst_score"
   ]
  },
  {
   "cell_type": "markdown",
   "id": "cd2254d2",
   "metadata": {},
   "source": [
    "#### 5. Conversation analysis"
   ]
  },
  {
   "cell_type": "code",
   "execution_count": 15,
   "id": "4e2bc18e",
   "metadata": {},
   "outputs": [],
   "source": [
    "conversation = pd.read_sql_query(\"\"\"\n",
    "    SELECT airline_name, conversation_opener, id_1, id_2, id_3, id_4, id_5, id_6, id_7\n",
    "    FROM conversation\n",
    "\"\"\", con)"
   ]
  },
  {
   "cell_type": "code",
   "execution_count": 16,
   "id": "7669e01a",
   "metadata": {},
   "outputs": [],
   "source": [
    "# filter only KLM conversation \n",
    "conversation = conversation[conversation.airline_name == 'KLM']\n",
    "conversation.head();"
   ]
  },
  {
   "cell_type": "code",
   "execution_count": 17,
   "id": "ca65a3b5",
   "metadata": {},
   "outputs": [],
   "source": [
    "conversation = conversation.astype({\n",
    "    'id_1' : 'float64',\n",
    "    'id_2' : 'float64',\n",
    "    'id_3' : 'float64',\n",
    "    'id_4' : 'float64',\n",
    "    'id_5' : 'float64',\n",
    "    'id_6' : 'float64',\n",
    "    'id_7' : 'float64'\n",
    "})\n",
    "\n",
    "conversation.dtypes;"
   ]
  },
  {
   "cell_type": "code",
   "execution_count": 18,
   "id": "abcd27a8",
   "metadata": {},
   "outputs": [],
   "source": [
    "def start_end_customers_filter(df : pd.DataFrame) -> pd.DataFrame:\n",
    "    \"\"\"\n",
    "    filter each conversation with the start and end tweets by customers \n",
    "    ---------\n",
    "    param: df : conversation dataframe with all the id of tweets in a conversation\n",
    "    return: a df with 2 attributes \n",
    "        open_tweet_sentiment : score of tweet at the start of conversation by customers\n",
    "        closed_tweet_sentiment : score of tweet at the end of conversation by customers \n",
    "    \"\"\"\n",
    "    lst_open = []\n",
    "    lst_close = []\n",
    "    for index, row in df.iterrows():\n",
    "        # get id of the opening\n",
    "        if row.conversation_opener == 'customer':\n",
    "            open = row.id_1\n",
    "            if pd.notna(row.id_7):\n",
    "                close = row.id_7\n",
    "            elif pd.notna(row.id_5):\n",
    "                close = row.id_5\n",
    "            else:\n",
    "                close = row.id_3\n",
    "        else:\n",
    "            open = row.id_2\n",
    "            if pd.notna(row.id_6):\n",
    "                close = row.id_6\n",
    "            else:\n",
    "                close = row.id_4\n",
    "        lst_open.append(open)\n",
    "        lst_close.append(close)\n",
    "    \n",
    "    open_close_df = pd.DataFrame({\n",
    "        'open' : lst_open,\n",
    "        'close' : lst_close\n",
    "    })\n",
    "    return open_close_df\n",
    "    \n",
    "        \n"
   ]
  },
  {
   "cell_type": "code",
   "execution_count": 19,
   "id": "7187589d",
   "metadata": {},
   "outputs": [],
   "source": [
    "sen_score = df_light[['id', 'sentiment_score']].copy()"
   ]
  },
  {
   "cell_type": "code",
   "execution_count": 20,
   "id": "ebe06b8c",
   "metadata": {},
   "outputs": [
    {
     "data": {
      "text/plain": [
       "(6917, 2)"
      ]
     },
     "execution_count": 20,
     "metadata": {},
     "output_type": "execute_result"
    }
   ],
   "source": [
    "# filter open close df\n",
    "open_close_df = start_end_customers_filter(conversation)\n",
    "open_close_df.shape"
   ]
  },
  {
   "cell_type": "code",
   "execution_count": 21,
   "id": "7ad382f4",
   "metadata": {},
   "outputs": [],
   "source": [
    "# get sentiment score for open tweet\n",
    "a = open_close_df.merge(right=sen_score, left_on='open', right_on='id', how='left')\n",
    "a.dropna(subset=['sentiment_score'], inplace=True)\n"
   ]
  },
  {
   "cell_type": "code",
   "execution_count": 22,
   "id": "4c5ec936",
   "metadata": {},
   "outputs": [
    {
     "data": {
      "text/plain": [
       "(84, 6)"
      ]
     },
     "execution_count": 22,
     "metadata": {},
     "output_type": "execute_result"
    }
   ],
   "source": [
    "# get sentiment score for close tweet\n",
    "a = a.merge(right=sen_score, left_on='close', right_on='id', how='left', suffixes=('_open', '_close'))\n",
    "a.dropna(subset=['sentiment_score_close'], inplace=True)\n",
    "a.shape"
   ]
  },
  {
   "cell_type": "code",
   "execution_count": 23,
   "id": "78ee1243",
   "metadata": {},
   "outputs": [],
   "source": [
    "a.drop(columns=['id_open', 'id_close'], inplace=True)\n",
    "a['sentiment_change'] = a.sentiment_score_close - a.sentiment_score_open"
   ]
  },
  {
   "cell_type": "code",
   "execution_count": 24,
   "id": "b2685ee7",
   "metadata": {},
   "outputs": [],
   "source": [
    "a['positive_change'] = a.sentiment_change > 0"
   ]
  },
  {
   "cell_type": "code",
   "execution_count": 25,
   "id": "ce98bde3",
   "metadata": {},
   "outputs": [
    {
     "data": {
      "text/html": [
       "<div>\n",
       "<style scoped>\n",
       "    .dataframe tbody tr th:only-of-type {\n",
       "        vertical-align: middle;\n",
       "    }\n",
       "\n",
       "    .dataframe tbody tr th {\n",
       "        vertical-align: top;\n",
       "    }\n",
       "\n",
       "    .dataframe thead th {\n",
       "        text-align: right;\n",
       "    }\n",
       "</style>\n",
       "<table border=\"1\" class=\"dataframe\">\n",
       "  <thead>\n",
       "    <tr style=\"text-align: right;\">\n",
       "      <th></th>\n",
       "      <th>open</th>\n",
       "      <th>close</th>\n",
       "      <th>sentiment_score_open</th>\n",
       "      <th>sentiment_score_close</th>\n",
       "      <th>sentiment_change</th>\n",
       "      <th>positive_change</th>\n",
       "    </tr>\n",
       "  </thead>\n",
       "  <tbody>\n",
       "    <tr>\n",
       "      <th>0</th>\n",
       "      <td>1.131282e+18</td>\n",
       "      <td>1.131286e+18</td>\n",
       "      <td>0.683755</td>\n",
       "      <td>0.871838</td>\n",
       "      <td>0.188083</td>\n",
       "      <td>True</td>\n",
       "    </tr>\n",
       "    <tr>\n",
       "      <th>1</th>\n",
       "      <td>1.131284e+18</td>\n",
       "      <td>1.131286e+18</td>\n",
       "      <td>0.925672</td>\n",
       "      <td>0.871838</td>\n",
       "      <td>-0.053834</td>\n",
       "      <td>False</td>\n",
       "    </tr>\n",
       "    <tr>\n",
       "      <th>2</th>\n",
       "      <td>1.131284e+18</td>\n",
       "      <td>1.131286e+18</td>\n",
       "      <td>0.925672</td>\n",
       "      <td>0.871838</td>\n",
       "      <td>-0.053834</td>\n",
       "      <td>False</td>\n",
       "    </tr>\n",
       "    <tr>\n",
       "      <th>3</th>\n",
       "      <td>1.131450e+18</td>\n",
       "      <td>1.131453e+18</td>\n",
       "      <td>0.710891</td>\n",
       "      <td>0.978812</td>\n",
       "      <td>0.267921</td>\n",
       "      <td>True</td>\n",
       "    </tr>\n",
       "    <tr>\n",
       "      <th>4</th>\n",
       "      <td>1.131492e+18</td>\n",
       "      <td>1.131495e+18</td>\n",
       "      <td>0.885223</td>\n",
       "      <td>0.662562</td>\n",
       "      <td>-0.222661</td>\n",
       "      <td>False</td>\n",
       "    </tr>\n",
       "  </tbody>\n",
       "</table>\n",
       "</div>"
      ],
      "text/plain": [
       "           open         close  sentiment_score_open  sentiment_score_close  \\\n",
       "0  1.131282e+18  1.131286e+18              0.683755               0.871838   \n",
       "1  1.131284e+18  1.131286e+18              0.925672               0.871838   \n",
       "2  1.131284e+18  1.131286e+18              0.925672               0.871838   \n",
       "3  1.131450e+18  1.131453e+18              0.710891               0.978812   \n",
       "4  1.131492e+18  1.131495e+18              0.885223               0.662562   \n",
       "\n",
       "   sentiment_change  positive_change  \n",
       "0          0.188083             True  \n",
       "1         -0.053834            False  \n",
       "2         -0.053834            False  \n",
       "3          0.267921             True  \n",
       "4         -0.222661            False  "
      ]
     },
     "execution_count": 25,
     "metadata": {},
     "output_type": "execute_result"
    }
   ],
   "source": [
    "a.head()"
   ]
  },
  {
   "cell_type": "code",
   "execution_count": 33,
   "id": "af400827",
   "metadata": {},
   "outputs": [],
   "source": [
    "# Do the samething for British Airways \n",
    "def conversation_analysis(conversation : pd.DataFrame, airline_name : str, df_light) -> pd.DataFrame:\n",
    "    conversation = conversation[conversation.airline_name == airline_name]\n",
    "    conversation = conversation.astype({\n",
    "        'id_1' : 'float64',\n",
    "        'id_2' : 'float64',\n",
    "        'id_3' : 'float64',\n",
    "        'id_4' : 'float64',\n",
    "        'id_5' : 'float64',\n",
    "        'id_6' : 'float64',\n",
    "        'id_7' : 'float64'\n",
    "    })\n",
    "    sen_score = df_light[['id', 'sentiment_score']].copy()\n",
    "    open_close_df = start_end_customers_filter(conversation)\n",
    "    # get sentiment score for open tweet\n",
    "    bri = open_close_df.merge(right=sen_score, left_on='open', right_on='id', how='left')\n",
    "    bri.dropna(subset=['sentiment_score'], inplace=True)\n",
    "    # get sentiment score for close tweet\n",
    "    bri = bri.merge(right=sen_score, left_on='close', right_on='id', how='left', suffixes=('_open', '_close'))\n",
    "    bri.dropna(subset=['sentiment_score_close'], inplace=True)\n",
    "    bri.drop(columns=['id_open', 'id_close'], inplace=True)\n",
    "    bri['sentiment_change'] = bri.sentiment_score_close - bri.sentiment_score_open\n",
    "    bri['positive_change'] = bri.sentiment_change > 0\n",
    "    return bri\n",
    "conversation = pd.read_sql_query(\"\"\"\n",
    "    SELECT airline_name, conversation_opener, id_1, id_2, id_3, id_4, id_5, id_6, id_7\n",
    "    FROM conversation\n",
    "\"\"\", con)\n",
    "\n",
    "bri = conversation_analysis(conversation, 'British_Airways', df_light_bri)"
   ]
  },
  {
   "cell_type": "markdown",
   "id": "95a6487d",
   "metadata": {},
   "source": [
    "#### 6. visualisation "
   ]
  },
  {
   "cell_type": "code",
   "execution_count": 38,
   "id": "f50bf353",
   "metadata": {},
   "outputs": [],
   "source": [
    "a['airline'] = ['KLM' for x in range(len(a))]"
   ]
  },
  {
   "cell_type": "code",
   "execution_count": 40,
   "id": "da2d47d4",
   "metadata": {},
   "outputs": [],
   "source": [
    "bri['airline'] = ['British Airways' for x in range(len(bri))]"
   ]
  },
  {
   "cell_type": "code",
   "execution_count": 60,
   "id": "174c58c1",
   "metadata": {},
   "outputs": [
    {
     "data": {
      "image/png": "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\n",
      "text/plain": [
       "<Figure size 720x576 with 1 Axes>"
      ]
     },
     "metadata": {
      "needs_background": "light"
     },
     "output_type": "display_data"
    }
   ],
   "source": [
    "final = pd.concat([a, bri])\n",
    "fig, ax = plt.subplots(figsize=(10, 8))\n",
    "sns.boxplot(x=\"airline\", y=\"sentiment_change\", data=final, ax=ax, orient=\"v\")\n",
    "ax.set_title('Boxplot of conversation sentiment change of KLM and British Airways', size=12, weight='bold')\n",
    "ax.set_xlabel('Airways', size=10)\n",
    "ax.set_ylabel('Sentiment score change', size=10);"
   ]
  },
  {
   "cell_type": "code",
   "execution_count": 72,
   "id": "895e1501",
   "metadata": {},
   "outputs": [
    {
     "data": {
      "text/html": [
       "<div>\n",
       "<style scoped>\n",
       "    .dataframe tbody tr th:only-of-type {\n",
       "        vertical-align: middle;\n",
       "    }\n",
       "\n",
       "    .dataframe tbody tr th {\n",
       "        vertical-align: top;\n",
       "    }\n",
       "\n",
       "    .dataframe thead th {\n",
       "        text-align: right;\n",
       "    }\n",
       "</style>\n",
       "<table border=\"1\" class=\"dataframe\">\n",
       "  <thead>\n",
       "    <tr style=\"text-align: right;\">\n",
       "      <th></th>\n",
       "      <th>airline</th>\n",
       "      <th>positive_change</th>\n",
       "      <th>open</th>\n",
       "    </tr>\n",
       "  </thead>\n",
       "  <tbody>\n",
       "    <tr>\n",
       "      <th>0</th>\n",
       "      <td>British Airways</td>\n",
       "      <td>False</td>\n",
       "      <td>31</td>\n",
       "    </tr>\n",
       "    <tr>\n",
       "      <th>1</th>\n",
       "      <td>British Airways</td>\n",
       "      <td>True</td>\n",
       "      <td>36</td>\n",
       "    </tr>\n",
       "    <tr>\n",
       "      <th>2</th>\n",
       "      <td>KLM</td>\n",
       "      <td>False</td>\n",
       "      <td>45</td>\n",
       "    </tr>\n",
       "    <tr>\n",
       "      <th>3</th>\n",
       "      <td>KLM</td>\n",
       "      <td>True</td>\n",
       "      <td>39</td>\n",
       "    </tr>\n",
       "  </tbody>\n",
       "</table>\n",
       "</div>"
      ],
      "text/plain": [
       "           airline  positive_change  open\n",
       "0  British Airways            False    31\n",
       "1  British Airways             True    36\n",
       "2              KLM            False    45\n",
       "3              KLM             True    39"
      ]
     },
     "execution_count": 72,
     "metadata": {},
     "output_type": "execute_result"
    }
   ],
   "source": [
    "sth = final.groupby(['airline', 'positive_change'], as_index=False).count()\n",
    "# sns.barplot(data=sth, x='airline', y='sentiment_change', hue='positive_change')\n",
    "sth[['airline', 'positive_change', 'open']]"
   ]
  },
  {
   "cell_type": "code",
   "execution_count": 95,
   "id": "2ec99850",
   "metadata": {},
   "outputs": [
    {
     "data": {
      "text/plain": [
       "Text(0, 0.5, 'Proportions')"
      ]
     },
     "execution_count": 95,
     "metadata": {},
     "output_type": "execute_result"
    },
    {
     "data": {
      "image/png": "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\n",
      "text/plain": [
       "<Figure size 432x432 with 1 Axes>"
      ]
     },
     "metadata": {
      "needs_background": "light"
     },
     "output_type": "display_data"
    }
   ],
   "source": [
    "sth_else = final[['positive_change', 'airline']].copy()\n",
    "sth_else.head()\n",
    "cross_tab_prop = pd.crosstab(index=sth_else['airline'],\n",
    "                             columns=sth_else['positive_change'],\n",
    "                             normalize=\"index\")\n",
    "\n",
    "ax = cross_tab_prop.plot(kind='bar', \n",
    "                    stacked=True,  \n",
    "                    figsize=(6, 6))\n",
    "ax.set_xticklabels(['British Airways', 'KLM'], rotation='horizontal')\n",
    "# ax.legend(['tweets mention KLM', 'tweets KLM reply'])\n",
    "ax.set_title('Proportion of positive and negative sentiment change \\n of conversations of KLM and British Airways ', size=12, weight='bold')\n",
    "ax.set_xlabel('Airlines', size=10)\n",
    "ax.set_ylabel('Proportions', size=10)"
   ]
  },
  {
   "cell_type": "markdown",
   "id": "a80fb720",
   "metadata": {},
   "source": [
    "#### 7. New extra 2"
   ]
  },
  {
   "cell_type": "code",
   "execution_count": 17,
   "id": "682724ee",
   "metadata": {},
   "outputs": [],
   "source": [
    "df = pd.read_sql_query(\"\"\"\n",
    "    SELECT id, user_id, text, in_reply_to_user_id, lang\n",
    "    FROM general_tweets\n",
    "\"\"\", con)"
   ]
  },
  {
   "cell_type": "code",
   "execution_count": 18,
   "id": "1762cd54",
   "metadata": {},
   "outputs": [],
   "source": [
    "df = df[df.lang == 'en']"
   ]
  },
  {
   "cell_type": "code",
   "execution_count": 19,
   "id": "65e87a44",
   "metadata": {},
   "outputs": [],
   "source": [
    "# import definition\n",
    "import sys\n",
    "import os\n",
    "from pathlib import Path\n",
    "sys.path.append(str(Path.cwd().parent))\n",
    "from definitions.airlines import airlines_id, airlines_name"
   ]
  },
  {
   "cell_type": "code",
   "execution_count": 20,
   "id": "c4326750",
   "metadata": {},
   "outputs": [],
   "source": [
    "df_light = df[df['in_reply_to_user_id'].isna()][:10000][['text']]"
   ]
  },
  {
   "cell_type": "code",
   "execution_count": 21,
   "id": "d90f1fbe",
   "metadata": {},
   "outputs": [],
   "source": [
    "#Extract only tweets mention KLM (@KLM etc...):\n",
    "def extract_tweet_mention_airlines(airline_name : str, df_data : pd.DataFrame) -> pd.DataFrame:\n",
    "    \"\"\"\n",
    "    extract tweets that made by an airline\n",
    "    :parameter airline_name: the string name of the airline\n",
    "    :return DataFrame with one tweets mention that airline\n",
    "    \"\"\"\n",
    "\n",
    "    ind2 = []\n",
    "    for index, row in df_data.iterrows():\n",
    "        if airline_name in row['text']:\n",
    "            ind2.append(index)\n",
    "    airline_tweet_men = df_data.loc[ind2]\n",
    "    return airline_tweet_men"
   ]
  },
  {
   "cell_type": "code",
   "execution_count": 22,
   "id": "93039ba3",
   "metadata": {},
   "outputs": [],
   "source": [
    "lst = []\n",
    "for airline in airlines_name.values():\n",
    "    a = extract_tweet_mention_airlines(airline, df_light)\n",
    "    a['airline'] = [airline for _ in range(len(a))]\n",
    "    lst.append(a)"
   ]
  },
  {
   "cell_type": "code",
   "execution_count": 23,
   "id": "a5e745ad",
   "metadata": {},
   "outputs": [],
   "source": [
    "sth = pd.concat(lst)"
   ]
  },
  {
   "cell_type": "code",
   "execution_count": 24,
   "id": "2de2db49",
   "metadata": {},
   "outputs": [],
   "source": [
    "lst_score = []\n",
    "lst_label = []\n",
    "for index, row in sth.iterrows():\n",
    "    a = extract_sentiment_score(row.text)\n",
    "    lst_score.append(a[1])\n",
    "    lst_label.append(a[0])"
   ]
  },
  {
   "cell_type": "code",
   "execution_count": 25,
   "id": "95cf53d8",
   "metadata": {},
   "outputs": [],
   "source": [
    "sth['label'] = lst_label\n",
    "sth['score'] = lst_score"
   ]
  },
  {
   "cell_type": "code",
   "execution_count": 37,
   "id": "86e4bc7f",
   "metadata": {},
   "outputs": [
    {
     "data": {
      "text/plain": [
       "Text(0, 0.5, 'Airline')"
      ]
     },
     "execution_count": 37,
     "metadata": {},
     "output_type": "execute_result"
    },
    {
     "data": {
      "image/png": "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\n",
      "text/plain": [
       "<Figure size 576x432 with 1 Axes>"
      ]
     },
     "metadata": {
      "needs_background": "light"
     },
     "output_type": "display_data"
    }
   ],
   "source": [
    "fig, ax = plt.subplots(figsize=(8, 6))\n",
    "sns.boxplot(data=sth, x='score', y='airline', orient=\"h\", ax=ax)\n",
    "ax.set_title('Boxplot of sentiment score of tweet mentioning airlines', size=12, weight='bold')\n",
    "ax.set_xlabel('score', size=10)\n",
    "ax.set_ylabel('Airline', size=10)"
   ]
  },
  {
   "cell_type": "code",
   "execution_count": null,
   "id": "69d2eb14",
   "metadata": {},
   "outputs": [],
   "source": []
  }
 ],
 "metadata": {
  "interpreter": {
   "hash": "f6c8f846148a3e4d140e6ddf63c190cff559dcf260a4a21539f0978f2b58638c"
  },
  "kernelspec": {
   "display_name": "Python 3 (ipykernel)",
   "language": "python",
   "name": "python3"
  },
  "language_info": {
   "codemirror_mode": {
    "name": "ipython",
    "version": 3
   },
   "file_extension": ".py",
   "mimetype": "text/x-python",
   "name": "python",
   "nbconvert_exporter": "python",
   "pygments_lexer": "ipython3",
   "version": "3.8.13"
  }
 },
 "nbformat": 4,
 "nbformat_minor": 5
}
