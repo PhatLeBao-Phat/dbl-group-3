{
 "cells": [
  {
   "cell_type": "code",
   "execution_count": 2,
   "id": "096da5b9",
   "metadata": {},
   "outputs": [],
   "source": [
    "from transformers import AutoTokenizer, AutoModelForSequenceClassification\n",
    "from scipy.special import softmax\n",
    "import numpy as np\n",
    "import pandas as pd\n",
    "import sqlite3\n",
    "import os \n",
    "import re\n",
    "from typing import Tuple, Dict, List\n",
    "import time\n",
    "import matplotlib as mpl\n",
    "import matplotlib.pyplot as plt\n",
    "import seaborn as sns \n",
    "# import definition\n",
    "import sys\n",
    "import os\n",
    "from pathlib import Path\n",
    "sys.path.append(str(Path.cwd().parent))"
   ]
  },
  {
   "cell_type": "markdown",
   "id": "b1014296",
   "metadata": {},
   "source": [
    "#### 1. import the Roberta Model"
   ]
  },
  {
   "cell_type": "code",
   "execution_count": 4,
   "id": "44884f9c",
   "metadata": {},
   "outputs": [],
   "source": [
    "roberta = 'cardiffnlp/twitter-roberta-base-sentiment'"
   ]
  },
  {
   "cell_type": "code",
   "execution_count": 5,
   "id": "417c4de8",
   "metadata": {},
   "outputs": [
    {
     "name": "stderr",
     "output_type": "stream",
     "text": [
      "Some weights of the model checkpoint at cardiffnlp/twitter-roberta-base-sentiment were not used when initializing RobertaForSequenceClassification: ['roberta.embeddings.position_ids']\n",
      "- This IS expected if you are initializing RobertaForSequenceClassification from the checkpoint of a model trained on another task or with another architecture (e.g. initializing a BertForSequenceClassification model from a BertForPretraining model).\n",
      "- This IS NOT expected if you are initializing RobertaForSequenceClassification from the checkpoint of a model that you expect to be exactly identical (initializing a BertForSequenceClassification model from a BertForSequenceClassification model).\n",
      "Some weights of RobertaForSequenceClassification were not initialized from the model checkpoint at cardiffnlp/twitter-roberta-base-sentiment and are newly initialized: ['roberta.pooler.dense.weight', 'roberta.pooler.dense.bias']\n",
      "You should probably TRAIN this model on a down-stream task to be able to use it for predictions and inference.\n"
     ]
    }
   ],
   "source": [
    "model = AutoModelForSequenceClassification.from_pretrained(roberta)"
   ]
  },
  {
   "cell_type": "code",
   "execution_count": 6,
   "id": "0753ac24",
   "metadata": {},
   "outputs": [],
   "source": [
    "tokenizer = AutoTokenizer.from_pretrained(roberta)"
   ]
  },
  {
   "cell_type": "markdown",
   "id": "7672571f",
   "metadata": {},
   "source": [
    "#### 2. Preprocessing text"
   ]
  },
  {
   "cell_type": "code",
   "execution_count": 3,
   "id": "cb047957",
   "metadata": {},
   "outputs": [],
   "source": [
    "from Tools.preprocessing import preprocessing_text"
   ]
  },
  {
   "cell_type": "markdown",
   "id": "2db7d393",
   "metadata": {},
   "source": [
    "#### 3. Functions to extract sentiment scores "
   ]
  },
  {
   "cell_type": "code",
   "execution_count": 8,
   "id": "19e14f7a",
   "metadata": {},
   "outputs": [],
   "source": [
    "def extract_sentiment_score(text: str) -> Tuple:\n",
    "    \"\"\"\n",
    "    extract the sentiment score for a input text\n",
    "    ----------\n",
    "    param: text\n",
    "    return: return tuple (labels, polarity)\n",
    "        labels: can be ['Negative', 'Neutral', 'Positive']\n",
    "        polarity: can be between 0 and 1\n",
    "    \"\"\"\n",
    "    # preprocessing\n",
    "    text = preprocessing_text(text)\n",
    "    #extract score\n",
    "    labels = ['Negative', 'Neutral', 'Positive']\n",
    "    encoded_input = tokenizer(text, return_tensors='pt')\n",
    "    output = model(**encoded_input)\n",
    "    scores = softmax(output[0][0].detach().numpy())\n",
    "    ranking = np.argsort(scores)[-1]\n",
    "    l = labels[ranking]\n",
    "    a = np.array([-1, 0, 1])\n",
    "    polarity = sum([i*j for i, j in zip(scores, a)])\n",
    "    return (l, polarity)"
   ]
  },
  {
   "cell_type": "markdown",
   "id": "81651005",
   "metadata": {},
   "source": [
    "#### 4. Connect to the database"
   ]
  },
  {
   "cell_type": "code",
   "execution_count": 9,
   "id": "eb36e603",
   "metadata": {},
   "outputs": [],
   "source": [
    "con = sqlite3.connect('../../database/database.db')"
   ]
  },
  {
   "cell_type": "code",
   "execution_count": 10,
   "id": "435e30ad",
   "metadata": {},
   "outputs": [],
   "source": [
    "# get KLM tables\n",
    "df = pd.read_sql_query('''\n",
    "    SELECT id, text, user_id, lang\n",
    "    FROM KLM_tweets\n",
    "''', con)"
   ]
  },
  {
   "cell_type": "code",
   "execution_count": 11,
   "id": "40adc0f5",
   "metadata": {},
   "outputs": [],
   "source": [
    "# change datatype\n",
    "df = df.astype({\n",
    "    'id' : 'float64',\n",
    "    'user_id' : 'float64'\n",
    "})\n",
    "df = df.astype({\n",
    "    'user_id' : 'Int64'\n",
    "})"
   ]
  },
  {
   "cell_type": "code",
   "execution_count": 10,
   "id": "acc39f1f",
   "metadata": {},
   "outputs": [
    {
     "data": {
      "text/plain": [
       "(65659, 4)"
      ]
     },
     "execution_count": 10,
     "metadata": {},
     "output_type": "execute_result"
    }
   ],
   "source": [
    "# extract only tweets made by customers\n",
    "df = df[df.user_id != 56377143]\n",
    "df = df[df.lang == 'en']\n",
    "df.shape"
   ]
  },
  {
   "cell_type": "code",
   "execution_count": null,
   "id": "2c1e4856",
   "metadata": {},
   "outputs": [],
   "source": [
    "df_light = df.copy()"
   ]
  },
  {
   "cell_type": "code",
   "execution_count": 14,
   "id": "fd304adb",
   "metadata": {},
   "outputs": [
    {
     "name": "stdout",
     "output_type": "stream",
     "text": [
      "100\n",
      "500\n",
      "1000\n"
     ]
    },
    {
     "data": {
      "text/plain": [
       "137.79255628585815"
      ]
     },
     "execution_count": 14,
     "metadata": {},
     "output_type": "execute_result"
    }
   ],
   "source": [
    "lst_label = []\n",
    "lst_score = []\n",
    "start = time.time()\n",
    "count = 0\n",
    "for text in df_light['text']:\n",
    "    count += 1\n",
    "    if count%1000==0:\n",
    "        print(count)\n",
    "    tup = extract_sentiment_score(text)\n",
    "    lst_label.append(tup[0])\n",
    "    lst_score.append(tup[1])\n",
    "end = time.time()\n",
    "end - start"
   ]
  },
  {
   "cell_type": "code",
   "execution_count": 17,
   "id": "03fdd919",
   "metadata": {},
   "outputs": [
    {
     "name": "stderr",
     "output_type": "stream",
     "text": [
      "C:\\Users\\PC\\anaconda3\\lib\\site-packages\\pandas\\core\\indexing.py:1597: SettingWithCopyWarning: \n",
      "A value is trying to be set on a copy of a slice from a DataFrame.\n",
      "Try using .loc[row_indexer,col_indexer] = value instead\n",
      "\n",
      "See the caveats in the documentation: https://pandas.pydata.org/pandas-docs/stable/user_guide/indexing.html#returning-a-view-versus-a-copy\n",
      "  self.obj[key] = value\n",
      "C:\\Users\\PC\\anaconda3\\lib\\site-packages\\pandas\\core\\indexing.py:1676: SettingWithCopyWarning: \n",
      "A value is trying to be set on a copy of a slice from a DataFrame.\n",
      "Try using .loc[row_indexer,col_indexer] = value instead\n",
      "\n",
      "See the caveats in the documentation: https://pandas.pydata.org/pandas-docs/stable/user_guide/indexing.html#returning-a-view-versus-a-copy\n",
      "  self._setitem_single_column(ilocs[0], value, pi)\n"
     ]
    }
   ],
   "source": [
    "df_light.loc[:, 'label'] = lst_label\n",
    "df_light.loc[:, 'sentiment_score'] = lst_score"
   ]
  },
  {
   "cell_type": "code",
   "execution_count": 14,
   "id": "ebeb306c",
   "metadata": {},
   "outputs": [
    {
     "name": "stdout",
     "output_type": "stream",
     "text": [
      "100\n",
      "500\n",
      "1000\n"
     ]
    },
    {
     "name": "stderr",
     "output_type": "stream",
     "text": [
      "C:\\Users\\PC\\anaconda3\\lib\\site-packages\\pandas\\core\\indexing.py:1597: SettingWithCopyWarning: \n",
      "A value is trying to be set on a copy of a slice from a DataFrame.\n",
      "Try using .loc[row_indexer,col_indexer] = value instead\n",
      "\n",
      "See the caveats in the documentation: https://pandas.pydata.org/pandas-docs/stable/user_guide/indexing.html#returning-a-view-versus-a-copy\n",
      "  self.obj[key] = value\n",
      "C:\\Users\\PC\\anaconda3\\lib\\site-packages\\pandas\\core\\indexing.py:1676: SettingWithCopyWarning: \n",
      "A value is trying to be set on a copy of a slice from a DataFrame.\n",
      "Try using .loc[row_indexer,col_indexer] = value instead\n",
      "\n",
      "See the caveats in the documentation: https://pandas.pydata.org/pandas-docs/stable/user_guide/indexing.html#returning-a-view-versus-a-copy\n",
      "  self._setitem_single_column(ilocs[0], value, pi)\n"
     ]
    }
   ],
   "source": [
    "# Do the samething but for British Airways \n",
    "df_bri = pd.read_sql_query('''\n",
    "    SELECT id, text, user_id, lang\n",
    "    FROM british_airways_tweets\n",
    "''', con)\n",
    "df_bri = df_bri.astype({\n",
    "    'id' : 'float64',\n",
    "    'user_id' : 'float64'\n",
    "})\n",
    "df_bri = df_bri.astype({\n",
    "    'user_id' : 'Int64'\n",
    "})\n",
    "df_bri = df_bri[df_bri.user_id != 18332190]\n",
    "df_bri = df_bri[df_bri.lang == 'en']\n",
    "df_light_bri = df_bri.copy()\n",
    "lst_label = []\n",
    "lst_score = []\n",
    "count = 0\n",
    "for text in df_light_bri['text']:\n",
    "    count += 1\n",
    "    if count%1000==0:\n",
    "        print(count)\n",
    "    tup = extract_sentiment_score(text)\n",
    "    lst_label.append(tup[0])\n",
    "    lst_score.append(tup[1])\n",
    "df_light_bri.loc[:, 'label'] = lst_label\n",
    "df_light_bri.loc[:, 'sentiment_score'] = lst_score"
   ]
  },
  {
   "cell_type": "markdown",
   "id": "cd2254d2",
   "metadata": {},
   "source": [
    "#### 5. Conversation analysis"
   ]
  },
  {
   "cell_type": "code",
   "execution_count": 15,
   "id": "4e2bc18e",
   "metadata": {},
   "outputs": [],
   "source": [
    "conversation = pd.read_sql_query(\"\"\"\n",
    "    SELECT airline_name, conversation_opener, id_1, id_2, id_3, id_4, id_5, id_6, id_7\n",
    "    FROM conversation\n",
    "\"\"\", con)"
   ]
  },
  {
   "cell_type": "code",
   "execution_count": 16,
   "id": "7669e01a",
   "metadata": {},
   "outputs": [],
   "source": [
    "# filter only KLM conversation \n",
    "conversation = conversation[conversation.airline_name == 'KLM']\n",
    "conversation.head();"
   ]
  },
  {
   "cell_type": "code",
   "execution_count": 17,
   "id": "ca65a3b5",
   "metadata": {},
   "outputs": [],
   "source": [
    "conversation = conversation.astype({\n",
    "    'id_1' : 'float64',\n",
    "    'id_2' : 'float64',\n",
    "    'id_3' : 'float64',\n",
    "    'id_4' : 'float64',\n",
    "    'id_5' : 'float64',\n",
    "    'id_6' : 'float64',\n",
    "    'id_7' : 'float64'\n",
    "})\n",
    "\n",
    "conversation.dtypes;"
   ]
  },
  {
   "cell_type": "code",
   "execution_count": 18,
   "id": "abcd27a8",
   "metadata": {},
   "outputs": [],
   "source": [
    "def start_end_customers_filter(df : pd.DataFrame) -> pd.DataFrame:\n",
    "    \"\"\"\n",
    "    filter each conversation with the start and end tweets by customers \n",
    "    ---------\n",
    "    param: df : conversation dataframe with all the id of tweets in a conversation\n",
    "    return: a df with 2 attributes \n",
    "        open_tweet_sentiment : score of tweet at the start of conversation by customers\n",
    "        closed_tweet_sentiment : score of tweet at the end of conversation by customers \n",
    "    \"\"\"\n",
    "    lst_open = []\n",
    "    lst_close = []\n",
    "    for index, row in df.iterrows():\n",
    "        # get id of the opening\n",
    "        if row.conversation_opener == 'customer':\n",
    "            open = row.id_1\n",
    "            if pd.notna(row.id_7):\n",
    "                close = row.id_7\n",
    "            elif pd.notna(row.id_5):\n",
    "                close = row.id_5\n",
    "            else:\n",
    "                close = row.id_3\n",
    "        else:\n",
    "            open = row.id_2\n",
    "            if pd.notna(row.id_6):\n",
    "                close = row.id_6\n",
    "            else:\n",
    "                close = row.id_4\n",
    "        lst_open.append(open)\n",
    "        lst_close.append(close)\n",
    "    \n",
    "    open_close_df = pd.DataFrame({\n",
    "        'open' : lst_open,\n",
    "        'close' : lst_close\n",
    "    })\n",
    "    return open_close_df\n",
    "    \n",
    "        \n"
   ]
  },
  {
   "cell_type": "code",
   "execution_count": 19,
   "id": "7187589d",
   "metadata": {},
   "outputs": [],
   "source": [
    "sen_score = df_light[['id', 'sentiment_score']].copy()"
   ]
  },
  {
   "cell_type": "code",
   "execution_count": 20,
   "id": "ebe06b8c",
   "metadata": {},
   "outputs": [
    {
     "data": {
      "text/plain": [
       "(6917, 2)"
      ]
     },
     "execution_count": 20,
     "metadata": {},
     "output_type": "execute_result"
    }
   ],
   "source": [
    "# filter open close df\n",
    "open_close_df = start_end_customers_filter(conversation)\n",
    "open_close_df.shape"
   ]
  },
  {
   "cell_type": "code",
   "execution_count": 21,
   "id": "7ad382f4",
   "metadata": {},
   "outputs": [],
   "source": [
    "# get sentiment score for open tweet\n",
    "a = open_close_df.merge(right=sen_score, left_on='open', right_on='id', how='left')\n",
    "a.dropna(subset=['sentiment_score'], inplace=True)\n"
   ]
  },
  {
   "cell_type": "code",
   "execution_count": 22,
   "id": "4c5ec936",
   "metadata": {},
   "outputs": [
    {
     "data": {
      "text/plain": [
       "(84, 6)"
      ]
     },
     "execution_count": 22,
     "metadata": {},
     "output_type": "execute_result"
    }
   ],
   "source": [
    "# get sentiment score for close tweet\n",
    "a = a.merge(right=sen_score, left_on='close', right_on='id', how='left', suffixes=('_open', '_close'))\n",
    "a.dropna(subset=['sentiment_score_close'], inplace=True)\n",
    "a.shape"
   ]
  },
  {
   "cell_type": "code",
   "execution_count": 23,
   "id": "78ee1243",
   "metadata": {},
   "outputs": [],
   "source": [
    "a.drop(columns=['id_open', 'id_close'], inplace=True)\n",
    "a['sentiment_change'] = a.sentiment_score_close - a.sentiment_score_open"
   ]
  },
  {
   "cell_type": "code",
   "execution_count": 24,
   "id": "b2685ee7",
   "metadata": {},
   "outputs": [],
   "source": [
    "a['positive_change'] = a.sentiment_change > 0"
   ]
  },
  {
   "cell_type": "code",
   "execution_count": 33,
   "id": "af400827",
   "metadata": {},
   "outputs": [],
   "source": [
    "# Do the samething for British Airways \n",
    "def conversation_analysis(conversation : pd.DataFrame, airline_name : str, df_light) -> pd.DataFrame:\n",
    "    conversation = conversation[conversation.airline_name == airline_name]\n",
    "    conversation = conversation.astype({\n",
    "        'id_1' : 'float64',\n",
    "        'id_2' : 'float64',\n",
    "        'id_3' : 'float64',\n",
    "        'id_4' : 'float64',\n",
    "        'id_5' : 'float64',\n",
    "        'id_6' : 'float64',\n",
    "        'id_7' : 'float64'\n",
    "    })\n",
    "    sen_score = df_light[['id', 'sentiment_score']].copy()\n",
    "    open_close_df = start_end_customers_filter(conversation)\n",
    "    # get sentiment score for open tweet\n",
    "    bri = open_close_df.merge(right=sen_score, left_on='open', right_on='id', how='left')\n",
    "    bri.dropna(subset=['sentiment_score'], inplace=True)\n",
    "    # get sentiment score for close tweet\n",
    "    bri = bri.merge(right=sen_score, left_on='close', right_on='id', how='left', suffixes=('_open', '_close'))\n",
    "    bri.dropna(subset=['sentiment_score_close'], inplace=True)\n",
    "    bri.drop(columns=['id_open', 'id_close'], inplace=True)\n",
    "    bri['sentiment_change'] = bri.sentiment_score_close - bri.sentiment_score_open\n",
    "    bri['positive_change'] = bri.sentiment_change > 0\n",
    "    return bri\n",
    "conversation = pd.read_sql_query(\"\"\"\n",
    "    SELECT airline_name, conversation_opener, id_1, id_2, id_3, id_4, id_5, id_6, id_7\n",
    "    FROM conversation\n",
    "\"\"\", con)\n",
    "\n",
    "bri = conversation_analysis(conversation, 'British_Airways', df_light_bri)"
   ]
  },
  {
   "cell_type": "markdown",
   "id": "95a6487d",
   "metadata": {},
   "source": [
    "#### 6. visualisation "
   ]
  },
  {
   "cell_type": "code",
   "execution_count": 38,
   "id": "f50bf353",
   "metadata": {},
   "outputs": [],
   "source": [
    "a['airline'] = ['KLM' for x in range(len(a))]"
   ]
  },
  {
   "cell_type": "code",
   "execution_count": 40,
   "id": "da2d47d4",
   "metadata": {},
   "outputs": [],
   "source": [
    "bri['airline'] = ['British Airways' for x in range(len(bri))]"
   ]
  },
  {
   "cell_type": "code",
   "execution_count": 60,
   "id": "174c58c1",
   "metadata": {},
   "outputs": [
    {
     "data": {
      "image/png": "[encoded data removed]",
      "text/plain": [
       "<Figure size 720x576 with 1 Axes>"
      ]
     },
     "metadata": {
      "needs_background": "light"
     },
     "output_type": "display_data"
    }
   ],
   "source": [
    "final = pd.concat([a, bri])\n",
    "fig, ax = plt.subplots(figsize=(10, 8))\n",
    "sns.boxplot(x=\"airline\", y=\"sentiment_change\", data=final, ax=ax, orient=\"v\")\n",
    "ax.set_title('Boxplot of conversation sentiment change of KLM and British Airways', size=12, weight='bold')\n",
    "ax.set_xlabel('Airways', size=10)\n",
    "ax.set_ylabel('Sentiment score change', size=10);"
   ]
  },
  {
   "cell_type": "code",
   "execution_count": 72,
   "id": "895e1501",
   "metadata": {},
   "outputs": [
    {
     "data": {
      "text/html": [
       "<div>\n",
       "<style scoped>\n",
       "    .dataframe tbody tr th:only-of-type {\n",
       "        vertical-align: middle;\n",
       "    }\n",
       "\n",
       "    .dataframe tbody tr th {\n",
       "        vertical-align: top;\n",
       "    }\n",
       "\n",
       "    .dataframe thead th {\n",
       "        text-align: right;\n",
       "    }\n",
       "</style>\n",
       "<table border=\"1\" class=\"dataframe\">\n",
       "  <thead>\n",
       "    <tr style=\"text-align: right;\">\n",
       "      <th></th>\n",
       "      <th>airline</th>\n",
       "      <th>positive_change</th>\n",
       "      <th>open</th>\n",
       "    </tr>\n",
       "  </thead>\n",
       "  <tbody>\n",
       "    <tr>\n",
       "      <th>0</th>\n",
       "      <td>British Airways</td>\n",
       "      <td>False</td>\n",
       "      <td>31</td>\n",
       "    </tr>\n",
       "    <tr>\n",
       "      <th>1</th>\n",
       "      <td>British Airways</td>\n",
       "      <td>True</td>\n",
       "      <td>36</td>\n",
       "    </tr>\n",
       "    <tr>\n",
       "      <th>2</th>\n",
       "      <td>KLM</td>\n",
       "      <td>False</td>\n",
       "      <td>45</td>\n",
       "    </tr>\n",
       "    <tr>\n",
       "      <th>3</th>\n",
       "      <td>KLM</td>\n",
       "      <td>True</td>\n",
       "      <td>39</td>\n",
       "    </tr>\n",
       "  </tbody>\n",
       "</table>\n",
       "</div>"
      ],
      "text/plain": [
       "           airline  positive_change  open\n",
       "0  British Airways            False    31\n",
       "1  British Airways             True    36\n",
       "2              KLM            False    45\n",
       "3              KLM             True    39"
      ]
     },
     "execution_count": 72,
     "metadata": {},
     "output_type": "execute_result"
    }
   ],
   "source": [
    "sth = final.groupby(['airline', 'positive_change'], as_index=False).count()\n",
    "# sns.barplot(data=sth, x='airline', y='sentiment_change', hue='positive_change')\n",
    "sth[['airline', 'positive_change', 'open']]"
   ]
  },
  {
   "cell_type": "code",
   "execution_count": 95,
   "id": "2ec99850",
   "metadata": {},
   "outputs": [
    {
     "data": {
      "text/plain": [
       "Text(0, 0.5, 'Proportions')"
      ]
     },
     "execution_count": 95,
     "metadata": {},
     "output_type": "execute_result"
    },
    {
     "data": {
      "image/png": "[encoded data removed]",
      "text/plain": [
       "<Figure size 432x432 with 1 Axes>"
      ]
     },
     "metadata": {
      "needs_background": "light"
     },
     "output_type": "display_data"
    }
   ],
   "source": [
    "sth_else = final[['positive_change', 'airline']].copy()\n",
    "sth_else.head()\n",
    "cross_tab_prop = pd.crosstab(index=sth_else['airline'],\n",
    "                             columns=sth_else['positive_change'],\n",
    "                             normalize=\"index\")\n",
    "\n",
    "ax = cross_tab_prop.plot(kind='bar', \n",
    "                    stacked=True,  \n",
    "                    figsize=(6, 6))\n",
    "ax.set_xticklabels(['British Airways', 'KLM'], rotation='horizontal')\n",
    "# ax.legend(['tweets mention KLM', 'tweets KLM reply'])\n",
    "ax.set_title('Proportion of positive and negative sentiment change \\n of conversations of KLM and British Airways ', size=12, weight='bold')\n",
    "ax.set_xlabel('Airlines', size=10)\n",
    "ax.set_ylabel('Proportions', size=10)"
   ]
  },
  {
   "cell_type": "markdown",
   "id": "a80fb720",
   "metadata": {},
   "source": [
    "#### 7. New extra 2"
   ]
  },
  {
   "cell_type": "code",
   "execution_count": 69,
   "id": "682724ee",
   "metadata": {},
   "outputs": [],
   "source": [
    "df = pd.read_sql_query(\"\"\"\n",
    "    SELECT id, user_id, text, in_reply_to_user_id, lang\n",
    "    FROM general_tweets\n",
    "\"\"\", con)"
   ]
  },
  {
   "cell_type": "code",
   "execution_count": 70,
   "id": "1762cd54",
   "metadata": {},
   "outputs": [
    {
     "name": "stderr",
     "output_type": "stream",
     "text": [
      "ERROR:root:Internal Python error in the inspect module.\n",
      "Below is the traceback from this internal error.\n",
      "\n"
     ]
    },
    {
     "name": "stdout",
     "output_type": "stream",
     "text": [
      "Traceback (most recent call last):\n",
      "  File \"C:\\Users\\PC\\anaconda3\\lib\\site-packages\\IPython\\core\\interactiveshell.py\", line 3437, in run_code\n",
      "    exec(code_obj, self.user_global_ns, self.user_ns)\n",
      "  File \"<ipython-input-70-6b745e987a0b>\", line 1, in <module>\n",
      "    df = df[df.lang == 'en']\n",
      "  File \"C:\\Users\\PC\\anaconda3\\lib\\site-packages\\pandas\\core\\frame.py\", line 3015, in __getitem__\n",
      "    return self._getitem_bool_array(key)\n",
      "  File \"C:\\Users\\PC\\anaconda3\\lib\\site-packages\\pandas\\core\\frame.py\", line 3070, in _getitem_bool_array\n",
      "    return self._take_with_is_copy(indexer, axis=0)\n",
      "  File \"C:\\Users\\PC\\anaconda3\\lib\\site-packages\\pandas\\core\\generic.py\", line 3600, in _take_with_is_copy\n",
      "    result = self.take(indices=indices, axis=axis)\n",
      "  File \"C:\\Users\\PC\\anaconda3\\lib\\site-packages\\pandas\\core\\generic.py\", line 3586, in take\n",
      "    new_data = self._mgr.take(\n",
      "  File \"C:\\Users\\PC\\anaconda3\\lib\\site-packages\\pandas\\core\\internals\\managers.py\", line 1474, in take\n",
      "    return self.reindex_indexer(\n",
      "  File \"C:\\Users\\PC\\anaconda3\\lib\\site-packages\\pandas\\core\\internals\\managers.py\", line 1311, in reindex_indexer\n",
      "    new_blocks = [\n",
      "  File \"C:\\Users\\PC\\anaconda3\\lib\\site-packages\\pandas\\core\\internals\\managers.py\", line 1312, in <listcomp>\n",
      "    blk.take_nd(\n",
      "  File \"C:\\Users\\PC\\anaconda3\\lib\\site-packages\\pandas\\core\\internals\\blocks.py\", line 1395, in take_nd\n",
      "    new_values = algos.take_nd(\n",
      "KeyboardInterrupt\n",
      "\n",
      "During handling of the above exception, another exception occurred:\n",
      "\n",
      "Traceback (most recent call last):\n",
      "  File \"C:\\Users\\PC\\anaconda3\\lib\\site-packages\\IPython\\core\\interactiveshell.py\", line 2061, in showtraceback\n",
      "    stb = value._render_traceback_()\n",
      "AttributeError: 'KeyboardInterrupt' object has no attribute '_render_traceback_'\n",
      "\n",
      "During handling of the above exception, another exception occurred:\n",
      "\n",
      "Traceback (most recent call last):\n",
      "  File \"C:\\Users\\PC\\anaconda3\\lib\\site-packages\\IPython\\core\\ultratb.py\", line 1101, in get_records\n",
      "    return _fixed_getinnerframes(etb, number_of_lines_of_context, tb_offset)\n",
      "  File \"C:\\Users\\PC\\anaconda3\\lib\\site-packages\\IPython\\core\\ultratb.py\", line 248, in wrapped\n",
      "    return f(*args, **kwargs)\n",
      "  File \"C:\\Users\\PC\\anaconda3\\lib\\site-packages\\IPython\\core\\ultratb.py\", line 281, in _fixed_getinnerframes\n",
      "    records = fix_frame_records_filenames(inspect.getinnerframes(etb, context))\n",
      "  File \"C:\\Users\\PC\\anaconda3\\lib\\inspect.py\", line 1515, in getinnerframes\n",
      "    frameinfo = (tb.tb_frame,) + getframeinfo(tb, context)\n",
      "  File \"C:\\Users\\PC\\anaconda3\\lib\\inspect.py\", line 1477, in getframeinfo\n",
      "    lines, lnum = findsource(frame)\n",
      "  File \"C:\\Users\\PC\\anaconda3\\lib\\site-packages\\IPython\\core\\ultratb.py\", line 182, in findsource\n",
      "    lines = linecache.getlines(file, globals_dict)\n",
      "  File \"C:\\Users\\PC\\anaconda3\\lib\\linecache.py\", line 47, in getlines\n",
      "    return updatecache(filename, module_globals)\n",
      "  File \"C:\\Users\\PC\\anaconda3\\lib\\linecache.py\", line 136, in updatecache\n",
      "    with tokenize.open(fullname) as fp:\n",
      "  File \"C:\\Users\\PC\\anaconda3\\lib\\tokenize.py\", line 394, in open\n",
      "    encoding, lines = detect_encoding(buffer.readline)\n",
      "  File \"C:\\Users\\PC\\anaconda3\\lib\\tokenize.py\", line 363, in detect_encoding\n",
      "    first = read_or_stop()\n",
      "  File \"C:\\Users\\PC\\anaconda3\\lib\\tokenize.py\", line 321, in read_or_stop\n",
      "    return readline()\n",
      "KeyboardInterrupt\n"
     ]
    },
    {
     "ename": "TypeError",
     "evalue": "object of type 'NoneType' has no len()",
     "output_type": "error",
     "traceback": [
      "\u001b[1;31m---------------------------------------------------------------------------\u001b[0m",
      "\u001b[1;31mKeyboardInterrupt\u001b[0m                         Traceback (most recent call last)",
      "    \u001b[1;31m[... skipping hidden 1 frame]\u001b[0m\n",
      "\u001b[1;32m<ipython-input-70-6b745e987a0b>\u001b[0m in \u001b[0;36m<module>\u001b[1;34m\u001b[0m\n\u001b[1;32m----> 1\u001b[1;33m \u001b[0mdf\u001b[0m \u001b[1;33m=\u001b[0m \u001b[0mdf\u001b[0m\u001b[1;33m[\u001b[0m\u001b[0mdf\u001b[0m\u001b[1;33m.\u001b[0m\u001b[0mlang\u001b[0m \u001b[1;33m==\u001b[0m \u001b[1;34m'en'\u001b[0m\u001b[1;33m]\u001b[0m\u001b[1;33m\u001b[0m\u001b[1;33m\u001b[0m\u001b[0m\n\u001b[0m",
      "\u001b[1;32m~\\anaconda3\\lib\\site-packages\\pandas\\core\\frame.py\u001b[0m in \u001b[0;36m__getitem__\u001b[1;34m(self, key)\u001b[0m\n\u001b[0;32m   3014\u001b[0m         \u001b[1;32mif\u001b[0m \u001b[0mcom\u001b[0m\u001b[1;33m.\u001b[0m\u001b[0mis_bool_indexer\u001b[0m\u001b[1;33m(\u001b[0m\u001b[0mkey\u001b[0m\u001b[1;33m)\u001b[0m\u001b[1;33m:\u001b[0m\u001b[1;33m\u001b[0m\u001b[1;33m\u001b[0m\u001b[0m\n\u001b[1;32m-> 3015\u001b[1;33m             \u001b[1;32mreturn\u001b[0m \u001b[0mself\u001b[0m\u001b[1;33m.\u001b[0m\u001b[0m_getitem_bool_array\u001b[0m\u001b[1;33m(\u001b[0m\u001b[0mkey\u001b[0m\u001b[1;33m)\u001b[0m\u001b[1;33m\u001b[0m\u001b[1;33m\u001b[0m\u001b[0m\n\u001b[0m\u001b[0;32m   3016\u001b[0m \u001b[1;33m\u001b[0m\u001b[0m\n",
      "\u001b[1;32m~\\anaconda3\\lib\\site-packages\\pandas\\core\\frame.py\u001b[0m in \u001b[0;36m_getitem_bool_array\u001b[1;34m(self, key)\u001b[0m\n\u001b[0;32m   3069\u001b[0m         \u001b[0mindexer\u001b[0m \u001b[1;33m=\u001b[0m \u001b[0mkey\u001b[0m\u001b[1;33m.\u001b[0m\u001b[0mnonzero\u001b[0m\u001b[1;33m(\u001b[0m\u001b[1;33m)\u001b[0m\u001b[1;33m[\u001b[0m\u001b[1;36m0\u001b[0m\u001b[1;33m]\u001b[0m\u001b[1;33m\u001b[0m\u001b[1;33m\u001b[0m\u001b[0m\n\u001b[1;32m-> 3070\u001b[1;33m         \u001b[1;32mreturn\u001b[0m \u001b[0mself\u001b[0m\u001b[1;33m.\u001b[0m\u001b[0m_take_with_is_copy\u001b[0m\u001b[1;33m(\u001b[0m\u001b[0mindexer\u001b[0m\u001b[1;33m,\u001b[0m \u001b[0maxis\u001b[0m\u001b[1;33m=\u001b[0m\u001b[1;36m0\u001b[0m\u001b[1;33m)\u001b[0m\u001b[1;33m\u001b[0m\u001b[1;33m\u001b[0m\u001b[0m\n\u001b[0m\u001b[0;32m   3071\u001b[0m \u001b[1;33m\u001b[0m\u001b[0m\n",
      "\u001b[1;32m~\\anaconda3\\lib\\site-packages\\pandas\\core\\generic.py\u001b[0m in \u001b[0;36m_take_with_is_copy\u001b[1;34m(self, indices, axis)\u001b[0m\n\u001b[0;32m   3599\u001b[0m         \"\"\"\n\u001b[1;32m-> 3600\u001b[1;33m         \u001b[0mresult\u001b[0m \u001b[1;33m=\u001b[0m \u001b[0mself\u001b[0m\u001b[1;33m.\u001b[0m\u001b[0mtake\u001b[0m\u001b[1;33m(\u001b[0m\u001b[0mindices\u001b[0m\u001b[1;33m=\u001b[0m\u001b[0mindices\u001b[0m\u001b[1;33m,\u001b[0m \u001b[0maxis\u001b[0m\u001b[1;33m=\u001b[0m\u001b[0maxis\u001b[0m\u001b[1;33m)\u001b[0m\u001b[1;33m\u001b[0m\u001b[1;33m\u001b[0m\u001b[0m\n\u001b[0m\u001b[0;32m   3601\u001b[0m         \u001b[1;31m# Maybe set copy if we didn't actually change the index.\u001b[0m\u001b[1;33m\u001b[0m\u001b[1;33m\u001b[0m\u001b[1;33m\u001b[0m\u001b[0m\n",
      "\u001b[1;32m~\\anaconda3\\lib\\site-packages\\pandas\\core\\generic.py\u001b[0m in \u001b[0;36mtake\u001b[1;34m(self, indices, axis, is_copy, **kwargs)\u001b[0m\n\u001b[0;32m   3585\u001b[0m \u001b[1;33m\u001b[0m\u001b[0m\n\u001b[1;32m-> 3586\u001b[1;33m         new_data = self._mgr.take(\n\u001b[0m\u001b[0;32m   3587\u001b[0m             \u001b[0mindices\u001b[0m\u001b[1;33m,\u001b[0m \u001b[0maxis\u001b[0m\u001b[1;33m=\u001b[0m\u001b[0mself\u001b[0m\u001b[1;33m.\u001b[0m\u001b[0m_get_block_manager_axis\u001b[0m\u001b[1;33m(\u001b[0m\u001b[0maxis\u001b[0m\u001b[1;33m)\u001b[0m\u001b[1;33m,\u001b[0m \u001b[0mverify\u001b[0m\u001b[1;33m=\u001b[0m\u001b[1;32mTrue\u001b[0m\u001b[1;33m\u001b[0m\u001b[1;33m\u001b[0m\u001b[0m\n",
      "\u001b[1;32m~\\anaconda3\\lib\\site-packages\\pandas\\core\\internals\\managers.py\u001b[0m in \u001b[0;36mtake\u001b[1;34m(self, indexer, axis, verify, convert)\u001b[0m\n\u001b[0;32m   1473\u001b[0m         \u001b[0mnew_labels\u001b[0m \u001b[1;33m=\u001b[0m \u001b[0mself\u001b[0m\u001b[1;33m.\u001b[0m\u001b[0maxes\u001b[0m\u001b[1;33m[\u001b[0m\u001b[0maxis\u001b[0m\u001b[1;33m]\u001b[0m\u001b[1;33m.\u001b[0m\u001b[0mtake\u001b[0m\u001b[1;33m(\u001b[0m\u001b[0mindexer\u001b[0m\u001b[1;33m)\u001b[0m\u001b[1;33m\u001b[0m\u001b[1;33m\u001b[0m\u001b[0m\n\u001b[1;32m-> 1474\u001b[1;33m         return self.reindex_indexer(\n\u001b[0m\u001b[0;32m   1475\u001b[0m             \u001b[0mnew_axis\u001b[0m\u001b[1;33m=\u001b[0m\u001b[0mnew_labels\u001b[0m\u001b[1;33m,\u001b[0m \u001b[0mindexer\u001b[0m\u001b[1;33m=\u001b[0m\u001b[0mindexer\u001b[0m\u001b[1;33m,\u001b[0m \u001b[0maxis\u001b[0m\u001b[1;33m=\u001b[0m\u001b[0maxis\u001b[0m\u001b[1;33m,\u001b[0m \u001b[0mallow_dups\u001b[0m\u001b[1;33m=\u001b[0m\u001b[1;32mTrue\u001b[0m\u001b[1;33m\u001b[0m\u001b[1;33m\u001b[0m\u001b[0m\n",
      "\u001b[1;32m~\\anaconda3\\lib\\site-packages\\pandas\\core\\internals\\managers.py\u001b[0m in \u001b[0;36mreindex_indexer\u001b[1;34m(self, new_axis, indexer, axis, fill_value, allow_dups, copy, consolidate, only_slice)\u001b[0m\n\u001b[0;32m   1310\u001b[0m         \u001b[1;32melse\u001b[0m\u001b[1;33m:\u001b[0m\u001b[1;33m\u001b[0m\u001b[1;33m\u001b[0m\u001b[0m\n\u001b[1;32m-> 1311\u001b[1;33m             new_blocks = [\n\u001b[0m\u001b[0;32m   1312\u001b[0m                 blk.take_nd(\n",
      "\u001b[1;32m~\\anaconda3\\lib\\site-packages\\pandas\\core\\internals\\managers.py\u001b[0m in \u001b[0;36m<listcomp>\u001b[1;34m(.0)\u001b[0m\n\u001b[0;32m   1311\u001b[0m             new_blocks = [\n\u001b[1;32m-> 1312\u001b[1;33m                 blk.take_nd(\n\u001b[0m\u001b[0;32m   1313\u001b[0m                     \u001b[0mindexer\u001b[0m\u001b[1;33m,\u001b[0m\u001b[1;33m\u001b[0m\u001b[1;33m\u001b[0m\u001b[0m\n",
      "\u001b[1;32m~\\anaconda3\\lib\\site-packages\\pandas\\core\\internals\\blocks.py\u001b[0m in \u001b[0;36mtake_nd\u001b[1;34m(self, indexer, axis, new_mgr_locs, fill_value)\u001b[0m\n\u001b[0;32m   1394\u001b[0m \u001b[1;33m\u001b[0m\u001b[0m\n\u001b[1;32m-> 1395\u001b[1;33m         new_values = algos.take_nd(\n\u001b[0m\u001b[0;32m   1396\u001b[0m             \u001b[0mvalues\u001b[0m\u001b[1;33m,\u001b[0m \u001b[0mindexer\u001b[0m\u001b[1;33m,\u001b[0m \u001b[0maxis\u001b[0m\u001b[1;33m=\u001b[0m\u001b[0maxis\u001b[0m\u001b[1;33m,\u001b[0m \u001b[0mallow_fill\u001b[0m\u001b[1;33m=\u001b[0m\u001b[0mallow_fill\u001b[0m\u001b[1;33m,\u001b[0m \u001b[0mfill_value\u001b[0m\u001b[1;33m=\u001b[0m\u001b[0mfill_value\u001b[0m\u001b[1;33m\u001b[0m\u001b[1;33m\u001b[0m\u001b[0m\n",
      "\u001b[1;31mKeyboardInterrupt\u001b[0m: ",
      "\nDuring handling of the above exception, another exception occurred:\n",
      "\u001b[1;31mAttributeError\u001b[0m                            Traceback (most recent call last)",
      "\u001b[1;32m~\\anaconda3\\lib\\site-packages\\IPython\\core\\interactiveshell.py\u001b[0m in \u001b[0;36mshowtraceback\u001b[1;34m(self, exc_tuple, filename, tb_offset, exception_only, running_compiled_code)\u001b[0m\n\u001b[0;32m   2060\u001b[0m                         \u001b[1;31m# in the engines. This should return a list of strings.\u001b[0m\u001b[1;33m\u001b[0m\u001b[1;33m\u001b[0m\u001b[1;33m\u001b[0m\u001b[0m\n\u001b[1;32m-> 2061\u001b[1;33m                         \u001b[0mstb\u001b[0m \u001b[1;33m=\u001b[0m \u001b[0mvalue\u001b[0m\u001b[1;33m.\u001b[0m\u001b[0m_render_traceback_\u001b[0m\u001b[1;33m(\u001b[0m\u001b[1;33m)\u001b[0m\u001b[1;33m\u001b[0m\u001b[1;33m\u001b[0m\u001b[0m\n\u001b[0m\u001b[0;32m   2062\u001b[0m                     \u001b[1;32mexcept\u001b[0m \u001b[0mException\u001b[0m\u001b[1;33m:\u001b[0m\u001b[1;33m\u001b[0m\u001b[1;33m\u001b[0m\u001b[0m\n",
      "\u001b[1;31mAttributeError\u001b[0m: 'KeyboardInterrupt' object has no attribute '_render_traceback_'",
      "\nDuring handling of the above exception, another exception occurred:\n",
      "\u001b[1;31mTypeError\u001b[0m                                 Traceback (most recent call last)",
      "    \u001b[1;31m[... skipping hidden 1 frame]\u001b[0m\n",
      "\u001b[1;32m~\\anaconda3\\lib\\site-packages\\IPython\\core\\interactiveshell.py\u001b[0m in \u001b[0;36mshowtraceback\u001b[1;34m(self, exc_tuple, filename, tb_offset, exception_only, running_compiled_code)\u001b[0m\n\u001b[0;32m   2061\u001b[0m                         \u001b[0mstb\u001b[0m \u001b[1;33m=\u001b[0m \u001b[0mvalue\u001b[0m\u001b[1;33m.\u001b[0m\u001b[0m_render_traceback_\u001b[0m\u001b[1;33m(\u001b[0m\u001b[1;33m)\u001b[0m\u001b[1;33m\u001b[0m\u001b[1;33m\u001b[0m\u001b[0m\n\u001b[0;32m   2062\u001b[0m                     \u001b[1;32mexcept\u001b[0m \u001b[0mException\u001b[0m\u001b[1;33m:\u001b[0m\u001b[1;33m\u001b[0m\u001b[1;33m\u001b[0m\u001b[0m\n\u001b[1;32m-> 2063\u001b[1;33m                         stb = self.InteractiveTB.structured_traceback(etype,\n\u001b[0m\u001b[0;32m   2064\u001b[0m                                             value, tb, tb_offset=tb_offset)\n\u001b[0;32m   2065\u001b[0m \u001b[1;33m\u001b[0m\u001b[0m\n",
      "\u001b[1;32m~\\anaconda3\\lib\\site-packages\\IPython\\core\\ultratb.py\u001b[0m in \u001b[0;36mstructured_traceback\u001b[1;34m(self, etype, value, tb, tb_offset, number_of_lines_of_context)\u001b[0m\n\u001b[0;32m   1365\u001b[0m         \u001b[1;32melse\u001b[0m\u001b[1;33m:\u001b[0m\u001b[1;33m\u001b[0m\u001b[1;33m\u001b[0m\u001b[0m\n\u001b[0;32m   1366\u001b[0m             \u001b[0mself\u001b[0m\u001b[1;33m.\u001b[0m\u001b[0mtb\u001b[0m \u001b[1;33m=\u001b[0m \u001b[0mtb\u001b[0m\u001b[1;33m\u001b[0m\u001b[1;33m\u001b[0m\u001b[0m\n\u001b[1;32m-> 1367\u001b[1;33m         return FormattedTB.structured_traceback(\n\u001b[0m\u001b[0;32m   1368\u001b[0m             self, etype, value, tb, tb_offset, number_of_lines_of_context)\n\u001b[0;32m   1369\u001b[0m \u001b[1;33m\u001b[0m\u001b[0m\n",
      "\u001b[1;32m~\\anaconda3\\lib\\site-packages\\IPython\\core\\ultratb.py\u001b[0m in \u001b[0;36mstructured_traceback\u001b[1;34m(self, etype, value, tb, tb_offset, number_of_lines_of_context)\u001b[0m\n\u001b[0;32m   1265\u001b[0m         \u001b[1;32mif\u001b[0m \u001b[0mmode\u001b[0m \u001b[1;32min\u001b[0m \u001b[0mself\u001b[0m\u001b[1;33m.\u001b[0m\u001b[0mverbose_modes\u001b[0m\u001b[1;33m:\u001b[0m\u001b[1;33m\u001b[0m\u001b[1;33m\u001b[0m\u001b[0m\n\u001b[0;32m   1266\u001b[0m             \u001b[1;31m# Verbose modes need a full traceback\u001b[0m\u001b[1;33m\u001b[0m\u001b[1;33m\u001b[0m\u001b[1;33m\u001b[0m\u001b[0m\n\u001b[1;32m-> 1267\u001b[1;33m             return VerboseTB.structured_traceback(\n\u001b[0m\u001b[0;32m   1268\u001b[0m                 \u001b[0mself\u001b[0m\u001b[1;33m,\u001b[0m \u001b[0metype\u001b[0m\u001b[1;33m,\u001b[0m \u001b[0mvalue\u001b[0m\u001b[1;33m,\u001b[0m \u001b[0mtb\u001b[0m\u001b[1;33m,\u001b[0m \u001b[0mtb_offset\u001b[0m\u001b[1;33m,\u001b[0m \u001b[0mnumber_of_lines_of_context\u001b[0m\u001b[1;33m\u001b[0m\u001b[1;33m\u001b[0m\u001b[0m\n\u001b[0;32m   1269\u001b[0m             )\n",
      "\u001b[1;32m~\\anaconda3\\lib\\site-packages\\IPython\\core\\ultratb.py\u001b[0m in \u001b[0;36mstructured_traceback\u001b[1;34m(self, etype, evalue, etb, tb_offset, number_of_lines_of_context)\u001b[0m\n\u001b[0;32m   1122\u001b[0m         \u001b[1;34m\"\"\"Return a nice text document describing the traceback.\"\"\"\u001b[0m\u001b[1;33m\u001b[0m\u001b[1;33m\u001b[0m\u001b[0m\n\u001b[0;32m   1123\u001b[0m \u001b[1;33m\u001b[0m\u001b[0m\n\u001b[1;32m-> 1124\u001b[1;33m         formatted_exception = self.format_exception_as_a_whole(etype, evalue, etb, number_of_lines_of_context,\n\u001b[0m\u001b[0;32m   1125\u001b[0m                                                                tb_offset)\n\u001b[0;32m   1126\u001b[0m \u001b[1;33m\u001b[0m\u001b[0m\n",
      "\u001b[1;32m~\\anaconda3\\lib\\site-packages\\IPython\\core\\ultratb.py\u001b[0m in \u001b[0;36mformat_exception_as_a_whole\u001b[1;34m(self, etype, evalue, etb, number_of_lines_of_context, tb_offset)\u001b[0m\n\u001b[0;32m   1080\u001b[0m \u001b[1;33m\u001b[0m\u001b[0m\n\u001b[0;32m   1081\u001b[0m \u001b[1;33m\u001b[0m\u001b[0m\n\u001b[1;32m-> 1082\u001b[1;33m         \u001b[0mlast_unique\u001b[0m\u001b[1;33m,\u001b[0m \u001b[0mrecursion_repeat\u001b[0m \u001b[1;33m=\u001b[0m \u001b[0mfind_recursion\u001b[0m\u001b[1;33m(\u001b[0m\u001b[0morig_etype\u001b[0m\u001b[1;33m,\u001b[0m \u001b[0mevalue\u001b[0m\u001b[1;33m,\u001b[0m \u001b[0mrecords\u001b[0m\u001b[1;33m)\u001b[0m\u001b[1;33m\u001b[0m\u001b[1;33m\u001b[0m\u001b[0m\n\u001b[0m\u001b[0;32m   1083\u001b[0m \u001b[1;33m\u001b[0m\u001b[0m\n\u001b[0;32m   1084\u001b[0m         \u001b[0mframes\u001b[0m \u001b[1;33m=\u001b[0m \u001b[0mself\u001b[0m\u001b[1;33m.\u001b[0m\u001b[0mformat_records\u001b[0m\u001b[1;33m(\u001b[0m\u001b[0mrecords\u001b[0m\u001b[1;33m,\u001b[0m \u001b[0mlast_unique\u001b[0m\u001b[1;33m,\u001b[0m \u001b[0mrecursion_repeat\u001b[0m\u001b[1;33m)\u001b[0m\u001b[1;33m\u001b[0m\u001b[1;33m\u001b[0m\u001b[0m\n",
      "\u001b[1;32m~\\anaconda3\\lib\\site-packages\\IPython\\core\\ultratb.py\u001b[0m in \u001b[0;36mfind_recursion\u001b[1;34m(etype, value, records)\u001b[0m\n\u001b[0;32m    380\u001b[0m     \u001b[1;31m# first frame (from in to out) that looks different.\u001b[0m\u001b[1;33m\u001b[0m\u001b[1;33m\u001b[0m\u001b[1;33m\u001b[0m\u001b[0m\n\u001b[0;32m    381\u001b[0m     \u001b[1;32mif\u001b[0m \u001b[1;32mnot\u001b[0m \u001b[0mis_recursion_error\u001b[0m\u001b[1;33m(\u001b[0m\u001b[0metype\u001b[0m\u001b[1;33m,\u001b[0m \u001b[0mvalue\u001b[0m\u001b[1;33m,\u001b[0m \u001b[0mrecords\u001b[0m\u001b[1;33m)\u001b[0m\u001b[1;33m:\u001b[0m\u001b[1;33m\u001b[0m\u001b[1;33m\u001b[0m\u001b[0m\n\u001b[1;32m--> 382\u001b[1;33m         \u001b[1;32mreturn\u001b[0m \u001b[0mlen\u001b[0m\u001b[1;33m(\u001b[0m\u001b[0mrecords\u001b[0m\u001b[1;33m)\u001b[0m\u001b[1;33m,\u001b[0m \u001b[1;36m0\u001b[0m\u001b[1;33m\u001b[0m\u001b[1;33m\u001b[0m\u001b[0m\n\u001b[0m\u001b[0;32m    383\u001b[0m \u001b[1;33m\u001b[0m\u001b[0m\n\u001b[0;32m    384\u001b[0m     \u001b[1;31m# Select filename, lineno, func_name to track frames with\u001b[0m\u001b[1;33m\u001b[0m\u001b[1;33m\u001b[0m\u001b[1;33m\u001b[0m\u001b[0m\n",
      "\u001b[1;31mTypeError\u001b[0m: object of type 'NoneType' has no len()"
     ]
    }
   ],
   "source": [
    "df = df[df.lang == 'en']"
   ]
  },
  {
   "cell_type": "code",
   "execution_count": 37,
   "id": "65e87a44",
   "metadata": {},
   "outputs": [],
   "source": [
    "# import definition\n",
    "import sys\n",
    "import os\n",
    "from pathlib import Path\n",
    "sys.path.append(str(Path.cwd().parent))\n",
    "from definitions.airlines import airlines_id, airlines_name"
   ]
  },
  {
   "cell_type": "code",
   "execution_count": null,
   "id": "c4326750",
   "metadata": {},
   "outputs": [],
   "source": [
    "df_light = df[df['in_reply_to_user_id'].isna()][['text']]"
   ]
  },
  {
   "cell_type": "code",
   "execution_count": null,
   "id": "d90f1fbe",
   "metadata": {},
   "outputs": [],
   "source": [
    "#Extract only tweets mention KLM (@KLM etc...):\n",
    "def extract_tweet_mention_airlines(airline_name : str, df_data : pd.DataFrame) -> pd.DataFrame:\n",
    "    \"\"\"\n",
    "    extract tweets that made by an airline\n",
    "    :parameter airline_name: the string name of the airline\n",
    "    :return DataFrame with one tweets mention that airline\n",
    "    \"\"\"\n",
    "\n",
    "    ind2 = []\n",
    "    for index, row in df_data.iterrows():\n",
    "        if airline_name in row['text']:\n",
    "            ind2.append(index)\n",
    "    airline_tweet_men = df_data.loc[ind2]\n",
    "    return airline_tweet_men"
   ]
  },
  {
   "cell_type": "code",
   "execution_count": null,
   "id": "93039ba3",
   "metadata": {},
   "outputs": [],
   "source": [
    "lst = []\n",
    "for airline in airlines_name.values():\n",
    "    a = extract_tweet_mention_airlines(airline, df_light)\n",
    "    a['airline'] = [airline for _ in range(len(a))]\n",
    "    lst.append(a)"
   ]
  },
  {
   "cell_type": "code",
   "execution_count": null,
   "id": "a5e745ad",
   "metadata": {},
   "outputs": [],
   "source": [
    "sth = pd.concat(lst)"
   ]
  },
  {
   "cell_type": "code",
   "execution_count": null,
   "id": "2de2db49",
   "metadata": {},
   "outputs": [],
   "source": [
    "lst_score = []\n",
    "lst_label = []\n",
    "for index, row in sth.iterrows():\n",
    "    a = extract_sentiment_score(row.text)\n",
    "    lst_score.append(a[1])\n",
    "    lst_label.append(a[0])"
   ]
  },
  {
   "cell_type": "code",
   "execution_count": null,
   "id": "95cf53d8",
   "metadata": {},
   "outputs": [],
   "source": [
    "sth['label'] = lst_label\n",
    "sth['score'] = lst_score"
   ]
  }
 ],
 "metadata": {
  "interpreter": {
   "hash": "f6c8f846148a3e4d140e6ddf63c190cff559dcf260a4a21539f0978f2b58638c"
  },
  "kernelspec": {
   "display_name": "Python 3 (ipykernel)",
   "language": "python",
   "name": "python3"
  },
  "language_info": {
   "codemirror_mode": {
    "name": "ipython",
    "version": 3
   },
   "file_extension": ".py",
   "mimetype": "text/x-python",
   "name": "python",
   "nbconvert_exporter": "python",
   "pygments_lexer": "ipython3",
   "version": "3.8.13"
  }
 },
 "nbformat": 4,
 "nbformat_minor": 5
}
