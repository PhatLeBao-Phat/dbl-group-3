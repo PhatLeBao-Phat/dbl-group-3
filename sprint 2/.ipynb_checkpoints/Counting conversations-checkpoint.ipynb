{
 "cells": [
  {
   "cell_type": "code",
   "execution_count": 1,
   "id": "12d2b3a4",
   "metadata": {},
   "outputs": [],
   "source": [
    "import pandas as pd\n",
    "import numpy as np \n",
    "import sqlite3"
   ]
  },
  {
   "cell_type": "markdown",
   "id": "586cb937",
   "metadata": {},
   "source": [
    "#### 1. connect to database"
   ]
  },
  {
   "cell_type": "code",
   "execution_count": 5,
   "id": "01b99a45",
   "metadata": {},
   "outputs": [],
   "source": [
    "con = sqlite3.connect('../../database/database.db')"
   ]
  },
  {
   "cell_type": "code",
   "execution_count": 36,
   "id": "1e19573e",
   "metadata": {},
   "outputs": [],
   "source": [
    "# get the conversation from conversation table\n",
    "conversation = pd.read_sql_query(\"\"\"\n",
    "    SELECT airline_name, conversation_opener, id_1, id_2, id_3, id_4, id_5, id_6, id_7\n",
    "    FROM conversation\n",
    "\"\"\", con)\n",
    "\n",
    "# change the datatype\n",
    "conversation = conversation.astype({\n",
    "    'id_1' : 'float64',\n",
    "    'id_2' : 'float64',\n",
    "    'id_3' : 'float64',\n",
    "    'id_4' : 'float64',\n",
    "    'id_5' : 'float64',\n",
    "    'id_6' : 'float64',\n",
    "    'id_7' : 'float64'\n",
    "}) "
   ]
  },
  {
   "cell_type": "markdown",
   "id": "1e79addd",
   "metadata": {},
   "source": [
    "#### 2. Count length"
   ]
  },
  {
   "cell_type": "code",
   "execution_count": 37,
   "id": "36673150",
   "metadata": {},
   "outputs": [],
   "source": [
    "# define a function to count length of conversation \n",
    "lst = []\n",
    "for index, row in conversation.drop(columns=['airline_name', 'conversation_opener']).iterrows():\n",
    "    lst.append(len(row.dropna()))"
   ]
  },
  {
   "cell_type": "code",
   "execution_count": 38,
   "id": "7181153e",
   "metadata": {},
   "outputs": [],
   "source": [
    "conversation['len'] = lst # add attribute length of conversation"
   ]
  },
  {
   "cell_type": "code",
   "execution_count": 39,
   "id": "603181f7",
   "metadata": {},
   "outputs": [],
   "source": [
    "conversation = conversation.drop(columns=['id_1', 'id_2', \"id_3\", 'id_4', 'id_5', 'id_6', 'id_7']) # drop useless columns "
   ]
  },
  {
   "cell_type": "code",
   "execution_count": 67,
   "id": "1b4d3ede",
   "metadata": {},
   "outputs": [
    {
     "data": {
      "image/png": "[encoded data removed]",
      "text/plain": [
       "<Figure size 432x432 with 1 Axes>"
      ]
     },
     "metadata": {
      "needs_background": "light"
     },
     "output_type": "display_data"
    }
   ],
   "source": [
    "cross_tab_prop = pd.crosstab(index=conversation['airline_name'],\n",
    "                             columns=conversation['len'],\n",
    "                             normalize=\"index\")\n",
    "\n",
    "ax = cross_tab_prop.plot(kind='barh', \n",
    "                    stacked=True,  \n",
    "                    figsize=(6, 6))\n",
    "ax.set_title('proportional stacked barplot of length of conversations per airline', size=12)\n",
    "ax.set_xlabel('', size=10)\n",
    "ax.set_ylabel('Airline', size=10);"
   ]
  },
  {
   "cell_type": "code",
   "execution_count": 53,
   "id": "dfa5da54",
   "metadata": {},
   "outputs": [
    {
     "data": {
      "text/html": [
       "<div>\n",
       "<style scoped>\n",
       "    .dataframe tbody tr th:only-of-type {\n",
       "        vertical-align: middle;\n",
       "    }\n",
       "\n",
       "    .dataframe tbody tr th {\n",
       "        vertical-align: top;\n",
       "    }\n",
       "\n",
       "    .dataframe thead th {\n",
       "        text-align: right;\n",
       "    }\n",
       "</style>\n",
       "<table border=\"1\" class=\"dataframe\">\n",
       "  <thead>\n",
       "    <tr style=\"text-align: right;\">\n",
       "      <th></th>\n",
       "      <th>len</th>\n",
       "    </tr>\n",
       "    <tr>\n",
       "      <th>airline_name</th>\n",
       "      <th></th>\n",
       "    </tr>\n",
       "  </thead>\n",
       "  <tbody>\n",
       "    <tr>\n",
       "      <th>AirFrance</th>\n",
       "      <td>4.702797</td>\n",
       "    </tr>\n",
       "    <tr>\n",
       "      <th>AmericanAir</th>\n",
       "      <td>4.635114</td>\n",
       "    </tr>\n",
       "    <tr>\n",
       "      <th>British_Airways</th>\n",
       "      <td>4.849239</td>\n",
       "    </tr>\n",
       "    <tr>\n",
       "      <th>EtihadAirways</th>\n",
       "      <td>4.398734</td>\n",
       "    </tr>\n",
       "    <tr>\n",
       "      <th>KLM</th>\n",
       "      <td>4.836634</td>\n",
       "    </tr>\n",
       "    <tr>\n",
       "      <th>Lufthansa</th>\n",
       "      <td>4.872571</td>\n",
       "    </tr>\n",
       "    <tr>\n",
       "      <th>Qantas</th>\n",
       "      <td>4.640893</td>\n",
       "    </tr>\n",
       "    <tr>\n",
       "      <th>RyanAir</th>\n",
       "      <td>4.549572</td>\n",
       "    </tr>\n",
       "    <tr>\n",
       "      <th>SingaporeAir</th>\n",
       "      <td>4.943228</td>\n",
       "    </tr>\n",
       "    <tr>\n",
       "      <th>VirginAtlantic</th>\n",
       "      <td>4.742021</td>\n",
       "    </tr>\n",
       "    <tr>\n",
       "      <th>easyJet</th>\n",
       "      <td>4.834853</td>\n",
       "    </tr>\n",
       "  </tbody>\n",
       "</table>\n",
       "</div>"
      ],
      "text/plain": [
       "                      len\n",
       "airline_name             \n",
       "AirFrance        4.702797\n",
       "AmericanAir      4.635114\n",
       "British_Airways  4.849239\n",
       "EtihadAirways    4.398734\n",
       "KLM              4.836634\n",
       "Lufthansa        4.872571\n",
       "Qantas           4.640893\n",
       "RyanAir          4.549572\n",
       "SingaporeAir     4.943228\n",
       "VirginAtlantic   4.742021\n",
       "easyJet          4.834853"
      ]
     },
     "execution_count": 53,
     "metadata": {},
     "output_type": "execute_result"
    }
   ],
   "source": [
    "bru = conversation.groupby(['airline_name']).mean()\n",
    "bru"
   ]
  },
  {
   "cell_type": "code",
   "execution_count": 74,
   "id": "f519ded8",
   "metadata": {},
   "outputs": [
    {
     "data": {
      "image/png": "[encoded data removed]",
      "text/plain": [
       "<Figure size 432x360 with 1 Axes>"
      ]
     },
     "metadata": {
      "needs_background": "light"
     },
     "output_type": "display_data"
    }
   ],
   "source": [
    "# number of conversation per airline - same as Marfa did \n",
    "ax = conversation.groupby('airline_name', as_index=False).count().plot(kind='barh', y='len', x='airline_name', figsize=(6, 5))\n",
    "ax.set_title('nr of conversation per airline', size=12)\n",
    "ax.set_xlabel('nr of conversation', size=10)\n",
    "ax.set_ylabel('Airline', size=10)\n",
    "ax.get_legend().remove()"
   ]
  }
 ],
 "metadata": {
  "kernelspec": {
   "display_name": "Python 3",
   "language": "python",
   "name": "python3"
  },
  "language_info": {
   "codemirror_mode": {
    "name": "ipython",
    "version": 3
   },
   "file_extension": ".py",
   "mimetype": "text/x-python",
   "name": "python",
   "nbconvert_exporter": "python",
   "pygments_lexer": "ipython3",
   "version": "3.8.8"
  }
 },
 "nbformat": 4,
 "nbformat_minor": 5
}
