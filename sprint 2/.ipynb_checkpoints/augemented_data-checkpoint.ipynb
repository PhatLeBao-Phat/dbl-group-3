{
 "cells": [
  {
   "cell_type": "code",
   "execution_count": 1,
   "id": "e637656e",
   "metadata": {},
   "outputs": [],
   "source": [
    "import pandas as pd\n",
    "import numpy as np \n",
    "import sqlite3 "
   ]
  },
  {
   "cell_type": "markdown",
   "id": "701d2e66",
   "metadata": {},
   "source": [
    "#### 1. connect to database"
   ]
  },
  {
   "cell_type": "code",
   "execution_count": 3,
   "id": "92a57f9e",
   "metadata": {},
   "outputs": [],
   "source": [
    "con = sqlite3.connect('../../database/database.db')"
   ]
  },
  {
   "cell_type": "code",
   "execution_count": 10,
   "id": "4a4e8011",
   "metadata": {},
   "outputs": [],
   "source": [
    "df = pd.read_sql_query(\"\"\"\n",
    "    SELECT g1.id, g2.id, g2.user_id, g1.timestamp_ms as time_1, g2.timestamp_ms as time_2\n",
    "    FROM general_tweets as g1, general_tweets as g2\n",
    "    WHERE g1.id == g2.in_reply_to_status_id AND g2.user_id == '56377143' \n",
    "\"\"\", con)"
   ]
  },
  {
   "cell_type": "markdown",
   "id": "fc64d983",
   "metadata": {},
   "source": [
    "#### 2. augemented data with reply time"
   ]
  },
  {
   "cell_type": "code",
   "execution_count": 11,
   "id": "b440ffba",
   "metadata": {},
   "outputs": [
    {
     "data": {
      "text/html": [
       "<div>\n",
       "<style scoped>\n",
       "    .dataframe tbody tr th:only-of-type {\n",
       "        vertical-align: middle;\n",
       "    }\n",
       "\n",
       "    .dataframe tbody tr th {\n",
       "        vertical-align: top;\n",
       "    }\n",
       "\n",
       "    .dataframe thead th {\n",
       "        text-align: right;\n",
       "    }\n",
       "</style>\n",
       "<table border=\"1\" class=\"dataframe\">\n",
       "  <thead>\n",
       "    <tr style=\"text-align: right;\">\n",
       "      <th></th>\n",
       "      <th>id</th>\n",
       "      <th>id</th>\n",
       "      <th>user_id</th>\n",
       "      <th>time_1</th>\n",
       "      <th>time_2</th>\n",
       "    </tr>\n",
       "  </thead>\n",
       "  <tbody>\n",
       "    <tr>\n",
       "      <th>0</th>\n",
       "      <td>1.1311830432412303e+18</td>\n",
       "      <td>1.1311852592892068e+18</td>\n",
       "      <td>56377143</td>\n",
       "      <td>2019-05-22 13:00:28.530</td>\n",
       "      <td>2019-05-22 13:09:16.877</td>\n",
       "    </tr>\n",
       "    <tr>\n",
       "      <th>1</th>\n",
       "      <td>1.1311824743804232e+18</td>\n",
       "      <td>1.1311879787710259e+18</td>\n",
       "      <td>56377143</td>\n",
       "      <td>2019-05-22 12:58:12.903</td>\n",
       "      <td>2019-05-22 13:20:05.252</td>\n",
       "    </tr>\n",
       "    <tr>\n",
       "      <th>2</th>\n",
       "      <td>1.1311830804741243e+18</td>\n",
       "      <td>1.1311880285281075e+18</td>\n",
       "      <td>56377143</td>\n",
       "      <td>2019-05-22 13:00:37.407</td>\n",
       "      <td>2019-05-22 13:20:17.115</td>\n",
       "    </tr>\n",
       "    <tr>\n",
       "      <th>3</th>\n",
       "      <td>1.1311824743804232e+18</td>\n",
       "      <td>1.1311880893287342e+18</td>\n",
       "      <td>56377143</td>\n",
       "      <td>2019-05-22 12:58:12.903</td>\n",
       "      <td>2019-05-22 13:20:31.611</td>\n",
       "    </tr>\n",
       "    <tr>\n",
       "      <th>4</th>\n",
       "      <td>1.1311856772305756e+18</td>\n",
       "      <td>1.1311882878031421e+18</td>\n",
       "      <td>56377143</td>\n",
       "      <td>2019-05-22 13:10:56.522</td>\n",
       "      <td>2019-05-22 13:21:18.931</td>\n",
       "    </tr>\n",
       "  </tbody>\n",
       "</table>\n",
       "</div>"
      ],
      "text/plain": [
       "                       id                      id   user_id  \\\n",
       "0  1.1311830432412303e+18  1.1311852592892068e+18  56377143   \n",
       "1  1.1311824743804232e+18  1.1311879787710259e+18  56377143   \n",
       "2  1.1311830804741243e+18  1.1311880285281075e+18  56377143   \n",
       "3  1.1311824743804232e+18  1.1311880893287342e+18  56377143   \n",
       "4  1.1311856772305756e+18  1.1311882878031421e+18  56377143   \n",
       "\n",
       "                    time_1                   time_2  \n",
       "0  2019-05-22 13:00:28.530  2019-05-22 13:09:16.877  \n",
       "1  2019-05-22 12:58:12.903  2019-05-22 13:20:05.252  \n",
       "2  2019-05-22 13:00:37.407  2019-05-22 13:20:17.115  \n",
       "3  2019-05-22 12:58:12.903  2019-05-22 13:20:31.611  \n",
       "4  2019-05-22 13:10:56.522  2019-05-22 13:21:18.931  "
      ]
     },
     "execution_count": 11,
     "metadata": {},
     "output_type": "execute_result"
    }
   ],
   "source": [
    "df.head()"
   ]
  },
  {
   "cell_type": "code",
   "execution_count": 16,
   "id": "114f29e8",
   "metadata": {},
   "outputs": [],
   "source": [
    "df['time_1'] = pd.to_datetime(df.time_1)\n",
    "df['time_2'] = pd.to_datetime(df.time_2)\n",
    "df.drop(columns=['id'], inplace=True)"
   ]
  },
  {
   "cell_type": "code",
   "execution_count": 25,
   "id": "b37e01ec",
   "metadata": {},
   "outputs": [],
   "source": [
    "df['reply_time'] = df['time_2'] - df['time_1']\n",
    "df['reply_time_in_seconds'] = pd.Series([df['reply_time'].iloc[i].seconds for i in range(len(df))])\n",
    "df['reply_time_in_minutes'] = df['reply_time_in_seconds']/60"
   ]
  },
  {
   "cell_type": "code",
   "execution_count": 26,
   "id": "9a4e8a78",
   "metadata": {},
   "outputs": [
    {
     "data": {
      "text/html": [
       "<div>\n",
       "<style scoped>\n",
       "    .dataframe tbody tr th:only-of-type {\n",
       "        vertical-align: middle;\n",
       "    }\n",
       "\n",
       "    .dataframe tbody tr th {\n",
       "        vertical-align: top;\n",
       "    }\n",
       "\n",
       "    .dataframe thead th {\n",
       "        text-align: right;\n",
       "    }\n",
       "</style>\n",
       "<table border=\"1\" class=\"dataframe\">\n",
       "  <thead>\n",
       "    <tr style=\"text-align: right;\">\n",
       "      <th></th>\n",
       "      <th>user_id</th>\n",
       "      <th>time_1</th>\n",
       "      <th>time_2</th>\n",
       "      <th>reply_time</th>\n",
       "      <th>reply_time_in_seconds</th>\n",
       "      <th>reply_time_in_minutes</th>\n",
       "    </tr>\n",
       "  </thead>\n",
       "  <tbody>\n",
       "    <tr>\n",
       "      <th>0</th>\n",
       "      <td>56377143</td>\n",
       "      <td>2019-05-22 13:00:28.530</td>\n",
       "      <td>2019-05-22 13:09:16.877</td>\n",
       "      <td>0 days 00:08:48.347000</td>\n",
       "      <td>528</td>\n",
       "      <td>8.800000</td>\n",
       "    </tr>\n",
       "    <tr>\n",
       "      <th>1</th>\n",
       "      <td>56377143</td>\n",
       "      <td>2019-05-22 12:58:12.903</td>\n",
       "      <td>2019-05-22 13:20:05.252</td>\n",
       "      <td>0 days 00:21:52.349000</td>\n",
       "      <td>1312</td>\n",
       "      <td>21.866667</td>\n",
       "    </tr>\n",
       "    <tr>\n",
       "      <th>2</th>\n",
       "      <td>56377143</td>\n",
       "      <td>2019-05-22 13:00:37.407</td>\n",
       "      <td>2019-05-22 13:20:17.115</td>\n",
       "      <td>0 days 00:19:39.708000</td>\n",
       "      <td>1179</td>\n",
       "      <td>19.650000</td>\n",
       "    </tr>\n",
       "    <tr>\n",
       "      <th>3</th>\n",
       "      <td>56377143</td>\n",
       "      <td>2019-05-22 12:58:12.903</td>\n",
       "      <td>2019-05-22 13:20:31.611</td>\n",
       "      <td>0 days 00:22:18.708000</td>\n",
       "      <td>1338</td>\n",
       "      <td>22.300000</td>\n",
       "    </tr>\n",
       "    <tr>\n",
       "      <th>4</th>\n",
       "      <td>56377143</td>\n",
       "      <td>2019-05-22 13:10:56.522</td>\n",
       "      <td>2019-05-22 13:21:18.931</td>\n",
       "      <td>0 days 00:10:22.409000</td>\n",
       "      <td>622</td>\n",
       "      <td>10.366667</td>\n",
       "    </tr>\n",
       "  </tbody>\n",
       "</table>\n",
       "</div>"
      ],
      "text/plain": [
       "    user_id                  time_1                  time_2  \\\n",
       "0  56377143 2019-05-22 13:00:28.530 2019-05-22 13:09:16.877   \n",
       "1  56377143 2019-05-22 12:58:12.903 2019-05-22 13:20:05.252   \n",
       "2  56377143 2019-05-22 13:00:37.407 2019-05-22 13:20:17.115   \n",
       "3  56377143 2019-05-22 12:58:12.903 2019-05-22 13:20:31.611   \n",
       "4  56377143 2019-05-22 13:10:56.522 2019-05-22 13:21:18.931   \n",
       "\n",
       "              reply_time  reply_time_in_seconds  reply_time_in_minutes  \n",
       "0 0 days 00:08:48.347000                    528               8.800000  \n",
       "1 0 days 00:21:52.349000                   1312              21.866667  \n",
       "2 0 days 00:19:39.708000                   1179              19.650000  \n",
       "3 0 days 00:22:18.708000                   1338              22.300000  \n",
       "4 0 days 00:10:22.409000                    622              10.366667  "
      ]
     },
     "execution_count": 26,
     "metadata": {},
     "output_type": "execute_result"
    }
   ],
   "source": [
    "df.head()"
   ]
  },
  {
   "cell_type": "markdown",
   "id": "70fd4f41",
   "metadata": {},
   "source": [
    "#### 3. Check the time"
   ]
  },
  {
   "cell_type": "code",
   "execution_count": 29,
   "id": "a8d1ca9f",
   "metadata": {},
   "outputs": [],
   "source": [
    "all_df = pd.read_sql_query(\"\"\"\n",
    "    SELECT timestamp_ms\n",
    "    FROM general_tweets\n",
    "\"\"\", con)"
   ]
  },
  {
   "cell_type": "code",
   "execution_count": 30,
   "id": "9e214d88",
   "metadata": {},
   "outputs": [
    {
     "ename": "AttributeError",
     "evalue": "'DataFrame' object has no attribute 'timestamp_ms'",
     "output_type": "error",
     "traceback": [
      "\u001b[1;31m---------------------------------------------------------------------------\u001b[0m",
      "\u001b[1;31mAttributeError\u001b[0m                            Traceback (most recent call last)",
      "\u001b[1;32m<ipython-input-30-b6ace1b4eca5>\u001b[0m in \u001b[0;36m<module>\u001b[1;34m\u001b[0m\n\u001b[1;32m----> 1\u001b[1;33m \u001b[0mdf\u001b[0m\u001b[1;33m[\u001b[0m\u001b[1;34m'timestamp_ms'\u001b[0m\u001b[1;33m]\u001b[0m \u001b[1;33m=\u001b[0m \u001b[0mpd\u001b[0m\u001b[1;33m.\u001b[0m\u001b[0mto_datetime\u001b[0m\u001b[1;33m(\u001b[0m\u001b[0mdf\u001b[0m\u001b[1;33m.\u001b[0m\u001b[0mtimestamp_ms\u001b[0m\u001b[1;33m)\u001b[0m\u001b[1;33m\u001b[0m\u001b[1;33m\u001b[0m\u001b[0m\n\u001b[0m",
      "\u001b[1;32m~\\anaconda3\\lib\\site-packages\\pandas\\core\\generic.py\u001b[0m in \u001b[0;36m__getattr__\u001b[1;34m(self, name)\u001b[0m\n\u001b[0;32m   5463\u001b[0m             \u001b[1;32mif\u001b[0m \u001b[0mself\u001b[0m\u001b[1;33m.\u001b[0m\u001b[0m_info_axis\u001b[0m\u001b[1;33m.\u001b[0m\u001b[0m_can_hold_identifiers_and_holds_name\u001b[0m\u001b[1;33m(\u001b[0m\u001b[0mname\u001b[0m\u001b[1;33m)\u001b[0m\u001b[1;33m:\u001b[0m\u001b[1;33m\u001b[0m\u001b[1;33m\u001b[0m\u001b[0m\n\u001b[0;32m   5464\u001b[0m                 \u001b[1;32mreturn\u001b[0m \u001b[0mself\u001b[0m\u001b[1;33m[\u001b[0m\u001b[0mname\u001b[0m\u001b[1;33m]\u001b[0m\u001b[1;33m\u001b[0m\u001b[1;33m\u001b[0m\u001b[0m\n\u001b[1;32m-> 5465\u001b[1;33m             \u001b[1;32mreturn\u001b[0m \u001b[0mobject\u001b[0m\u001b[1;33m.\u001b[0m\u001b[0m__getattribute__\u001b[0m\u001b[1;33m(\u001b[0m\u001b[0mself\u001b[0m\u001b[1;33m,\u001b[0m \u001b[0mname\u001b[0m\u001b[1;33m)\u001b[0m\u001b[1;33m\u001b[0m\u001b[1;33m\u001b[0m\u001b[0m\n\u001b[0m\u001b[0;32m   5466\u001b[0m \u001b[1;33m\u001b[0m\u001b[0m\n\u001b[0;32m   5467\u001b[0m     \u001b[1;32mdef\u001b[0m \u001b[0m__setattr__\u001b[0m\u001b[1;33m(\u001b[0m\u001b[0mself\u001b[0m\u001b[1;33m,\u001b[0m \u001b[0mname\u001b[0m\u001b[1;33m:\u001b[0m \u001b[0mstr\u001b[0m\u001b[1;33m,\u001b[0m \u001b[0mvalue\u001b[0m\u001b[1;33m)\u001b[0m \u001b[1;33m->\u001b[0m \u001b[1;32mNone\u001b[0m\u001b[1;33m:\u001b[0m\u001b[1;33m\u001b[0m\u001b[1;33m\u001b[0m\u001b[0m\n",
      "\u001b[1;31mAttributeError\u001b[0m: 'DataFrame' object has no attribute 'timestamp_ms'"
     ]
    }
   ],
   "source": [
    "df['timestamp_ms'] = pd.to_datetime(df.timestamp_ms)"
   ]
  }
 ],
 "metadata": {
  "kernelspec": {
   "display_name": "Python 3",
   "language": "python",
   "name": "python3"
  },
  "language_info": {
   "codemirror_mode": {
    "name": "ipython",
    "version": 3
   },
   "file_extension": ".py",
   "mimetype": "text/x-python",
   "name": "python",
   "nbconvert_exporter": "python",
   "pygments_lexer": "ipython3",
   "version": "3.8.8"
  }
 },
 "nbformat": 4,
 "nbformat_minor": 5
}
