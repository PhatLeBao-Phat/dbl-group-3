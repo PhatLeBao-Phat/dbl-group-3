{
 "cells": [
  {
   "cell_type": "code",
   "execution_count": 11,
   "id": "096da5b9",
   "metadata": {},
   "outputs": [],
   "source": [
    "from transformers import AutoTokenizer, AutoModelForSequenceClassification\n",
    "from scipy.special import softmax\n",
    "import numpy as np\n",
    "import pandas as pd\n",
    "import sqlite3\n",
    "import os \n",
    "import re\n",
    "from preprocessing import preprocessing_text\n",
    "from typing import Tuple, Dict, List\n",
    "import time"
   ]
  },
  {
   "cell_type": "markdown",
   "id": "b1014296",
   "metadata": {},
   "source": [
    "#### 1. import the Roberta Model"
   ]
  },
  {
   "cell_type": "code",
   "execution_count": 3,
   "id": "44884f9c",
   "metadata": {},
   "outputs": [],
   "source": [
    "roberta = 'cardiffnlp/twitter-roberta-base-sentiment'"
   ]
  },
  {
   "cell_type": "code",
   "execution_count": 4,
   "id": "417c4de8",
   "metadata": {},
   "outputs": [
    {
     "name": "stderr",
     "output_type": "stream",
     "text": [
      "Some weights of the model checkpoint at cardiffnlp/twitter-roberta-base-sentiment were not used when initializing RobertaForSequenceClassification: ['roberta.embeddings.position_ids']\n",
      "- This IS expected if you are initializing RobertaForSequenceClassification from the checkpoint of a model trained on another task or with another architecture (e.g. initializing a BertForSequenceClassification model from a BertForPretraining model).\n",
      "- This IS NOT expected if you are initializing RobertaForSequenceClassification from the checkpoint of a model that you expect to be exactly identical (initializing a BertForSequenceClassification model from a BertForSequenceClassification model).\n",
      "Some weights of RobertaForSequenceClassification were not initialized from the model checkpoint at cardiffnlp/twitter-roberta-base-sentiment and are newly initialized: ['roberta.pooler.dense.weight', 'roberta.pooler.dense.bias']\n",
      "You should probably TRAIN this model on a down-stream task to be able to use it for predictions and inference.\n"
     ]
    }
   ],
   "source": [
    "model = AutoModelForSequenceClassification.from_pretrained(roberta)"
   ]
  },
  {
   "cell_type": "code",
   "execution_count": 5,
   "id": "0753ac24",
   "metadata": {},
   "outputs": [],
   "source": [
    "tokenizer = AutoTokenizer.from_pretrained(roberta)"
   ]
  },
  {
   "cell_type": "markdown",
   "id": "7672571f",
   "metadata": {},
   "source": [
    "#### 2. Preprocessing text"
   ]
  },
  {
   "cell_type": "code",
   "execution_count": 6,
   "id": "cb047957",
   "metadata": {},
   "outputs": [],
   "source": [
    "from preprocessing import preprocessing_text"
   ]
  },
  {
   "cell_type": "markdown",
   "id": "2db7d393",
   "metadata": {},
   "source": [
    "#### 3. Functions to extract sentiment scores "
   ]
  },
  {
   "cell_type": "code",
   "execution_count": 7,
   "id": "19e14f7a",
   "metadata": {},
   "outputs": [],
   "source": [
    "def extract_sentiment_score(text: str) -> Tuple:\n",
    "    \"\"\"\n",
    "    extract the sentiment score for a input text\n",
    "    ----------\n",
    "    param: text\n",
    "    return: return tuple (labels, polarity)\n",
    "        labels: can be ['Negative', 'Neutral', 'Positive']\n",
    "        polarity: can be between 0 and 1\n",
    "    \"\"\"\n",
    "    # preprocessing\n",
    "    text = preprocessing_text(text)\n",
    "    #extract score\n",
    "    labels = ['Negative', 'Neutral', 'Positive']\n",
    "    encoded_input = tokenizer(text, return_tensors='pt')\n",
    "    output = model(**encoded_input)\n",
    "    scores = softmax(output[0][0].detach().numpy())\n",
    "    ranking = np.argsort(scores)[-1]\n",
    "    l = labels[ranking]\n",
    "    polarity = scores[ranking]\n",
    "    return (l, polarity)"
   ]
  },
  {
   "cell_type": "markdown",
   "id": "81651005",
   "metadata": {},
   "source": [
    "#### 4. Connect to the database"
   ]
  },
  {
   "cell_type": "code",
   "execution_count": 8,
   "id": "eb36e603",
   "metadata": {},
   "outputs": [],
   "source": [
    "con = sqlite3.connect('../../database/database.db')"
   ]
  },
  {
   "cell_type": "code",
   "execution_count": 9,
   "id": "435e30ad",
   "metadata": {},
   "outputs": [],
   "source": [
    "df = pd.read_sql_query('''\n",
    "    SELECT id, user_id, text\n",
    "    FROM general_tweets\n",
    "''', con)"
   ]
  },
  {
   "cell_type": "code",
   "execution_count": 12,
   "id": "fd304adb",
   "metadata": {},
   "outputs": [
    {
     "ename": "NameError",
     "evalue": "name 're' is not defined",
     "output_type": "error",
     "traceback": [
      "\u001b[1;31m---------------------------------------------------------------------------\u001b[0m",
      "\u001b[1;31mNameError\u001b[0m                                 Traceback (most recent call last)",
      "\u001b[1;32m<ipython-input-12-3b0caf310db8>\u001b[0m in \u001b[0;36m<module>\u001b[1;34m\u001b[0m\n\u001b[0;32m      3\u001b[0m \u001b[0mstart\u001b[0m \u001b[1;33m=\u001b[0m \u001b[0mtime\u001b[0m\u001b[1;33m.\u001b[0m\u001b[0mtime\u001b[0m\u001b[1;33m(\u001b[0m\u001b[1;33m)\u001b[0m\u001b[1;33m\u001b[0m\u001b[1;33m\u001b[0m\u001b[0m\n\u001b[0;32m      4\u001b[0m \u001b[1;32mfor\u001b[0m \u001b[0mtext\u001b[0m \u001b[1;32min\u001b[0m \u001b[0mdf\u001b[0m\u001b[1;33m[\u001b[0m\u001b[1;34m'text'\u001b[0m\u001b[1;33m]\u001b[0m\u001b[1;33m:\u001b[0m\u001b[1;33m\u001b[0m\u001b[1;33m\u001b[0m\u001b[0m\n\u001b[1;32m----> 5\u001b[1;33m     \u001b[0mtup\u001b[0m \u001b[1;33m=\u001b[0m \u001b[0mextract_sentiment_score\u001b[0m\u001b[1;33m(\u001b[0m\u001b[0mtext\u001b[0m\u001b[1;33m)\u001b[0m\u001b[1;33m\u001b[0m\u001b[1;33m\u001b[0m\u001b[0m\n\u001b[0m\u001b[0;32m      6\u001b[0m     \u001b[0mlst_label\u001b[0m\u001b[1;33m.\u001b[0m\u001b[0mappend\u001b[0m\u001b[1;33m(\u001b[0m\u001b[0mtup\u001b[0m\u001b[1;33m[\u001b[0m\u001b[1;36m0\u001b[0m\u001b[1;33m]\u001b[0m\u001b[1;33m)\u001b[0m\u001b[1;33m\u001b[0m\u001b[1;33m\u001b[0m\u001b[0m\n\u001b[0;32m      7\u001b[0m     \u001b[0mlst_score\u001b[0m\u001b[1;33m.\u001b[0m\u001b[0mappend\u001b[0m\u001b[1;33m(\u001b[0m\u001b[0mtup\u001b[0m\u001b[1;33m[\u001b[0m\u001b[1;36m1\u001b[0m\u001b[1;33m]\u001b[0m\u001b[1;33m)\u001b[0m\u001b[1;33m\u001b[0m\u001b[1;33m\u001b[0m\u001b[0m\n",
      "\u001b[1;32m<ipython-input-7-b5e8e06b1419>\u001b[0m in \u001b[0;36mextract_sentiment_score\u001b[1;34m(text)\u001b[0m\n\u001b[0;32m      9\u001b[0m     \"\"\"\n\u001b[0;32m     10\u001b[0m     \u001b[1;31m# preprocessing\u001b[0m\u001b[1;33m\u001b[0m\u001b[1;33m\u001b[0m\u001b[1;33m\u001b[0m\u001b[0m\n\u001b[1;32m---> 11\u001b[1;33m     \u001b[0mtext\u001b[0m \u001b[1;33m=\u001b[0m \u001b[0mpreprocessing_text\u001b[0m\u001b[1;33m(\u001b[0m\u001b[0mtext\u001b[0m\u001b[1;33m)\u001b[0m\u001b[1;33m\u001b[0m\u001b[1;33m\u001b[0m\u001b[0m\n\u001b[0m\u001b[0;32m     12\u001b[0m     \u001b[1;31m#extract score\u001b[0m\u001b[1;33m\u001b[0m\u001b[1;33m\u001b[0m\u001b[1;33m\u001b[0m\u001b[0m\n\u001b[0;32m     13\u001b[0m     \u001b[0mlabels\u001b[0m \u001b[1;33m=\u001b[0m \u001b[1;33m[\u001b[0m\u001b[1;34m'Negative'\u001b[0m\u001b[1;33m,\u001b[0m \u001b[1;34m'Neutral'\u001b[0m\u001b[1;33m,\u001b[0m \u001b[1;34m'Positive'\u001b[0m\u001b[1;33m]\u001b[0m\u001b[1;33m\u001b[0m\u001b[1;33m\u001b[0m\u001b[0m\n",
      "\u001b[1;32m~\\Documents\\Tue course\\DBL\\dbl-group-3\\sprint 2\\preprocessing.py\u001b[0m in \u001b[0;36mpreprocessing_text\u001b[1;34m(text)\u001b[0m\n\u001b[0;32m     62\u001b[0m     \u001b[1;32mreturn\u001b[0m\u001b[1;33m:\u001b[0m \u001b[0mcleaned\u001b[0m \u001b[0mtext\u001b[0m\u001b[1;33m\u001b[0m\u001b[1;33m\u001b[0m\u001b[0m\n\u001b[0;32m     63\u001b[0m     \"\"\"\n\u001b[1;32m---> 64\u001b[1;33m     \u001b[1;32mimport\u001b[0m \u001b[0mre\u001b[0m\u001b[1;33m\u001b[0m\u001b[1;33m\u001b[0m\u001b[0m\n\u001b[0m\u001b[0;32m     65\u001b[0m     \u001b[0mtext\u001b[0m \u001b[1;33m=\u001b[0m \u001b[0mcleaner\u001b[0m\u001b[1;33m(\u001b[0m\u001b[0mtext\u001b[0m\u001b[1;33m)\u001b[0m\u001b[1;33m\u001b[0m\u001b[1;33m\u001b[0m\u001b[0m\n\u001b[0;32m     66\u001b[0m     \u001b[0mtext\u001b[0m \u001b[1;33m=\u001b[0m \u001b[0mpunc\u001b[0m\u001b[1;33m(\u001b[0m\u001b[0mtext\u001b[0m\u001b[1;33m)\u001b[0m\u001b[1;33m\u001b[0m\u001b[1;33m\u001b[0m\u001b[0m\n",
      "\u001b[1;32m~\\Documents\\Tue course\\DBL\\dbl-group-3\\sprint 2\\preprocessing.py\u001b[0m in \u001b[0;36mcleaner\u001b[1;34m(text)\u001b[0m\n\u001b[0;32m      5\u001b[0m \u001b[1;32mdef\u001b[0m \u001b[0mcleaner\u001b[0m\u001b[1;33m(\u001b[0m\u001b[0mtext\u001b[0m\u001b[1;33m)\u001b[0m\u001b[1;33m:\u001b[0m\u001b[1;33m\u001b[0m\u001b[1;33m\u001b[0m\u001b[0m\n\u001b[0;32m      6\u001b[0m     \u001b[1;34m'''Remove URLs'''\u001b[0m\u001b[1;33m\u001b[0m\u001b[1;33m\u001b[0m\u001b[0m\n\u001b[1;32m----> 7\u001b[1;33m     \u001b[0mtext\u001b[0m \u001b[1;33m=\u001b[0m \u001b[0mre\u001b[0m\u001b[1;33m.\u001b[0m\u001b[0msub\u001b[0m\u001b[1;33m(\u001b[0m\u001b[1;34mr\"(?:\\@|http?\\://|https?\\://|www)\\S+\"\u001b[0m\u001b[1;33m,\u001b[0m \u001b[1;34m\"\"\u001b[0m\u001b[1;33m,\u001b[0m \u001b[0mtext\u001b[0m\u001b[1;33m)\u001b[0m\u001b[1;33m\u001b[0m\u001b[1;33m\u001b[0m\u001b[0m\n\u001b[0m\u001b[0;32m      8\u001b[0m     \u001b[1;32mreturn\u001b[0m \u001b[0mtext\u001b[0m\u001b[1;33m\u001b[0m\u001b[1;33m\u001b[0m\u001b[0m\n\u001b[0;32m      9\u001b[0m \u001b[1;33m\u001b[0m\u001b[0m\n",
      "\u001b[1;31mNameError\u001b[0m: name 're' is not defined"
     ]
    }
   ],
   "source": [
    "lst_label = []\n",
    "lst_score = []\n",
    "start = time.time()\n",
    "for text in df['text']:\n",
    "    tup = extract_sentiment_score(text)\n",
    "    lst_label.append(tup[0])\n",
    "    lst_score.append(tup[1])\n",
    "end = time.time()\n",
    "end - start"
   ]
  }
 ],
 "metadata": {
  "kernelspec": {
   "display_name": "Python 3",
   "language": "python",
   "name": "python3"
  },
  "language_info": {
   "codemirror_mode": {
    "name": "ipython",
    "version": 3
   },
   "file_extension": ".py",
   "mimetype": "text/x-python",
   "name": "python",
   "nbconvert_exporter": "python",
   "pygments_lexer": "ipython3",
   "version": "3.8.8"
  }
 },
 "nbformat": 4,
 "nbformat_minor": 5
}
